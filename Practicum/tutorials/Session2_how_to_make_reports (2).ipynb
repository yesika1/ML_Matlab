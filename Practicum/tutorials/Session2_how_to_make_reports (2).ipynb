{
  "nbformat": 4,
  "nbformat_minor": 0,
  "metadata": {
    "colab": {
      "name": "how-to-make-reports.ipynb",
      "provenance": [],
      "collapsed_sections": []
    },
    "kernelspec": {
      "name": "python3",
      "display_name": "Python 3"
    }
  },
  "cells": [
    {
      "cell_type": "markdown",
      "metadata": {
        "id": "_JwdIdjSAuc9",
        "colab_type": "text"
      },
      "source": [
        "# How to make reports from transactional data"
      ]
    },
    {
      "cell_type": "markdown",
      "metadata": {
        "id": "ZqzVSCfaA5Zm",
        "colab_type": "text"
      },
      "source": [
        "I will use https://www.kaggle.com/carrie1/ecommerce-data . If you want to play with it then download the data file and use the next cell to get the data into colab. Or upload it on your google drive and read it from there (google how to do it)."
      ]
    },
    {
      "cell_type": "code",
      "metadata": {
        "id": "iuCsUil0Arm8",
        "colab_type": "code",
        "colab": {}
      },
      "source": [
        "#from google.colab import files\n",
        "#files.upload()"
      ],
      "execution_count": 0,
      "outputs": []
    },
    {
      "cell_type": "code",
      "metadata": {
        "id": "BJINZTbkCKoA",
        "colab_type": "code",
        "colab": {}
      },
      "source": [
        "import pandas as pd"
      ],
      "execution_count": 0,
      "outputs": []
    },
    {
      "cell_type": "code",
      "metadata": {
        "id": "fGOd_xdSBPv6",
        "colab_type": "code",
        "colab": {}
      },
      "source": [
        "df = pd.read_csv('drive/My Drive/data/ecommerce-data.zip',encoding = \"cp1252\")"
      ],
      "execution_count": 0,
      "outputs": []
    },
    {
      "cell_type": "code",
      "metadata": {
        "id": "YQfFlhYsCSin",
        "colab_type": "code",
        "outputId": "c19ed19a-bc7a-45e6-9cf0-24c1e8baaa28",
        "colab": {
          "base_uri": "https://localhost:8080/",
          "height": 204
        }
      },
      "source": [
        "df.head()"
      ],
      "execution_count": 0,
      "outputs": [
        {
          "output_type": "execute_result",
          "data": {
            "text/html": [
              "<div>\n",
              "<style scoped>\n",
              "    .dataframe tbody tr th:only-of-type {\n",
              "        vertical-align: middle;\n",
              "    }\n",
              "\n",
              "    .dataframe tbody tr th {\n",
              "        vertical-align: top;\n",
              "    }\n",
              "\n",
              "    .dataframe thead th {\n",
              "        text-align: right;\n",
              "    }\n",
              "</style>\n",
              "<table border=\"1\" class=\"dataframe\">\n",
              "  <thead>\n",
              "    <tr style=\"text-align: right;\">\n",
              "      <th></th>\n",
              "      <th>InvoiceNo</th>\n",
              "      <th>StockCode</th>\n",
              "      <th>Description</th>\n",
              "      <th>Quantity</th>\n",
              "      <th>InvoiceDate</th>\n",
              "      <th>UnitPrice</th>\n",
              "      <th>CustomerID</th>\n",
              "      <th>Country</th>\n",
              "    </tr>\n",
              "  </thead>\n",
              "  <tbody>\n",
              "    <tr>\n",
              "      <th>0</th>\n",
              "      <td>536365</td>\n",
              "      <td>85123A</td>\n",
              "      <td>WHITE HANGING HEART T-LIGHT HOLDER</td>\n",
              "      <td>6</td>\n",
              "      <td>12/1/2010 8:26</td>\n",
              "      <td>2.55</td>\n",
              "      <td>17850.0</td>\n",
              "      <td>United Kingdom</td>\n",
              "    </tr>\n",
              "    <tr>\n",
              "      <th>1</th>\n",
              "      <td>536365</td>\n",
              "      <td>71053</td>\n",
              "      <td>WHITE METAL LANTERN</td>\n",
              "      <td>6</td>\n",
              "      <td>12/1/2010 8:26</td>\n",
              "      <td>3.39</td>\n",
              "      <td>17850.0</td>\n",
              "      <td>United Kingdom</td>\n",
              "    </tr>\n",
              "    <tr>\n",
              "      <th>2</th>\n",
              "      <td>536365</td>\n",
              "      <td>84406B</td>\n",
              "      <td>CREAM CUPID HEARTS COAT HANGER</td>\n",
              "      <td>8</td>\n",
              "      <td>12/1/2010 8:26</td>\n",
              "      <td>2.75</td>\n",
              "      <td>17850.0</td>\n",
              "      <td>United Kingdom</td>\n",
              "    </tr>\n",
              "    <tr>\n",
              "      <th>3</th>\n",
              "      <td>536365</td>\n",
              "      <td>84029G</td>\n",
              "      <td>KNITTED UNION FLAG HOT WATER BOTTLE</td>\n",
              "      <td>6</td>\n",
              "      <td>12/1/2010 8:26</td>\n",
              "      <td>3.39</td>\n",
              "      <td>17850.0</td>\n",
              "      <td>United Kingdom</td>\n",
              "    </tr>\n",
              "    <tr>\n",
              "      <th>4</th>\n",
              "      <td>536365</td>\n",
              "      <td>84029E</td>\n",
              "      <td>RED WOOLLY HOTTIE WHITE HEART.</td>\n",
              "      <td>6</td>\n",
              "      <td>12/1/2010 8:26</td>\n",
              "      <td>3.39</td>\n",
              "      <td>17850.0</td>\n",
              "      <td>United Kingdom</td>\n",
              "    </tr>\n",
              "  </tbody>\n",
              "</table>\n",
              "</div>"
            ],
            "text/plain": [
              "  InvoiceNo StockCode  ... CustomerID         Country\n",
              "0    536365    85123A  ...    17850.0  United Kingdom\n",
              "1    536365     71053  ...    17850.0  United Kingdom\n",
              "2    536365    84406B  ...    17850.0  United Kingdom\n",
              "3    536365    84029G  ...    17850.0  United Kingdom\n",
              "4    536365    84029E  ...    17850.0  United Kingdom\n",
              "\n",
              "[5 rows x 8 columns]"
            ]
          },
          "metadata": {
            "tags": []
          },
          "execution_count": 4
        }
      ]
    },
    {
      "cell_type": "markdown",
      "metadata": {
        "id": "PSoC4BEEP37C",
        "colab_type": "text"
      },
      "source": [
        "Look at missing values"
      ]
    },
    {
      "cell_type": "code",
      "metadata": {
        "id": "6hcDUImXP3Wb",
        "colab_type": "code",
        "outputId": "cb3f09f3-80d7-4bff-fc96-839cfecbeb6d",
        "colab": {
          "base_uri": "https://localhost:8080/",
          "height": 170
        }
      },
      "source": [
        "df.isna().mean()"
      ],
      "execution_count": 0,
      "outputs": [
        {
          "output_type": "execute_result",
          "data": {
            "text/plain": [
              "InvoiceNo      0.000000\n",
              "StockCode      0.000000\n",
              "Description    0.002683\n",
              "Quantity       0.000000\n",
              "InvoiceDate    0.000000\n",
              "UnitPrice      0.000000\n",
              "CustomerID     0.249267\n",
              "Country        0.000000\n",
              "dtype: float64"
            ]
          },
          "metadata": {
            "tags": []
          },
          "execution_count": 5
        }
      ]
    },
    {
      "cell_type": "markdown",
      "metadata": {
        "id": "r2O-9YtTP9nM",
        "colab_type": "text"
      },
      "source": [
        "Let's fill these missing customer ids with something to have its sales in the report"
      ]
    },
    {
      "cell_type": "code",
      "metadata": {
        "id": "TcE5zBlaP0Hi",
        "colab_type": "code",
        "colab": {}
      },
      "source": [
        "df['CustomerID'].fillna(-999,inplace=True)"
      ],
      "execution_count": 0,
      "outputs": []
    },
    {
      "cell_type": "markdown",
      "metadata": {
        "id": "VW0Ra5_OCgHX",
        "colab_type": "text"
      },
      "source": [
        "You can see transactions per user. Let's see what time period we have. But first convert text date to python date"
      ]
    },
    {
      "cell_type": "code",
      "metadata": {
        "id": "V_MXKjipCcA6",
        "colab_type": "code",
        "colab": {}
      },
      "source": [
        "df['InvoiceDate'] = pd.to_datetime(df['InvoiceDate'],format='%m/%d/%Y %H:%M')"
      ],
      "execution_count": 0,
      "outputs": []
    },
    {
      "cell_type": "code",
      "metadata": {
        "id": "SzkfDbtdDQQS",
        "colab_type": "code",
        "outputId": "26b1d666-457f-4c50-c079-4c2189a19589",
        "colab": {
          "base_uri": "https://localhost:8080/",
          "height": 34
        }
      },
      "source": [
        "df['InvoiceDate'].min()"
      ],
      "execution_count": 0,
      "outputs": [
        {
          "output_type": "execute_result",
          "data": {
            "text/plain": [
              "Timestamp('2010-12-01 08:26:00')"
            ]
          },
          "metadata": {
            "tags": []
          },
          "execution_count": 8
        }
      ]
    },
    {
      "cell_type": "code",
      "metadata": {
        "id": "sQgfupEcDXiG",
        "colab_type": "code",
        "outputId": "d893b53c-7772-499a-ddea-af30f70b0b19",
        "colab": {
          "base_uri": "https://localhost:8080/",
          "height": 34
        }
      },
      "source": [
        "df['InvoiceDate'].max()"
      ],
      "execution_count": 0,
      "outputs": [
        {
          "output_type": "execute_result",
          "data": {
            "text/plain": [
              "Timestamp('2011-12-09 12:50:00')"
            ]
          },
          "metadata": {
            "tags": []
          },
          "execution_count": 9
        }
      ]
    },
    {
      "cell_type": "markdown",
      "metadata": {
        "id": "VQUJHbApDbA5",
        "colab_type": "text"
      },
      "source": [
        "It's about a year. Ok. Now we want to create a sales report by month."
      ]
    },
    {
      "cell_type": "markdown",
      "metadata": {
        "id": "QqklNmq7Djgw",
        "colab_type": "text"
      },
      "source": [
        "# 1. Create a table with unique users\n",
        "\n",
        "In the project you already have this table. And in real life there is always such a table in the database. But in this case we do not have it."
      ]
    },
    {
      "cell_type": "code",
      "metadata": {
        "id": "wg4nCzgyDYXw",
        "colab_type": "code",
        "colab": {}
      },
      "source": [
        "user = df.groupby(['CustomerID'])['InvoiceDate'].min().reset_index()"
      ],
      "execution_count": 0,
      "outputs": []
    },
    {
      "cell_type": "code",
      "metadata": {
        "id": "maFKB3LfEFCk",
        "colab_type": "code",
        "outputId": "4717a145-af61-4ceb-d97a-3ec57e615ffc",
        "colab": {
          "base_uri": "https://localhost:8080/",
          "height": 204
        }
      },
      "source": [
        "user.head()"
      ],
      "execution_count": 0,
      "outputs": [
        {
          "output_type": "execute_result",
          "data": {
            "text/html": [
              "<div>\n",
              "<style scoped>\n",
              "    .dataframe tbody tr th:only-of-type {\n",
              "        vertical-align: middle;\n",
              "    }\n",
              "\n",
              "    .dataframe tbody tr th {\n",
              "        vertical-align: top;\n",
              "    }\n",
              "\n",
              "    .dataframe thead th {\n",
              "        text-align: right;\n",
              "    }\n",
              "</style>\n",
              "<table border=\"1\" class=\"dataframe\">\n",
              "  <thead>\n",
              "    <tr style=\"text-align: right;\">\n",
              "      <th></th>\n",
              "      <th>CustomerID</th>\n",
              "      <th>InvoiceDate</th>\n",
              "    </tr>\n",
              "  </thead>\n",
              "  <tbody>\n",
              "    <tr>\n",
              "      <th>0</th>\n",
              "      <td>-999.0</td>\n",
              "      <td>2010-12-01 11:52:00</td>\n",
              "    </tr>\n",
              "    <tr>\n",
              "      <th>1</th>\n",
              "      <td>12346.0</td>\n",
              "      <td>2011-01-18 10:01:00</td>\n",
              "    </tr>\n",
              "    <tr>\n",
              "      <th>2</th>\n",
              "      <td>12347.0</td>\n",
              "      <td>2010-12-07 14:57:00</td>\n",
              "    </tr>\n",
              "    <tr>\n",
              "      <th>3</th>\n",
              "      <td>12348.0</td>\n",
              "      <td>2010-12-16 19:09:00</td>\n",
              "    </tr>\n",
              "    <tr>\n",
              "      <th>4</th>\n",
              "      <td>12349.0</td>\n",
              "      <td>2011-11-21 09:51:00</td>\n",
              "    </tr>\n",
              "  </tbody>\n",
              "</table>\n",
              "</div>"
            ],
            "text/plain": [
              "   CustomerID         InvoiceDate\n",
              "0      -999.0 2010-12-01 11:52:00\n",
              "1     12346.0 2011-01-18 10:01:00\n",
              "2     12347.0 2010-12-07 14:57:00\n",
              "3     12348.0 2010-12-16 19:09:00\n",
              "4     12349.0 2011-11-21 09:51:00"
            ]
          },
          "metadata": {
            "tags": []
          },
          "execution_count": 11
        }
      ]
    },
    {
      "cell_type": "code",
      "metadata": {
        "id": "X0Ve_SO5EK7y",
        "colab_type": "code",
        "colab": {}
      },
      "source": [
        "user.columns = ['CustomerID','reg_date']"
      ],
      "execution_count": 0,
      "outputs": []
    },
    {
      "cell_type": "code",
      "metadata": {
        "id": "Y4VSHcpOESVY",
        "colab_type": "code",
        "colab": {}
      },
      "source": [
        "user['reg_month'] = user['reg_date'].values.astype('datetime64[M]')"
      ],
      "execution_count": 0,
      "outputs": []
    },
    {
      "cell_type": "markdown",
      "metadata": {
        "id": "M-1l4GE6ExaW",
        "colab_type": "text"
      },
      "source": [
        "No worries). It's just the first link from google on \"pandas how to get first day of month\" https://stackoverflow.com/questions/45304531/extracting-the-first-day-of-month-of-a-datetime-type-column-in-pandas\n",
        "\n"
      ]
    },
    {
      "cell_type": "code",
      "metadata": {
        "id": "8b9X93aZEpQz",
        "colab_type": "code",
        "outputId": "58261394-246e-43ce-b38f-4cb43b321f40",
        "colab": {
          "base_uri": "https://localhost:8080/",
          "height": 419
        }
      },
      "source": [
        "user"
      ],
      "execution_count": 0,
      "outputs": [
        {
          "output_type": "execute_result",
          "data": {
            "text/html": [
              "<div>\n",
              "<style scoped>\n",
              "    .dataframe tbody tr th:only-of-type {\n",
              "        vertical-align: middle;\n",
              "    }\n",
              "\n",
              "    .dataframe tbody tr th {\n",
              "        vertical-align: top;\n",
              "    }\n",
              "\n",
              "    .dataframe thead th {\n",
              "        text-align: right;\n",
              "    }\n",
              "</style>\n",
              "<table border=\"1\" class=\"dataframe\">\n",
              "  <thead>\n",
              "    <tr style=\"text-align: right;\">\n",
              "      <th></th>\n",
              "      <th>CustomerID</th>\n",
              "      <th>reg_date</th>\n",
              "      <th>reg_month</th>\n",
              "    </tr>\n",
              "  </thead>\n",
              "  <tbody>\n",
              "    <tr>\n",
              "      <th>0</th>\n",
              "      <td>-999.0</td>\n",
              "      <td>2010-12-01 11:52:00</td>\n",
              "      <td>2010-12-01</td>\n",
              "    </tr>\n",
              "    <tr>\n",
              "      <th>1</th>\n",
              "      <td>12346.0</td>\n",
              "      <td>2011-01-18 10:01:00</td>\n",
              "      <td>2011-01-01</td>\n",
              "    </tr>\n",
              "    <tr>\n",
              "      <th>2</th>\n",
              "      <td>12347.0</td>\n",
              "      <td>2010-12-07 14:57:00</td>\n",
              "      <td>2010-12-01</td>\n",
              "    </tr>\n",
              "    <tr>\n",
              "      <th>3</th>\n",
              "      <td>12348.0</td>\n",
              "      <td>2010-12-16 19:09:00</td>\n",
              "      <td>2010-12-01</td>\n",
              "    </tr>\n",
              "    <tr>\n",
              "      <th>4</th>\n",
              "      <td>12349.0</td>\n",
              "      <td>2011-11-21 09:51:00</td>\n",
              "      <td>2011-11-01</td>\n",
              "    </tr>\n",
              "    <tr>\n",
              "      <th>...</th>\n",
              "      <td>...</td>\n",
              "      <td>...</td>\n",
              "      <td>...</td>\n",
              "    </tr>\n",
              "    <tr>\n",
              "      <th>4368</th>\n",
              "      <td>18280.0</td>\n",
              "      <td>2011-03-07 09:52:00</td>\n",
              "      <td>2011-03-01</td>\n",
              "    </tr>\n",
              "    <tr>\n",
              "      <th>4369</th>\n",
              "      <td>18281.0</td>\n",
              "      <td>2011-06-12 10:53:00</td>\n",
              "      <td>2011-06-01</td>\n",
              "    </tr>\n",
              "    <tr>\n",
              "      <th>4370</th>\n",
              "      <td>18282.0</td>\n",
              "      <td>2011-08-05 13:35:00</td>\n",
              "      <td>2011-08-01</td>\n",
              "    </tr>\n",
              "    <tr>\n",
              "      <th>4371</th>\n",
              "      <td>18283.0</td>\n",
              "      <td>2011-01-06 14:14:00</td>\n",
              "      <td>2011-01-01</td>\n",
              "    </tr>\n",
              "    <tr>\n",
              "      <th>4372</th>\n",
              "      <td>18287.0</td>\n",
              "      <td>2011-05-22 10:39:00</td>\n",
              "      <td>2011-05-01</td>\n",
              "    </tr>\n",
              "  </tbody>\n",
              "</table>\n",
              "<p>4373 rows × 3 columns</p>\n",
              "</div>"
            ],
            "text/plain": [
              "      CustomerID            reg_date  reg_month\n",
              "0         -999.0 2010-12-01 11:52:00 2010-12-01\n",
              "1        12346.0 2011-01-18 10:01:00 2011-01-01\n",
              "2        12347.0 2010-12-07 14:57:00 2010-12-01\n",
              "3        12348.0 2010-12-16 19:09:00 2010-12-01\n",
              "4        12349.0 2011-11-21 09:51:00 2011-11-01\n",
              "...          ...                 ...        ...\n",
              "4368     18280.0 2011-03-07 09:52:00 2011-03-01\n",
              "4369     18281.0 2011-06-12 10:53:00 2011-06-01\n",
              "4370     18282.0 2011-08-05 13:35:00 2011-08-01\n",
              "4371     18283.0 2011-01-06 14:14:00 2011-01-01\n",
              "4372     18287.0 2011-05-22 10:39:00 2011-05-01\n",
              "\n",
              "[4373 rows x 3 columns]"
            ]
          },
          "metadata": {
            "tags": []
          },
          "execution_count": 14
        }
      ]
    },
    {
      "cell_type": "markdown",
      "metadata": {
        "id": "7idR_SVVFFGp",
        "colab_type": "text"
      },
      "source": [
        "# 2. Generate a table with each possible month for each user.\n",
        "\n",
        "That is how you get records in your report then users are in churn. Look\n",
        "\n",
        "\n"
      ]
    },
    {
      "cell_type": "code",
      "metadata": {
        "id": "rnoUTD96EvbC",
        "colab_type": "code",
        "colab": {}
      },
      "source": [
        "min_month = df['InvoiceDate'].values.astype('datetime64[M]').min()"
      ],
      "execution_count": 0,
      "outputs": []
    },
    {
      "cell_type": "code",
      "metadata": {
        "id": "--EryeA4Fxlg",
        "colab_type": "code",
        "colab": {}
      },
      "source": [
        "max_month = df['InvoiceDate'].values.astype('datetime64[M]').max()"
      ],
      "execution_count": 0,
      "outputs": []
    },
    {
      "cell_type": "code",
      "metadata": {
        "id": "_HfzD9DYF3KL",
        "colab_type": "code",
        "outputId": "796a147a-684f-4450-cde7-7ce7ac6fd940",
        "colab": {
          "base_uri": "https://localhost:8080/",
          "height": 34
        }
      },
      "source": [
        "(min_month, max_month)"
      ],
      "execution_count": 0,
      "outputs": [
        {
          "output_type": "execute_result",
          "data": {
            "text/plain": [
              "(numpy.datetime64('2010-12'), numpy.datetime64('2011-12'))"
            ]
          },
          "metadata": {
            "tags": []
          },
          "execution_count": 17
        }
      ]
    },
    {
      "cell_type": "code",
      "metadata": {
        "id": "EiZ3v9g-F44e",
        "colab_type": "code",
        "outputId": "835a6361-eab6-49c2-8b04-87edb5bc9972",
        "colab": {
          "base_uri": "https://localhost:8080/",
          "height": 102
        }
      },
      "source": [
        "pd.date_range(min_month,max_month,freq='MS')"
      ],
      "execution_count": 0,
      "outputs": [
        {
          "output_type": "execute_result",
          "data": {
            "text/plain": [
              "DatetimeIndex(['2010-12-01', '2011-01-01', '2011-02-01', '2011-03-01',\n",
              "               '2011-04-01', '2011-05-01', '2011-06-01', '2011-07-01',\n",
              "               '2011-08-01', '2011-09-01', '2011-10-01', '2011-11-01',\n",
              "               '2011-12-01'],\n",
              "              dtype='datetime64[ns]', freq='MS')"
            ]
          },
          "metadata": {
            "tags": []
          },
          "execution_count": 18
        }
      ]
    },
    {
      "cell_type": "markdown",
      "metadata": {
        "id": "0qzXzcZZGeSX",
        "colab_type": "text"
      },
      "source": [
        "MS means start of the month, to get the first day of the month. 'M' gives the last day\n"
      ]
    },
    {
      "cell_type": "code",
      "metadata": {
        "id": "cnGWJaecGICM",
        "colab_type": "code",
        "colab": {}
      },
      "source": [
        "dr = pd.DataFrame(pd.date_range(min_month,max_month,freq='MS'))"
      ],
      "execution_count": 0,
      "outputs": []
    },
    {
      "cell_type": "code",
      "metadata": {
        "id": "b4y8pOalHNK4",
        "colab_type": "code",
        "outputId": "f96a520f-a705-48b4-d2f6-15582586808a",
        "colab": {
          "base_uri": "https://localhost:8080/",
          "height": 452
        }
      },
      "source": [
        "dr"
      ],
      "execution_count": 0,
      "outputs": [
        {
          "output_type": "execute_result",
          "data": {
            "text/html": [
              "<div>\n",
              "<style scoped>\n",
              "    .dataframe tbody tr th:only-of-type {\n",
              "        vertical-align: middle;\n",
              "    }\n",
              "\n",
              "    .dataframe tbody tr th {\n",
              "        vertical-align: top;\n",
              "    }\n",
              "\n",
              "    .dataframe thead th {\n",
              "        text-align: right;\n",
              "    }\n",
              "</style>\n",
              "<table border=\"1\" class=\"dataframe\">\n",
              "  <thead>\n",
              "    <tr style=\"text-align: right;\">\n",
              "      <th></th>\n",
              "      <th>0</th>\n",
              "    </tr>\n",
              "  </thead>\n",
              "  <tbody>\n",
              "    <tr>\n",
              "      <th>0</th>\n",
              "      <td>2010-12-01</td>\n",
              "    </tr>\n",
              "    <tr>\n",
              "      <th>1</th>\n",
              "      <td>2011-01-01</td>\n",
              "    </tr>\n",
              "    <tr>\n",
              "      <th>2</th>\n",
              "      <td>2011-02-01</td>\n",
              "    </tr>\n",
              "    <tr>\n",
              "      <th>3</th>\n",
              "      <td>2011-03-01</td>\n",
              "    </tr>\n",
              "    <tr>\n",
              "      <th>4</th>\n",
              "      <td>2011-04-01</td>\n",
              "    </tr>\n",
              "    <tr>\n",
              "      <th>5</th>\n",
              "      <td>2011-05-01</td>\n",
              "    </tr>\n",
              "    <tr>\n",
              "      <th>6</th>\n",
              "      <td>2011-06-01</td>\n",
              "    </tr>\n",
              "    <tr>\n",
              "      <th>7</th>\n",
              "      <td>2011-07-01</td>\n",
              "    </tr>\n",
              "    <tr>\n",
              "      <th>8</th>\n",
              "      <td>2011-08-01</td>\n",
              "    </tr>\n",
              "    <tr>\n",
              "      <th>9</th>\n",
              "      <td>2011-09-01</td>\n",
              "    </tr>\n",
              "    <tr>\n",
              "      <th>10</th>\n",
              "      <td>2011-10-01</td>\n",
              "    </tr>\n",
              "    <tr>\n",
              "      <th>11</th>\n",
              "      <td>2011-11-01</td>\n",
              "    </tr>\n",
              "    <tr>\n",
              "      <th>12</th>\n",
              "      <td>2011-12-01</td>\n",
              "    </tr>\n",
              "  </tbody>\n",
              "</table>\n",
              "</div>"
            ],
            "text/plain": [
              "            0\n",
              "0  2010-12-01\n",
              "1  2011-01-01\n",
              "2  2011-02-01\n",
              "3  2011-03-01\n",
              "4  2011-04-01\n",
              "5  2011-05-01\n",
              "6  2011-06-01\n",
              "7  2011-07-01\n",
              "8  2011-08-01\n",
              "9  2011-09-01\n",
              "10 2011-10-01\n",
              "11 2011-11-01\n",
              "12 2011-12-01"
            ]
          },
          "metadata": {
            "tags": []
          },
          "execution_count": 20
        }
      ]
    },
    {
      "cell_type": "code",
      "metadata": {
        "id": "AWbKbYtBHRGv",
        "colab_type": "code",
        "colab": {}
      },
      "source": [
        "dr.columns = ['month']"
      ],
      "execution_count": 0,
      "outputs": []
    },
    {
      "cell_type": "markdown",
      "metadata": {
        "id": "vERQlQjuGqYw",
        "colab_type": "text"
      },
      "source": [
        "Now we have to perform cross join with user table and get\n"
      ]
    },
    {
      "cell_type": "code",
      "metadata": {
        "id": "cxdFmeoXGofd",
        "colab_type": "code",
        "outputId": "567523c4-713d-4581-b1ae-d5959590e7d0",
        "colab": {
          "base_uri": "https://localhost:8080/",
          "height": 34
        }
      },
      "source": [
        "len(user)*len(dr)"
      ],
      "execution_count": 0,
      "outputs": [
        {
          "output_type": "execute_result",
          "data": {
            "text/plain": [
              "56849"
            ]
          },
          "metadata": {
            "tags": []
          },
          "execution_count": 22
        }
      ]
    },
    {
      "cell_type": "markdown",
      "metadata": {
        "id": "ccJVBdXmG4Fg",
        "colab_type": "text"
      },
      "source": [
        "rows. In pandas it could be performed like this"
      ]
    },
    {
      "cell_type": "code",
      "metadata": {
        "id": "F2u6L7xOGzbL",
        "colab_type": "code",
        "colab": {}
      },
      "source": [
        "dr['key'] = 1\n",
        "user['key'] = 1"
      ],
      "execution_count": 0,
      "outputs": []
    },
    {
      "cell_type": "code",
      "metadata": {
        "id": "8yKBkhPFHC71",
        "colab_type": "code",
        "colab": {}
      },
      "source": [
        "report = dr.merge(user,on='key')"
      ],
      "execution_count": 0,
      "outputs": []
    },
    {
      "cell_type": "code",
      "metadata": {
        "id": "B58ky1plHjm7",
        "colab_type": "code",
        "outputId": "4bbf5726-c86b-4983-d695-f250ecd77650",
        "colab": {
          "base_uri": "https://localhost:8080/",
          "height": 204
        }
      },
      "source": [
        "report.head()"
      ],
      "execution_count": 0,
      "outputs": [
        {
          "output_type": "execute_result",
          "data": {
            "text/html": [
              "<div>\n",
              "<style scoped>\n",
              "    .dataframe tbody tr th:only-of-type {\n",
              "        vertical-align: middle;\n",
              "    }\n",
              "\n",
              "    .dataframe tbody tr th {\n",
              "        vertical-align: top;\n",
              "    }\n",
              "\n",
              "    .dataframe thead th {\n",
              "        text-align: right;\n",
              "    }\n",
              "</style>\n",
              "<table border=\"1\" class=\"dataframe\">\n",
              "  <thead>\n",
              "    <tr style=\"text-align: right;\">\n",
              "      <th></th>\n",
              "      <th>month</th>\n",
              "      <th>key</th>\n",
              "      <th>CustomerID</th>\n",
              "      <th>reg_date</th>\n",
              "      <th>reg_month</th>\n",
              "    </tr>\n",
              "  </thead>\n",
              "  <tbody>\n",
              "    <tr>\n",
              "      <th>0</th>\n",
              "      <td>2010-12-01</td>\n",
              "      <td>1</td>\n",
              "      <td>-999.0</td>\n",
              "      <td>2010-12-01 11:52:00</td>\n",
              "      <td>2010-12-01</td>\n",
              "    </tr>\n",
              "    <tr>\n",
              "      <th>1</th>\n",
              "      <td>2010-12-01</td>\n",
              "      <td>1</td>\n",
              "      <td>12346.0</td>\n",
              "      <td>2011-01-18 10:01:00</td>\n",
              "      <td>2011-01-01</td>\n",
              "    </tr>\n",
              "    <tr>\n",
              "      <th>2</th>\n",
              "      <td>2010-12-01</td>\n",
              "      <td>1</td>\n",
              "      <td>12347.0</td>\n",
              "      <td>2010-12-07 14:57:00</td>\n",
              "      <td>2010-12-01</td>\n",
              "    </tr>\n",
              "    <tr>\n",
              "      <th>3</th>\n",
              "      <td>2010-12-01</td>\n",
              "      <td>1</td>\n",
              "      <td>12348.0</td>\n",
              "      <td>2010-12-16 19:09:00</td>\n",
              "      <td>2010-12-01</td>\n",
              "    </tr>\n",
              "    <tr>\n",
              "      <th>4</th>\n",
              "      <td>2010-12-01</td>\n",
              "      <td>1</td>\n",
              "      <td>12349.0</td>\n",
              "      <td>2011-11-21 09:51:00</td>\n",
              "      <td>2011-11-01</td>\n",
              "    </tr>\n",
              "  </tbody>\n",
              "</table>\n",
              "</div>"
            ],
            "text/plain": [
              "       month  key  CustomerID            reg_date  reg_month\n",
              "0 2010-12-01    1      -999.0 2010-12-01 11:52:00 2010-12-01\n",
              "1 2010-12-01    1     12346.0 2011-01-18 10:01:00 2011-01-01\n",
              "2 2010-12-01    1     12347.0 2010-12-07 14:57:00 2010-12-01\n",
              "3 2010-12-01    1     12348.0 2010-12-16 19:09:00 2010-12-01\n",
              "4 2010-12-01    1     12349.0 2011-11-21 09:51:00 2011-11-01"
            ]
          },
          "metadata": {
            "tags": []
          },
          "execution_count": 25
        }
      ]
    },
    {
      "cell_type": "code",
      "metadata": {
        "id": "KvVRfoKjHluF",
        "colab_type": "code",
        "outputId": "6486d1ec-24d0-45bf-c787-c6184f8a1ec3",
        "colab": {
          "base_uri": "https://localhost:8080/",
          "height": 34
        }
      },
      "source": [
        "len(report)"
      ],
      "execution_count": 0,
      "outputs": [
        {
          "output_type": "execute_result",
          "data": {
            "text/plain": [
              "56849"
            ]
          },
          "metadata": {
            "tags": []
          },
          "execution_count": 26
        }
      ]
    },
    {
      "cell_type": "markdown",
      "metadata": {
        "id": "IP9IGsO_HpXO",
        "colab_type": "text"
      },
      "source": [
        "Like expected. But we have some extra rows: some users came long after minimal date (2010-12) and it's stupid to have records for a user before he came to us)."
      ]
    },
    {
      "cell_type": "code",
      "metadata": {
        "id": "4xMWu7ZNHnuq",
        "colab_type": "code",
        "outputId": "c4069dc2-8922-44f5-ed91-490d4c157885",
        "colab": {
          "base_uri": "https://localhost:8080/",
          "height": 34
        }
      },
      "source": [
        "len(report[report['month']>=report['reg_month']])"
      ],
      "execution_count": 0,
      "outputs": [
        {
          "output_type": "execute_result",
          "data": {
            "text/plain": [
              "37449"
            ]
          },
          "metadata": {
            "tags": []
          },
          "execution_count": 27
        }
      ]
    },
    {
      "cell_type": "code",
      "metadata": {
        "id": "RdOL1cwVIORC",
        "colab_type": "code",
        "colab": {}
      },
      "source": [
        "report = report[report['month']>=report['reg_month']]"
      ],
      "execution_count": 0,
      "outputs": []
    },
    {
      "cell_type": "markdown",
      "metadata": {
        "id": "Ba9BeMFyIYCk",
        "colab_type": "text"
      },
      "source": [
        "Let's look at some specific user"
      ]
    },
    {
      "cell_type": "code",
      "metadata": {
        "id": "XPScDz0mIW_f",
        "colab_type": "code",
        "outputId": "2234facc-aee5-47da-994f-4b8721e45088",
        "colab": {
          "base_uri": "https://localhost:8080/",
          "height": 421
        }
      },
      "source": [
        "report[report['CustomerID'] == 12346.0]"
      ],
      "execution_count": 0,
      "outputs": [
        {
          "output_type": "execute_result",
          "data": {
            "text/html": [
              "<div>\n",
              "<style scoped>\n",
              "    .dataframe tbody tr th:only-of-type {\n",
              "        vertical-align: middle;\n",
              "    }\n",
              "\n",
              "    .dataframe tbody tr th {\n",
              "        vertical-align: top;\n",
              "    }\n",
              "\n",
              "    .dataframe thead th {\n",
              "        text-align: right;\n",
              "    }\n",
              "</style>\n",
              "<table border=\"1\" class=\"dataframe\">\n",
              "  <thead>\n",
              "    <tr style=\"text-align: right;\">\n",
              "      <th></th>\n",
              "      <th>month</th>\n",
              "      <th>key</th>\n",
              "      <th>CustomerID</th>\n",
              "      <th>reg_date</th>\n",
              "      <th>reg_month</th>\n",
              "    </tr>\n",
              "  </thead>\n",
              "  <tbody>\n",
              "    <tr>\n",
              "      <th>4374</th>\n",
              "      <td>2011-01-01</td>\n",
              "      <td>1</td>\n",
              "      <td>12346.0</td>\n",
              "      <td>2011-01-18 10:01:00</td>\n",
              "      <td>2011-01-01</td>\n",
              "    </tr>\n",
              "    <tr>\n",
              "      <th>8747</th>\n",
              "      <td>2011-02-01</td>\n",
              "      <td>1</td>\n",
              "      <td>12346.0</td>\n",
              "      <td>2011-01-18 10:01:00</td>\n",
              "      <td>2011-01-01</td>\n",
              "    </tr>\n",
              "    <tr>\n",
              "      <th>13120</th>\n",
              "      <td>2011-03-01</td>\n",
              "      <td>1</td>\n",
              "      <td>12346.0</td>\n",
              "      <td>2011-01-18 10:01:00</td>\n",
              "      <td>2011-01-01</td>\n",
              "    </tr>\n",
              "    <tr>\n",
              "      <th>17493</th>\n",
              "      <td>2011-04-01</td>\n",
              "      <td>1</td>\n",
              "      <td>12346.0</td>\n",
              "      <td>2011-01-18 10:01:00</td>\n",
              "      <td>2011-01-01</td>\n",
              "    </tr>\n",
              "    <tr>\n",
              "      <th>21866</th>\n",
              "      <td>2011-05-01</td>\n",
              "      <td>1</td>\n",
              "      <td>12346.0</td>\n",
              "      <td>2011-01-18 10:01:00</td>\n",
              "      <td>2011-01-01</td>\n",
              "    </tr>\n",
              "    <tr>\n",
              "      <th>26239</th>\n",
              "      <td>2011-06-01</td>\n",
              "      <td>1</td>\n",
              "      <td>12346.0</td>\n",
              "      <td>2011-01-18 10:01:00</td>\n",
              "      <td>2011-01-01</td>\n",
              "    </tr>\n",
              "    <tr>\n",
              "      <th>30612</th>\n",
              "      <td>2011-07-01</td>\n",
              "      <td>1</td>\n",
              "      <td>12346.0</td>\n",
              "      <td>2011-01-18 10:01:00</td>\n",
              "      <td>2011-01-01</td>\n",
              "    </tr>\n",
              "    <tr>\n",
              "      <th>34985</th>\n",
              "      <td>2011-08-01</td>\n",
              "      <td>1</td>\n",
              "      <td>12346.0</td>\n",
              "      <td>2011-01-18 10:01:00</td>\n",
              "      <td>2011-01-01</td>\n",
              "    </tr>\n",
              "    <tr>\n",
              "      <th>39358</th>\n",
              "      <td>2011-09-01</td>\n",
              "      <td>1</td>\n",
              "      <td>12346.0</td>\n",
              "      <td>2011-01-18 10:01:00</td>\n",
              "      <td>2011-01-01</td>\n",
              "    </tr>\n",
              "    <tr>\n",
              "      <th>43731</th>\n",
              "      <td>2011-10-01</td>\n",
              "      <td>1</td>\n",
              "      <td>12346.0</td>\n",
              "      <td>2011-01-18 10:01:00</td>\n",
              "      <td>2011-01-01</td>\n",
              "    </tr>\n",
              "    <tr>\n",
              "      <th>48104</th>\n",
              "      <td>2011-11-01</td>\n",
              "      <td>1</td>\n",
              "      <td>12346.0</td>\n",
              "      <td>2011-01-18 10:01:00</td>\n",
              "      <td>2011-01-01</td>\n",
              "    </tr>\n",
              "    <tr>\n",
              "      <th>52477</th>\n",
              "      <td>2011-12-01</td>\n",
              "      <td>1</td>\n",
              "      <td>12346.0</td>\n",
              "      <td>2011-01-18 10:01:00</td>\n",
              "      <td>2011-01-01</td>\n",
              "    </tr>\n",
              "  </tbody>\n",
              "</table>\n",
              "</div>"
            ],
            "text/plain": [
              "           month  key  CustomerID            reg_date  reg_month\n",
              "4374  2011-01-01    1     12346.0 2011-01-18 10:01:00 2011-01-01\n",
              "8747  2011-02-01    1     12346.0 2011-01-18 10:01:00 2011-01-01\n",
              "13120 2011-03-01    1     12346.0 2011-01-18 10:01:00 2011-01-01\n",
              "17493 2011-04-01    1     12346.0 2011-01-18 10:01:00 2011-01-01\n",
              "21866 2011-05-01    1     12346.0 2011-01-18 10:01:00 2011-01-01\n",
              "26239 2011-06-01    1     12346.0 2011-01-18 10:01:00 2011-01-01\n",
              "30612 2011-07-01    1     12346.0 2011-01-18 10:01:00 2011-01-01\n",
              "34985 2011-08-01    1     12346.0 2011-01-18 10:01:00 2011-01-01\n",
              "39358 2011-09-01    1     12346.0 2011-01-18 10:01:00 2011-01-01\n",
              "43731 2011-10-01    1     12346.0 2011-01-18 10:01:00 2011-01-01\n",
              "48104 2011-11-01    1     12346.0 2011-01-18 10:01:00 2011-01-01\n",
              "52477 2011-12-01    1     12346.0 2011-01-18 10:01:00 2011-01-01"
            ]
          },
          "metadata": {
            "tags": []
          },
          "execution_count": 29
        }
      ]
    },
    {
      "cell_type": "code",
      "metadata": {
        "id": "FcqmJFD3PH48",
        "colab_type": "code",
        "outputId": "e93942e3-0613-46fb-f595-be01418b3479",
        "colab": {
          "base_uri": "https://localhost:8080/",
          "height": 142
        }
      },
      "source": [
        "report[report['CustomerID'] == 12448.0]"
      ],
      "execution_count": 0,
      "outputs": [
        {
          "output_type": "execute_result",
          "data": {
            "text/html": [
              "<div>\n",
              "<style scoped>\n",
              "    .dataframe tbody tr th:only-of-type {\n",
              "        vertical-align: middle;\n",
              "    }\n",
              "\n",
              "    .dataframe tbody tr th {\n",
              "        vertical-align: top;\n",
              "    }\n",
              "\n",
              "    .dataframe thead th {\n",
              "        text-align: right;\n",
              "    }\n",
              "</style>\n",
              "<table border=\"1\" class=\"dataframe\">\n",
              "  <thead>\n",
              "    <tr style=\"text-align: right;\">\n",
              "      <th></th>\n",
              "      <th>month</th>\n",
              "      <th>key</th>\n",
              "      <th>CustomerID</th>\n",
              "      <th>reg_date</th>\n",
              "      <th>reg_month</th>\n",
              "    </tr>\n",
              "  </thead>\n",
              "  <tbody>\n",
              "    <tr>\n",
              "      <th>43814</th>\n",
              "      <td>2011-10-01</td>\n",
              "      <td>1</td>\n",
              "      <td>12448.0</td>\n",
              "      <td>2011-10-26 13:46:00</td>\n",
              "      <td>2011-10-01</td>\n",
              "    </tr>\n",
              "    <tr>\n",
              "      <th>48187</th>\n",
              "      <td>2011-11-01</td>\n",
              "      <td>1</td>\n",
              "      <td>12448.0</td>\n",
              "      <td>2011-10-26 13:46:00</td>\n",
              "      <td>2011-10-01</td>\n",
              "    </tr>\n",
              "    <tr>\n",
              "      <th>52560</th>\n",
              "      <td>2011-12-01</td>\n",
              "      <td>1</td>\n",
              "      <td>12448.0</td>\n",
              "      <td>2011-10-26 13:46:00</td>\n",
              "      <td>2011-10-01</td>\n",
              "    </tr>\n",
              "  </tbody>\n",
              "</table>\n",
              "</div>"
            ],
            "text/plain": [
              "           month  key  CustomerID            reg_date  reg_month\n",
              "43814 2011-10-01    1     12448.0 2011-10-26 13:46:00 2011-10-01\n",
              "48187 2011-11-01    1     12448.0 2011-10-26 13:46:00 2011-10-01\n",
              "52560 2011-12-01    1     12448.0 2011-10-26 13:46:00 2011-10-01"
            ]
          },
          "metadata": {
            "tags": []
          },
          "execution_count": 30
        }
      ]
    },
    {
      "cell_type": "markdown",
      "metadata": {
        "id": "8wmxzu9MIks6",
        "colab_type": "text"
      },
      "source": [
        "Now we can join sales information. But before doing it"
      ]
    },
    {
      "cell_type": "markdown",
      "metadata": {
        "id": "MqVcIxmAIqMn",
        "colab_type": "text"
      },
      "source": [
        "# 3. Pre-aggregate transactional data before joining with report\n",
        "\n",
        "I will calculate total sales for each month for each customer"
      ]
    },
    {
      "cell_type": "code",
      "metadata": {
        "id": "FJ0MBqBkIeSg",
        "colab_type": "code",
        "outputId": "7fdb1505-1939-4ab1-b3ca-4b5e52f53dfa",
        "colab": {
          "base_uri": "https://localhost:8080/",
          "height": 204
        }
      },
      "source": [
        "df.head()"
      ],
      "execution_count": 0,
      "outputs": [
        {
          "output_type": "execute_result",
          "data": {
            "text/html": [
              "<div>\n",
              "<style scoped>\n",
              "    .dataframe tbody tr th:only-of-type {\n",
              "        vertical-align: middle;\n",
              "    }\n",
              "\n",
              "    .dataframe tbody tr th {\n",
              "        vertical-align: top;\n",
              "    }\n",
              "\n",
              "    .dataframe thead th {\n",
              "        text-align: right;\n",
              "    }\n",
              "</style>\n",
              "<table border=\"1\" class=\"dataframe\">\n",
              "  <thead>\n",
              "    <tr style=\"text-align: right;\">\n",
              "      <th></th>\n",
              "      <th>InvoiceNo</th>\n",
              "      <th>StockCode</th>\n",
              "      <th>Description</th>\n",
              "      <th>Quantity</th>\n",
              "      <th>InvoiceDate</th>\n",
              "      <th>UnitPrice</th>\n",
              "      <th>CustomerID</th>\n",
              "      <th>Country</th>\n",
              "    </tr>\n",
              "  </thead>\n",
              "  <tbody>\n",
              "    <tr>\n",
              "      <th>0</th>\n",
              "      <td>536365</td>\n",
              "      <td>85123A</td>\n",
              "      <td>WHITE HANGING HEART T-LIGHT HOLDER</td>\n",
              "      <td>6</td>\n",
              "      <td>2010-12-01 08:26:00</td>\n",
              "      <td>2.55</td>\n",
              "      <td>17850.0</td>\n",
              "      <td>United Kingdom</td>\n",
              "    </tr>\n",
              "    <tr>\n",
              "      <th>1</th>\n",
              "      <td>536365</td>\n",
              "      <td>71053</td>\n",
              "      <td>WHITE METAL LANTERN</td>\n",
              "      <td>6</td>\n",
              "      <td>2010-12-01 08:26:00</td>\n",
              "      <td>3.39</td>\n",
              "      <td>17850.0</td>\n",
              "      <td>United Kingdom</td>\n",
              "    </tr>\n",
              "    <tr>\n",
              "      <th>2</th>\n",
              "      <td>536365</td>\n",
              "      <td>84406B</td>\n",
              "      <td>CREAM CUPID HEARTS COAT HANGER</td>\n",
              "      <td>8</td>\n",
              "      <td>2010-12-01 08:26:00</td>\n",
              "      <td>2.75</td>\n",
              "      <td>17850.0</td>\n",
              "      <td>United Kingdom</td>\n",
              "    </tr>\n",
              "    <tr>\n",
              "      <th>3</th>\n",
              "      <td>536365</td>\n",
              "      <td>84029G</td>\n",
              "      <td>KNITTED UNION FLAG HOT WATER BOTTLE</td>\n",
              "      <td>6</td>\n",
              "      <td>2010-12-01 08:26:00</td>\n",
              "      <td>3.39</td>\n",
              "      <td>17850.0</td>\n",
              "      <td>United Kingdom</td>\n",
              "    </tr>\n",
              "    <tr>\n",
              "      <th>4</th>\n",
              "      <td>536365</td>\n",
              "      <td>84029E</td>\n",
              "      <td>RED WOOLLY HOTTIE WHITE HEART.</td>\n",
              "      <td>6</td>\n",
              "      <td>2010-12-01 08:26:00</td>\n",
              "      <td>3.39</td>\n",
              "      <td>17850.0</td>\n",
              "      <td>United Kingdom</td>\n",
              "    </tr>\n",
              "  </tbody>\n",
              "</table>\n",
              "</div>"
            ],
            "text/plain": [
              "  InvoiceNo StockCode  ... CustomerID         Country\n",
              "0    536365    85123A  ...    17850.0  United Kingdom\n",
              "1    536365     71053  ...    17850.0  United Kingdom\n",
              "2    536365    84406B  ...    17850.0  United Kingdom\n",
              "3    536365    84029G  ...    17850.0  United Kingdom\n",
              "4    536365    84029E  ...    17850.0  United Kingdom\n",
              "\n",
              "[5 rows x 8 columns]"
            ]
          },
          "metadata": {
            "tags": []
          },
          "execution_count": 31
        }
      ]
    },
    {
      "cell_type": "code",
      "metadata": {
        "id": "bt-qasTHI-vq",
        "colab_type": "code",
        "colab": {}
      },
      "source": [
        "df['month'] = df['InvoiceDate'].values.astype('datetime64[M]')"
      ],
      "execution_count": 0,
      "outputs": []
    },
    {
      "cell_type": "code",
      "metadata": {
        "id": "U2i8W5lsQiHp",
        "colab_type": "code",
        "colab": {}
      },
      "source": [
        "df['revenue'] = df['UnitPrice'] * df['Quantity']"
      ],
      "execution_count": 0,
      "outputs": []
    },
    {
      "cell_type": "code",
      "metadata": {
        "id": "dr70lpEDJFZ3",
        "colab_type": "code",
        "colab": {}
      },
      "source": [
        "sales_month = df.groupby(['CustomerID','month'])[['revenue']].agg(['sum']).reset_index()"
      ],
      "execution_count": 0,
      "outputs": []
    },
    {
      "cell_type": "code",
      "metadata": {
        "id": "tbylCb7TJanZ",
        "colab_type": "code",
        "outputId": "66786e80-e592-43a5-b395-79a623da9bba",
        "colab": {
          "base_uri": "https://localhost:8080/",
          "height": 235
        }
      },
      "source": [
        "sales_month.head()"
      ],
      "execution_count": 0,
      "outputs": [
        {
          "output_type": "execute_result",
          "data": {
            "text/html": [
              "<div>\n",
              "<style scoped>\n",
              "    .dataframe tbody tr th:only-of-type {\n",
              "        vertical-align: middle;\n",
              "    }\n",
              "\n",
              "    .dataframe tbody tr th {\n",
              "        vertical-align: top;\n",
              "    }\n",
              "\n",
              "    .dataframe thead tr th {\n",
              "        text-align: left;\n",
              "    }\n",
              "</style>\n",
              "<table border=\"1\" class=\"dataframe\">\n",
              "  <thead>\n",
              "    <tr>\n",
              "      <th></th>\n",
              "      <th>CustomerID</th>\n",
              "      <th>month</th>\n",
              "      <th>revenue</th>\n",
              "    </tr>\n",
              "    <tr>\n",
              "      <th></th>\n",
              "      <th></th>\n",
              "      <th></th>\n",
              "      <th>sum</th>\n",
              "    </tr>\n",
              "  </thead>\n",
              "  <tbody>\n",
              "    <tr>\n",
              "      <th>0</th>\n",
              "      <td>-999.0</td>\n",
              "      <td>2010-12-01</td>\n",
              "      <td>194353.00</td>\n",
              "    </tr>\n",
              "    <tr>\n",
              "      <th>1</th>\n",
              "      <td>-999.0</td>\n",
              "      <td>2011-01-01</td>\n",
              "      <td>84925.88</td>\n",
              "    </tr>\n",
              "    <tr>\n",
              "      <th>2</th>\n",
              "      <td>-999.0</td>\n",
              "      <td>2011-02-01</td>\n",
              "      <td>61516.50</td>\n",
              "    </tr>\n",
              "    <tr>\n",
              "      <th>3</th>\n",
              "      <td>-999.0</td>\n",
              "      <td>2011-03-01</td>\n",
              "      <td>103302.47</td>\n",
              "    </tr>\n",
              "    <tr>\n",
              "      <th>4</th>\n",
              "      <td>-999.0</td>\n",
              "      <td>2011-04-01</td>\n",
              "      <td>67159.27</td>\n",
              "    </tr>\n",
              "  </tbody>\n",
              "</table>\n",
              "</div>"
            ],
            "text/plain": [
              "  CustomerID      month    revenue\n",
              "                               sum\n",
              "0     -999.0 2010-12-01  194353.00\n",
              "1     -999.0 2011-01-01   84925.88\n",
              "2     -999.0 2011-02-01   61516.50\n",
              "3     -999.0 2011-03-01  103302.47\n",
              "4     -999.0 2011-04-01   67159.27"
            ]
          },
          "metadata": {
            "tags": []
          },
          "execution_count": 35
        }
      ]
    },
    {
      "cell_type": "code",
      "metadata": {
        "id": "boOe21brJeFt",
        "colab_type": "code",
        "colab": {}
      },
      "source": [
        "sales_month.columns = ['CustomerID','month','revenue']"
      ],
      "execution_count": 0,
      "outputs": []
    },
    {
      "cell_type": "code",
      "metadata": {
        "id": "bqhwkqjGJsDT",
        "colab_type": "code",
        "outputId": "02dcc656-39fd-47a5-8b5c-f77efbe82ec0",
        "colab": {
          "base_uri": "https://localhost:8080/",
          "height": 204
        }
      },
      "source": [
        "sales_month.head()"
      ],
      "execution_count": 0,
      "outputs": [
        {
          "output_type": "execute_result",
          "data": {
            "text/html": [
              "<div>\n",
              "<style scoped>\n",
              "    .dataframe tbody tr th:only-of-type {\n",
              "        vertical-align: middle;\n",
              "    }\n",
              "\n",
              "    .dataframe tbody tr th {\n",
              "        vertical-align: top;\n",
              "    }\n",
              "\n",
              "    .dataframe thead th {\n",
              "        text-align: right;\n",
              "    }\n",
              "</style>\n",
              "<table border=\"1\" class=\"dataframe\">\n",
              "  <thead>\n",
              "    <tr style=\"text-align: right;\">\n",
              "      <th></th>\n",
              "      <th>CustomerID</th>\n",
              "      <th>month</th>\n",
              "      <th>revenue</th>\n",
              "    </tr>\n",
              "  </thead>\n",
              "  <tbody>\n",
              "    <tr>\n",
              "      <th>0</th>\n",
              "      <td>-999.0</td>\n",
              "      <td>2010-12-01</td>\n",
              "      <td>194353.00</td>\n",
              "    </tr>\n",
              "    <tr>\n",
              "      <th>1</th>\n",
              "      <td>-999.0</td>\n",
              "      <td>2011-01-01</td>\n",
              "      <td>84925.88</td>\n",
              "    </tr>\n",
              "    <tr>\n",
              "      <th>2</th>\n",
              "      <td>-999.0</td>\n",
              "      <td>2011-02-01</td>\n",
              "      <td>61516.50</td>\n",
              "    </tr>\n",
              "    <tr>\n",
              "      <th>3</th>\n",
              "      <td>-999.0</td>\n",
              "      <td>2011-03-01</td>\n",
              "      <td>103302.47</td>\n",
              "    </tr>\n",
              "    <tr>\n",
              "      <th>4</th>\n",
              "      <td>-999.0</td>\n",
              "      <td>2011-04-01</td>\n",
              "      <td>67159.27</td>\n",
              "    </tr>\n",
              "  </tbody>\n",
              "</table>\n",
              "</div>"
            ],
            "text/plain": [
              "   CustomerID      month    revenue\n",
              "0      -999.0 2010-12-01  194353.00\n",
              "1      -999.0 2011-01-01   84925.88\n",
              "2      -999.0 2011-02-01   61516.50\n",
              "3      -999.0 2011-03-01  103302.47\n",
              "4      -999.0 2011-04-01   67159.27"
            ]
          },
          "metadata": {
            "tags": []
          },
          "execution_count": 37
        }
      ]
    },
    {
      "cell_type": "markdown",
      "metadata": {
        "id": "FqCJud5jKJco",
        "colab_type": "text"
      },
      "source": [
        "# 4. Join to report"
      ]
    },
    {
      "cell_type": "code",
      "metadata": {
        "id": "MItUI9USJth-",
        "colab_type": "code",
        "colab": {}
      },
      "source": [
        "report = report.merge(sales_month,how='left',on=['CustomerID','month'])"
      ],
      "execution_count": 0,
      "outputs": []
    },
    {
      "cell_type": "markdown",
      "metadata": {
        "id": "SXWMqt1rKfer",
        "colab_type": "text"
      },
      "source": [
        "It is very important to use the left join! Using the left join we are keeping all rows from the report table -- that's how we understand gaps in customer activity."
      ]
    },
    {
      "cell_type": "code",
      "metadata": {
        "id": "P5zUlTQdKXx3",
        "colab_type": "code",
        "outputId": "4ee306a7-d1e1-405d-b46f-6c0473af2735",
        "colab": {
          "base_uri": "https://localhost:8080/",
          "height": 204
        }
      },
      "source": [
        "report.head()"
      ],
      "execution_count": 0,
      "outputs": [
        {
          "output_type": "execute_result",
          "data": {
            "text/html": [
              "<div>\n",
              "<style scoped>\n",
              "    .dataframe tbody tr th:only-of-type {\n",
              "        vertical-align: middle;\n",
              "    }\n",
              "\n",
              "    .dataframe tbody tr th {\n",
              "        vertical-align: top;\n",
              "    }\n",
              "\n",
              "    .dataframe thead th {\n",
              "        text-align: right;\n",
              "    }\n",
              "</style>\n",
              "<table border=\"1\" class=\"dataframe\">\n",
              "  <thead>\n",
              "    <tr style=\"text-align: right;\">\n",
              "      <th></th>\n",
              "      <th>month</th>\n",
              "      <th>key</th>\n",
              "      <th>CustomerID</th>\n",
              "      <th>reg_date</th>\n",
              "      <th>reg_month</th>\n",
              "      <th>revenue</th>\n",
              "    </tr>\n",
              "  </thead>\n",
              "  <tbody>\n",
              "    <tr>\n",
              "      <th>0</th>\n",
              "      <td>2010-12-01</td>\n",
              "      <td>1</td>\n",
              "      <td>-999.0</td>\n",
              "      <td>2010-12-01 11:52:00</td>\n",
              "      <td>2010-12-01</td>\n",
              "      <td>194353.00</td>\n",
              "    </tr>\n",
              "    <tr>\n",
              "      <th>1</th>\n",
              "      <td>2010-12-01</td>\n",
              "      <td>1</td>\n",
              "      <td>12347.0</td>\n",
              "      <td>2010-12-07 14:57:00</td>\n",
              "      <td>2010-12-01</td>\n",
              "      <td>711.79</td>\n",
              "    </tr>\n",
              "    <tr>\n",
              "      <th>2</th>\n",
              "      <td>2010-12-01</td>\n",
              "      <td>1</td>\n",
              "      <td>12348.0</td>\n",
              "      <td>2010-12-16 19:09:00</td>\n",
              "      <td>2010-12-01</td>\n",
              "      <td>892.80</td>\n",
              "    </tr>\n",
              "    <tr>\n",
              "      <th>3</th>\n",
              "      <td>2010-12-01</td>\n",
              "      <td>1</td>\n",
              "      <td>12370.0</td>\n",
              "      <td>2010-12-14 12:58:00</td>\n",
              "      <td>2010-12-01</td>\n",
              "      <td>1868.02</td>\n",
              "    </tr>\n",
              "    <tr>\n",
              "      <th>4</th>\n",
              "      <td>2010-12-01</td>\n",
              "      <td>1</td>\n",
              "      <td>12377.0</td>\n",
              "      <td>2010-12-20 09:37:00</td>\n",
              "      <td>2010-12-01</td>\n",
              "      <td>1001.52</td>\n",
              "    </tr>\n",
              "  </tbody>\n",
              "</table>\n",
              "</div>"
            ],
            "text/plain": [
              "       month  key  CustomerID            reg_date  reg_month    revenue\n",
              "0 2010-12-01    1      -999.0 2010-12-01 11:52:00 2010-12-01  194353.00\n",
              "1 2010-12-01    1     12347.0 2010-12-07 14:57:00 2010-12-01     711.79\n",
              "2 2010-12-01    1     12348.0 2010-12-16 19:09:00 2010-12-01     892.80\n",
              "3 2010-12-01    1     12370.0 2010-12-14 12:58:00 2010-12-01    1868.02\n",
              "4 2010-12-01    1     12377.0 2010-12-20 09:37:00 2010-12-01    1001.52"
            ]
          },
          "metadata": {
            "tags": []
          },
          "execution_count": 39
        }
      ]
    },
    {
      "cell_type": "markdown",
      "metadata": {
        "id": "42UQ7p6xKwyp",
        "colab_type": "text"
      },
      "source": [
        "Let's look at a particular customer"
      ]
    },
    {
      "cell_type": "code",
      "metadata": {
        "id": "5sFt8kREKupG",
        "colab_type": "code",
        "outputId": "777a7692-8acb-4f2e-8416-fadc2d3d0f65",
        "colab": {
          "base_uri": "https://localhost:8080/",
          "height": 452
        }
      },
      "source": [
        "report[report['CustomerID'] == 12347.0]"
      ],
      "execution_count": 0,
      "outputs": [
        {
          "output_type": "execute_result",
          "data": {
            "text/html": [
              "<div>\n",
              "<style scoped>\n",
              "    .dataframe tbody tr th:only-of-type {\n",
              "        vertical-align: middle;\n",
              "    }\n",
              "\n",
              "    .dataframe tbody tr th {\n",
              "        vertical-align: top;\n",
              "    }\n",
              "\n",
              "    .dataframe thead th {\n",
              "        text-align: right;\n",
              "    }\n",
              "</style>\n",
              "<table border=\"1\" class=\"dataframe\">\n",
              "  <thead>\n",
              "    <tr style=\"text-align: right;\">\n",
              "      <th></th>\n",
              "      <th>month</th>\n",
              "      <th>key</th>\n",
              "      <th>CustomerID</th>\n",
              "      <th>reg_date</th>\n",
              "      <th>reg_month</th>\n",
              "      <th>revenue</th>\n",
              "    </tr>\n",
              "  </thead>\n",
              "  <tbody>\n",
              "    <tr>\n",
              "      <th>1</th>\n",
              "      <td>2010-12-01</td>\n",
              "      <td>1</td>\n",
              "      <td>12347.0</td>\n",
              "      <td>2010-12-07 14:57:00</td>\n",
              "      <td>2010-12-01</td>\n",
              "      <td>711.79</td>\n",
              "    </tr>\n",
              "    <tr>\n",
              "      <th>951</th>\n",
              "      <td>2011-01-01</td>\n",
              "      <td>1</td>\n",
              "      <td>12347.0</td>\n",
              "      <td>2010-12-07 14:57:00</td>\n",
              "      <td>2010-12-01</td>\n",
              "      <td>475.39</td>\n",
              "    </tr>\n",
              "    <tr>\n",
              "      <th>2321</th>\n",
              "      <td>2011-02-01</td>\n",
              "      <td>1</td>\n",
              "      <td>12347.0</td>\n",
              "      <td>2010-12-07 14:57:00</td>\n",
              "      <td>2010-12-01</td>\n",
              "      <td>NaN</td>\n",
              "    </tr>\n",
              "    <tr>\n",
              "      <th>4071</th>\n",
              "      <td>2011-03-01</td>\n",
              "      <td>1</td>\n",
              "      <td>12347.0</td>\n",
              "      <td>2010-12-07 14:57:00</td>\n",
              "      <td>2010-12-01</td>\n",
              "      <td>NaN</td>\n",
              "    </tr>\n",
              "    <tr>\n",
              "      <th>6261</th>\n",
              "      <td>2011-04-01</td>\n",
              "      <td>1</td>\n",
              "      <td>12347.0</td>\n",
              "      <td>2010-12-07 14:57:00</td>\n",
              "      <td>2010-12-01</td>\n",
              "      <td>636.25</td>\n",
              "    </tr>\n",
              "    <tr>\n",
              "      <th>8750</th>\n",
              "      <td>2011-05-01</td>\n",
              "      <td>1</td>\n",
              "      <td>12347.0</td>\n",
              "      <td>2010-12-07 14:57:00</td>\n",
              "      <td>2010-12-01</td>\n",
              "      <td>NaN</td>\n",
              "    </tr>\n",
              "    <tr>\n",
              "      <th>11518</th>\n",
              "      <td>2011-06-01</td>\n",
              "      <td>1</td>\n",
              "      <td>12347.0</td>\n",
              "      <td>2010-12-07 14:57:00</td>\n",
              "      <td>2010-12-01</td>\n",
              "      <td>382.52</td>\n",
              "    </tr>\n",
              "    <tr>\n",
              "      <th>14521</th>\n",
              "      <td>2011-07-01</td>\n",
              "      <td>1</td>\n",
              "      <td>12347.0</td>\n",
              "      <td>2010-12-07 14:57:00</td>\n",
              "      <td>2010-12-01</td>\n",
              "      <td>NaN</td>\n",
              "    </tr>\n",
              "    <tr>\n",
              "      <th>17715</th>\n",
              "      <td>2011-08-01</td>\n",
              "      <td>1</td>\n",
              "      <td>12347.0</td>\n",
              "      <td>2010-12-07 14:57:00</td>\n",
              "      <td>2010-12-01</td>\n",
              "      <td>584.91</td>\n",
              "    </tr>\n",
              "    <tr>\n",
              "      <th>21076</th>\n",
              "      <td>2011-09-01</td>\n",
              "      <td>1</td>\n",
              "      <td>12347.0</td>\n",
              "      <td>2010-12-07 14:57:00</td>\n",
              "      <td>2010-12-01</td>\n",
              "      <td>NaN</td>\n",
              "    </tr>\n",
              "    <tr>\n",
              "      <th>24735</th>\n",
              "      <td>2011-10-01</td>\n",
              "      <td>1</td>\n",
              "      <td>12347.0</td>\n",
              "      <td>2010-12-07 14:57:00</td>\n",
              "      <td>2010-12-01</td>\n",
              "      <td>1294.32</td>\n",
              "    </tr>\n",
              "    <tr>\n",
              "      <th>28746</th>\n",
              "      <td>2011-11-01</td>\n",
              "      <td>1</td>\n",
              "      <td>12347.0</td>\n",
              "      <td>2010-12-07 14:57:00</td>\n",
              "      <td>2010-12-01</td>\n",
              "      <td>NaN</td>\n",
              "    </tr>\n",
              "    <tr>\n",
              "      <th>33078</th>\n",
              "      <td>2011-12-01</td>\n",
              "      <td>1</td>\n",
              "      <td>12347.0</td>\n",
              "      <td>2010-12-07 14:57:00</td>\n",
              "      <td>2010-12-01</td>\n",
              "      <td>224.82</td>\n",
              "    </tr>\n",
              "  </tbody>\n",
              "</table>\n",
              "</div>"
            ],
            "text/plain": [
              "           month  key  CustomerID            reg_date  reg_month  revenue\n",
              "1     2010-12-01    1     12347.0 2010-12-07 14:57:00 2010-12-01   711.79\n",
              "951   2011-01-01    1     12347.0 2010-12-07 14:57:00 2010-12-01   475.39\n",
              "2321  2011-02-01    1     12347.0 2010-12-07 14:57:00 2010-12-01      NaN\n",
              "4071  2011-03-01    1     12347.0 2010-12-07 14:57:00 2010-12-01      NaN\n",
              "6261  2011-04-01    1     12347.0 2010-12-07 14:57:00 2010-12-01   636.25\n",
              "8750  2011-05-01    1     12347.0 2010-12-07 14:57:00 2010-12-01      NaN\n",
              "11518 2011-06-01    1     12347.0 2010-12-07 14:57:00 2010-12-01   382.52\n",
              "14521 2011-07-01    1     12347.0 2010-12-07 14:57:00 2010-12-01      NaN\n",
              "17715 2011-08-01    1     12347.0 2010-12-07 14:57:00 2010-12-01   584.91\n",
              "21076 2011-09-01    1     12347.0 2010-12-07 14:57:00 2010-12-01      NaN\n",
              "24735 2011-10-01    1     12347.0 2010-12-07 14:57:00 2010-12-01  1294.32\n",
              "28746 2011-11-01    1     12347.0 2010-12-07 14:57:00 2010-12-01      NaN\n",
              "33078 2011-12-01    1     12347.0 2010-12-07 14:57:00 2010-12-01   224.82"
            ]
          },
          "metadata": {
            "tags": []
          },
          "execution_count": 40
        }
      ]
    },
    {
      "cell_type": "markdown",
      "metadata": {
        "id": "6oGV1I1PK5zC",
        "colab_type": "text"
      },
      "source": [
        "We can see that his activity is not regular! For example there is pause in purchases after 2011-01-01 for two months. And then purchases start again."
      ]
    },
    {
      "cell_type": "markdown",
      "metadata": {
        "id": "TX4sSjl9JLn7",
        "colab_type": "text"
      },
      "source": [
        "# 5. Basic metrics"
      ]
    },
    {
      "cell_type": "markdown",
      "metadata": {
        "id": "3EUtTb5_P_H1",
        "colab_type": "text"
      },
      "source": [
        "Add user, active, and new user counts"
      ]
    },
    {
      "cell_type": "code",
      "metadata": {
        "id": "dNOOa905QCqI",
        "colab_type": "code",
        "colab": {}
      },
      "source": [
        "report['user'] = 1\n",
        "report['new'] = (report['reg_month'] == report['month']) * 1\n",
        "report['active'] = (report['revenue'] > 0) * 1"
      ],
      "execution_count": 0,
      "outputs": []
    },
    {
      "cell_type": "code",
      "metadata": {
        "id": "NUTXuhwOQLQl",
        "colab_type": "code",
        "outputId": "831e1440-f4f3-403b-a093-f496e4306770",
        "colab": {
          "base_uri": "https://localhost:8080/",
          "height": 204
        }
      },
      "source": [
        "report.head()"
      ],
      "execution_count": 0,
      "outputs": [
        {
          "output_type": "execute_result",
          "data": {
            "text/html": [
              "<div>\n",
              "<style scoped>\n",
              "    .dataframe tbody tr th:only-of-type {\n",
              "        vertical-align: middle;\n",
              "    }\n",
              "\n",
              "    .dataframe tbody tr th {\n",
              "        vertical-align: top;\n",
              "    }\n",
              "\n",
              "    .dataframe thead th {\n",
              "        text-align: right;\n",
              "    }\n",
              "</style>\n",
              "<table border=\"1\" class=\"dataframe\">\n",
              "  <thead>\n",
              "    <tr style=\"text-align: right;\">\n",
              "      <th></th>\n",
              "      <th>month</th>\n",
              "      <th>key</th>\n",
              "      <th>CustomerID</th>\n",
              "      <th>reg_date</th>\n",
              "      <th>reg_month</th>\n",
              "      <th>revenue</th>\n",
              "      <th>user</th>\n",
              "      <th>new</th>\n",
              "      <th>active</th>\n",
              "    </tr>\n",
              "  </thead>\n",
              "  <tbody>\n",
              "    <tr>\n",
              "      <th>0</th>\n",
              "      <td>2010-12-01</td>\n",
              "      <td>1</td>\n",
              "      <td>-999.0</td>\n",
              "      <td>2010-12-01 11:52:00</td>\n",
              "      <td>2010-12-01</td>\n",
              "      <td>194353.00</td>\n",
              "      <td>1</td>\n",
              "      <td>1</td>\n",
              "      <td>1</td>\n",
              "    </tr>\n",
              "    <tr>\n",
              "      <th>1</th>\n",
              "      <td>2010-12-01</td>\n",
              "      <td>1</td>\n",
              "      <td>12347.0</td>\n",
              "      <td>2010-12-07 14:57:00</td>\n",
              "      <td>2010-12-01</td>\n",
              "      <td>711.79</td>\n",
              "      <td>1</td>\n",
              "      <td>1</td>\n",
              "      <td>1</td>\n",
              "    </tr>\n",
              "    <tr>\n",
              "      <th>2</th>\n",
              "      <td>2010-12-01</td>\n",
              "      <td>1</td>\n",
              "      <td>12348.0</td>\n",
              "      <td>2010-12-16 19:09:00</td>\n",
              "      <td>2010-12-01</td>\n",
              "      <td>892.80</td>\n",
              "      <td>1</td>\n",
              "      <td>1</td>\n",
              "      <td>1</td>\n",
              "    </tr>\n",
              "    <tr>\n",
              "      <th>3</th>\n",
              "      <td>2010-12-01</td>\n",
              "      <td>1</td>\n",
              "      <td>12370.0</td>\n",
              "      <td>2010-12-14 12:58:00</td>\n",
              "      <td>2010-12-01</td>\n",
              "      <td>1868.02</td>\n",
              "      <td>1</td>\n",
              "      <td>1</td>\n",
              "      <td>1</td>\n",
              "    </tr>\n",
              "    <tr>\n",
              "      <th>4</th>\n",
              "      <td>2010-12-01</td>\n",
              "      <td>1</td>\n",
              "      <td>12377.0</td>\n",
              "      <td>2010-12-20 09:37:00</td>\n",
              "      <td>2010-12-01</td>\n",
              "      <td>1001.52</td>\n",
              "      <td>1</td>\n",
              "      <td>1</td>\n",
              "      <td>1</td>\n",
              "    </tr>\n",
              "  </tbody>\n",
              "</table>\n",
              "</div>"
            ],
            "text/plain": [
              "       month  key  CustomerID            reg_date  ...    revenue  user  new  active\n",
              "0 2010-12-01    1      -999.0 2010-12-01 11:52:00  ...  194353.00     1    1       1\n",
              "1 2010-12-01    1     12347.0 2010-12-07 14:57:00  ...     711.79     1    1       1\n",
              "2 2010-12-01    1     12348.0 2010-12-16 19:09:00  ...     892.80     1    1       1\n",
              "3 2010-12-01    1     12370.0 2010-12-14 12:58:00  ...    1868.02     1    1       1\n",
              "4 2010-12-01    1     12377.0 2010-12-20 09:37:00  ...    1001.52     1    1       1\n",
              "\n",
              "[5 rows x 9 columns]"
            ]
          },
          "metadata": {
            "tags": []
          },
          "execution_count": 42
        }
      ]
    },
    {
      "cell_type": "code",
      "metadata": {
        "id": "9q8i-fnZQRLU",
        "colab_type": "code",
        "outputId": "22260509-7de0-4fcc-b2f0-cf2081c52b21",
        "colab": {
          "base_uri": "https://localhost:8080/",
          "height": 483
        }
      },
      "source": [
        "report.groupby('month')[['revenue','user','new','active']].agg('sum')"
      ],
      "execution_count": 0,
      "outputs": [
        {
          "output_type": "execute_result",
          "data": {
            "text/html": [
              "<div>\n",
              "<style scoped>\n",
              "    .dataframe tbody tr th:only-of-type {\n",
              "        vertical-align: middle;\n",
              "    }\n",
              "\n",
              "    .dataframe tbody tr th {\n",
              "        vertical-align: top;\n",
              "    }\n",
              "\n",
              "    .dataframe thead th {\n",
              "        text-align: right;\n",
              "    }\n",
              "</style>\n",
              "<table border=\"1\" class=\"dataframe\">\n",
              "  <thead>\n",
              "    <tr style=\"text-align: right;\">\n",
              "      <th></th>\n",
              "      <th>revenue</th>\n",
              "      <th>user</th>\n",
              "      <th>new</th>\n",
              "      <th>active</th>\n",
              "    </tr>\n",
              "    <tr>\n",
              "      <th>month</th>\n",
              "      <th></th>\n",
              "      <th></th>\n",
              "      <th></th>\n",
              "      <th></th>\n",
              "    </tr>\n",
              "  </thead>\n",
              "  <tbody>\n",
              "    <tr>\n",
              "      <th>2010-12-01</th>\n",
              "      <td>748957.020</td>\n",
              "      <td>949</td>\n",
              "      <td>949</td>\n",
              "      <td>882</td>\n",
              "    </tr>\n",
              "    <tr>\n",
              "      <th>2011-01-01</th>\n",
              "      <td>560000.260</td>\n",
              "      <td>1370</td>\n",
              "      <td>421</td>\n",
              "      <td>737</td>\n",
              "    </tr>\n",
              "    <tr>\n",
              "      <th>2011-02-01</th>\n",
              "      <td>498062.650</td>\n",
              "      <td>1750</td>\n",
              "      <td>380</td>\n",
              "      <td>754</td>\n",
              "    </tr>\n",
              "    <tr>\n",
              "      <th>2011-03-01</th>\n",
              "      <td>683267.080</td>\n",
              "      <td>2190</td>\n",
              "      <td>440</td>\n",
              "      <td>969</td>\n",
              "    </tr>\n",
              "    <tr>\n",
              "      <th>2011-04-01</th>\n",
              "      <td>493207.121</td>\n",
              "      <td>2489</td>\n",
              "      <td>299</td>\n",
              "      <td>851</td>\n",
              "    </tr>\n",
              "    <tr>\n",
              "      <th>2011-05-01</th>\n",
              "      <td>723333.510</td>\n",
              "      <td>2768</td>\n",
              "      <td>279</td>\n",
              "      <td>1053</td>\n",
              "    </tr>\n",
              "    <tr>\n",
              "      <th>2011-06-01</th>\n",
              "      <td>691123.120</td>\n",
              "      <td>3003</td>\n",
              "      <td>235</td>\n",
              "      <td>987</td>\n",
              "    </tr>\n",
              "    <tr>\n",
              "      <th>2011-07-01</th>\n",
              "      <td>681300.111</td>\n",
              "      <td>3194</td>\n",
              "      <td>191</td>\n",
              "      <td>943</td>\n",
              "    </tr>\n",
              "    <tr>\n",
              "      <th>2011-08-01</th>\n",
              "      <td>682680.510</td>\n",
              "      <td>3361</td>\n",
              "      <td>167</td>\n",
              "      <td>931</td>\n",
              "    </tr>\n",
              "    <tr>\n",
              "      <th>2011-09-01</th>\n",
              "      <td>1019687.622</td>\n",
              "      <td>3659</td>\n",
              "      <td>298</td>\n",
              "      <td>1263</td>\n",
              "    </tr>\n",
              "    <tr>\n",
              "      <th>2011-10-01</th>\n",
              "      <td>1070704.670</td>\n",
              "      <td>4011</td>\n",
              "      <td>352</td>\n",
              "      <td>1357</td>\n",
              "    </tr>\n",
              "    <tr>\n",
              "      <th>2011-11-01</th>\n",
              "      <td>1461756.250</td>\n",
              "      <td>4332</td>\n",
              "      <td>321</td>\n",
              "      <td>1659</td>\n",
              "    </tr>\n",
              "    <tr>\n",
              "      <th>2011-12-01</th>\n",
              "      <td>433668.010</td>\n",
              "      <td>4373</td>\n",
              "      <td>41</td>\n",
              "      <td>612</td>\n",
              "    </tr>\n",
              "  </tbody>\n",
              "</table>\n",
              "</div>"
            ],
            "text/plain": [
              "                revenue  user  new  active\n",
              "month                                     \n",
              "2010-12-01   748957.020   949  949     882\n",
              "2011-01-01   560000.260  1370  421     737\n",
              "2011-02-01   498062.650  1750  380     754\n",
              "2011-03-01   683267.080  2190  440     969\n",
              "2011-04-01   493207.121  2489  299     851\n",
              "2011-05-01   723333.510  2768  279    1053\n",
              "2011-06-01   691123.120  3003  235     987\n",
              "2011-07-01   681300.111  3194  191     943\n",
              "2011-08-01   682680.510  3361  167     931\n",
              "2011-09-01  1019687.622  3659  298    1263\n",
              "2011-10-01  1070704.670  4011  352    1357\n",
              "2011-11-01  1461756.250  4332  321    1659\n",
              "2011-12-01   433668.010  4373   41     612"
            ]
          },
          "metadata": {
            "tags": []
          },
          "execution_count": 43
        }
      ]
    },
    {
      "cell_type": "markdown",
      "metadata": {
        "id": "ZhkyIFZe8XMp",
        "colab_type": "text"
      },
      "source": [
        "Add average revenue per customer"
      ]
    },
    {
      "cell_type": "code",
      "metadata": {
        "id": "0LvKwqD28bi-",
        "colab_type": "code",
        "colab": {}
      },
      "source": [
        "t = report.groupby('month')[['revenue','user','new','active']].agg('sum')"
      ],
      "execution_count": 0,
      "outputs": []
    },
    {
      "cell_type": "code",
      "metadata": {
        "id": "kTRRAWYO8g-Y",
        "colab_type": "code",
        "colab": {}
      },
      "source": [
        "t['avg_revenue'] = t['revenue'] / t['active']"
      ],
      "execution_count": 0,
      "outputs": []
    },
    {
      "cell_type": "code",
      "metadata": {
        "id": "KLMZJ9wa8uGS",
        "colab_type": "code",
        "outputId": "3704bfb0-baff-425f-efbe-45878877f0b0",
        "colab": {
          "base_uri": "https://localhost:8080/",
          "height": 483
        }
      },
      "source": [
        "t"
      ],
      "execution_count": 0,
      "outputs": [
        {
          "output_type": "execute_result",
          "data": {
            "text/html": [
              "<div>\n",
              "<style scoped>\n",
              "    .dataframe tbody tr th:only-of-type {\n",
              "        vertical-align: middle;\n",
              "    }\n",
              "\n",
              "    .dataframe tbody tr th {\n",
              "        vertical-align: top;\n",
              "    }\n",
              "\n",
              "    .dataframe thead th {\n",
              "        text-align: right;\n",
              "    }\n",
              "</style>\n",
              "<table border=\"1\" class=\"dataframe\">\n",
              "  <thead>\n",
              "    <tr style=\"text-align: right;\">\n",
              "      <th></th>\n",
              "      <th>revenue</th>\n",
              "      <th>user</th>\n",
              "      <th>new</th>\n",
              "      <th>active</th>\n",
              "      <th>avg_revenue</th>\n",
              "    </tr>\n",
              "    <tr>\n",
              "      <th>month</th>\n",
              "      <th></th>\n",
              "      <th></th>\n",
              "      <th></th>\n",
              "      <th></th>\n",
              "      <th></th>\n",
              "    </tr>\n",
              "  </thead>\n",
              "  <tbody>\n",
              "    <tr>\n",
              "      <th>2010-12-01</th>\n",
              "      <td>748957.020</td>\n",
              "      <td>949</td>\n",
              "      <td>949</td>\n",
              "      <td>882</td>\n",
              "      <td>849.157619</td>\n",
              "    </tr>\n",
              "    <tr>\n",
              "      <th>2011-01-01</th>\n",
              "      <td>560000.260</td>\n",
              "      <td>1370</td>\n",
              "      <td>421</td>\n",
              "      <td>737</td>\n",
              "      <td>759.837531</td>\n",
              "    </tr>\n",
              "    <tr>\n",
              "      <th>2011-02-01</th>\n",
              "      <td>498062.650</td>\n",
              "      <td>1750</td>\n",
              "      <td>380</td>\n",
              "      <td>754</td>\n",
              "      <td>660.560544</td>\n",
              "    </tr>\n",
              "    <tr>\n",
              "      <th>2011-03-01</th>\n",
              "      <td>683267.080</td>\n",
              "      <td>2190</td>\n",
              "      <td>440</td>\n",
              "      <td>969</td>\n",
              "      <td>705.125986</td>\n",
              "    </tr>\n",
              "    <tr>\n",
              "      <th>2011-04-01</th>\n",
              "      <td>493207.121</td>\n",
              "      <td>2489</td>\n",
              "      <td>299</td>\n",
              "      <td>851</td>\n",
              "      <td>579.561834</td>\n",
              "    </tr>\n",
              "    <tr>\n",
              "      <th>2011-05-01</th>\n",
              "      <td>723333.510</td>\n",
              "      <td>2768</td>\n",
              "      <td>279</td>\n",
              "      <td>1053</td>\n",
              "      <td>686.926410</td>\n",
              "    </tr>\n",
              "    <tr>\n",
              "      <th>2011-06-01</th>\n",
              "      <td>691123.120</td>\n",
              "      <td>3003</td>\n",
              "      <td>235</td>\n",
              "      <td>987</td>\n",
              "      <td>700.226059</td>\n",
              "    </tr>\n",
              "    <tr>\n",
              "      <th>2011-07-01</th>\n",
              "      <td>681300.111</td>\n",
              "      <td>3194</td>\n",
              "      <td>191</td>\n",
              "      <td>943</td>\n",
              "      <td>722.481560</td>\n",
              "    </tr>\n",
              "    <tr>\n",
              "      <th>2011-08-01</th>\n",
              "      <td>682680.510</td>\n",
              "      <td>3361</td>\n",
              "      <td>167</td>\n",
              "      <td>931</td>\n",
              "      <td>733.276595</td>\n",
              "    </tr>\n",
              "    <tr>\n",
              "      <th>2011-09-01</th>\n",
              "      <td>1019687.622</td>\n",
              "      <td>3659</td>\n",
              "      <td>298</td>\n",
              "      <td>1263</td>\n",
              "      <td>807.353620</td>\n",
              "    </tr>\n",
              "    <tr>\n",
              "      <th>2011-10-01</th>\n",
              "      <td>1070704.670</td>\n",
              "      <td>4011</td>\n",
              "      <td>352</td>\n",
              "      <td>1357</td>\n",
              "      <td>789.023338</td>\n",
              "    </tr>\n",
              "    <tr>\n",
              "      <th>2011-11-01</th>\n",
              "      <td>1461756.250</td>\n",
              "      <td>4332</td>\n",
              "      <td>321</td>\n",
              "      <td>1659</td>\n",
              "      <td>881.106841</td>\n",
              "    </tr>\n",
              "    <tr>\n",
              "      <th>2011-12-01</th>\n",
              "      <td>433668.010</td>\n",
              "      <td>4373</td>\n",
              "      <td>41</td>\n",
              "      <td>612</td>\n",
              "      <td>708.607859</td>\n",
              "    </tr>\n",
              "  </tbody>\n",
              "</table>\n",
              "</div>"
            ],
            "text/plain": [
              "                revenue  user  new  active  avg_revenue\n",
              "month                                                  \n",
              "2010-12-01   748957.020   949  949     882   849.157619\n",
              "2011-01-01   560000.260  1370  421     737   759.837531\n",
              "2011-02-01   498062.650  1750  380     754   660.560544\n",
              "2011-03-01   683267.080  2190  440     969   705.125986\n",
              "2011-04-01   493207.121  2489  299     851   579.561834\n",
              "2011-05-01   723333.510  2768  279    1053   686.926410\n",
              "2011-06-01   691123.120  3003  235     987   700.226059\n",
              "2011-07-01   681300.111  3194  191     943   722.481560\n",
              "2011-08-01   682680.510  3361  167     931   733.276595\n",
              "2011-09-01  1019687.622  3659  298    1263   807.353620\n",
              "2011-10-01  1070704.670  4011  352    1357   789.023338\n",
              "2011-11-01  1461756.250  4332  321    1659   881.106841\n",
              "2011-12-01   433668.010  4373   41     612   708.607859"
            ]
          },
          "metadata": {
            "tags": []
          },
          "execution_count": 46
        }
      ]
    },
    {
      "cell_type": "markdown",
      "metadata": {
        "id": "Yt_ZZMKSJGdV",
        "colab_type": "text"
      },
      "source": [
        "# 6. Churn"
      ]
    },
    {
      "cell_type": "markdown",
      "metadata": {
        "id": "K_wbqfIT9pUt",
        "colab_type": "text"
      },
      "source": [
        "Same way you can calculate churn metrics, like number of customers who are inactive for 1,2,3,..,n months. Let's check all logic on this one customer (it's a good habit by the way to check your logic on one object and then scale it to the whole base)"
      ]
    },
    {
      "cell_type": "code",
      "metadata": {
        "id": "4eHNaIF79oL2",
        "colab_type": "code",
        "outputId": "2a67f866-cd39-49a7-face-d93db72a7917",
        "colab": {
          "base_uri": "https://localhost:8080/",
          "height": 452
        }
      },
      "source": [
        "report[report['CustomerID'] == 12347.0]"
      ],
      "execution_count": 0,
      "outputs": [
        {
          "output_type": "execute_result",
          "data": {
            "text/html": [
              "<div>\n",
              "<style scoped>\n",
              "    .dataframe tbody tr th:only-of-type {\n",
              "        vertical-align: middle;\n",
              "    }\n",
              "\n",
              "    .dataframe tbody tr th {\n",
              "        vertical-align: top;\n",
              "    }\n",
              "\n",
              "    .dataframe thead th {\n",
              "        text-align: right;\n",
              "    }\n",
              "</style>\n",
              "<table border=\"1\" class=\"dataframe\">\n",
              "  <thead>\n",
              "    <tr style=\"text-align: right;\">\n",
              "      <th></th>\n",
              "      <th>month</th>\n",
              "      <th>key</th>\n",
              "      <th>CustomerID</th>\n",
              "      <th>reg_date</th>\n",
              "      <th>reg_month</th>\n",
              "      <th>revenue</th>\n",
              "      <th>user</th>\n",
              "      <th>new</th>\n",
              "      <th>active</th>\n",
              "    </tr>\n",
              "  </thead>\n",
              "  <tbody>\n",
              "    <tr>\n",
              "      <th>1</th>\n",
              "      <td>2010-12-01</td>\n",
              "      <td>1</td>\n",
              "      <td>12347.0</td>\n",
              "      <td>2010-12-07 14:57:00</td>\n",
              "      <td>2010-12-01</td>\n",
              "      <td>711.79</td>\n",
              "      <td>1</td>\n",
              "      <td>1</td>\n",
              "      <td>1</td>\n",
              "    </tr>\n",
              "    <tr>\n",
              "      <th>951</th>\n",
              "      <td>2011-01-01</td>\n",
              "      <td>1</td>\n",
              "      <td>12347.0</td>\n",
              "      <td>2010-12-07 14:57:00</td>\n",
              "      <td>2010-12-01</td>\n",
              "      <td>475.39</td>\n",
              "      <td>1</td>\n",
              "      <td>0</td>\n",
              "      <td>1</td>\n",
              "    </tr>\n",
              "    <tr>\n",
              "      <th>2321</th>\n",
              "      <td>2011-02-01</td>\n",
              "      <td>1</td>\n",
              "      <td>12347.0</td>\n",
              "      <td>2010-12-07 14:57:00</td>\n",
              "      <td>2010-12-01</td>\n",
              "      <td>NaN</td>\n",
              "      <td>1</td>\n",
              "      <td>0</td>\n",
              "      <td>0</td>\n",
              "    </tr>\n",
              "    <tr>\n",
              "      <th>4071</th>\n",
              "      <td>2011-03-01</td>\n",
              "      <td>1</td>\n",
              "      <td>12347.0</td>\n",
              "      <td>2010-12-07 14:57:00</td>\n",
              "      <td>2010-12-01</td>\n",
              "      <td>NaN</td>\n",
              "      <td>1</td>\n",
              "      <td>0</td>\n",
              "      <td>0</td>\n",
              "    </tr>\n",
              "    <tr>\n",
              "      <th>6261</th>\n",
              "      <td>2011-04-01</td>\n",
              "      <td>1</td>\n",
              "      <td>12347.0</td>\n",
              "      <td>2010-12-07 14:57:00</td>\n",
              "      <td>2010-12-01</td>\n",
              "      <td>636.25</td>\n",
              "      <td>1</td>\n",
              "      <td>0</td>\n",
              "      <td>1</td>\n",
              "    </tr>\n",
              "    <tr>\n",
              "      <th>8750</th>\n",
              "      <td>2011-05-01</td>\n",
              "      <td>1</td>\n",
              "      <td>12347.0</td>\n",
              "      <td>2010-12-07 14:57:00</td>\n",
              "      <td>2010-12-01</td>\n",
              "      <td>NaN</td>\n",
              "      <td>1</td>\n",
              "      <td>0</td>\n",
              "      <td>0</td>\n",
              "    </tr>\n",
              "    <tr>\n",
              "      <th>11518</th>\n",
              "      <td>2011-06-01</td>\n",
              "      <td>1</td>\n",
              "      <td>12347.0</td>\n",
              "      <td>2010-12-07 14:57:00</td>\n",
              "      <td>2010-12-01</td>\n",
              "      <td>382.52</td>\n",
              "      <td>1</td>\n",
              "      <td>0</td>\n",
              "      <td>1</td>\n",
              "    </tr>\n",
              "    <tr>\n",
              "      <th>14521</th>\n",
              "      <td>2011-07-01</td>\n",
              "      <td>1</td>\n",
              "      <td>12347.0</td>\n",
              "      <td>2010-12-07 14:57:00</td>\n",
              "      <td>2010-12-01</td>\n",
              "      <td>NaN</td>\n",
              "      <td>1</td>\n",
              "      <td>0</td>\n",
              "      <td>0</td>\n",
              "    </tr>\n",
              "    <tr>\n",
              "      <th>17715</th>\n",
              "      <td>2011-08-01</td>\n",
              "      <td>1</td>\n",
              "      <td>12347.0</td>\n",
              "      <td>2010-12-07 14:57:00</td>\n",
              "      <td>2010-12-01</td>\n",
              "      <td>584.91</td>\n",
              "      <td>1</td>\n",
              "      <td>0</td>\n",
              "      <td>1</td>\n",
              "    </tr>\n",
              "    <tr>\n",
              "      <th>21076</th>\n",
              "      <td>2011-09-01</td>\n",
              "      <td>1</td>\n",
              "      <td>12347.0</td>\n",
              "      <td>2010-12-07 14:57:00</td>\n",
              "      <td>2010-12-01</td>\n",
              "      <td>NaN</td>\n",
              "      <td>1</td>\n",
              "      <td>0</td>\n",
              "      <td>0</td>\n",
              "    </tr>\n",
              "    <tr>\n",
              "      <th>24735</th>\n",
              "      <td>2011-10-01</td>\n",
              "      <td>1</td>\n",
              "      <td>12347.0</td>\n",
              "      <td>2010-12-07 14:57:00</td>\n",
              "      <td>2010-12-01</td>\n",
              "      <td>1294.32</td>\n",
              "      <td>1</td>\n",
              "      <td>0</td>\n",
              "      <td>1</td>\n",
              "    </tr>\n",
              "    <tr>\n",
              "      <th>28746</th>\n",
              "      <td>2011-11-01</td>\n",
              "      <td>1</td>\n",
              "      <td>12347.0</td>\n",
              "      <td>2010-12-07 14:57:00</td>\n",
              "      <td>2010-12-01</td>\n",
              "      <td>NaN</td>\n",
              "      <td>1</td>\n",
              "      <td>0</td>\n",
              "      <td>0</td>\n",
              "    </tr>\n",
              "    <tr>\n",
              "      <th>33078</th>\n",
              "      <td>2011-12-01</td>\n",
              "      <td>1</td>\n",
              "      <td>12347.0</td>\n",
              "      <td>2010-12-07 14:57:00</td>\n",
              "      <td>2010-12-01</td>\n",
              "      <td>224.82</td>\n",
              "      <td>1</td>\n",
              "      <td>0</td>\n",
              "      <td>1</td>\n",
              "    </tr>\n",
              "  </tbody>\n",
              "</table>\n",
              "</div>"
            ],
            "text/plain": [
              "           month  key  CustomerID  ... user new  active\n",
              "1     2010-12-01    1     12347.0  ...    1   1       1\n",
              "951   2011-01-01    1     12347.0  ...    1   0       1\n",
              "2321  2011-02-01    1     12347.0  ...    1   0       0\n",
              "4071  2011-03-01    1     12347.0  ...    1   0       0\n",
              "6261  2011-04-01    1     12347.0  ...    1   0       1\n",
              "8750  2011-05-01    1     12347.0  ...    1   0       0\n",
              "11518 2011-06-01    1     12347.0  ...    1   0       1\n",
              "14521 2011-07-01    1     12347.0  ...    1   0       0\n",
              "17715 2011-08-01    1     12347.0  ...    1   0       1\n",
              "21076 2011-09-01    1     12347.0  ...    1   0       0\n",
              "24735 2011-10-01    1     12347.0  ...    1   0       1\n",
              "28746 2011-11-01    1     12347.0  ...    1   0       0\n",
              "33078 2011-12-01    1     12347.0  ...    1   0       1\n",
              "\n",
              "[13 rows x 9 columns]"
            ]
          },
          "metadata": {
            "tags": []
          },
          "execution_count": 47
        }
      ]
    },
    {
      "cell_type": "markdown",
      "metadata": {
        "id": "Em-VNhf-Kuay",
        "colab_type": "text"
      },
      "source": [
        "For each customer I want to get a marker (or a flag) whether or not he was active in the previous month\n"
      ]
    },
    {
      "cell_type": "code",
      "metadata": {
        "id": "Ms-ZBwxsECpd",
        "colab_type": "code",
        "colab": {}
      },
      "source": [
        "report['active_prev'] = (report.sort_values(by=['month'], ascending=True)\n",
        "                       .groupby(['CustomerID'])['active'].shift(1))"
      ],
      "execution_count": 0,
      "outputs": []
    },
    {
      "cell_type": "markdown",
      "metadata": {
        "id": "YAL6Ylq6LZTx",
        "colab_type": "text"
      },
      "source": [
        "This hard stuff is something like a window function from sql. Because I have many customers I have to somehow say to pandas that they should be treated separately, so that's what groupby for. And also I want months to be in order, that's what sort_values for. Finally shift gives the value from the previous row (month in this case). Check it"
      ]
    },
    {
      "cell_type": "code",
      "metadata": {
        "id": "qGBeVLI8FAfq",
        "colab_type": "code",
        "outputId": "774243b6-7b3d-43f9-9796-855e5e63373a",
        "colab": {
          "base_uri": "https://localhost:8080/",
          "height": 452
        }
      },
      "source": [
        "report[report['CustomerID'] == 12347.0]"
      ],
      "execution_count": 0,
      "outputs": [
        {
          "output_type": "execute_result",
          "data": {
            "text/html": [
              "<div>\n",
              "<style scoped>\n",
              "    .dataframe tbody tr th:only-of-type {\n",
              "        vertical-align: middle;\n",
              "    }\n",
              "\n",
              "    .dataframe tbody tr th {\n",
              "        vertical-align: top;\n",
              "    }\n",
              "\n",
              "    .dataframe thead th {\n",
              "        text-align: right;\n",
              "    }\n",
              "</style>\n",
              "<table border=\"1\" class=\"dataframe\">\n",
              "  <thead>\n",
              "    <tr style=\"text-align: right;\">\n",
              "      <th></th>\n",
              "      <th>month</th>\n",
              "      <th>key</th>\n",
              "      <th>CustomerID</th>\n",
              "      <th>reg_date</th>\n",
              "      <th>reg_month</th>\n",
              "      <th>revenue</th>\n",
              "      <th>user</th>\n",
              "      <th>new</th>\n",
              "      <th>active</th>\n",
              "      <th>active_prev</th>\n",
              "    </tr>\n",
              "  </thead>\n",
              "  <tbody>\n",
              "    <tr>\n",
              "      <th>1</th>\n",
              "      <td>2010-12-01</td>\n",
              "      <td>1</td>\n",
              "      <td>12347.0</td>\n",
              "      <td>2010-12-07 14:57:00</td>\n",
              "      <td>2010-12-01</td>\n",
              "      <td>711.79</td>\n",
              "      <td>1</td>\n",
              "      <td>1</td>\n",
              "      <td>1</td>\n",
              "      <td>NaN</td>\n",
              "    </tr>\n",
              "    <tr>\n",
              "      <th>951</th>\n",
              "      <td>2011-01-01</td>\n",
              "      <td>1</td>\n",
              "      <td>12347.0</td>\n",
              "      <td>2010-12-07 14:57:00</td>\n",
              "      <td>2010-12-01</td>\n",
              "      <td>475.39</td>\n",
              "      <td>1</td>\n",
              "      <td>0</td>\n",
              "      <td>1</td>\n",
              "      <td>1.0</td>\n",
              "    </tr>\n",
              "    <tr>\n",
              "      <th>2321</th>\n",
              "      <td>2011-02-01</td>\n",
              "      <td>1</td>\n",
              "      <td>12347.0</td>\n",
              "      <td>2010-12-07 14:57:00</td>\n",
              "      <td>2010-12-01</td>\n",
              "      <td>NaN</td>\n",
              "      <td>1</td>\n",
              "      <td>0</td>\n",
              "      <td>0</td>\n",
              "      <td>1.0</td>\n",
              "    </tr>\n",
              "    <tr>\n",
              "      <th>4071</th>\n",
              "      <td>2011-03-01</td>\n",
              "      <td>1</td>\n",
              "      <td>12347.0</td>\n",
              "      <td>2010-12-07 14:57:00</td>\n",
              "      <td>2010-12-01</td>\n",
              "      <td>NaN</td>\n",
              "      <td>1</td>\n",
              "      <td>0</td>\n",
              "      <td>0</td>\n",
              "      <td>0.0</td>\n",
              "    </tr>\n",
              "    <tr>\n",
              "      <th>6261</th>\n",
              "      <td>2011-04-01</td>\n",
              "      <td>1</td>\n",
              "      <td>12347.0</td>\n",
              "      <td>2010-12-07 14:57:00</td>\n",
              "      <td>2010-12-01</td>\n",
              "      <td>636.25</td>\n",
              "      <td>1</td>\n",
              "      <td>0</td>\n",
              "      <td>1</td>\n",
              "      <td>0.0</td>\n",
              "    </tr>\n",
              "    <tr>\n",
              "      <th>8750</th>\n",
              "      <td>2011-05-01</td>\n",
              "      <td>1</td>\n",
              "      <td>12347.0</td>\n",
              "      <td>2010-12-07 14:57:00</td>\n",
              "      <td>2010-12-01</td>\n",
              "      <td>NaN</td>\n",
              "      <td>1</td>\n",
              "      <td>0</td>\n",
              "      <td>0</td>\n",
              "      <td>1.0</td>\n",
              "    </tr>\n",
              "    <tr>\n",
              "      <th>11518</th>\n",
              "      <td>2011-06-01</td>\n",
              "      <td>1</td>\n",
              "      <td>12347.0</td>\n",
              "      <td>2010-12-07 14:57:00</td>\n",
              "      <td>2010-12-01</td>\n",
              "      <td>382.52</td>\n",
              "      <td>1</td>\n",
              "      <td>0</td>\n",
              "      <td>1</td>\n",
              "      <td>0.0</td>\n",
              "    </tr>\n",
              "    <tr>\n",
              "      <th>14521</th>\n",
              "      <td>2011-07-01</td>\n",
              "      <td>1</td>\n",
              "      <td>12347.0</td>\n",
              "      <td>2010-12-07 14:57:00</td>\n",
              "      <td>2010-12-01</td>\n",
              "      <td>NaN</td>\n",
              "      <td>1</td>\n",
              "      <td>0</td>\n",
              "      <td>0</td>\n",
              "      <td>1.0</td>\n",
              "    </tr>\n",
              "    <tr>\n",
              "      <th>17715</th>\n",
              "      <td>2011-08-01</td>\n",
              "      <td>1</td>\n",
              "      <td>12347.0</td>\n",
              "      <td>2010-12-07 14:57:00</td>\n",
              "      <td>2010-12-01</td>\n",
              "      <td>584.91</td>\n",
              "      <td>1</td>\n",
              "      <td>0</td>\n",
              "      <td>1</td>\n",
              "      <td>0.0</td>\n",
              "    </tr>\n",
              "    <tr>\n",
              "      <th>21076</th>\n",
              "      <td>2011-09-01</td>\n",
              "      <td>1</td>\n",
              "      <td>12347.0</td>\n",
              "      <td>2010-12-07 14:57:00</td>\n",
              "      <td>2010-12-01</td>\n",
              "      <td>NaN</td>\n",
              "      <td>1</td>\n",
              "      <td>0</td>\n",
              "      <td>0</td>\n",
              "      <td>1.0</td>\n",
              "    </tr>\n",
              "    <tr>\n",
              "      <th>24735</th>\n",
              "      <td>2011-10-01</td>\n",
              "      <td>1</td>\n",
              "      <td>12347.0</td>\n",
              "      <td>2010-12-07 14:57:00</td>\n",
              "      <td>2010-12-01</td>\n",
              "      <td>1294.32</td>\n",
              "      <td>1</td>\n",
              "      <td>0</td>\n",
              "      <td>1</td>\n",
              "      <td>0.0</td>\n",
              "    </tr>\n",
              "    <tr>\n",
              "      <th>28746</th>\n",
              "      <td>2011-11-01</td>\n",
              "      <td>1</td>\n",
              "      <td>12347.0</td>\n",
              "      <td>2010-12-07 14:57:00</td>\n",
              "      <td>2010-12-01</td>\n",
              "      <td>NaN</td>\n",
              "      <td>1</td>\n",
              "      <td>0</td>\n",
              "      <td>0</td>\n",
              "      <td>1.0</td>\n",
              "    </tr>\n",
              "    <tr>\n",
              "      <th>33078</th>\n",
              "      <td>2011-12-01</td>\n",
              "      <td>1</td>\n",
              "      <td>12347.0</td>\n",
              "      <td>2010-12-07 14:57:00</td>\n",
              "      <td>2010-12-01</td>\n",
              "      <td>224.82</td>\n",
              "      <td>1</td>\n",
              "      <td>0</td>\n",
              "      <td>1</td>\n",
              "      <td>0.0</td>\n",
              "    </tr>\n",
              "  </tbody>\n",
              "</table>\n",
              "</div>"
            ],
            "text/plain": [
              "           month  key  CustomerID  ... new active  active_prev\n",
              "1     2010-12-01    1     12347.0  ...   1      1          NaN\n",
              "951   2011-01-01    1     12347.0  ...   0      1          1.0\n",
              "2321  2011-02-01    1     12347.0  ...   0      0          1.0\n",
              "4071  2011-03-01    1     12347.0  ...   0      0          0.0\n",
              "6261  2011-04-01    1     12347.0  ...   0      1          0.0\n",
              "8750  2011-05-01    1     12347.0  ...   0      0          1.0\n",
              "11518 2011-06-01    1     12347.0  ...   0      1          0.0\n",
              "14521 2011-07-01    1     12347.0  ...   0      0          1.0\n",
              "17715 2011-08-01    1     12347.0  ...   0      1          0.0\n",
              "21076 2011-09-01    1     12347.0  ...   0      0          1.0\n",
              "24735 2011-10-01    1     12347.0  ...   0      1          0.0\n",
              "28746 2011-11-01    1     12347.0  ...   0      0          1.0\n",
              "33078 2011-12-01    1     12347.0  ...   0      1          0.0\n",
              "\n",
              "[13 rows x 10 columns]"
            ]
          },
          "metadata": {
            "tags": []
          },
          "execution_count": 49
        }
      ]
    },
    {
      "cell_type": "markdown",
      "metadata": {
        "id": "2zI4K9fWL_zm",
        "colab_type": "text"
      },
      "source": [
        "Correct. Compare the active column with active_prev. Now I want to understand when customer go from active to inactive and vice versa"
      ]
    },
    {
      "cell_type": "code",
      "metadata": {
        "id": "vHpGONHHDOFl",
        "colab_type": "code",
        "colab": {}
      },
      "source": [
        "report['change_status'] = (report['active'] != report['active_prev']) * 1"
      ],
      "execution_count": 0,
      "outputs": []
    },
    {
      "cell_type": "code",
      "metadata": {
        "id": "GD3r5-unACjs",
        "colab_type": "code",
        "outputId": "0aee5b63-c790-4543-f4a2-12cfc1c1610a",
        "colab": {
          "base_uri": "https://localhost:8080/",
          "height": 452
        }
      },
      "source": [
        "report[report['CustomerID'] == 12347.0]"
      ],
      "execution_count": 0,
      "outputs": [
        {
          "output_type": "execute_result",
          "data": {
            "text/html": [
              "<div>\n",
              "<style scoped>\n",
              "    .dataframe tbody tr th:only-of-type {\n",
              "        vertical-align: middle;\n",
              "    }\n",
              "\n",
              "    .dataframe tbody tr th {\n",
              "        vertical-align: top;\n",
              "    }\n",
              "\n",
              "    .dataframe thead th {\n",
              "        text-align: right;\n",
              "    }\n",
              "</style>\n",
              "<table border=\"1\" class=\"dataframe\">\n",
              "  <thead>\n",
              "    <tr style=\"text-align: right;\">\n",
              "      <th></th>\n",
              "      <th>month</th>\n",
              "      <th>key</th>\n",
              "      <th>CustomerID</th>\n",
              "      <th>reg_date</th>\n",
              "      <th>reg_month</th>\n",
              "      <th>revenue</th>\n",
              "      <th>user</th>\n",
              "      <th>new</th>\n",
              "      <th>active</th>\n",
              "      <th>active_prev</th>\n",
              "      <th>change_status</th>\n",
              "    </tr>\n",
              "  </thead>\n",
              "  <tbody>\n",
              "    <tr>\n",
              "      <th>1</th>\n",
              "      <td>2010-12-01</td>\n",
              "      <td>1</td>\n",
              "      <td>12347.0</td>\n",
              "      <td>2010-12-07 14:57:00</td>\n",
              "      <td>2010-12-01</td>\n",
              "      <td>711.79</td>\n",
              "      <td>1</td>\n",
              "      <td>1</td>\n",
              "      <td>1</td>\n",
              "      <td>NaN</td>\n",
              "      <td>1</td>\n",
              "    </tr>\n",
              "    <tr>\n",
              "      <th>951</th>\n",
              "      <td>2011-01-01</td>\n",
              "      <td>1</td>\n",
              "      <td>12347.0</td>\n",
              "      <td>2010-12-07 14:57:00</td>\n",
              "      <td>2010-12-01</td>\n",
              "      <td>475.39</td>\n",
              "      <td>1</td>\n",
              "      <td>0</td>\n",
              "      <td>1</td>\n",
              "      <td>1.0</td>\n",
              "      <td>0</td>\n",
              "    </tr>\n",
              "    <tr>\n",
              "      <th>2321</th>\n",
              "      <td>2011-02-01</td>\n",
              "      <td>1</td>\n",
              "      <td>12347.0</td>\n",
              "      <td>2010-12-07 14:57:00</td>\n",
              "      <td>2010-12-01</td>\n",
              "      <td>NaN</td>\n",
              "      <td>1</td>\n",
              "      <td>0</td>\n",
              "      <td>0</td>\n",
              "      <td>1.0</td>\n",
              "      <td>1</td>\n",
              "    </tr>\n",
              "    <tr>\n",
              "      <th>4071</th>\n",
              "      <td>2011-03-01</td>\n",
              "      <td>1</td>\n",
              "      <td>12347.0</td>\n",
              "      <td>2010-12-07 14:57:00</td>\n",
              "      <td>2010-12-01</td>\n",
              "      <td>NaN</td>\n",
              "      <td>1</td>\n",
              "      <td>0</td>\n",
              "      <td>0</td>\n",
              "      <td>0.0</td>\n",
              "      <td>0</td>\n",
              "    </tr>\n",
              "    <tr>\n",
              "      <th>6261</th>\n",
              "      <td>2011-04-01</td>\n",
              "      <td>1</td>\n",
              "      <td>12347.0</td>\n",
              "      <td>2010-12-07 14:57:00</td>\n",
              "      <td>2010-12-01</td>\n",
              "      <td>636.25</td>\n",
              "      <td>1</td>\n",
              "      <td>0</td>\n",
              "      <td>1</td>\n",
              "      <td>0.0</td>\n",
              "      <td>1</td>\n",
              "    </tr>\n",
              "    <tr>\n",
              "      <th>8750</th>\n",
              "      <td>2011-05-01</td>\n",
              "      <td>1</td>\n",
              "      <td>12347.0</td>\n",
              "      <td>2010-12-07 14:57:00</td>\n",
              "      <td>2010-12-01</td>\n",
              "      <td>NaN</td>\n",
              "      <td>1</td>\n",
              "      <td>0</td>\n",
              "      <td>0</td>\n",
              "      <td>1.0</td>\n",
              "      <td>1</td>\n",
              "    </tr>\n",
              "    <tr>\n",
              "      <th>11518</th>\n",
              "      <td>2011-06-01</td>\n",
              "      <td>1</td>\n",
              "      <td>12347.0</td>\n",
              "      <td>2010-12-07 14:57:00</td>\n",
              "      <td>2010-12-01</td>\n",
              "      <td>382.52</td>\n",
              "      <td>1</td>\n",
              "      <td>0</td>\n",
              "      <td>1</td>\n",
              "      <td>0.0</td>\n",
              "      <td>1</td>\n",
              "    </tr>\n",
              "    <tr>\n",
              "      <th>14521</th>\n",
              "      <td>2011-07-01</td>\n",
              "      <td>1</td>\n",
              "      <td>12347.0</td>\n",
              "      <td>2010-12-07 14:57:00</td>\n",
              "      <td>2010-12-01</td>\n",
              "      <td>NaN</td>\n",
              "      <td>1</td>\n",
              "      <td>0</td>\n",
              "      <td>0</td>\n",
              "      <td>1.0</td>\n",
              "      <td>1</td>\n",
              "    </tr>\n",
              "    <tr>\n",
              "      <th>17715</th>\n",
              "      <td>2011-08-01</td>\n",
              "      <td>1</td>\n",
              "      <td>12347.0</td>\n",
              "      <td>2010-12-07 14:57:00</td>\n",
              "      <td>2010-12-01</td>\n",
              "      <td>584.91</td>\n",
              "      <td>1</td>\n",
              "      <td>0</td>\n",
              "      <td>1</td>\n",
              "      <td>0.0</td>\n",
              "      <td>1</td>\n",
              "    </tr>\n",
              "    <tr>\n",
              "      <th>21076</th>\n",
              "      <td>2011-09-01</td>\n",
              "      <td>1</td>\n",
              "      <td>12347.0</td>\n",
              "      <td>2010-12-07 14:57:00</td>\n",
              "      <td>2010-12-01</td>\n",
              "      <td>NaN</td>\n",
              "      <td>1</td>\n",
              "      <td>0</td>\n",
              "      <td>0</td>\n",
              "      <td>1.0</td>\n",
              "      <td>1</td>\n",
              "    </tr>\n",
              "    <tr>\n",
              "      <th>24735</th>\n",
              "      <td>2011-10-01</td>\n",
              "      <td>1</td>\n",
              "      <td>12347.0</td>\n",
              "      <td>2010-12-07 14:57:00</td>\n",
              "      <td>2010-12-01</td>\n",
              "      <td>1294.32</td>\n",
              "      <td>1</td>\n",
              "      <td>0</td>\n",
              "      <td>1</td>\n",
              "      <td>0.0</td>\n",
              "      <td>1</td>\n",
              "    </tr>\n",
              "    <tr>\n",
              "      <th>28746</th>\n",
              "      <td>2011-11-01</td>\n",
              "      <td>1</td>\n",
              "      <td>12347.0</td>\n",
              "      <td>2010-12-07 14:57:00</td>\n",
              "      <td>2010-12-01</td>\n",
              "      <td>NaN</td>\n",
              "      <td>1</td>\n",
              "      <td>0</td>\n",
              "      <td>0</td>\n",
              "      <td>1.0</td>\n",
              "      <td>1</td>\n",
              "    </tr>\n",
              "    <tr>\n",
              "      <th>33078</th>\n",
              "      <td>2011-12-01</td>\n",
              "      <td>1</td>\n",
              "      <td>12347.0</td>\n",
              "      <td>2010-12-07 14:57:00</td>\n",
              "      <td>2010-12-01</td>\n",
              "      <td>224.82</td>\n",
              "      <td>1</td>\n",
              "      <td>0</td>\n",
              "      <td>1</td>\n",
              "      <td>0.0</td>\n",
              "      <td>1</td>\n",
              "    </tr>\n",
              "  </tbody>\n",
              "</table>\n",
              "</div>"
            ],
            "text/plain": [
              "           month  key  CustomerID  ... active active_prev  change_status\n",
              "1     2010-12-01    1     12347.0  ...      1         NaN              1\n",
              "951   2011-01-01    1     12347.0  ...      1         1.0              0\n",
              "2321  2011-02-01    1     12347.0  ...      0         1.0              1\n",
              "4071  2011-03-01    1     12347.0  ...      0         0.0              0\n",
              "6261  2011-04-01    1     12347.0  ...      1         0.0              1\n",
              "8750  2011-05-01    1     12347.0  ...      0         1.0              1\n",
              "11518 2011-06-01    1     12347.0  ...      1         0.0              1\n",
              "14521 2011-07-01    1     12347.0  ...      0         1.0              1\n",
              "17715 2011-08-01    1     12347.0  ...      1         0.0              1\n",
              "21076 2011-09-01    1     12347.0  ...      0         1.0              1\n",
              "24735 2011-10-01    1     12347.0  ...      1         0.0              1\n",
              "28746 2011-11-01    1     12347.0  ...      0         1.0              1\n",
              "33078 2011-12-01    1     12347.0  ...      1         0.0              1\n",
              "\n",
              "[13 rows x 11 columns]"
            ]
          },
          "metadata": {
            "tags": []
          },
          "execution_count": 51
        }
      ]
    },
    {
      "cell_type": "markdown",
      "metadata": {
        "id": "HajrFJB0Mcmk",
        "colab_type": "text"
      },
      "source": [
        "Looks good. Next I want to assign some kind of id to each status change. And here is a very neat trick with cumulative sum. Look at the change_status column. If I perform a cumulative sum on this column I will get an increment each time the user changes status. That's what I want. And again I use this scary construction because I want pandas to treat each user separately."
      ]
    },
    {
      "cell_type": "code",
      "metadata": {
        "id": "m9lOZ_QjAiF-",
        "colab_type": "code",
        "colab": {}
      },
      "source": [
        "report['session_id'] = (report.sort_values(by=['month'], ascending=True)\n",
        "                       .groupby(['CustomerID'])['change_status'].cumsum())"
      ],
      "execution_count": 0,
      "outputs": []
    },
    {
      "cell_type": "code",
      "metadata": {
        "id": "A2EMigEhAwPA",
        "colab_type": "code",
        "outputId": "034f0bce-a0de-45fa-a2f3-93b29b183ea7",
        "colab": {
          "base_uri": "https://localhost:8080/",
          "height": 452
        }
      },
      "source": [
        "report[report['CustomerID'] == 12347.0]"
      ],
      "execution_count": 0,
      "outputs": [
        {
          "output_type": "execute_result",
          "data": {
            "text/html": [
              "<div>\n",
              "<style scoped>\n",
              "    .dataframe tbody tr th:only-of-type {\n",
              "        vertical-align: middle;\n",
              "    }\n",
              "\n",
              "    .dataframe tbody tr th {\n",
              "        vertical-align: top;\n",
              "    }\n",
              "\n",
              "    .dataframe thead th {\n",
              "        text-align: right;\n",
              "    }\n",
              "</style>\n",
              "<table border=\"1\" class=\"dataframe\">\n",
              "  <thead>\n",
              "    <tr style=\"text-align: right;\">\n",
              "      <th></th>\n",
              "      <th>month</th>\n",
              "      <th>key</th>\n",
              "      <th>CustomerID</th>\n",
              "      <th>reg_date</th>\n",
              "      <th>reg_month</th>\n",
              "      <th>revenue</th>\n",
              "      <th>user</th>\n",
              "      <th>new</th>\n",
              "      <th>active</th>\n",
              "      <th>active_prev</th>\n",
              "      <th>change_status</th>\n",
              "      <th>session_id</th>\n",
              "    </tr>\n",
              "  </thead>\n",
              "  <tbody>\n",
              "    <tr>\n",
              "      <th>1</th>\n",
              "      <td>2010-12-01</td>\n",
              "      <td>1</td>\n",
              "      <td>12347.0</td>\n",
              "      <td>2010-12-07 14:57:00</td>\n",
              "      <td>2010-12-01</td>\n",
              "      <td>711.79</td>\n",
              "      <td>1</td>\n",
              "      <td>1</td>\n",
              "      <td>1</td>\n",
              "      <td>NaN</td>\n",
              "      <td>1</td>\n",
              "      <td>1</td>\n",
              "    </tr>\n",
              "    <tr>\n",
              "      <th>951</th>\n",
              "      <td>2011-01-01</td>\n",
              "      <td>1</td>\n",
              "      <td>12347.0</td>\n",
              "      <td>2010-12-07 14:57:00</td>\n",
              "      <td>2010-12-01</td>\n",
              "      <td>475.39</td>\n",
              "      <td>1</td>\n",
              "      <td>0</td>\n",
              "      <td>1</td>\n",
              "      <td>1.0</td>\n",
              "      <td>0</td>\n",
              "      <td>1</td>\n",
              "    </tr>\n",
              "    <tr>\n",
              "      <th>2321</th>\n",
              "      <td>2011-02-01</td>\n",
              "      <td>1</td>\n",
              "      <td>12347.0</td>\n",
              "      <td>2010-12-07 14:57:00</td>\n",
              "      <td>2010-12-01</td>\n",
              "      <td>NaN</td>\n",
              "      <td>1</td>\n",
              "      <td>0</td>\n",
              "      <td>0</td>\n",
              "      <td>1.0</td>\n",
              "      <td>1</td>\n",
              "      <td>2</td>\n",
              "    </tr>\n",
              "    <tr>\n",
              "      <th>4071</th>\n",
              "      <td>2011-03-01</td>\n",
              "      <td>1</td>\n",
              "      <td>12347.0</td>\n",
              "      <td>2010-12-07 14:57:00</td>\n",
              "      <td>2010-12-01</td>\n",
              "      <td>NaN</td>\n",
              "      <td>1</td>\n",
              "      <td>0</td>\n",
              "      <td>0</td>\n",
              "      <td>0.0</td>\n",
              "      <td>0</td>\n",
              "      <td>2</td>\n",
              "    </tr>\n",
              "    <tr>\n",
              "      <th>6261</th>\n",
              "      <td>2011-04-01</td>\n",
              "      <td>1</td>\n",
              "      <td>12347.0</td>\n",
              "      <td>2010-12-07 14:57:00</td>\n",
              "      <td>2010-12-01</td>\n",
              "      <td>636.25</td>\n",
              "      <td>1</td>\n",
              "      <td>0</td>\n",
              "      <td>1</td>\n",
              "      <td>0.0</td>\n",
              "      <td>1</td>\n",
              "      <td>3</td>\n",
              "    </tr>\n",
              "    <tr>\n",
              "      <th>8750</th>\n",
              "      <td>2011-05-01</td>\n",
              "      <td>1</td>\n",
              "      <td>12347.0</td>\n",
              "      <td>2010-12-07 14:57:00</td>\n",
              "      <td>2010-12-01</td>\n",
              "      <td>NaN</td>\n",
              "      <td>1</td>\n",
              "      <td>0</td>\n",
              "      <td>0</td>\n",
              "      <td>1.0</td>\n",
              "      <td>1</td>\n",
              "      <td>4</td>\n",
              "    </tr>\n",
              "    <tr>\n",
              "      <th>11518</th>\n",
              "      <td>2011-06-01</td>\n",
              "      <td>1</td>\n",
              "      <td>12347.0</td>\n",
              "      <td>2010-12-07 14:57:00</td>\n",
              "      <td>2010-12-01</td>\n",
              "      <td>382.52</td>\n",
              "      <td>1</td>\n",
              "      <td>0</td>\n",
              "      <td>1</td>\n",
              "      <td>0.0</td>\n",
              "      <td>1</td>\n",
              "      <td>5</td>\n",
              "    </tr>\n",
              "    <tr>\n",
              "      <th>14521</th>\n",
              "      <td>2011-07-01</td>\n",
              "      <td>1</td>\n",
              "      <td>12347.0</td>\n",
              "      <td>2010-12-07 14:57:00</td>\n",
              "      <td>2010-12-01</td>\n",
              "      <td>NaN</td>\n",
              "      <td>1</td>\n",
              "      <td>0</td>\n",
              "      <td>0</td>\n",
              "      <td>1.0</td>\n",
              "      <td>1</td>\n",
              "      <td>6</td>\n",
              "    </tr>\n",
              "    <tr>\n",
              "      <th>17715</th>\n",
              "      <td>2011-08-01</td>\n",
              "      <td>1</td>\n",
              "      <td>12347.0</td>\n",
              "      <td>2010-12-07 14:57:00</td>\n",
              "      <td>2010-12-01</td>\n",
              "      <td>584.91</td>\n",
              "      <td>1</td>\n",
              "      <td>0</td>\n",
              "      <td>1</td>\n",
              "      <td>0.0</td>\n",
              "      <td>1</td>\n",
              "      <td>7</td>\n",
              "    </tr>\n",
              "    <tr>\n",
              "      <th>21076</th>\n",
              "      <td>2011-09-01</td>\n",
              "      <td>1</td>\n",
              "      <td>12347.0</td>\n",
              "      <td>2010-12-07 14:57:00</td>\n",
              "      <td>2010-12-01</td>\n",
              "      <td>NaN</td>\n",
              "      <td>1</td>\n",
              "      <td>0</td>\n",
              "      <td>0</td>\n",
              "      <td>1.0</td>\n",
              "      <td>1</td>\n",
              "      <td>8</td>\n",
              "    </tr>\n",
              "    <tr>\n",
              "      <th>24735</th>\n",
              "      <td>2011-10-01</td>\n",
              "      <td>1</td>\n",
              "      <td>12347.0</td>\n",
              "      <td>2010-12-07 14:57:00</td>\n",
              "      <td>2010-12-01</td>\n",
              "      <td>1294.32</td>\n",
              "      <td>1</td>\n",
              "      <td>0</td>\n",
              "      <td>1</td>\n",
              "      <td>0.0</td>\n",
              "      <td>1</td>\n",
              "      <td>9</td>\n",
              "    </tr>\n",
              "    <tr>\n",
              "      <th>28746</th>\n",
              "      <td>2011-11-01</td>\n",
              "      <td>1</td>\n",
              "      <td>12347.0</td>\n",
              "      <td>2010-12-07 14:57:00</td>\n",
              "      <td>2010-12-01</td>\n",
              "      <td>NaN</td>\n",
              "      <td>1</td>\n",
              "      <td>0</td>\n",
              "      <td>0</td>\n",
              "      <td>1.0</td>\n",
              "      <td>1</td>\n",
              "      <td>10</td>\n",
              "    </tr>\n",
              "    <tr>\n",
              "      <th>33078</th>\n",
              "      <td>2011-12-01</td>\n",
              "      <td>1</td>\n",
              "      <td>12347.0</td>\n",
              "      <td>2010-12-07 14:57:00</td>\n",
              "      <td>2010-12-01</td>\n",
              "      <td>224.82</td>\n",
              "      <td>1</td>\n",
              "      <td>0</td>\n",
              "      <td>1</td>\n",
              "      <td>0.0</td>\n",
              "      <td>1</td>\n",
              "      <td>11</td>\n",
              "    </tr>\n",
              "  </tbody>\n",
              "</table>\n",
              "</div>"
            ],
            "text/plain": [
              "           month  key  CustomerID  ... active_prev change_status  session_id\n",
              "1     2010-12-01    1     12347.0  ...         NaN             1           1\n",
              "951   2011-01-01    1     12347.0  ...         1.0             0           1\n",
              "2321  2011-02-01    1     12347.0  ...         1.0             1           2\n",
              "4071  2011-03-01    1     12347.0  ...         0.0             0           2\n",
              "6261  2011-04-01    1     12347.0  ...         0.0             1           3\n",
              "8750  2011-05-01    1     12347.0  ...         1.0             1           4\n",
              "11518 2011-06-01    1     12347.0  ...         0.0             1           5\n",
              "14521 2011-07-01    1     12347.0  ...         1.0             1           6\n",
              "17715 2011-08-01    1     12347.0  ...         0.0             1           7\n",
              "21076 2011-09-01    1     12347.0  ...         1.0             1           8\n",
              "24735 2011-10-01    1     12347.0  ...         0.0             1           9\n",
              "28746 2011-11-01    1     12347.0  ...         1.0             1          10\n",
              "33078 2011-12-01    1     12347.0  ...         0.0             1          11\n",
              "\n",
              "[13 rows x 12 columns]"
            ]
          },
          "metadata": {
            "tags": []
          },
          "execution_count": 53
        }
      ]
    },
    {
      "cell_type": "markdown",
      "metadata": {
        "id": "fvfkQLdGNOdJ",
        "colab_type": "text"
      },
      "source": [
        "It's perfect. Find a session with id 2. Can you see that it is the session where the user was inactive for two months? Now I can sum up the number of inactive months per user and per each session."
      ]
    },
    {
      "cell_type": "code",
      "metadata": {
        "id": "496cRBVX_q9P",
        "colab_type": "code",
        "colab": {}
      },
      "source": [
        "report['inactive'] = (report['active'] == 0) * 1"
      ],
      "execution_count": 0,
      "outputs": []
    },
    {
      "cell_type": "code",
      "metadata": {
        "id": "hbHqMMMOBteU",
        "colab_type": "code",
        "colab": {}
      },
      "source": [
        "report['month_inactive'] = (report.sort_values(by=['month'], ascending=True)\n",
        "                       .groupby(['CustomerID','session_id'])['inactive'].cumsum())"
      ],
      "execution_count": 0,
      "outputs": []
    },
    {
      "cell_type": "markdown",
      "metadata": {
        "id": "QWKTDlzLN4x8",
        "colab_type": "text"
      },
      "source": [
        "Look at row number 4 (with index of 4067). In the month_inactive column we get the correct number of months the customer was inactive. Check it with your eyes. And it's correct for the whole table)."
      ]
    },
    {
      "cell_type": "code",
      "metadata": {
        "id": "V3IAj2EGB42q",
        "colab_type": "code",
        "outputId": "110eefea-8ace-4848-e3c6-1f45205ec6b3",
        "colab": {
          "base_uri": "https://localhost:8080/",
          "height": 452
        }
      },
      "source": [
        "report[report['CustomerID'] == 12347.0]"
      ],
      "execution_count": 0,
      "outputs": [
        {
          "output_type": "execute_result",
          "data": {
            "text/html": [
              "<div>\n",
              "<style scoped>\n",
              "    .dataframe tbody tr th:only-of-type {\n",
              "        vertical-align: middle;\n",
              "    }\n",
              "\n",
              "    .dataframe tbody tr th {\n",
              "        vertical-align: top;\n",
              "    }\n",
              "\n",
              "    .dataframe thead th {\n",
              "        text-align: right;\n",
              "    }\n",
              "</style>\n",
              "<table border=\"1\" class=\"dataframe\">\n",
              "  <thead>\n",
              "    <tr style=\"text-align: right;\">\n",
              "      <th></th>\n",
              "      <th>month</th>\n",
              "      <th>key</th>\n",
              "      <th>CustomerID</th>\n",
              "      <th>reg_date</th>\n",
              "      <th>reg_month</th>\n",
              "      <th>revenue</th>\n",
              "      <th>user</th>\n",
              "      <th>new</th>\n",
              "      <th>active</th>\n",
              "      <th>active_prev</th>\n",
              "      <th>change_status</th>\n",
              "      <th>session_id</th>\n",
              "      <th>inactive</th>\n",
              "      <th>month_inactive</th>\n",
              "    </tr>\n",
              "  </thead>\n",
              "  <tbody>\n",
              "    <tr>\n",
              "      <th>1</th>\n",
              "      <td>2010-12-01</td>\n",
              "      <td>1</td>\n",
              "      <td>12347.0</td>\n",
              "      <td>2010-12-07 14:57:00</td>\n",
              "      <td>2010-12-01</td>\n",
              "      <td>711.79</td>\n",
              "      <td>1</td>\n",
              "      <td>1</td>\n",
              "      <td>1</td>\n",
              "      <td>NaN</td>\n",
              "      <td>1</td>\n",
              "      <td>1</td>\n",
              "      <td>0</td>\n",
              "      <td>0</td>\n",
              "    </tr>\n",
              "    <tr>\n",
              "      <th>951</th>\n",
              "      <td>2011-01-01</td>\n",
              "      <td>1</td>\n",
              "      <td>12347.0</td>\n",
              "      <td>2010-12-07 14:57:00</td>\n",
              "      <td>2010-12-01</td>\n",
              "      <td>475.39</td>\n",
              "      <td>1</td>\n",
              "      <td>0</td>\n",
              "      <td>1</td>\n",
              "      <td>1.0</td>\n",
              "      <td>0</td>\n",
              "      <td>1</td>\n",
              "      <td>0</td>\n",
              "      <td>0</td>\n",
              "    </tr>\n",
              "    <tr>\n",
              "      <th>2321</th>\n",
              "      <td>2011-02-01</td>\n",
              "      <td>1</td>\n",
              "      <td>12347.0</td>\n",
              "      <td>2010-12-07 14:57:00</td>\n",
              "      <td>2010-12-01</td>\n",
              "      <td>NaN</td>\n",
              "      <td>1</td>\n",
              "      <td>0</td>\n",
              "      <td>0</td>\n",
              "      <td>1.0</td>\n",
              "      <td>1</td>\n",
              "      <td>2</td>\n",
              "      <td>1</td>\n",
              "      <td>1</td>\n",
              "    </tr>\n",
              "    <tr>\n",
              "      <th>4071</th>\n",
              "      <td>2011-03-01</td>\n",
              "      <td>1</td>\n",
              "      <td>12347.0</td>\n",
              "      <td>2010-12-07 14:57:00</td>\n",
              "      <td>2010-12-01</td>\n",
              "      <td>NaN</td>\n",
              "      <td>1</td>\n",
              "      <td>0</td>\n",
              "      <td>0</td>\n",
              "      <td>0.0</td>\n",
              "      <td>0</td>\n",
              "      <td>2</td>\n",
              "      <td>1</td>\n",
              "      <td>2</td>\n",
              "    </tr>\n",
              "    <tr>\n",
              "      <th>6261</th>\n",
              "      <td>2011-04-01</td>\n",
              "      <td>1</td>\n",
              "      <td>12347.0</td>\n",
              "      <td>2010-12-07 14:57:00</td>\n",
              "      <td>2010-12-01</td>\n",
              "      <td>636.25</td>\n",
              "      <td>1</td>\n",
              "      <td>0</td>\n",
              "      <td>1</td>\n",
              "      <td>0.0</td>\n",
              "      <td>1</td>\n",
              "      <td>3</td>\n",
              "      <td>0</td>\n",
              "      <td>0</td>\n",
              "    </tr>\n",
              "    <tr>\n",
              "      <th>8750</th>\n",
              "      <td>2011-05-01</td>\n",
              "      <td>1</td>\n",
              "      <td>12347.0</td>\n",
              "      <td>2010-12-07 14:57:00</td>\n",
              "      <td>2010-12-01</td>\n",
              "      <td>NaN</td>\n",
              "      <td>1</td>\n",
              "      <td>0</td>\n",
              "      <td>0</td>\n",
              "      <td>1.0</td>\n",
              "      <td>1</td>\n",
              "      <td>4</td>\n",
              "      <td>1</td>\n",
              "      <td>1</td>\n",
              "    </tr>\n",
              "    <tr>\n",
              "      <th>11518</th>\n",
              "      <td>2011-06-01</td>\n",
              "      <td>1</td>\n",
              "      <td>12347.0</td>\n",
              "      <td>2010-12-07 14:57:00</td>\n",
              "      <td>2010-12-01</td>\n",
              "      <td>382.52</td>\n",
              "      <td>1</td>\n",
              "      <td>0</td>\n",
              "      <td>1</td>\n",
              "      <td>0.0</td>\n",
              "      <td>1</td>\n",
              "      <td>5</td>\n",
              "      <td>0</td>\n",
              "      <td>0</td>\n",
              "    </tr>\n",
              "    <tr>\n",
              "      <th>14521</th>\n",
              "      <td>2011-07-01</td>\n",
              "      <td>1</td>\n",
              "      <td>12347.0</td>\n",
              "      <td>2010-12-07 14:57:00</td>\n",
              "      <td>2010-12-01</td>\n",
              "      <td>NaN</td>\n",
              "      <td>1</td>\n",
              "      <td>0</td>\n",
              "      <td>0</td>\n",
              "      <td>1.0</td>\n",
              "      <td>1</td>\n",
              "      <td>6</td>\n",
              "      <td>1</td>\n",
              "      <td>1</td>\n",
              "    </tr>\n",
              "    <tr>\n",
              "      <th>17715</th>\n",
              "      <td>2011-08-01</td>\n",
              "      <td>1</td>\n",
              "      <td>12347.0</td>\n",
              "      <td>2010-12-07 14:57:00</td>\n",
              "      <td>2010-12-01</td>\n",
              "      <td>584.91</td>\n",
              "      <td>1</td>\n",
              "      <td>0</td>\n",
              "      <td>1</td>\n",
              "      <td>0.0</td>\n",
              "      <td>1</td>\n",
              "      <td>7</td>\n",
              "      <td>0</td>\n",
              "      <td>0</td>\n",
              "    </tr>\n",
              "    <tr>\n",
              "      <th>21076</th>\n",
              "      <td>2011-09-01</td>\n",
              "      <td>1</td>\n",
              "      <td>12347.0</td>\n",
              "      <td>2010-12-07 14:57:00</td>\n",
              "      <td>2010-12-01</td>\n",
              "      <td>NaN</td>\n",
              "      <td>1</td>\n",
              "      <td>0</td>\n",
              "      <td>0</td>\n",
              "      <td>1.0</td>\n",
              "      <td>1</td>\n",
              "      <td>8</td>\n",
              "      <td>1</td>\n",
              "      <td>1</td>\n",
              "    </tr>\n",
              "    <tr>\n",
              "      <th>24735</th>\n",
              "      <td>2011-10-01</td>\n",
              "      <td>1</td>\n",
              "      <td>12347.0</td>\n",
              "      <td>2010-12-07 14:57:00</td>\n",
              "      <td>2010-12-01</td>\n",
              "      <td>1294.32</td>\n",
              "      <td>1</td>\n",
              "      <td>0</td>\n",
              "      <td>1</td>\n",
              "      <td>0.0</td>\n",
              "      <td>1</td>\n",
              "      <td>9</td>\n",
              "      <td>0</td>\n",
              "      <td>0</td>\n",
              "    </tr>\n",
              "    <tr>\n",
              "      <th>28746</th>\n",
              "      <td>2011-11-01</td>\n",
              "      <td>1</td>\n",
              "      <td>12347.0</td>\n",
              "      <td>2010-12-07 14:57:00</td>\n",
              "      <td>2010-12-01</td>\n",
              "      <td>NaN</td>\n",
              "      <td>1</td>\n",
              "      <td>0</td>\n",
              "      <td>0</td>\n",
              "      <td>1.0</td>\n",
              "      <td>1</td>\n",
              "      <td>10</td>\n",
              "      <td>1</td>\n",
              "      <td>1</td>\n",
              "    </tr>\n",
              "    <tr>\n",
              "      <th>33078</th>\n",
              "      <td>2011-12-01</td>\n",
              "      <td>1</td>\n",
              "      <td>12347.0</td>\n",
              "      <td>2010-12-07 14:57:00</td>\n",
              "      <td>2010-12-01</td>\n",
              "      <td>224.82</td>\n",
              "      <td>1</td>\n",
              "      <td>0</td>\n",
              "      <td>1</td>\n",
              "      <td>0.0</td>\n",
              "      <td>1</td>\n",
              "      <td>11</td>\n",
              "      <td>0</td>\n",
              "      <td>0</td>\n",
              "    </tr>\n",
              "  </tbody>\n",
              "</table>\n",
              "</div>"
            ],
            "text/plain": [
              "           month  key  CustomerID  ... session_id inactive  month_inactive\n",
              "1     2010-12-01    1     12347.0  ...          1        0               0\n",
              "951   2011-01-01    1     12347.0  ...          1        0               0\n",
              "2321  2011-02-01    1     12347.0  ...          2        1               1\n",
              "4071  2011-03-01    1     12347.0  ...          2        1               2\n",
              "6261  2011-04-01    1     12347.0  ...          3        0               0\n",
              "8750  2011-05-01    1     12347.0  ...          4        1               1\n",
              "11518 2011-06-01    1     12347.0  ...          5        0               0\n",
              "14521 2011-07-01    1     12347.0  ...          6        1               1\n",
              "17715 2011-08-01    1     12347.0  ...          7        0               0\n",
              "21076 2011-09-01    1     12347.0  ...          8        1               1\n",
              "24735 2011-10-01    1     12347.0  ...          9        0               0\n",
              "28746 2011-11-01    1     12347.0  ...         10        1               1\n",
              "33078 2011-12-01    1     12347.0  ...         11        0               0\n",
              "\n",
              "[13 rows x 14 columns]"
            ]
          },
          "metadata": {
            "tags": []
          },
          "execution_count": 56
        }
      ]
    },
    {
      "cell_type": "markdown",
      "metadata": {
        "id": "c2ondAJcN28q",
        "colab_type": "text"
      },
      "source": [
        "Now let's calculate the metric. Say's number of users who has been in churn for two or more months"
      ]
    },
    {
      "cell_type": "code",
      "metadata": {
        "id": "Tvp-T9jTG2al",
        "colab_type": "code",
        "colab": {}
      },
      "source": [
        "report['churn_2m'] = (report['month_inactive'] >= 2) * 1"
      ],
      "execution_count": 0,
      "outputs": []
    },
    {
      "cell_type": "code",
      "metadata": {
        "id": "pBXdhN3AHD-j",
        "colab_type": "code",
        "outputId": "da8d6ab4-7cd2-40a2-a86f-01ce24e7e23b",
        "colab": {
          "base_uri": "https://localhost:8080/",
          "height": 673
        }
      },
      "source": [
        "report[report['CustomerID'] == 12347.0]"
      ],
      "execution_count": 0,
      "outputs": [
        {
          "output_type": "execute_result",
          "data": {
            "text/html": [
              "<div>\n",
              "<style scoped>\n",
              "    .dataframe tbody tr th:only-of-type {\n",
              "        vertical-align: middle;\n",
              "    }\n",
              "\n",
              "    .dataframe tbody tr th {\n",
              "        vertical-align: top;\n",
              "    }\n",
              "\n",
              "    .dataframe thead th {\n",
              "        text-align: right;\n",
              "    }\n",
              "</style>\n",
              "<table border=\"1\" class=\"dataframe\">\n",
              "  <thead>\n",
              "    <tr style=\"text-align: right;\">\n",
              "      <th></th>\n",
              "      <th>month</th>\n",
              "      <th>key</th>\n",
              "      <th>CustomerID</th>\n",
              "      <th>reg_date</th>\n",
              "      <th>reg_month</th>\n",
              "      <th>revenue</th>\n",
              "      <th>user</th>\n",
              "      <th>new</th>\n",
              "      <th>active</th>\n",
              "      <th>active_prev</th>\n",
              "      <th>change_status</th>\n",
              "      <th>session_id</th>\n",
              "      <th>inactive</th>\n",
              "      <th>month_inactive</th>\n",
              "      <th>churn_2m</th>\n",
              "    </tr>\n",
              "  </thead>\n",
              "  <tbody>\n",
              "    <tr>\n",
              "      <th>1</th>\n",
              "      <td>2010-12-01</td>\n",
              "      <td>1</td>\n",
              "      <td>12347.0</td>\n",
              "      <td>2010-12-07 14:57:00</td>\n",
              "      <td>2010-12-01</td>\n",
              "      <td>711.79</td>\n",
              "      <td>1</td>\n",
              "      <td>1</td>\n",
              "      <td>1</td>\n",
              "      <td>NaN</td>\n",
              "      <td>1</td>\n",
              "      <td>1</td>\n",
              "      <td>0</td>\n",
              "      <td>0</td>\n",
              "      <td>0</td>\n",
              "    </tr>\n",
              "    <tr>\n",
              "      <th>951</th>\n",
              "      <td>2011-01-01</td>\n",
              "      <td>1</td>\n",
              "      <td>12347.0</td>\n",
              "      <td>2010-12-07 14:57:00</td>\n",
              "      <td>2010-12-01</td>\n",
              "      <td>475.39</td>\n",
              "      <td>1</td>\n",
              "      <td>0</td>\n",
              "      <td>1</td>\n",
              "      <td>1.0</td>\n",
              "      <td>0</td>\n",
              "      <td>1</td>\n",
              "      <td>0</td>\n",
              "      <td>0</td>\n",
              "      <td>0</td>\n",
              "    </tr>\n",
              "    <tr>\n",
              "      <th>2321</th>\n",
              "      <td>2011-02-01</td>\n",
              "      <td>1</td>\n",
              "      <td>12347.0</td>\n",
              "      <td>2010-12-07 14:57:00</td>\n",
              "      <td>2010-12-01</td>\n",
              "      <td>NaN</td>\n",
              "      <td>1</td>\n",
              "      <td>0</td>\n",
              "      <td>0</td>\n",
              "      <td>1.0</td>\n",
              "      <td>1</td>\n",
              "      <td>2</td>\n",
              "      <td>1</td>\n",
              "      <td>1</td>\n",
              "      <td>0</td>\n",
              "    </tr>\n",
              "    <tr>\n",
              "      <th>4071</th>\n",
              "      <td>2011-03-01</td>\n",
              "      <td>1</td>\n",
              "      <td>12347.0</td>\n",
              "      <td>2010-12-07 14:57:00</td>\n",
              "      <td>2010-12-01</td>\n",
              "      <td>NaN</td>\n",
              "      <td>1</td>\n",
              "      <td>0</td>\n",
              "      <td>0</td>\n",
              "      <td>0.0</td>\n",
              "      <td>0</td>\n",
              "      <td>2</td>\n",
              "      <td>1</td>\n",
              "      <td>2</td>\n",
              "      <td>1</td>\n",
              "    </tr>\n",
              "    <tr>\n",
              "      <th>6261</th>\n",
              "      <td>2011-04-01</td>\n",
              "      <td>1</td>\n",
              "      <td>12347.0</td>\n",
              "      <td>2010-12-07 14:57:00</td>\n",
              "      <td>2010-12-01</td>\n",
              "      <td>636.25</td>\n",
              "      <td>1</td>\n",
              "      <td>0</td>\n",
              "      <td>1</td>\n",
              "      <td>0.0</td>\n",
              "      <td>1</td>\n",
              "      <td>3</td>\n",
              "      <td>0</td>\n",
              "      <td>0</td>\n",
              "      <td>0</td>\n",
              "    </tr>\n",
              "    <tr>\n",
              "      <th>8750</th>\n",
              "      <td>2011-05-01</td>\n",
              "      <td>1</td>\n",
              "      <td>12347.0</td>\n",
              "      <td>2010-12-07 14:57:00</td>\n",
              "      <td>2010-12-01</td>\n",
              "      <td>NaN</td>\n",
              "      <td>1</td>\n",
              "      <td>0</td>\n",
              "      <td>0</td>\n",
              "      <td>1.0</td>\n",
              "      <td>1</td>\n",
              "      <td>4</td>\n",
              "      <td>1</td>\n",
              "      <td>1</td>\n",
              "      <td>0</td>\n",
              "    </tr>\n",
              "    <tr>\n",
              "      <th>11518</th>\n",
              "      <td>2011-06-01</td>\n",
              "      <td>1</td>\n",
              "      <td>12347.0</td>\n",
              "      <td>2010-12-07 14:57:00</td>\n",
              "      <td>2010-12-01</td>\n",
              "      <td>382.52</td>\n",
              "      <td>1</td>\n",
              "      <td>0</td>\n",
              "      <td>1</td>\n",
              "      <td>0.0</td>\n",
              "      <td>1</td>\n",
              "      <td>5</td>\n",
              "      <td>0</td>\n",
              "      <td>0</td>\n",
              "      <td>0</td>\n",
              "    </tr>\n",
              "    <tr>\n",
              "      <th>14521</th>\n",
              "      <td>2011-07-01</td>\n",
              "      <td>1</td>\n",
              "      <td>12347.0</td>\n",
              "      <td>2010-12-07 14:57:00</td>\n",
              "      <td>2010-12-01</td>\n",
              "      <td>NaN</td>\n",
              "      <td>1</td>\n",
              "      <td>0</td>\n",
              "      <td>0</td>\n",
              "      <td>1.0</td>\n",
              "      <td>1</td>\n",
              "      <td>6</td>\n",
              "      <td>1</td>\n",
              "      <td>1</td>\n",
              "      <td>0</td>\n",
              "    </tr>\n",
              "    <tr>\n",
              "      <th>17715</th>\n",
              "      <td>2011-08-01</td>\n",
              "      <td>1</td>\n",
              "      <td>12347.0</td>\n",
              "      <td>2010-12-07 14:57:00</td>\n",
              "      <td>2010-12-01</td>\n",
              "      <td>584.91</td>\n",
              "      <td>1</td>\n",
              "      <td>0</td>\n",
              "      <td>1</td>\n",
              "      <td>0.0</td>\n",
              "      <td>1</td>\n",
              "      <td>7</td>\n",
              "      <td>0</td>\n",
              "      <td>0</td>\n",
              "      <td>0</td>\n",
              "    </tr>\n",
              "    <tr>\n",
              "      <th>21076</th>\n",
              "      <td>2011-09-01</td>\n",
              "      <td>1</td>\n",
              "      <td>12347.0</td>\n",
              "      <td>2010-12-07 14:57:00</td>\n",
              "      <td>2010-12-01</td>\n",
              "      <td>NaN</td>\n",
              "      <td>1</td>\n",
              "      <td>0</td>\n",
              "      <td>0</td>\n",
              "      <td>1.0</td>\n",
              "      <td>1</td>\n",
              "      <td>8</td>\n",
              "      <td>1</td>\n",
              "      <td>1</td>\n",
              "      <td>0</td>\n",
              "    </tr>\n",
              "    <tr>\n",
              "      <th>24735</th>\n",
              "      <td>2011-10-01</td>\n",
              "      <td>1</td>\n",
              "      <td>12347.0</td>\n",
              "      <td>2010-12-07 14:57:00</td>\n",
              "      <td>2010-12-01</td>\n",
              "      <td>1294.32</td>\n",
              "      <td>1</td>\n",
              "      <td>0</td>\n",
              "      <td>1</td>\n",
              "      <td>0.0</td>\n",
              "      <td>1</td>\n",
              "      <td>9</td>\n",
              "      <td>0</td>\n",
              "      <td>0</td>\n",
              "      <td>0</td>\n",
              "    </tr>\n",
              "    <tr>\n",
              "      <th>28746</th>\n",
              "      <td>2011-11-01</td>\n",
              "      <td>1</td>\n",
              "      <td>12347.0</td>\n",
              "      <td>2010-12-07 14:57:00</td>\n",
              "      <td>2010-12-01</td>\n",
              "      <td>NaN</td>\n",
              "      <td>1</td>\n",
              "      <td>0</td>\n",
              "      <td>0</td>\n",
              "      <td>1.0</td>\n",
              "      <td>1</td>\n",
              "      <td>10</td>\n",
              "      <td>1</td>\n",
              "      <td>1</td>\n",
              "      <td>0</td>\n",
              "    </tr>\n",
              "    <tr>\n",
              "      <th>33078</th>\n",
              "      <td>2011-12-01</td>\n",
              "      <td>1</td>\n",
              "      <td>12347.0</td>\n",
              "      <td>2010-12-07 14:57:00</td>\n",
              "      <td>2010-12-01</td>\n",
              "      <td>224.82</td>\n",
              "      <td>1</td>\n",
              "      <td>0</td>\n",
              "      <td>1</td>\n",
              "      <td>0.0</td>\n",
              "      <td>1</td>\n",
              "      <td>11</td>\n",
              "      <td>0</td>\n",
              "      <td>0</td>\n",
              "      <td>0</td>\n",
              "    </tr>\n",
              "  </tbody>\n",
              "</table>\n",
              "</div>"
            ],
            "text/plain": [
              "           month  key  CustomerID  ... inactive month_inactive  churn_2m\n",
              "1     2010-12-01    1     12347.0  ...        0              0         0\n",
              "951   2011-01-01    1     12347.0  ...        0              0         0\n",
              "2321  2011-02-01    1     12347.0  ...        1              1         0\n",
              "4071  2011-03-01    1     12347.0  ...        1              2         1\n",
              "6261  2011-04-01    1     12347.0  ...        0              0         0\n",
              "8750  2011-05-01    1     12347.0  ...        1              1         0\n",
              "11518 2011-06-01    1     12347.0  ...        0              0         0\n",
              "14521 2011-07-01    1     12347.0  ...        1              1         0\n",
              "17715 2011-08-01    1     12347.0  ...        0              0         0\n",
              "21076 2011-09-01    1     12347.0  ...        1              1         0\n",
              "24735 2011-10-01    1     12347.0  ...        0              0         0\n",
              "28746 2011-11-01    1     12347.0  ...        1              1         0\n",
              "33078 2011-12-01    1     12347.0  ...        0              0         0\n",
              "\n",
              "[13 rows x 15 columns]"
            ]
          },
          "metadata": {
            "tags": []
          },
          "execution_count": 58
        }
      ]
    },
    {
      "cell_type": "markdown",
      "metadata": {
        "id": "zvAnDOm_ObzF",
        "colab_type": "text"
      },
      "source": [
        "Looks good. Now groupby to get info for all customers per month"
      ]
    },
    {
      "cell_type": "code",
      "metadata": {
        "id": "4OGLRiS-HTBn",
        "colab_type": "code",
        "colab": {}
      },
      "source": [
        "t = report.groupby('month')[['revenue','user','new','active','churn_2m']].agg('sum')"
      ],
      "execution_count": 0,
      "outputs": []
    },
    {
      "cell_type": "code",
      "metadata": {
        "id": "22ziLQnnHy11",
        "colab_type": "code",
        "outputId": "1c902525-3fbb-4af0-c0ff-94ee030a2266",
        "colab": {
          "base_uri": "https://localhost:8080/",
          "height": 483
        }
      },
      "source": [
        "t"
      ],
      "execution_count": 0,
      "outputs": [
        {
          "output_type": "execute_result",
          "data": {
            "text/html": [
              "<div>\n",
              "<style scoped>\n",
              "    .dataframe tbody tr th:only-of-type {\n",
              "        vertical-align: middle;\n",
              "    }\n",
              "\n",
              "    .dataframe tbody tr th {\n",
              "        vertical-align: top;\n",
              "    }\n",
              "\n",
              "    .dataframe thead th {\n",
              "        text-align: right;\n",
              "    }\n",
              "</style>\n",
              "<table border=\"1\" class=\"dataframe\">\n",
              "  <thead>\n",
              "    <tr style=\"text-align: right;\">\n",
              "      <th></th>\n",
              "      <th>revenue</th>\n",
              "      <th>user</th>\n",
              "      <th>new</th>\n",
              "      <th>active</th>\n",
              "      <th>churn_2m</th>\n",
              "    </tr>\n",
              "    <tr>\n",
              "      <th>month</th>\n",
              "      <th></th>\n",
              "      <th></th>\n",
              "      <th></th>\n",
              "      <th></th>\n",
              "      <th></th>\n",
              "    </tr>\n",
              "  </thead>\n",
              "  <tbody>\n",
              "    <tr>\n",
              "      <th>2010-12-01</th>\n",
              "      <td>748957.020</td>\n",
              "      <td>949</td>\n",
              "      <td>949</td>\n",
              "      <td>882</td>\n",
              "      <td>0</td>\n",
              "    </tr>\n",
              "    <tr>\n",
              "      <th>2011-01-01</th>\n",
              "      <td>560000.260</td>\n",
              "      <td>1370</td>\n",
              "      <td>421</td>\n",
              "      <td>737</td>\n",
              "      <td>55</td>\n",
              "    </tr>\n",
              "    <tr>\n",
              "      <th>2011-02-01</th>\n",
              "      <td>498062.650</td>\n",
              "      <td>1750</td>\n",
              "      <td>380</td>\n",
              "      <td>754</td>\n",
              "      <td>509</td>\n",
              "    </tr>\n",
              "    <tr>\n",
              "      <th>2011-03-01</th>\n",
              "      <td>683267.080</td>\n",
              "      <td>2190</td>\n",
              "      <td>440</td>\n",
              "      <td>969</td>\n",
              "      <td>749</td>\n",
              "    </tr>\n",
              "    <tr>\n",
              "      <th>2011-04-01</th>\n",
              "      <td>493207.121</td>\n",
              "      <td>2489</td>\n",
              "      <td>299</td>\n",
              "      <td>851</td>\n",
              "      <td>966</td>\n",
              "    </tr>\n",
              "    <tr>\n",
              "      <th>2011-05-01</th>\n",
              "      <td>723333.510</td>\n",
              "      <td>2768</td>\n",
              "      <td>279</td>\n",
              "      <td>1053</td>\n",
              "      <td>1225</td>\n",
              "    </tr>\n",
              "    <tr>\n",
              "      <th>2011-06-01</th>\n",
              "      <td>691123.120</td>\n",
              "      <td>3003</td>\n",
              "      <td>235</td>\n",
              "      <td>987</td>\n",
              "      <td>1367</td>\n",
              "    </tr>\n",
              "    <tr>\n",
              "      <th>2011-07-01</th>\n",
              "      <td>681300.111</td>\n",
              "      <td>3194</td>\n",
              "      <td>191</td>\n",
              "      <td>943</td>\n",
              "      <td>1619</td>\n",
              "    </tr>\n",
              "    <tr>\n",
              "      <th>2011-08-01</th>\n",
              "      <td>682680.510</td>\n",
              "      <td>3361</td>\n",
              "      <td>167</td>\n",
              "      <td>931</td>\n",
              "      <td>1871</td>\n",
              "    </tr>\n",
              "    <tr>\n",
              "      <th>2011-09-01</th>\n",
              "      <td>1019687.622</td>\n",
              "      <td>3659</td>\n",
              "      <td>298</td>\n",
              "      <td>1263</td>\n",
              "      <td>1883</td>\n",
              "    </tr>\n",
              "    <tr>\n",
              "      <th>2011-10-01</th>\n",
              "      <td>1070704.670</td>\n",
              "      <td>4011</td>\n",
              "      <td>352</td>\n",
              "      <td>1357</td>\n",
              "      <td>1872</td>\n",
              "    </tr>\n",
              "    <tr>\n",
              "      <th>2011-11-01</th>\n",
              "      <td>1461756.250</td>\n",
              "      <td>4332</td>\n",
              "      <td>321</td>\n",
              "      <td>1659</td>\n",
              "      <td>1932</td>\n",
              "    </tr>\n",
              "    <tr>\n",
              "      <th>2011-12-01</th>\n",
              "      <td>433668.010</td>\n",
              "      <td>4373</td>\n",
              "      <td>41</td>\n",
              "      <td>612</td>\n",
              "      <td>2470</td>\n",
              "    </tr>\n",
              "  </tbody>\n",
              "</table>\n",
              "</div>"
            ],
            "text/plain": [
              "                revenue  user  new  active  churn_2m\n",
              "month                                               \n",
              "2010-12-01   748957.020   949  949     882         0\n",
              "2011-01-01   560000.260  1370  421     737        55\n",
              "2011-02-01   498062.650  1750  380     754       509\n",
              "2011-03-01   683267.080  2190  440     969       749\n",
              "2011-04-01   493207.121  2489  299     851       966\n",
              "2011-05-01   723333.510  2768  279    1053      1225\n",
              "2011-06-01   691123.120  3003  235     987      1367\n",
              "2011-07-01   681300.111  3194  191     943      1619\n",
              "2011-08-01   682680.510  3361  167     931      1871\n",
              "2011-09-01  1019687.622  3659  298    1263      1883\n",
              "2011-10-01  1070704.670  4011  352    1357      1872\n",
              "2011-11-01  1461756.250  4332  321    1659      1932\n",
              "2011-12-01   433668.010  4373   41     612      2470"
            ]
          },
          "metadata": {
            "tags": []
          },
          "execution_count": 60
        }
      ]
    },
    {
      "cell_type": "markdown",
      "metadata": {
        "id": "pGX0KVZ6OjgN",
        "colab_type": "text"
      },
      "source": [
        "You also may want to get it in %. Choice of denominator depends on your methodology of churn. Here I will just use current user count for each month. But it might be user count for the previous month or even for month-2, because we are measuring two month churn."
      ]
    },
    {
      "cell_type": "code",
      "metadata": {
        "id": "yz6kS8WbRedu",
        "colab_type": "code",
        "colab": {}
      },
      "source": [
        "t['churn_2m%'] = t['churn_2m'] / t['user']"
      ],
      "execution_count": 0,
      "outputs": []
    },
    {
      "cell_type": "code",
      "metadata": {
        "id": "O_u-aehARoKb",
        "colab_type": "code",
        "outputId": "42a3c63a-05f3-4955-9d8f-d1d3d53f1552",
        "colab": {
          "base_uri": "https://localhost:8080/",
          "height": 483
        }
      },
      "source": [
        "t"
      ],
      "execution_count": 0,
      "outputs": [
        {
          "output_type": "execute_result",
          "data": {
            "text/html": [
              "<div>\n",
              "<style scoped>\n",
              "    .dataframe tbody tr th:only-of-type {\n",
              "        vertical-align: middle;\n",
              "    }\n",
              "\n",
              "    .dataframe tbody tr th {\n",
              "        vertical-align: top;\n",
              "    }\n",
              "\n",
              "    .dataframe thead th {\n",
              "        text-align: right;\n",
              "    }\n",
              "</style>\n",
              "<table border=\"1\" class=\"dataframe\">\n",
              "  <thead>\n",
              "    <tr style=\"text-align: right;\">\n",
              "      <th></th>\n",
              "      <th>revenue</th>\n",
              "      <th>user</th>\n",
              "      <th>new</th>\n",
              "      <th>active</th>\n",
              "      <th>churn_2m</th>\n",
              "      <th>churn_2m%</th>\n",
              "    </tr>\n",
              "    <tr>\n",
              "      <th>month</th>\n",
              "      <th></th>\n",
              "      <th></th>\n",
              "      <th></th>\n",
              "      <th></th>\n",
              "      <th></th>\n",
              "      <th></th>\n",
              "    </tr>\n",
              "  </thead>\n",
              "  <tbody>\n",
              "    <tr>\n",
              "      <th>2010-12-01</th>\n",
              "      <td>748957.020</td>\n",
              "      <td>949</td>\n",
              "      <td>949</td>\n",
              "      <td>882</td>\n",
              "      <td>0</td>\n",
              "      <td>0.000000</td>\n",
              "    </tr>\n",
              "    <tr>\n",
              "      <th>2011-01-01</th>\n",
              "      <td>560000.260</td>\n",
              "      <td>1370</td>\n",
              "      <td>421</td>\n",
              "      <td>737</td>\n",
              "      <td>55</td>\n",
              "      <td>0.040146</td>\n",
              "    </tr>\n",
              "    <tr>\n",
              "      <th>2011-02-01</th>\n",
              "      <td>498062.650</td>\n",
              "      <td>1750</td>\n",
              "      <td>380</td>\n",
              "      <td>754</td>\n",
              "      <td>509</td>\n",
              "      <td>0.290857</td>\n",
              "    </tr>\n",
              "    <tr>\n",
              "      <th>2011-03-01</th>\n",
              "      <td>683267.080</td>\n",
              "      <td>2190</td>\n",
              "      <td>440</td>\n",
              "      <td>969</td>\n",
              "      <td>749</td>\n",
              "      <td>0.342009</td>\n",
              "    </tr>\n",
              "    <tr>\n",
              "      <th>2011-04-01</th>\n",
              "      <td>493207.121</td>\n",
              "      <td>2489</td>\n",
              "      <td>299</td>\n",
              "      <td>851</td>\n",
              "      <td>966</td>\n",
              "      <td>0.388108</td>\n",
              "    </tr>\n",
              "    <tr>\n",
              "      <th>2011-05-01</th>\n",
              "      <td>723333.510</td>\n",
              "      <td>2768</td>\n",
              "      <td>279</td>\n",
              "      <td>1053</td>\n",
              "      <td>1225</td>\n",
              "      <td>0.442558</td>\n",
              "    </tr>\n",
              "    <tr>\n",
              "      <th>2011-06-01</th>\n",
              "      <td>691123.120</td>\n",
              "      <td>3003</td>\n",
              "      <td>235</td>\n",
              "      <td>987</td>\n",
              "      <td>1367</td>\n",
              "      <td>0.455211</td>\n",
              "    </tr>\n",
              "    <tr>\n",
              "      <th>2011-07-01</th>\n",
              "      <td>681300.111</td>\n",
              "      <td>3194</td>\n",
              "      <td>191</td>\n",
              "      <td>943</td>\n",
              "      <td>1619</td>\n",
              "      <td>0.506888</td>\n",
              "    </tr>\n",
              "    <tr>\n",
              "      <th>2011-08-01</th>\n",
              "      <td>682680.510</td>\n",
              "      <td>3361</td>\n",
              "      <td>167</td>\n",
              "      <td>931</td>\n",
              "      <td>1871</td>\n",
              "      <td>0.556680</td>\n",
              "    </tr>\n",
              "    <tr>\n",
              "      <th>2011-09-01</th>\n",
              "      <td>1019687.622</td>\n",
              "      <td>3659</td>\n",
              "      <td>298</td>\n",
              "      <td>1263</td>\n",
              "      <td>1883</td>\n",
              "      <td>0.514621</td>\n",
              "    </tr>\n",
              "    <tr>\n",
              "      <th>2011-10-01</th>\n",
              "      <td>1070704.670</td>\n",
              "      <td>4011</td>\n",
              "      <td>352</td>\n",
              "      <td>1357</td>\n",
              "      <td>1872</td>\n",
              "      <td>0.466717</td>\n",
              "    </tr>\n",
              "    <tr>\n",
              "      <th>2011-11-01</th>\n",
              "      <td>1461756.250</td>\n",
              "      <td>4332</td>\n",
              "      <td>321</td>\n",
              "      <td>1659</td>\n",
              "      <td>1932</td>\n",
              "      <td>0.445983</td>\n",
              "    </tr>\n",
              "    <tr>\n",
              "      <th>2011-12-01</th>\n",
              "      <td>433668.010</td>\n",
              "      <td>4373</td>\n",
              "      <td>41</td>\n",
              "      <td>612</td>\n",
              "      <td>2470</td>\n",
              "      <td>0.564830</td>\n",
              "    </tr>\n",
              "  </tbody>\n",
              "</table>\n",
              "</div>"
            ],
            "text/plain": [
              "                revenue  user  new  active  churn_2m  churn_2m%\n",
              "month                                                          \n",
              "2010-12-01   748957.020   949  949     882         0   0.000000\n",
              "2011-01-01   560000.260  1370  421     737        55   0.040146\n",
              "2011-02-01   498062.650  1750  380     754       509   0.290857\n",
              "2011-03-01   683267.080  2190  440     969       749   0.342009\n",
              "2011-04-01   493207.121  2489  299     851       966   0.388108\n",
              "2011-05-01   723333.510  2768  279    1053      1225   0.442558\n",
              "2011-06-01   691123.120  3003  235     987      1367   0.455211\n",
              "2011-07-01   681300.111  3194  191     943      1619   0.506888\n",
              "2011-08-01   682680.510  3361  167     931      1871   0.556680\n",
              "2011-09-01  1019687.622  3659  298    1263      1883   0.514621\n",
              "2011-10-01  1070704.670  4011  352    1357      1872   0.466717\n",
              "2011-11-01  1461756.250  4332  321    1659      1932   0.445983\n",
              "2011-12-01   433668.010  4373   41     612      2470   0.564830"
            ]
          },
          "metadata": {
            "tags": []
          },
          "execution_count": 62
        }
      ]
    },
    {
      "cell_type": "markdown",
      "metadata": {
        "id": "ayZsZOpSL9W0",
        "colab_type": "text"
      },
      "source": [
        "In the project you can use this table to calculate revenue from tariffs information. Just add tariff column for each user and then join tariffs table and calculate revenue in new column"
      ]
    },
    {
      "cell_type": "markdown",
      "metadata": {
        "id": "mIvDC9KzMa-a",
        "colab_type": "text"
      },
      "source": [
        "This is a very robust way to create all kinds of reports: daily, weekly, monthly. If you generate all possible dates you will miss nothing. But keep in mind that the operation of cross join is computationally expensive and better be done in some sql database. I have a video about it on my channel https://youtu.be/s2uA0CTAlH0"
      ]
    }
  ]
}