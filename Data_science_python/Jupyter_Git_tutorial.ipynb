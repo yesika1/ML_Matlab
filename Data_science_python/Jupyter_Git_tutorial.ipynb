{
  "nbformat": 4,
  "nbformat_minor": 0,
  "metadata": {
    "kernelspec": {
      "display_name": "Python 3",
      "language": "python",
      "name": "python3"
    },
    "language_info": {
      "codemirror_mode": {
        "name": "ipython",
        "version": 3
      },
      "file_extension": ".py",
      "mimetype": "text/x-python",
      "name": "python",
      "nbconvert_exporter": "python",
      "pygments_lexer": "ipython3",
      "version": "3.8.3"
    },
    "colab": {
      "name": "Jupyter  Git tutorial.ipynb",
      "provenance": []
    }
  },
  "cells": [
    {
      "cell_type": "markdown",
      "metadata": {
        "id": "-m7dPx2AZaVf"
      },
      "source": [
        "# Quick Intro\n",
        "\n",
        "* Robert Quan\n",
        "    * Data Science tutor for cohort 05. Cross cohort now.\n",
        "    * Currently working as a Machine Learning Engineer in Houston and have experience working as a Data Scientist / Data Engineer / Software Engineer.\n",
        "    * Undergrad in Physics and Masters in CS from Texas A&M.\n",
        "    \n",
        "\n",
        "### Overview:\n",
        "1. Jupyter Notebook Tutorial\n",
        "1. Git and Github Tutorial (how to upload to github)\n",
        "1. Lambda Functions\n",
        "\n",
        "***"
      ]
    },
    {
      "cell_type": "markdown",
      "metadata": {
        "id": "ZeDI4xeLZaVg"
      },
      "source": [
        "# Jupyter NotebookTutorial"
      ]
    },
    {
      "cell_type": "markdown",
      "metadata": {
        "id": "Hx0gS_sLZaVh"
      },
      "source": [
        "**What is Jupyter Notebook?**\n",
        "\n",
        "> Jupyter notebooks is an integrated code display that outputs in a single document python code to combine visualizations, text, math equations and other media. Think of it as an advanced word processor.\n",
        "\n",
        "**Where did it come from?**\n",
        "\n",
        "> Project Jupyter is built off of the earlier IPython Notebook, which was prototyped in 2010. The Jupyter Project now is responsible for updating the Jupyter Notebook application.\n",
        "\n",
        "**How can I download it?**\n",
        "\n",
        "> Google up Anaconda, a window manager that contains a lot of helpful Data Science software, and install from there.\n",
        "\n",
        "**I cant see a screen, can I uses a terminal shell to run?**\n",
        "\n",
        "> just run > jupyter notebook | > ipython notebook\n",
        "\n",
        "**What is the localhost:8888 for this notebook?**\n",
        "\n",
        "> localhost means that the application is running on your *local* machine. It is a server that is hosted from your machine and can be viewed in chrome, firefox, safari, ie. etc. \n",
        "\n",
        "**What is an .ipynb File?**\n",
        "\n",
        "> This is the notebook saved file on your machine. Techincally this is a text document which contains all of the contents of the notebook in a JSON format.\n",
        "\n",
        "**Show commands for notebook**\n",
        "\n",
        "> Press *Cntrl + Shift + p* all together to list commands"
      ]
    },
    {
      "cell_type": "markdown",
      "metadata": {
        "id": "2c9oNPKiZaVi"
      },
      "source": [
        "***\n",
        "### Terminology\n",
        "\n",
        "**Cells** : Sections where to write code or text inside of the notebook. Code Cell / Markdown Cell\n",
        "\n",
        "**Kernel** : The Kernel is the computation engine of the notebook. This engine executes the python code in the cells.\n",
        "\n",
        "**Markdown**: lightweight markup language for formatting plain text. It has a one-to-one correspondance with HTML tags. \n",
        "\n",
        "### Shortcuts\n",
        "\n",
        "> - To quickly run cell press Ctrl + Enter to execute cell. \n",
        "- Press A or B to insert new cell above or below current cell.\n",
        "- Press M to transform cell to Markdown cell.\n",
        "- Press Y to tranfsform to code cell.\n",
        "- Double click D to delte the highlighted cell.\n",
        "- Z will undo deletion.\n",
        "- Hold Shift and press up or down to select multiple cells at one. \n"
      ]
    },
    {
      "cell_type": "markdown",
      "metadata": {
        "id": "FF4cZUz9ZaVj"
      },
      "source": [
        "# This is a level 1 heading\n",
        "## This is a level 2 heading\n",
        "This is some plain text that forms a paragraph.\n",
        "Add emphasis via **bold** and __bold__, or *italic* and _italic_.\n",
        "Paragraphs must be separated by an empty line.\n",
        "\n",
        "* Sometimes we want to include lists.\n",
        "* Which can be indented.\n",
        "\n",
        "\n",
        "1. Lists can also be numbered.\n",
        "2. For ordered lists.\n",
        "[It is possible to include hyperlinks](https://www.example.com)\n",
        "\n",
        "Inline code uses single backticks: `foo()`, and code blocks use triple backticks:\n",
        "\n",
        "```\n",
        "def foo(x):\n",
        "    return x*x\n",
        "\n",
        "for num in numbers:\n",
        "    print(foo(num))   \n",
        "```\n",
        "\n",
        "\n",
        "And finally, adding images is easy: ![Alttext](https://miro.medium.com/max/3000/1*mzciQ4zYi3-j3EONuyGnrg.png)"
      ]
    },
    {
      "cell_type": "markdown",
      "metadata": {
        "id": "Wq3-1UZ-ZaVk"
      },
      "source": [
        "<div class=\"alert alert-block alert-success\">\n",
        "<b>Success:</b> This section is now colored green\n",
        "</div>\n",
        "\n",
        "<div class=\"alert alert-block alert-warning\">\n",
        "<b>Remarks: </b> if I can give some recommendations\n",
        "</div>\n",
        "\n",
        "<div class=\"alert alert-block alert-danger\">\n",
        "<b>Needs fixing:</b> if the block requires some corrections. Work can't be accepted with red comments.\n",
        "</div>\n",
        "\n",
        "<div class=\"alert alert-block alert-info\">\n",
        "<b>Tip:</b> Use blue boxes (alert-info) for tips and notes. \n",
        "If it’s a note, you don’t have to include the word “Note”.\n",
        "</div>\n",
        "\n",
        "__[More info on alert boxes](https://www.ibm.com/support/knowledgecenter/SSHGWL_1.2.3/analyze-data/markd-jupyter.html)__"
      ]
    },
    {
      "cell_type": "markdown",
      "metadata": {
        "id": "R2d7iF1vZaVk"
      },
      "source": [
        "### Magic Commands\n",
        "> Since jupyter relies on Ipython, you can use the magic commands. These comamnds are basically using the underlying python shell to work in the environment. \n",
        "\n",
        "```\n",
        "Just type:\n",
        "> %ls\n",
        "> %cd ..\n",
        "> %env\n",
        "> %lsmagic\n",
        "> %pwd\n",
        "> %timeit\n",
        "```\n",
        "> The timeit magic command will execute your code various times and calculates an average time execution. Very important if you want to optimize your code. This is where correct data structures will come into play. [%timeit](https://docs.python.org/3/library/timeit.html)\n",
        "\n",
        "You can export these notebooks as HTML, pdf, or even as python code. \n",
        "\n",
        "__[Read more](https://www.dataquest.io/blog/jupyter-notebook-tutorial/)__"
      ]
    },
    {
      "cell_type": "code",
      "metadata": {
        "id": "hg1OVWbUZaVl",
        "outputId": "68992135-9681-40d7-de47-e48fd8d5fa7a"
      },
      "source": [
        "%ls\n",
        "%pwd\n",
        "%lsmagic"
      ],
      "execution_count": null,
      "outputs": [
        {
          "output_type": "stream",
          "text": [
            " Volume in drive C has no label."
          ],
          "name": "stdout"
        },
        {
          "output_type": "execute_result",
          "data": {
            "application/json": {
              "cell": {
                "!": "OSMagics",
                "HTML": "Other",
                "SVG": "Other",
                "bash": "Other",
                "capture": "ExecutionMagics",
                "cmd": "Other",
                "debug": "ExecutionMagics",
                "file": "Other",
                "html": "DisplayMagics",
                "javascript": "DisplayMagics",
                "js": "DisplayMagics",
                "latex": "DisplayMagics",
                "markdown": "DisplayMagics",
                "perl": "Other",
                "prun": "ExecutionMagics",
                "pypy": "Other",
                "python": "Other",
                "python2": "Other",
                "python3": "Other",
                "ruby": "Other",
                "script": "ScriptMagics",
                "sh": "Other",
                "svg": "DisplayMagics",
                "sx": "OSMagics",
                "system": "OSMagics",
                "time": "ExecutionMagics",
                "timeit": "ExecutionMagics",
                "writefile": "OSMagics"
              },
              "line": {
                "alias": "OSMagics",
                "alias_magic": "BasicMagics",
                "autoawait": "AsyncMagics",
                "autocall": "AutoMagics",
                "automagic": "AutoMagics",
                "autosave": "KernelMagics",
                "bookmark": "OSMagics",
                "cd": "OSMagics",
                "clear": "KernelMagics",
                "cls": "KernelMagics",
                "colors": "BasicMagics",
                "conda": "PackagingMagics",
                "config": "ConfigMagics",
                "connect_info": "KernelMagics",
                "copy": "Other",
                "ddir": "Other",
                "debug": "ExecutionMagics",
                "dhist": "OSMagics",
                "dirs": "OSMagics",
                "doctest_mode": "BasicMagics",
                "echo": "Other",
                "ed": "Other",
                "edit": "KernelMagics",
                "env": "OSMagics",
                "gui": "BasicMagics",
                "hist": "Other",
                "history": "HistoryMagics",
                "killbgscripts": "ScriptMagics",
                "ldir": "Other",
                "less": "KernelMagics",
                "load": "CodeMagics",
                "load_ext": "ExtensionMagics",
                "loadpy": "CodeMagics",
                "logoff": "LoggingMagics",
                "logon": "LoggingMagics",
                "logstart": "LoggingMagics",
                "logstate": "LoggingMagics",
                "logstop": "LoggingMagics",
                "ls": "Other",
                "lsmagic": "BasicMagics",
                "macro": "ExecutionMagics",
                "magic": "BasicMagics",
                "matplotlib": "PylabMagics",
                "mkdir": "Other",
                "more": "KernelMagics",
                "notebook": "BasicMagics",
                "page": "BasicMagics",
                "pastebin": "CodeMagics",
                "pdb": "ExecutionMagics",
                "pdef": "NamespaceMagics",
                "pdoc": "NamespaceMagics",
                "pfile": "NamespaceMagics",
                "pinfo": "NamespaceMagics",
                "pinfo2": "NamespaceMagics",
                "pip": "PackagingMagics",
                "popd": "OSMagics",
                "pprint": "BasicMagics",
                "precision": "BasicMagics",
                "prun": "ExecutionMagics",
                "psearch": "NamespaceMagics",
                "psource": "NamespaceMagics",
                "pushd": "OSMagics",
                "pwd": "OSMagics",
                "pycat": "OSMagics",
                "pylab": "PylabMagics",
                "qtconsole": "KernelMagics",
                "quickref": "BasicMagics",
                "recall": "HistoryMagics",
                "rehashx": "OSMagics",
                "reload_ext": "ExtensionMagics",
                "ren": "Other",
                "rep": "Other",
                "rerun": "HistoryMagics",
                "reset": "NamespaceMagics",
                "reset_selective": "NamespaceMagics",
                "rmdir": "Other",
                "run": "ExecutionMagics",
                "save": "CodeMagics",
                "sc": "OSMagics",
                "set_env": "OSMagics",
                "store": "StoreMagics",
                "sx": "OSMagics",
                "system": "OSMagics",
                "tb": "ExecutionMagics",
                "time": "ExecutionMagics",
                "timeit": "ExecutionMagics",
                "unalias": "OSMagics",
                "unload_ext": "ExtensionMagics",
                "who": "NamespaceMagics",
                "who_ls": "NamespaceMagics",
                "whos": "NamespaceMagics",
                "xdel": "NamespaceMagics",
                "xmode": "BasicMagics"
              }
            },
            "text/plain": [
              "Available line magics:\n",
              "%alias  %alias_magic  %autoawait  %autocall  %automagic  %autosave  %bookmark  %cd  %clear  %cls  %colors  %conda  %config  %connect_info  %copy  %ddir  %debug  %dhist  %dirs  %doctest_mode  %echo  %ed  %edit  %env  %gui  %hist  %history  %killbgscripts  %ldir  %less  %load  %load_ext  %loadpy  %logoff  %logon  %logstart  %logstate  %logstop  %ls  %lsmagic  %macro  %magic  %matplotlib  %mkdir  %more  %notebook  %page  %pastebin  %pdb  %pdef  %pdoc  %pfile  %pinfo  %pinfo2  %pip  %popd  %pprint  %precision  %prun  %psearch  %psource  %pushd  %pwd  %pycat  %pylab  %qtconsole  %quickref  %recall  %rehashx  %reload_ext  %ren  %rep  %rerun  %reset  %reset_selective  %rmdir  %run  %save  %sc  %set_env  %store  %sx  %system  %tb  %time  %timeit  %unalias  %unload_ext  %who  %who_ls  %whos  %xdel  %xmode\n",
              "\n",
              "Available cell magics:\n",
              "%%!  %%HTML  %%SVG  %%bash  %%capture  %%cmd  %%debug  %%file  %%html  %%javascript  %%js  %%latex  %%markdown  %%perl  %%prun  %%pypy  %%python  %%python2  %%python3  %%ruby  %%script  %%sh  %%svg  %%sx  %%system  %%time  %%timeit  %%writefile\n",
              "\n",
              "Automagic is ON, % prefix IS NOT needed for line magics."
            ]
          },
          "metadata": {
            "tags": []
          },
          "execution_count": 15
        },
        {
          "output_type": "stream",
          "text": [
            "\n",
            " Volume Serial Number is 5C99-A448\n",
            "\n",
            " Directory of C:\\Users\\Magnus\\Dropbox\\Yandex\\04 Git and Github\n",
            "\n",
            "08/02/2020  03:13 PM    <DIR>          .\n",
            "08/02/2020  03:13 PM    <DIR>          ..\n",
            "08/01/2020  06:25 PM    <DIR>          .ipynb_checkpoints\n",
            "08/02/2020  03:13 PM             8,261 Jupyter  Git tutorial.ipynb\n",
            "               1 File(s)          8,261 bytes\n",
            "               3 Dir(s)  10,281,308,160 bytes free\n"
          ],
          "name": "stdout"
        }
      ]
    },
    {
      "cell_type": "code",
      "metadata": {
        "id": "yLunhZSZZaVr",
        "outputId": "8eb2a678-740d-4997-b98b-e59b53dfb896"
      },
      "source": [
        "%timeit for _ in range(1000): True"
      ],
      "execution_count": null,
      "outputs": [
        {
          "output_type": "stream",
          "text": [
            "23 µs ± 2.35 µs per loop (mean ± std. dev. of 7 runs, 10000 loops each)\n"
          ],
          "name": "stdout"
        }
      ]
    },
    {
      "cell_type": "markdown",
      "metadata": {
        "id": "5bFn-VJnZaVu"
      },
      "source": [
        "***"
      ]
    },
    {
      "cell_type": "markdown",
      "metadata": {
        "id": "lvLbDA04ZaVv"
      },
      "source": [
        "# Git and Github Tutorial\n",
        "\n",
        "**What is git**  [Download Git](https://git-scm.com/)\n",
        "> Git a a version control system. It tracks your code changes and set \"checkpoitns\". It is very important for software development and completely free. You can do the following with git: \n",
        "- Keep track of all files in a project\n",
        "- Record any changes to project files\n",
        "- Restore previous versions of files\n",
        "- Compare and analyze code\n",
        "- Merge code from different computers and different team members.\n",
        "\n",
        "**What is github**\n",
        "> A microsoft free online git repository system. Many coders can connect and download git projects.\n",
        "\n",
        "**How does git work?**\n",
        "> By setting up a repository (group of folders or one folder) as a git folder, you are esentially telling git to track every saved changed in your code and save only the differences between commits. By doing this, you can allow multiple people to work together on one large project, or add individual changes to your code and track those changes. \n",
        "\n",
        "![GIt](https://external-content.duckduckgo.com/iu/?u=https%3A%2F%2Fi.ytimg.com%2Fvi%2FAN7Rue-4aMo%2Fmaxresdefault.jpg&f=1&nofb=1)"
      ]
    },
    {
      "cell_type": "markdown",
      "metadata": {
        "id": "Wm3jr5G4ZaVx"
      },
      "source": [
        "## Git demo\n",
        "\n",
        "```\n",
        "git config --global user.name \"Robert Quan\"\n",
        "git config --global user.email robertquan@example.com\n",
        "\n",
        "git init\n",
        "git status\n",
        "git checkout -b \"new branch\"\n",
        "git checkout master\n",
        "\n",
        "git add .\n",
        "git commit -m \"master\"\n",
        "\n",
        "git remote add origin https://github.com/USER/PROJECTNAME.git\n",
        "git push -u origin master\n",
        "\n",
        "```"
      ]
    },
    {
      "cell_type": "markdown",
      "metadata": {
        "id": "xDOAiYI0ZaVy"
      },
      "source": [
        "***"
      ]
    },
    {
      "cell_type": "markdown",
      "metadata": {
        "id": "iRfzf9j6ZaVz"
      },
      "source": [
        "## Lambda Functions:\n",
        "\n",
        "> Lambda functions are also known as anonymous functions. They are regular functions that do not have to be defined and are used only during that execution.  An anonymous function refers to a function declared with no name.\n",
        "- A lambda function can take any number of arguments, but they contain only a single expression. An expression is a piece of code executed by the lambda function, which may or may not return any value.\n",
        "- Lambda functions can be used to return function objects.\n",
        "- Syntactically, lambda functions are restricted to only a single expression.\n",
        "\n",
        "> Lambda arguments : expression\n",
        "\n",
        "[More on Lambda Functions](https://stackabuse.com/lambda-functions-in-python/)"
      ]
    },
    {
      "cell_type": "code",
      "metadata": {
        "id": "EG-NfOqQZaVz",
        "outputId": "ca1db7cb-cf6b-4f49-a7d1-eed6bcdb05d5"
      },
      "source": [
        "def lowercase(string):\n",
        "    return string.lower()\n",
        "\n",
        "print(lowercase(\"THIS is A Test\"))\n",
        "\n",
        "names = [\"Adam\", \"Bernard\", \"Carlos\"]\n",
        "res = []\n",
        "\n",
        "for name in names:\n",
        "    res.append(lowercase(name))\n",
        "print(res)\n",
        "\n",
        "print(list(map(lambda x: lowercase(x), names)))\n",
        "\n",
        "print([lowercase(x) for x in names])"
      ],
      "execution_count": null,
      "outputs": [
        {
          "output_type": "stream",
          "text": [
            "this is a test\n",
            "['adam', 'bernard', 'carlos']\n",
            "['adam', 'bernard', 'carlos']\n",
            "['adam', 'bernard', 'carlos']\n"
          ],
          "name": "stdout"
        }
      ]
    },
    {
      "cell_type": "code",
      "metadata": {
        "id": "wTyajesrZaV3",
        "outputId": "973a597d-6505-4b7c-fef6-c16a5b262483"
      },
      "source": [
        "function = lambda num: num * 2\n",
        "\n",
        "print(function(3))\n",
        "\n",
        "def function2(num):\n",
        "    return num*2\n",
        "\n",
        "print(function2(4))"
      ],
      "execution_count": null,
      "outputs": [
        {
          "output_type": "stream",
          "text": [
            "6\n",
            "8\n"
          ],
          "name": "stdout"
        }
      ]
    },
    {
      "cell_type": "code",
      "metadata": {
        "id": "Rhux-5-_ZaV6"
      },
      "source": [
        ""
      ],
      "execution_count": null,
      "outputs": []
    }
  ]
}