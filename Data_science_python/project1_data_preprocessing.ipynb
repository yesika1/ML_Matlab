{
 "cells": [
  {
   "cell_type": "markdown",
   "metadata": {},
   "source": [
    "<div class=\"alert alert-block alert-info\">\n",
    "<h2> Comments </h2>\n",
    "</div>\n",
    "\n",
    "Hi Yesika,\n",
    "\n",
    "I have checked you work and left comments in such cells. Cells are of two types:\n",
    "\n",
    "<div class=\"alert alert-block alert-danger\">\n",
    "<p> <strong> A red colored cell </strong> indicates that you need to improve or adjust part of the project above. </p>\n",
    "</div>\n",
    "<div class=\"alert alert-block alert-info\">\n",
    "<p> <strong> A blue colored cell </strong> indicates that no improvements are needed in the cells above. May include some suggestions and recommendations.</p>\n",
    "</div>\n",
    "\n",
    "Hope it all will be clear to you :)\n",
    "\n",
    "You did a great job 😀. You understand what you are doing and why, also can make right conclusions - which is great 👍.\n",
    "\n",
    "Thank you for keeping your notebook clean and structured, with clear explanations :)\n",
    "\n",
    "Project is accepted :)\n",
    "\n",
    "*Good luck!*\n",
    "\n",
    "------------"
   ]
  },
  {
   "cell_type": "markdown",
   "metadata": {},
   "source": [
    "## Analyzing borrowers’ risk of defaulting\n",
    "\n",
    "Your project is to prepare a report for a bank’s loan division. You’ll need to find out if a customer’s marital status and number of children has an impact on whether they will default on a loan. The bank already has some data on customers’ credit worthiness.\n",
    "\n",
    "Your report will be considered when building a **credit scoring** of a potential customer. A ** credit scoring ** is used to evaluate the ability of a potential borrower to repay their loan.\n",
    "\n",
    "The data may contain artifacts, or values that don't correspond to reality—for instance, a negative number of days employed. You need to describe the possible reasons such data may have turned up and process it. Data analysis is about more than just running calculations e.g. there’s also looking for outliers, artifacts, and errors in the data too."
   ]
  },
  {
   "cell_type": "markdown",
   "metadata": {},
   "source": [
    "### Data dictionary\n",
    "- children : the number of children in the family\n",
    "- days_employed: how long the customer has worked\n",
    "- dob_years: the customer’s age\n",
    "- education: the customer’s education level\n",
    "- education_id: identifier for the customer’s education\n",
    "- family_status: the customer’s marital status\n",
    "- family_status_id: identifier for the customer’s marital status\n",
    "- gender: the customer’s gender\n",
    "- income_type: the customer’s income type\n",
    "- debt: whether the client has ever defaulted on a loan\n",
    "- total_income: annual income\n",
    "- purpose: reason for taking out a loan"
   ]
  },
  {
   "cell_type": "code",
   "execution_count": 1,
   "metadata": {},
   "outputs": [],
   "source": [
    "import pandas as pd  # process dataframes\n",
    "import numpy as np # process arrays\n",
    "import matplotlib.pyplot as plt #plotting\n",
    "import seaborn as sns # plotting\n",
    "plt.style.use('ggplot')\n",
    "\n",
    "from nltk.stem import SnowballStemmer # Natural Language Processing"
   ]
  },
  {
   "cell_type": "markdown",
   "metadata": {},
   "source": [
    "### Step 1. Open the data file and have a look at the general information. "
   ]
  },
  {
   "cell_type": "code",
   "execution_count": 2,
   "metadata": {
    "scrolled": false
   },
   "outputs": [
    {
     "name": "stdout",
     "output_type": "stream",
     "text": [
      "<class 'pandas.core.frame.DataFrame'>\n",
      "RangeIndex: 21525 entries, 0 to 21524\n",
      "Data columns (total 12 columns):\n",
      "children            21525 non-null int64\n",
      "days_employed       19351 non-null float64\n",
      "dob_years           21525 non-null int64\n",
      "education           21525 non-null object\n",
      "education_id        21525 non-null int64\n",
      "family_status       21525 non-null object\n",
      "family_status_id    21525 non-null int64\n",
      "gender              21525 non-null object\n",
      "income_type         21525 non-null object\n",
      "debt                21525 non-null int64\n",
      "total_income        19351 non-null float64\n",
      "purpose             21525 non-null object\n",
      "dtypes: float64(2), int64(5), object(5)\n",
      "memory usage: 2.0+ MB\n",
      "None\n"
     ]
    }
   ],
   "source": [
    "## Reading dataset\n",
    "df = pd.read_csv('/datasets/credit_scoring_eng.csv')\n",
    "\n",
    "# General information including the numbers of objects within each column\n",
    "print(df.info())"
   ]
  },
  {
   "cell_type": "code",
   "execution_count": 3,
   "metadata": {},
   "outputs": [],
   "source": [
    "## update features names\n",
    "#[col for col in df.columns]\n",
    "#[col.lower().replace(' ','_') for col in df.columns]"
   ]
  },
  {
   "cell_type": "code",
   "execution_count": 4,
   "metadata": {},
   "outputs": [
    {
     "data": {
      "text/html": [
       "<div>\n",
       "<style scoped>\n",
       "    .dataframe tbody tr th:only-of-type {\n",
       "        vertical-align: middle;\n",
       "    }\n",
       "\n",
       "    .dataframe tbody tr th {\n",
       "        vertical-align: top;\n",
       "    }\n",
       "\n",
       "    .dataframe thead th {\n",
       "        text-align: right;\n",
       "    }\n",
       "</style>\n",
       "<table border=\"1\" class=\"dataframe\">\n",
       "  <thead>\n",
       "    <tr style=\"text-align: right;\">\n",
       "      <th></th>\n",
       "      <th>children</th>\n",
       "      <th>days_employed</th>\n",
       "      <th>dob_years</th>\n",
       "      <th>education</th>\n",
       "      <th>education_id</th>\n",
       "      <th>family_status</th>\n",
       "      <th>family_status_id</th>\n",
       "      <th>gender</th>\n",
       "      <th>income_type</th>\n",
       "      <th>debt</th>\n",
       "      <th>total_income</th>\n",
       "      <th>purpose</th>\n",
       "    </tr>\n",
       "  </thead>\n",
       "  <tbody>\n",
       "    <tr>\n",
       "      <td>0</td>\n",
       "      <td>1</td>\n",
       "      <td>-8437.673028</td>\n",
       "      <td>42</td>\n",
       "      <td>bachelor's degree</td>\n",
       "      <td>0</td>\n",
       "      <td>married</td>\n",
       "      <td>0</td>\n",
       "      <td>F</td>\n",
       "      <td>employee</td>\n",
       "      <td>0</td>\n",
       "      <td>40620.102</td>\n",
       "      <td>purchase of the house</td>\n",
       "    </tr>\n",
       "    <tr>\n",
       "      <td>1</td>\n",
       "      <td>1</td>\n",
       "      <td>-4024.803754</td>\n",
       "      <td>36</td>\n",
       "      <td>secondary education</td>\n",
       "      <td>1</td>\n",
       "      <td>married</td>\n",
       "      <td>0</td>\n",
       "      <td>F</td>\n",
       "      <td>employee</td>\n",
       "      <td>0</td>\n",
       "      <td>17932.802</td>\n",
       "      <td>car purchase</td>\n",
       "    </tr>\n",
       "  </tbody>\n",
       "</table>\n",
       "</div>"
      ],
      "text/plain": [
       "   children  days_employed  dob_years            education  education_id  \\\n",
       "0         1   -8437.673028         42    bachelor's degree             0   \n",
       "1         1   -4024.803754         36  secondary education             1   \n",
       "\n",
       "  family_status  family_status_id gender income_type  debt  total_income  \\\n",
       "0       married                 0      F    employee     0     40620.102   \n",
       "1       married                 0      F    employee     0     17932.802   \n",
       "\n",
       "                 purpose  \n",
       "0  purchase of the house  \n",
       "1           car purchase  "
      ]
     },
     "metadata": {},
     "output_type": "display_data"
    }
   ],
   "source": [
    "# Displaying first two rows\n",
    "display(df.head(2))"
   ]
  },
  {
   "cell_type": "code",
   "execution_count": 5,
   "metadata": {},
   "outputs": [
    {
     "data": {
      "text/html": [
       "<div>\n",
       "<style scoped>\n",
       "    .dataframe tbody tr th:only-of-type {\n",
       "        vertical-align: middle;\n",
       "    }\n",
       "\n",
       "    .dataframe tbody tr th {\n",
       "        vertical-align: top;\n",
       "    }\n",
       "\n",
       "    .dataframe thead th {\n",
       "        text-align: right;\n",
       "    }\n",
       "</style>\n",
       "<table border=\"1\" class=\"dataframe\">\n",
       "  <thead>\n",
       "    <tr style=\"text-align: right;\">\n",
       "      <th></th>\n",
       "      <th>children</th>\n",
       "      <th>days_employed</th>\n",
       "      <th>dob_years</th>\n",
       "      <th>education_id</th>\n",
       "      <th>family_status_id</th>\n",
       "      <th>debt</th>\n",
       "      <th>total_income</th>\n",
       "    </tr>\n",
       "  </thead>\n",
       "  <tbody>\n",
       "    <tr>\n",
       "      <td>count</td>\n",
       "      <td>21525.000000</td>\n",
       "      <td>19351.000000</td>\n",
       "      <td>21525.000000</td>\n",
       "      <td>21525.000000</td>\n",
       "      <td>21525.000000</td>\n",
       "      <td>21525.000000</td>\n",
       "      <td>19351.000000</td>\n",
       "    </tr>\n",
       "    <tr>\n",
       "      <td>mean</td>\n",
       "      <td>0.538908</td>\n",
       "      <td>63046.497661</td>\n",
       "      <td>43.293380</td>\n",
       "      <td>0.817236</td>\n",
       "      <td>0.972544</td>\n",
       "      <td>0.080883</td>\n",
       "      <td>26787.568355</td>\n",
       "    </tr>\n",
       "    <tr>\n",
       "      <td>std</td>\n",
       "      <td>1.381587</td>\n",
       "      <td>140827.311974</td>\n",
       "      <td>12.574584</td>\n",
       "      <td>0.548138</td>\n",
       "      <td>1.420324</td>\n",
       "      <td>0.272661</td>\n",
       "      <td>16475.450632</td>\n",
       "    </tr>\n",
       "    <tr>\n",
       "      <td>min</td>\n",
       "      <td>-1.000000</td>\n",
       "      <td>-18388.949901</td>\n",
       "      <td>0.000000</td>\n",
       "      <td>0.000000</td>\n",
       "      <td>0.000000</td>\n",
       "      <td>0.000000</td>\n",
       "      <td>3306.762000</td>\n",
       "    </tr>\n",
       "    <tr>\n",
       "      <td>25%</td>\n",
       "      <td>0.000000</td>\n",
       "      <td>-2747.423625</td>\n",
       "      <td>33.000000</td>\n",
       "      <td>1.000000</td>\n",
       "      <td>0.000000</td>\n",
       "      <td>0.000000</td>\n",
       "      <td>16488.504500</td>\n",
       "    </tr>\n",
       "    <tr>\n",
       "      <td>50%</td>\n",
       "      <td>0.000000</td>\n",
       "      <td>-1203.369529</td>\n",
       "      <td>42.000000</td>\n",
       "      <td>1.000000</td>\n",
       "      <td>0.000000</td>\n",
       "      <td>0.000000</td>\n",
       "      <td>23202.870000</td>\n",
       "    </tr>\n",
       "    <tr>\n",
       "      <td>75%</td>\n",
       "      <td>1.000000</td>\n",
       "      <td>-291.095954</td>\n",
       "      <td>53.000000</td>\n",
       "      <td>1.000000</td>\n",
       "      <td>1.000000</td>\n",
       "      <td>0.000000</td>\n",
       "      <td>32549.611000</td>\n",
       "    </tr>\n",
       "    <tr>\n",
       "      <td>max</td>\n",
       "      <td>20.000000</td>\n",
       "      <td>401755.400475</td>\n",
       "      <td>75.000000</td>\n",
       "      <td>4.000000</td>\n",
       "      <td>4.000000</td>\n",
       "      <td>1.000000</td>\n",
       "      <td>362496.645000</td>\n",
       "    </tr>\n",
       "  </tbody>\n",
       "</table>\n",
       "</div>"
      ],
      "text/plain": [
       "           children  days_employed     dob_years  education_id  \\\n",
       "count  21525.000000   19351.000000  21525.000000  21525.000000   \n",
       "mean       0.538908   63046.497661     43.293380      0.817236   \n",
       "std        1.381587  140827.311974     12.574584      0.548138   \n",
       "min       -1.000000  -18388.949901      0.000000      0.000000   \n",
       "25%        0.000000   -2747.423625     33.000000      1.000000   \n",
       "50%        0.000000   -1203.369529     42.000000      1.000000   \n",
       "75%        1.000000    -291.095954     53.000000      1.000000   \n",
       "max       20.000000  401755.400475     75.000000      4.000000   \n",
       "\n",
       "       family_status_id          debt   total_income  \n",
       "count      21525.000000  21525.000000   19351.000000  \n",
       "mean           0.972544      0.080883   26787.568355  \n",
       "std            1.420324      0.272661   16475.450632  \n",
       "min            0.000000      0.000000    3306.762000  \n",
       "25%            0.000000      0.000000   16488.504500  \n",
       "50%            0.000000      0.000000   23202.870000  \n",
       "75%            1.000000      0.000000   32549.611000  \n",
       "max            4.000000      1.000000  362496.645000  "
      ]
     },
     "metadata": {},
     "output_type": "display_data"
    }
   ],
   "source": [
    "# Summarizing only numerical columns\n",
    "display(df.describe(include = [np.number]))"
   ]
  },
  {
   "cell_type": "code",
   "execution_count": 6,
   "metadata": {
    "scrolled": false
   },
   "outputs": [
    {
     "data": {
      "text/html": [
       "<div>\n",
       "<style scoped>\n",
       "    .dataframe tbody tr th:only-of-type {\n",
       "        vertical-align: middle;\n",
       "    }\n",
       "\n",
       "    .dataframe tbody tr th {\n",
       "        vertical-align: top;\n",
       "    }\n",
       "\n",
       "    .dataframe thead th {\n",
       "        text-align: right;\n",
       "    }\n",
       "</style>\n",
       "<table border=\"1\" class=\"dataframe\">\n",
       "  <thead>\n",
       "    <tr style=\"text-align: right;\">\n",
       "      <th></th>\n",
       "      <th>education</th>\n",
       "      <th>family_status</th>\n",
       "      <th>gender</th>\n",
       "      <th>income_type</th>\n",
       "      <th>purpose</th>\n",
       "    </tr>\n",
       "  </thead>\n",
       "  <tbody>\n",
       "    <tr>\n",
       "      <td>count</td>\n",
       "      <td>21525</td>\n",
       "      <td>21525</td>\n",
       "      <td>21525</td>\n",
       "      <td>21525</td>\n",
       "      <td>21525</td>\n",
       "    </tr>\n",
       "    <tr>\n",
       "      <td>unique</td>\n",
       "      <td>15</td>\n",
       "      <td>5</td>\n",
       "      <td>3</td>\n",
       "      <td>8</td>\n",
       "      <td>38</td>\n",
       "    </tr>\n",
       "    <tr>\n",
       "      <td>top</td>\n",
       "      <td>secondary education</td>\n",
       "      <td>married</td>\n",
       "      <td>F</td>\n",
       "      <td>employee</td>\n",
       "      <td>wedding ceremony</td>\n",
       "    </tr>\n",
       "    <tr>\n",
       "      <td>freq</td>\n",
       "      <td>13750</td>\n",
       "      <td>12380</td>\n",
       "      <td>14236</td>\n",
       "      <td>11119</td>\n",
       "      <td>797</td>\n",
       "    </tr>\n",
       "  </tbody>\n",
       "</table>\n",
       "</div>"
      ],
      "text/plain": [
       "                  education family_status gender income_type           purpose\n",
       "count                 21525         21525  21525       21525             21525\n",
       "unique                   15             5      3           8                38\n",
       "top     secondary education       married      F    employee  wedding ceremony\n",
       "freq                  13750         12380  14236       11119               797"
      ]
     },
     "metadata": {},
     "output_type": "display_data"
    }
   ],
   "source": [
    "# Summarizing only categorical columns\n",
    "display(df.describe(include = ['O']))"
   ]
  },
  {
   "cell_type": "code",
   "execution_count": 7,
   "metadata": {},
   "outputs": [
    {
     "data": {
      "text/plain": [
       "0.08088269454123112"
      ]
     },
     "execution_count": 7,
     "metadata": {},
     "output_type": "execute_result"
    }
   ],
   "source": [
    "## calculating the probability of default (debt =1)\n",
    "df['debt'].mean()"
   ]
  },
  {
   "cell_type": "markdown",
   "metadata": {},
   "source": [
    "**We have 8% default rate**"
   ]
  },
  {
   "cell_type": "code",
   "execution_count": 8,
   "metadata": {},
   "outputs": [
    {
     "data": {
      "text/html": [
       "<div>\n",
       "<style scoped>\n",
       "    .dataframe tbody tr th:only-of-type {\n",
       "        vertical-align: middle;\n",
       "    }\n",
       "\n",
       "    .dataframe tbody tr th {\n",
       "        vertical-align: top;\n",
       "    }\n",
       "\n",
       "    .dataframe thead th {\n",
       "        text-align: right;\n",
       "    }\n",
       "</style>\n",
       "<table border=\"1\" class=\"dataframe\">\n",
       "  <thead>\n",
       "    <tr style=\"text-align: right;\">\n",
       "      <th></th>\n",
       "      <th>count</th>\n",
       "      <th>sum</th>\n",
       "      <th>mean</th>\n",
       "    </tr>\n",
       "    <tr>\n",
       "      <th>gender</th>\n",
       "      <th></th>\n",
       "      <th></th>\n",
       "      <th></th>\n",
       "    </tr>\n",
       "  </thead>\n",
       "  <tbody>\n",
       "    <tr>\n",
       "      <td>F</td>\n",
       "      <td>14236</td>\n",
       "      <td>994</td>\n",
       "      <td>0.069823</td>\n",
       "    </tr>\n",
       "    <tr>\n",
       "      <td>M</td>\n",
       "      <td>7288</td>\n",
       "      <td>747</td>\n",
       "      <td>0.102497</td>\n",
       "    </tr>\n",
       "    <tr>\n",
       "      <td>XNA</td>\n",
       "      <td>1</td>\n",
       "      <td>0</td>\n",
       "      <td>0.000000</td>\n",
       "    </tr>\n",
       "  </tbody>\n",
       "</table>\n",
       "</div>"
      ],
      "text/plain": [
       "        count  sum      mean\n",
       "gender                      \n",
       "F       14236  994  0.069823\n",
       "M        7288  747  0.102497\n",
       "XNA         1    0  0.000000"
      ]
     },
     "execution_count": 8,
     "metadata": {},
     "output_type": "execute_result"
    }
   ],
   "source": [
    "## calculating the probability of default (debt =1)\n",
    "df.pivot_table(index = 'gender',values = ['debt'], aggfunc = ['count','sum','mean'])\n",
    "# using group by\n",
    "df.groupby(['gender'])['debt'].agg(['count','sum','mean'])"
   ]
  },
  {
   "cell_type": "code",
   "execution_count": 9,
   "metadata": {
    "scrolled": true
   },
   "outputs": [
    {
     "data": {
      "text/html": [
       "<div>\n",
       "<style scoped>\n",
       "    .dataframe tbody tr th:only-of-type {\n",
       "        vertical-align: middle;\n",
       "    }\n",
       "\n",
       "    .dataframe tbody tr th {\n",
       "        vertical-align: top;\n",
       "    }\n",
       "\n",
       "    .dataframe thead th {\n",
       "        text-align: right;\n",
       "    }\n",
       "</style>\n",
       "<table border=\"1\" class=\"dataframe\">\n",
       "  <thead>\n",
       "    <tr style=\"text-align: right;\">\n",
       "      <th></th>\n",
       "      <th></th>\n",
       "      <th>count</th>\n",
       "    </tr>\n",
       "    <tr>\n",
       "      <th>gender</th>\n",
       "      <th>debt</th>\n",
       "      <th></th>\n",
       "    </tr>\n",
       "  </thead>\n",
       "  <tbody>\n",
       "    <tr>\n",
       "      <td rowspan=\"2\" valign=\"top\">F</td>\n",
       "      <td>0</td>\n",
       "      <td>13242</td>\n",
       "    </tr>\n",
       "    <tr>\n",
       "      <td>1</td>\n",
       "      <td>994</td>\n",
       "    </tr>\n",
       "    <tr>\n",
       "      <td rowspan=\"2\" valign=\"top\">M</td>\n",
       "      <td>0</td>\n",
       "      <td>6541</td>\n",
       "    </tr>\n",
       "    <tr>\n",
       "      <td>1</td>\n",
       "      <td>747</td>\n",
       "    </tr>\n",
       "    <tr>\n",
       "      <td>XNA</td>\n",
       "      <td>0</td>\n",
       "      <td>1</td>\n",
       "    </tr>\n",
       "  </tbody>\n",
       "</table>\n",
       "</div>"
      ],
      "text/plain": [
       "             count\n",
       "gender debt       \n",
       "F      0     13242\n",
       "       1       994\n",
       "M      0      6541\n",
       "       1       747\n",
       "XNA    0         1"
      ]
     },
     "execution_count": 9,
     "metadata": {},
     "output_type": "execute_result"
    }
   ],
   "source": [
    "df.groupby(['gender','debt'])['debt'].agg(['count'])"
   ]
  },
  {
   "cell_type": "code",
   "execution_count": 10,
   "metadata": {},
   "outputs": [
    {
     "data": {
      "text/html": [
       "<style  type=\"text/css\" >\n",
       "    #T_3f6c8882_8488_11ea_a6d3_02420a000348row1_col1 {\n",
       "            background-color :  limegreen;\n",
       "        }</style><table id=\"T_3f6c8882_8488_11ea_a6d3_02420a000348\" ><thead>    <tr>        <th class=\"blank level0\" ></th>        <th class=\"col_heading level0 col0\" >count</th>        <th class=\"col_heading level0 col1\" >mean</th>    </tr>    <tr>        <th class=\"index_name level0\" >gender</th>        <th class=\"blank\" ></th>        <th class=\"blank\" ></th>    </tr></thead><tbody>\n",
       "                <tr>\n",
       "                        <th id=\"T_3f6c8882_8488_11ea_a6d3_02420a000348level0_row0\" class=\"row_heading level0 row0\" >F</th>\n",
       "                        <td id=\"T_3f6c8882_8488_11ea_a6d3_02420a000348row0_col0\" class=\"data row0 col0\" >14236</td>\n",
       "                        <td id=\"T_3f6c8882_8488_11ea_a6d3_02420a000348row0_col1\" class=\"data row0 col1\" >7.0%</td>\n",
       "            </tr>\n",
       "            <tr>\n",
       "                        <th id=\"T_3f6c8882_8488_11ea_a6d3_02420a000348level0_row1\" class=\"row_heading level0 row1\" >M</th>\n",
       "                        <td id=\"T_3f6c8882_8488_11ea_a6d3_02420a000348row1_col0\" class=\"data row1 col0\" >7288</td>\n",
       "                        <td id=\"T_3f6c8882_8488_11ea_a6d3_02420a000348row1_col1\" class=\"data row1 col1\" >10.2%</td>\n",
       "            </tr>\n",
       "            <tr>\n",
       "                        <th id=\"T_3f6c8882_8488_11ea_a6d3_02420a000348level0_row2\" class=\"row_heading level0 row2\" >XNA</th>\n",
       "                        <td id=\"T_3f6c8882_8488_11ea_a6d3_02420a000348row2_col0\" class=\"data row2 col0\" >1</td>\n",
       "                        <td id=\"T_3f6c8882_8488_11ea_a6d3_02420a000348row2_col1\" class=\"data row2 col1\" >0.0%</td>\n",
       "            </tr>\n",
       "    </tbody></table>"
      ],
      "text/plain": [
       "<pandas.io.formats.style.Styler at 0x7f031bcc85d0>"
      ]
     },
     "execution_count": 10,
     "metadata": {},
     "output_type": "execute_result"
    }
   ],
   "source": [
    "## highlight if probability of default greater than the general value (8%)\n",
    "\n",
    "(df.groupby(['gender'])['debt']\n",
    ".agg(['count', 'mean'])\n",
    ".sort_values('count',ascending=False)\n",
    ".style\n",
    ".format({\n",
    "    'mean': '{:,.1%}'.format,\n",
    "})\n",
    ".applymap(\n",
    "     lambda x: 'background-color : limegreen' if x>0.08 else '', \n",
    "     subset=['mean']))"
   ]
  },
  {
   "cell_type": "markdown",
   "metadata": {},
   "source": [
    "### Conclusion"
   ]
  },
  {
   "cell_type": "markdown",
   "metadata": {},
   "source": [
    "At a first glance we can observe that:\n",
    "- There are 21525 observations and 12 features in the credit scoring dataset.\n",
    "- There are 4 categorial features, and 8 numeric features (type int and float).\n",
    "- The following features have missing values: days_employed, and total_income.\n",
    "\n",
    "Some data will require preprocessing, for instance:\n",
    "- Some features might present collinearity. For example, education and education_id.\n",
    "- Some data types might need to be replace it. For example, days_employed, as it should be an integer number.\n",
    "- Al least 25% of values in days_employed have negative values. It means nothing. Just rubbish.\n",
    "- The minimum value for children is -1, which could be a dead member, but we are going to assume that this data has errors - human factor.\n",
    "- The maximum value for children is 20, which it is also incorrect."
   ]
  },
  {
   "cell_type": "markdown",
   "metadata": {},
   "source": [
    "<div class=\"alert alert-block alert-info\">\n",
    "<h2> Comments </h2>\n",
    "</div>\n",
    "\n",
    "Great :)\n",
    "\n",
    "I won't agree with you on these points for now:\n",
    "\n",
    "<blockquote>\n",
    "    <ul>\n",
    "        <li>Al least 25% of values in days_employed have negative values. It means nothing. Just rubbish.</li>\n",
    "        <li>The maximum value for children is 20, which it is also incorrect.</li>\n",
    "    </ul>\n",
    "</blockquote>\n",
    "\n",
    "We'll see what you will decide further :)\n",
    "\n",
    "**UPD**. It is all well explained and processed by you further on step 2 👍\n",
    "\n",
    "------------"
   ]
  },
  {
   "cell_type": "markdown",
   "metadata": {},
   "source": [
    "### Step 2. Data preprocessing\n",
    "\n",
    "- Identify and fill in missing values.\n",
    "- Replace the real number data type with the integer type.\n",
    "- Delete duplicate data.\n",
    "- Categorize the data."
   ]
  },
  {
   "cell_type": "markdown",
   "metadata": {},
   "source": [
    "### Processing missing values\n",
    "\n",
    "The Problem with leaving nulls in the dataset or redefining them as 'NA' is that it does not solve the problem and we cannot use them in our analysis. Each time when we need to use features with null values if we just discard those null observations and thus reduce size of the sample as well as dataset in general. By doing so we include bias in the reduced dataset, make it different from the original one. Thus we cannot combine conclusions derived from the reduced dataset with those that were obtained from the dataset with null observations, as these conclusions are based on different data.\n",
    "\n",
    "I believe to replace NaNs with special value/symbol and keep it in mind during analysis is a good approach. Under “keep it in mind” I mean, that you don’t evaluate mean/median through such values, just skipping them. It introduce less bias, than filling such values with mean/median inside corresponding group. Also if such NaNs is completely random, there won’t be any bias in data. So I consider this approach is the best for your goals."
   ]
  },
  {
   "cell_type": "code",
   "execution_count": 11,
   "metadata": {
    "scrolled": true
   },
   "outputs": [
    {
     "name": "stdout",
     "output_type": "stream",
     "text": [
      "children               0\n",
      "days_employed       2174\n",
      "dob_years              0\n",
      "education              0\n",
      "education_id           0\n",
      "family_status          0\n",
      "family_status_id       0\n",
      "gender                 0\n",
      "income_type            0\n",
      "debt                   0\n",
      "total_income        2174\n",
      "purpose                0\n",
      "dtype: int64\n"
     ]
    }
   ],
   "source": [
    "# First, we are going to identify null values using the isnull() method, which checks for missing values in a column. \n",
    "print(df.isnull().sum())"
   ]
  },
  {
   "cell_type": "code",
   "execution_count": 12,
   "metadata": {
    "scrolled": true
   },
   "outputs": [
    {
     "data": {
      "text/html": [
       "<div>\n",
       "<style scoped>\n",
       "    .dataframe tbody tr th:only-of-type {\n",
       "        vertical-align: middle;\n",
       "    }\n",
       "\n",
       "    .dataframe tbody tr th {\n",
       "        vertical-align: top;\n",
       "    }\n",
       "\n",
       "    .dataframe thead th {\n",
       "        text-align: right;\n",
       "    }\n",
       "</style>\n",
       "<table border=\"1\" class=\"dataframe\">\n",
       "  <thead>\n",
       "    <tr style=\"text-align: right;\">\n",
       "      <th></th>\n",
       "      <th>children</th>\n",
       "      <th>days_employed</th>\n",
       "      <th>dob_years</th>\n",
       "      <th>education</th>\n",
       "      <th>education_id</th>\n",
       "      <th>family_status</th>\n",
       "      <th>family_status_id</th>\n",
       "      <th>gender</th>\n",
       "      <th>income_type</th>\n",
       "      <th>debt</th>\n",
       "      <th>total_income</th>\n",
       "      <th>purpose</th>\n",
       "    </tr>\n",
       "  </thead>\n",
       "  <tbody>\n",
       "    <tr>\n",
       "      <td>12</td>\n",
       "      <td>0</td>\n",
       "      <td>NaN</td>\n",
       "      <td>65</td>\n",
       "      <td>secondary education</td>\n",
       "      <td>1</td>\n",
       "      <td>civil partnership</td>\n",
       "      <td>1</td>\n",
       "      <td>M</td>\n",
       "      <td>retiree</td>\n",
       "      <td>0</td>\n",
       "      <td>NaN</td>\n",
       "      <td>to have a wedding</td>\n",
       "    </tr>\n",
       "    <tr>\n",
       "      <td>26</td>\n",
       "      <td>0</td>\n",
       "      <td>NaN</td>\n",
       "      <td>41</td>\n",
       "      <td>secondary education</td>\n",
       "      <td>1</td>\n",
       "      <td>married</td>\n",
       "      <td>0</td>\n",
       "      <td>M</td>\n",
       "      <td>civil servant</td>\n",
       "      <td>0</td>\n",
       "      <td>NaN</td>\n",
       "      <td>education</td>\n",
       "    </tr>\n",
       "    <tr>\n",
       "      <td>29</td>\n",
       "      <td>0</td>\n",
       "      <td>NaN</td>\n",
       "      <td>63</td>\n",
       "      <td>secondary education</td>\n",
       "      <td>1</td>\n",
       "      <td>unmarried</td>\n",
       "      <td>4</td>\n",
       "      <td>F</td>\n",
       "      <td>retiree</td>\n",
       "      <td>0</td>\n",
       "      <td>NaN</td>\n",
       "      <td>building a real estate</td>\n",
       "    </tr>\n",
       "    <tr>\n",
       "      <td>41</td>\n",
       "      <td>0</td>\n",
       "      <td>NaN</td>\n",
       "      <td>50</td>\n",
       "      <td>secondary education</td>\n",
       "      <td>1</td>\n",
       "      <td>married</td>\n",
       "      <td>0</td>\n",
       "      <td>F</td>\n",
       "      <td>civil servant</td>\n",
       "      <td>0</td>\n",
       "      <td>NaN</td>\n",
       "      <td>second-hand car purchase</td>\n",
       "    </tr>\n",
       "    <tr>\n",
       "      <td>55</td>\n",
       "      <td>0</td>\n",
       "      <td>NaN</td>\n",
       "      <td>54</td>\n",
       "      <td>secondary education</td>\n",
       "      <td>1</td>\n",
       "      <td>civil partnership</td>\n",
       "      <td>1</td>\n",
       "      <td>F</td>\n",
       "      <td>retiree</td>\n",
       "      <td>1</td>\n",
       "      <td>NaN</td>\n",
       "      <td>to have a wedding</td>\n",
       "    </tr>\n",
       "  </tbody>\n",
       "</table>\n",
       "</div>"
      ],
      "text/plain": [
       "    children  days_employed  dob_years            education  education_id  \\\n",
       "12         0            NaN         65  secondary education             1   \n",
       "26         0            NaN         41  secondary education             1   \n",
       "29         0            NaN         63  secondary education             1   \n",
       "41         0            NaN         50  secondary education             1   \n",
       "55         0            NaN         54  secondary education             1   \n",
       "\n",
       "        family_status  family_status_id gender    income_type  debt  \\\n",
       "12  civil partnership                 1      M        retiree     0   \n",
       "26            married                 0      M  civil servant     0   \n",
       "29          unmarried                 4      F        retiree     0   \n",
       "41            married                 0      F  civil servant     0   \n",
       "55  civil partnership                 1      F        retiree     1   \n",
       "\n",
       "    total_income                   purpose  \n",
       "12           NaN         to have a wedding  \n",
       "26           NaN                 education  \n",
       "29           NaN    building a real estate  \n",
       "41           NaN  second-hand car purchase  \n",
       "55           NaN         to have a wedding  "
      ]
     },
     "metadata": {},
     "output_type": "display_data"
    }
   ],
   "source": [
    "## We are going to start imputating values for the features: days_employed, and total_income. \n",
    "#Let’s take a look at the rows that contain NaN.\n",
    "display(df[df['total_income'].isnull()].head())"
   ]
  },
  {
   "cell_type": "markdown",
   "metadata": {},
   "source": [
    "-  It seems that the rows with missing values for days_employed, also have missing values for total_income. We are going to assume that these NaNs occurred when a customer did not have a job. Therefore, we will fill NaNs with the number 0 for these two numeric features.\n",
    "- Also, as the instructor suggested, zero is a better option, because it’s very important column for banks and it’s extreme unlikely that banks leave this column empty for another reason."
   ]
  },
  {
   "cell_type": "code",
   "execution_count": 13,
   "metadata": {
    "scrolled": true
   },
   "outputs": [
    {
     "name": "stdout",
     "output_type": "stream",
     "text": [
      "children            21525\n",
      "days_employed       21525\n",
      "dob_years           21525\n",
      "education           21525\n",
      "education_id        21525\n",
      "family_status       21525\n",
      "family_status_id    21525\n",
      "gender              21525\n",
      "income_type         21525\n",
      "debt                21525\n",
      "total_income        21525\n",
      "purpose             21525\n",
      "dtype: int64\n"
     ]
    }
   ],
   "source": [
    "# Replacing NaNs values\n",
    "df['total_income'] = df['total_income'].fillna(0)\n",
    "df['days_employed'] = df['days_employed'].fillna(0)\n",
    "\n",
    "# Verifying imputation\n",
    "print(df.isnull().count())"
   ]
  },
  {
   "cell_type": "markdown",
   "metadata": {},
   "source": [
    "<div class=\"alert alert-block alert-info\">\n",
    "<h2> Comments </h2>\n",
    "</div>\n",
    "\n",
    "Good :)\n",
    "\n",
    "------------"
   ]
  },
  {
   "cell_type": "code",
   "execution_count": 14,
   "metadata": {
    "scrolled": true
   },
   "outputs": [
    {
     "name": "stdout",
     "output_type": "stream",
     "text": [
      "F      14236\n",
      "M       7288\n",
      "XNA        1\n",
      "Name: gender, dtype: int64\n"
     ]
    }
   ],
   "source": [
    "## Identifying  missing values for categorical values\n",
    "print(df['gender'].value_counts())"
   ]
  },
  {
   "cell_type": "code",
   "execution_count": 15,
   "metadata": {
    "scrolled": true
   },
   "outputs": [
    {
     "data": {
      "text/html": [
       "<div>\n",
       "<style scoped>\n",
       "    .dataframe tbody tr th:only-of-type {\n",
       "        vertical-align: middle;\n",
       "    }\n",
       "\n",
       "    .dataframe tbody tr th {\n",
       "        vertical-align: top;\n",
       "    }\n",
       "\n",
       "    .dataframe thead th {\n",
       "        text-align: right;\n",
       "    }\n",
       "</style>\n",
       "<table border=\"1\" class=\"dataframe\">\n",
       "  <thead>\n",
       "    <tr style=\"text-align: right;\">\n",
       "      <th></th>\n",
       "      <th>children</th>\n",
       "      <th>days_employed</th>\n",
       "      <th>dob_years</th>\n",
       "      <th>education</th>\n",
       "      <th>education_id</th>\n",
       "      <th>family_status</th>\n",
       "      <th>family_status_id</th>\n",
       "      <th>gender</th>\n",
       "      <th>income_type</th>\n",
       "      <th>debt</th>\n",
       "      <th>total_income</th>\n",
       "      <th>purpose</th>\n",
       "    </tr>\n",
       "  </thead>\n",
       "  <tbody>\n",
       "    <tr>\n",
       "      <td>10701</td>\n",
       "      <td>0</td>\n",
       "      <td>-2358.600502</td>\n",
       "      <td>24</td>\n",
       "      <td>some college</td>\n",
       "      <td>2</td>\n",
       "      <td>civil partnership</td>\n",
       "      <td>1</td>\n",
       "      <td>XNA</td>\n",
       "      <td>business</td>\n",
       "      <td>0</td>\n",
       "      <td>32624.825</td>\n",
       "      <td>buy real estate</td>\n",
       "    </tr>\n",
       "  </tbody>\n",
       "</table>\n",
       "</div>"
      ],
      "text/plain": [
       "       children  days_employed  dob_years     education  education_id  \\\n",
       "10701         0   -2358.600502         24  some college             2   \n",
       "\n",
       "           family_status  family_status_id gender income_type  debt  \\\n",
       "10701  civil partnership                 1    XNA    business     0   \n",
       "\n",
       "       total_income          purpose  \n",
       "10701     32624.825  buy real estate  "
      ]
     },
     "metadata": {},
     "output_type": "display_data"
    }
   ],
   "source": [
    "## There is one observation with a missing value, having a level of \"XNA\".\n",
    "# Let's observe this row \n",
    "display(df [ df['gender']== 'XNA'])"
   ]
  },
  {
   "cell_type": "markdown",
   "metadata": {},
   "source": [
    "- As there is only one observation as missing value for the gender feature, which represent less than the 1% of the data. We will drop this value."
   ]
  },
  {
   "cell_type": "code",
   "execution_count": 16,
   "metadata": {},
   "outputs": [
    {
     "name": "stdout",
     "output_type": "stream",
     "text": [
      "length before: 21525 and after dropping a row: 21524\n"
     ]
    }
   ],
   "source": [
    "length_before = len(df)\n",
    "df = df.drop([10701],axis=0) # dropping index 10701\n",
    "length_after = len(df)\n",
    "\n",
    "print('length before: {} and after dropping a row: {}'.format(length_before,length_after))"
   ]
  },
  {
   "cell_type": "markdown",
   "metadata": {},
   "source": [
    "### Conclusion"
   ]
  },
  {
   "cell_type": "markdown",
   "metadata": {},
   "source": [
    "- Missing values for the numeric features: **days_employed, and total_income** were identified using the using the isnull() method, which checks for missing values in a column. \n",
    "\n",
    "A possible reason for these missing values was that these missing values occurred when a customer did not have a job, as the rows with missing values for days_employed, also have missing values for total_income. \n",
    "\n",
    "In order to avoid losing rows with important data, we replaced the NaN value in the columns with zeros, using the fillna() method (filling with N/A), where the argument is a substitute for the missing values. \n",
    "\n",
    "- Missing values for the categorical feature: **gender** was identified using the value_counts() method which count the unique values whithin the feature. \n",
    "\n",
    "As there is only one observation as missing value for the gender feature, the possible reason for this behavior was a data entry error. \n",
    "\n",
    "This missing value represents less than the 1% of the data. Threfore, we dropped this value from the dataset using the drop() method."
   ]
  },
  {
   "cell_type": "markdown",
   "metadata": {},
   "source": [
    "<div class=\"alert alert-block alert-info\">\n",
    "<h2> Comments </h2>\n",
    "</div>\n",
    "\n",
    "Great :)\n",
    "\n",
    "------------"
   ]
  },
  {
   "cell_type": "markdown",
   "metadata": {},
   "source": [
    "### Data type replacement\n",
    "\n",
    "**Note from instructor**: Real number is float data type. If you feature has integer nature, it’s better to store it as int. For instance, if your feature is the number of floor, it’s strange to store it as a float, because you expect it to be integer. Also float numbers take more memory than int."
   ]
  },
  {
   "cell_type": "markdown",
   "metadata": {},
   "source": [
    "There are two variables with float type, when we obbserve the info table:\n",
    "    - days_employed\n",
    "    - income\n",
    "And only days_employed makes sense to be changed to integer type. As income, in financial terms, will be a float number."
   ]
  },
  {
   "cell_type": "code",
   "execution_count": 17,
   "metadata": {},
   "outputs": [
    {
     "name": "stdout",
     "output_type": "stream",
     "text": [
      "<class 'pandas.core.frame.DataFrame'>\n",
      "Int64Index: 21524 entries, 0 to 21524\n",
      "Data columns (total 12 columns):\n",
      "children            21524 non-null int64\n",
      "days_employed       21524 non-null int64\n",
      "dob_years           21524 non-null int64\n",
      "education           21524 non-null object\n",
      "education_id        21524 non-null int64\n",
      "family_status       21524 non-null object\n",
      "family_status_id    21524 non-null int64\n",
      "gender              21524 non-null object\n",
      "income_type         21524 non-null object\n",
      "debt                21524 non-null int64\n",
      "total_income        21524 non-null float64\n",
      "purpose             21524 non-null object\n",
      "dtypes: float64(1), int64(6), object(5)\n",
      "memory usage: 2.1+ MB\n",
      "None\n"
     ]
    }
   ],
   "source": [
    "# Repalcing data type\n",
    "df['days_employed'] =df['days_employed'].astype('int')\n",
    "\n",
    "# Verifying data type\n",
    "print(df.info())"
   ]
  },
  {
   "cell_type": "markdown",
   "metadata": {},
   "source": [
    "### Conclusion"
   ]
  },
  {
   "cell_type": "markdown",
   "metadata": {},
   "source": [
    "Replace the real number data type with the integer type.\n",
    "—which method you used to change the data type and why;\n",
    "—which dictionaries you've selected for this data set and why.\n",
    "\n",
    "\n",
    "There are two variables with float type, when we obbserve the info table:\n",
    "    - days_employed\n",
    "    - income\n",
    "And only days_employed makes sense to be changed to the integer type. As income, in financial terms, will be a float number.\n",
    "\n",
    "The data type of days_employed was transformed using the .astype('int') method.\n"
   ]
  },
  {
   "cell_type": "markdown",
   "metadata": {},
   "source": [
    "<div class=\"alert alert-block alert-info\">\n",
    "<h2> Comments </h2>\n",
    "</div>\n",
    "\n",
    "Great :)\n",
    "\n",
    "Also, `debt` datatype should be changed to boolean, as it is not a quantitative feature.\n",
    "\n",
    "------------"
   ]
  },
  {
   "cell_type": "markdown",
   "metadata": {},
   "source": [
    "### Processing duplicates\n",
    "- Each row corresponds to a customer."
   ]
  },
  {
   "cell_type": "code",
   "execution_count": 18,
   "metadata": {},
   "outputs": [
    {
     "name": "stdout",
     "output_type": "stream",
     "text": [
      "Before:\n",
      "secondary education    13750\n",
      "bachelor's degree       4718\n",
      "SECONDARY EDUCATION      772\n",
      "Secondary Education      711\n",
      "some college             667\n",
      "BACHELOR'S DEGREE        274\n",
      "Bachelor's Degree        268\n",
      "primary education        250\n",
      "Some College              47\n",
      "SOME COLLEGE              29\n",
      "PRIMARY EDUCATION         17\n",
      "Primary Education         15\n",
      "graduate degree            4\n",
      "GRADUATE DEGREE            1\n",
      "Graduate Degree            1\n",
      "Name: education, dtype: int64\n",
      "------\n",
      "After:\n",
      "secondary education    15233\n",
      "bachelor's degree       5260\n",
      "some college             743\n",
      "primary education        282\n",
      "graduate degree            6\n",
      "Name: education, dtype: int64\n"
     ]
    }
   ],
   "source": [
    "## first lets put the content of the education feature as lowercase:\n",
    "# if we don't clean the data in this column, the .duplicated() method won't consider \"GRADUATE DEGREE\" and \"graduate degree\"\n",
    "print('Before:')\n",
    "print(df['education'].value_counts())\n",
    "print('------')\n",
    "df['education'] = df['education'].str.lower()\n",
    "print('After:')\n",
    "print(df['education'].value_counts())"
   ]
  },
  {
   "cell_type": "code",
   "execution_count": 19,
   "metadata": {},
   "outputs": [
    {
     "name": "stdout",
     "output_type": "stream",
     "text": [
      "Duplicated rows: 71\n",
      "Reviewing some duplicates:\n"
     ]
    },
    {
     "data": {
      "text/html": [
       "<div>\n",
       "<style scoped>\n",
       "    .dataframe tbody tr th:only-of-type {\n",
       "        vertical-align: middle;\n",
       "    }\n",
       "\n",
       "    .dataframe tbody tr th {\n",
       "        vertical-align: top;\n",
       "    }\n",
       "\n",
       "    .dataframe thead th {\n",
       "        text-align: right;\n",
       "    }\n",
       "</style>\n",
       "<table border=\"1\" class=\"dataframe\">\n",
       "  <thead>\n",
       "    <tr style=\"text-align: right;\">\n",
       "      <th></th>\n",
       "      <th>children</th>\n",
       "      <th>days_employed</th>\n",
       "      <th>dob_years</th>\n",
       "      <th>education</th>\n",
       "      <th>education_id</th>\n",
       "      <th>family_status</th>\n",
       "      <th>family_status_id</th>\n",
       "      <th>gender</th>\n",
       "      <th>income_type</th>\n",
       "      <th>debt</th>\n",
       "      <th>total_income</th>\n",
       "      <th>purpose</th>\n",
       "    </tr>\n",
       "  </thead>\n",
       "  <tbody>\n",
       "    <tr>\n",
       "      <td>2849</td>\n",
       "      <td>0</td>\n",
       "      <td>0</td>\n",
       "      <td>41</td>\n",
       "      <td>secondary education</td>\n",
       "      <td>1</td>\n",
       "      <td>married</td>\n",
       "      <td>0</td>\n",
       "      <td>F</td>\n",
       "      <td>employee</td>\n",
       "      <td>0</td>\n",
       "      <td>0.0</td>\n",
       "      <td>purchase of the house for my family</td>\n",
       "    </tr>\n",
       "    <tr>\n",
       "      <td>3290</td>\n",
       "      <td>0</td>\n",
       "      <td>0</td>\n",
       "      <td>58</td>\n",
       "      <td>secondary education</td>\n",
       "      <td>1</td>\n",
       "      <td>civil partnership</td>\n",
       "      <td>1</td>\n",
       "      <td>F</td>\n",
       "      <td>retiree</td>\n",
       "      <td>0</td>\n",
       "      <td>0.0</td>\n",
       "      <td>to have a wedding</td>\n",
       "    </tr>\n",
       "    <tr>\n",
       "      <td>4182</td>\n",
       "      <td>1</td>\n",
       "      <td>0</td>\n",
       "      <td>34</td>\n",
       "      <td>bachelor's degree</td>\n",
       "      <td>0</td>\n",
       "      <td>civil partnership</td>\n",
       "      <td>1</td>\n",
       "      <td>F</td>\n",
       "      <td>employee</td>\n",
       "      <td>0</td>\n",
       "      <td>0.0</td>\n",
       "      <td>wedding ceremony</td>\n",
       "    </tr>\n",
       "    <tr>\n",
       "      <td>4851</td>\n",
       "      <td>0</td>\n",
       "      <td>0</td>\n",
       "      <td>60</td>\n",
       "      <td>secondary education</td>\n",
       "      <td>1</td>\n",
       "      <td>civil partnership</td>\n",
       "      <td>1</td>\n",
       "      <td>F</td>\n",
       "      <td>retiree</td>\n",
       "      <td>0</td>\n",
       "      <td>0.0</td>\n",
       "      <td>wedding ceremony</td>\n",
       "    </tr>\n",
       "    <tr>\n",
       "      <td>5557</td>\n",
       "      <td>0</td>\n",
       "      <td>0</td>\n",
       "      <td>58</td>\n",
       "      <td>secondary education</td>\n",
       "      <td>1</td>\n",
       "      <td>civil partnership</td>\n",
       "      <td>1</td>\n",
       "      <td>F</td>\n",
       "      <td>retiree</td>\n",
       "      <td>0</td>\n",
       "      <td>0.0</td>\n",
       "      <td>to have a wedding</td>\n",
       "    </tr>\n",
       "    <tr>\n",
       "      <td>6312</td>\n",
       "      <td>0</td>\n",
       "      <td>0</td>\n",
       "      <td>30</td>\n",
       "      <td>secondary education</td>\n",
       "      <td>1</td>\n",
       "      <td>married</td>\n",
       "      <td>0</td>\n",
       "      <td>M</td>\n",
       "      <td>employee</td>\n",
       "      <td>0</td>\n",
       "      <td>0.0</td>\n",
       "      <td>building a real estate</td>\n",
       "    </tr>\n",
       "    <tr>\n",
       "      <td>7808</td>\n",
       "      <td>0</td>\n",
       "      <td>0</td>\n",
       "      <td>57</td>\n",
       "      <td>secondary education</td>\n",
       "      <td>1</td>\n",
       "      <td>civil partnership</td>\n",
       "      <td>1</td>\n",
       "      <td>F</td>\n",
       "      <td>retiree</td>\n",
       "      <td>0</td>\n",
       "      <td>0.0</td>\n",
       "      <td>having a wedding</td>\n",
       "    </tr>\n",
       "    <tr>\n",
       "      <td>7921</td>\n",
       "      <td>0</td>\n",
       "      <td>0</td>\n",
       "      <td>64</td>\n",
       "      <td>bachelor's degree</td>\n",
       "      <td>0</td>\n",
       "      <td>civil partnership</td>\n",
       "      <td>1</td>\n",
       "      <td>F</td>\n",
       "      <td>retiree</td>\n",
       "      <td>0</td>\n",
       "      <td>0.0</td>\n",
       "      <td>having a wedding</td>\n",
       "    </tr>\n",
       "    <tr>\n",
       "      <td>7938</td>\n",
       "      <td>0</td>\n",
       "      <td>0</td>\n",
       "      <td>71</td>\n",
       "      <td>secondary education</td>\n",
       "      <td>1</td>\n",
       "      <td>civil partnership</td>\n",
       "      <td>1</td>\n",
       "      <td>F</td>\n",
       "      <td>retiree</td>\n",
       "      <td>0</td>\n",
       "      <td>0.0</td>\n",
       "      <td>having a wedding</td>\n",
       "    </tr>\n",
       "    <tr>\n",
       "      <td>8583</td>\n",
       "      <td>0</td>\n",
       "      <td>0</td>\n",
       "      <td>58</td>\n",
       "      <td>bachelor's degree</td>\n",
       "      <td>0</td>\n",
       "      <td>unmarried</td>\n",
       "      <td>4</td>\n",
       "      <td>F</td>\n",
       "      <td>retiree</td>\n",
       "      <td>0</td>\n",
       "      <td>0.0</td>\n",
       "      <td>supplementary education</td>\n",
       "    </tr>\n",
       "  </tbody>\n",
       "</table>\n",
       "</div>"
      ],
      "text/plain": [
       "      children  days_employed  dob_years            education  education_id  \\\n",
       "2849         0              0         41  secondary education             1   \n",
       "3290         0              0         58  secondary education             1   \n",
       "4182         1              0         34    bachelor's degree             0   \n",
       "4851         0              0         60  secondary education             1   \n",
       "5557         0              0         58  secondary education             1   \n",
       "6312         0              0         30  secondary education             1   \n",
       "7808         0              0         57  secondary education             1   \n",
       "7921         0              0         64    bachelor's degree             0   \n",
       "7938         0              0         71  secondary education             1   \n",
       "8583         0              0         58    bachelor's degree             0   \n",
       "\n",
       "          family_status  family_status_id gender income_type  debt  \\\n",
       "2849            married                 0      F    employee     0   \n",
       "3290  civil partnership                 1      F     retiree     0   \n",
       "4182  civil partnership                 1      F    employee     0   \n",
       "4851  civil partnership                 1      F     retiree     0   \n",
       "5557  civil partnership                 1      F     retiree     0   \n",
       "6312            married                 0      M    employee     0   \n",
       "7808  civil partnership                 1      F     retiree     0   \n",
       "7921  civil partnership                 1      F     retiree     0   \n",
       "7938  civil partnership                 1      F     retiree     0   \n",
       "8583          unmarried                 4      F     retiree     0   \n",
       "\n",
       "      total_income                              purpose  \n",
       "2849           0.0  purchase of the house for my family  \n",
       "3290           0.0                    to have a wedding  \n",
       "4182           0.0                     wedding ceremony  \n",
       "4851           0.0                     wedding ceremony  \n",
       "5557           0.0                    to have a wedding  \n",
       "6312           0.0               building a real estate  \n",
       "7808           0.0                     having a wedding  \n",
       "7921           0.0                     having a wedding  \n",
       "7938           0.0                     having a wedding  \n",
       "8583           0.0              supplementary education  "
      ]
     },
     "metadata": {},
     "output_type": "display_data"
    },
    {
     "name": "stdout",
     "output_type": "stream",
     "text": [
      "Veryfing duplicated rows: 0\n"
     ]
    }
   ],
   "source": [
    "# Searching for duplicate data\n",
    "print('Duplicated rows:',df.duplicated().sum())\n",
    "#print(df[‘col’].duplicated().sum())\n",
    "\n",
    "# Reviewing some duplicates:\n",
    "print('Reviewing some duplicates:')\n",
    "display(df[df.duplicated()].head(10))\n",
    "\n",
    "# Deleting duplicates\n",
    "df.drop_duplicates(inplace=True)\n",
    "\n",
    "# verifying duplicated rows\n",
    "print('Veryfing duplicated rows:',df.duplicated().sum())\n",
    "\n",
    "# Reseting the index number\n",
    "df = df.dropna().reset_index(drop=True)"
   ]
  },
  {
   "cell_type": "markdown",
   "metadata": {},
   "source": [
    "### Conclusion"
   ]
  },
  {
   "cell_type": "markdown",
   "metadata": {},
   "source": [
    "54 duplicated rows were identified using the df.duplicated() and sum() method. Where the duplicated() method returns Series with the value True if there are duplicates, False if there aren’t. When we partner it up it with sum(), it returns the number of duplicates.\n",
    "\n",
    "After identified the duplicates, I reviewed the top 10 rows and no pattern was identified. Therefore, we attribute the dupplicate to entry data repetitions, human factor.\n",
    "\n",
    "Finally, the duplicates were removed from the dataset using the drop_duplicates() method. And we reseted the index with the dropna().reset_index(drop=True) method. Because when we call the drop_duplicates() method, the rows containing repetitions are deleted including their indices.\n",
    "\n",
    "Further analysis of the feature content will be done in the Categorizing Data step."
   ]
  },
  {
   "cell_type": "markdown",
   "metadata": {},
   "source": [
    "<div class=\"alert alert-block alert-info\">\n",
    "<h2> Comments </h2>\n",
    "</div>\n",
    "\n",
    "Great :)\n",
    "\n",
    "------------"
   ]
  },
  {
   "cell_type": "markdown",
   "metadata": {},
   "source": [
    "### Categorizing Data\n",
    "\n",
    "**Notes from instructor**: The data may contain artifacts, or values that don't correspond to reality—for instance, a negative number of days employed. This kind of thing happens when you're working with real data. You need to describe the possible reasons such data may have turned up and process it.\n",
    "\n",
    "- For instance, for **days_employed**:\n",
    "If you’ll plot histogram of such data and see that distribution of negative values is different out of positive values, you can assume, that something is wrong with them. If you want to check the problem is only with a sign, you can take absolute value and plot the same histogram again. If now negative values look like fine, their distribution is coincided with distribution of positive values, you can suggest that the problem really was only with sign.\n",
    "As you can see I nowhere mentioned type of distribution, thus it’s not necessary to be normal.\n",
    "About days_employed - yes, you can leave it as it is, because you don’t need it in your final analysis.\n",
    "\n",
    "- Now, for the **children** feature:\n",
    "You can’t say for 100% that 20 children is a outliers. Also it doesn’t matter. You will analyze categorized children feature. So rows with children is equal to 20 will be putted to the category, for instance, “more than 5 children”.\n",
    "How do we interpret the -1 value? How much rows this -1 children? If just several, you can drop them. If a lot, just make special category for that. For instance, “unknown”. If you don’t have a description about ‘-1’ values, it’s better to think that it’s a bug in data. Using “unk” values for it is a good choice.\n",
    "\n",
    "\n",
    "- for the variable **purpose**:\n",
    "Let’s go step by step:\n",
    "If you use only pos=“n” in method lemmatize, then only noun words will be lemmatized. In the exerciser there was a task how to deal with it. You should check the type of each word and use it in the argument pos.\n",
    "Firstly, you should to lemmatize each purpose and store it in a new column\n",
    "Secondly, you should write a function which you will use next in the .apply method.\n",
    "You need to apply your function from step 3 to the result of step 2 and get new categorized column.\n",
    "About this magic function. You dealt with very similar function in the exerciser, when you categorized age of people. This function should get row and return the category. It’s very similar to your loop, but the function should return category.\n",
    "\n",
    "- Just print variable pos_tag and you will understand why this happend.\n",
    "tag_dict = {\"J\": wordnet.ADJ,\n",
    "            \"N\": wordnet.NOUN,\n",
    "            \"V\": wordnet.VERB,\n",
    "            \"R\": wordnet.ADV}\n",
    " \n",
    "tag = nltk.pos_tag([word])[0][1][0].upper()\n",
    " \n",
    "new_word = lemmatizer.lemmatize(word, tag_dict.get(tag, wordnet.NOUN))"
   ]
  },
  {
   "cell_type": "code",
   "execution_count": 20,
   "metadata": {
    "scrolled": true
   },
   "outputs": [
    {
     "data": {
      "text/plain": [
       "Text(0.5, 0, 'Days employed')"
      ]
     },
     "execution_count": 20,
     "metadata": {},
     "output_type": "execute_result"
    },
    {
     "data": {
      "image/png": "[encoded data removed]",
      "text/plain": [
       "<Figure size 432x288 with 1 Axes>"
      ]
     },
     "metadata": {},
     "output_type": "display_data"
    }
   ],
   "source": [
    "## Starting with the days_employed feature\n",
    "# Density Plot and Histogram of days_employed\n",
    "\n",
    "sns.distplot(df['days_employed'], hist=True, kde=True,\n",
    "             bins=int(180/5), color = 'darkblue', \n",
    "             hist_kws={'edgecolor':'black'},\n",
    "             kde_kws={'linewidth': 4})\n",
    "# Add labels\n",
    "plt.title('Distribution of days_employed')\n",
    "plt.xlabel('Days employed')\n"
   ]
  },
  {
   "cell_type": "code",
   "execution_count": 21,
   "metadata": {
    "scrolled": true
   },
   "outputs": [
    {
     "data": {
      "text/plain": [
       "Text(0.5, 0, 'bsolute value of Days employed')"
      ]
     },
     "execution_count": 21,
     "metadata": {},
     "output_type": "execute_result"
    },
    {
     "data": {
      "image/png": "[encoded data removed]",
      "text/plain": [
       "<Figure size 432x288 with 1 Axes>"
      ]
     },
     "metadata": {},
     "output_type": "display_data"
    }
   ],
   "source": [
    "# As we can see the from the plot histogram that the distribution of negative values \n",
    "# is different out of positive values, we can assume, that something is wrong with these values.\n",
    "\n",
    "# Let's check if the problem is only with a sign.\n",
    "\n",
    "# Density Plot and Histogram of the absolute value of days_employed\n",
    "\n",
    "sns.distplot(abs(df['days_employed']), hist=True, kde=True,\n",
    "             bins=int(180/5), color = 'darkblue', \n",
    "             hist_kws={'edgecolor':'black'},\n",
    "             kde_kws={'linewidth': 4})\n",
    "# Add labels\n",
    "plt.title('Distribution of Absolute value of days_employed')\n",
    "plt.xlabel('bsolute value of Days employed')\n",
    "\n",
    "# After taking the absolute value and plot the same histogram again. \n",
    "# We cannot conclude that the problem really is only with the sign,\n",
    "# as their distribution is skwew and it is hard to assume that coincided with distribution of positive values.\n",
    "# Since this variable will be not used for further analysis in the following steps. We will not procede to do a further analysis.\n"
   ]
  },
  {
   "cell_type": "markdown",
   "metadata": {},
   "source": [
    "<div class=\"alert alert-block alert-info\">\n",
    "<h2> Comments </h2>\n",
    "</div>\n",
    "\n",
    "In `days_employed` extremely large values (about 1000 years) belong to observetions that are either `unemployed` or `retiree` (`income_type` categories). So, there seems to be a pattern :)\n",
    "\n",
    "------------"
   ]
  },
  {
   "cell_type": "code",
   "execution_count": 22,
   "metadata": {},
   "outputs": [
    {
     "data": {
      "text/plain": [
       "Text(0.5, 0, 'Number of children')"
      ]
     },
     "execution_count": 22,
     "metadata": {},
     "output_type": "execute_result"
    },
    {
     "data": {
      "image/png": "[encoded data removed]",
      "text/plain": [
       "<Figure size 432x288 with 1 Axes>"
      ]
     },
     "metadata": {},
     "output_type": "display_data"
    }
   ],
   "source": [
    "## Analyzing the variable children\n",
    "\n",
    "# Density Plot and Histogram of children\n",
    "import seaborn as sns\n",
    "sns.distplot(df['children'], hist=True, kde=True,\n",
    "             bins=int(180/5), color = 'darkgreen', \n",
    "             hist_kws={'edgecolor':'black'},\n",
    "             kde_kws={'linewidth': 4})\n",
    "\n",
    "# Add labels\n",
    "plt.title('Distribution of children')\n",
    "plt.xlabel('Number of children')"
   ]
  },
  {
   "cell_type": "code",
   "execution_count": 23,
   "metadata": {},
   "outputs": [
    {
     "name": "stdout",
     "output_type": "stream",
     "text": [
      "There are: 47 cases with value -1 for the feature children\n"
     ]
    }
   ],
   "source": [
    "# for the variable children most of the values are less than 5.\n",
    "\n",
    "# Let's find out how many observations where captured as -1\n",
    "print(\"There are: {} cases with value -1 for the feature children\".format(\n",
    "    len(df[df['children'] == -1])))"
   ]
  },
  {
   "cell_type": "code",
   "execution_count": 24,
   "metadata": {},
   "outputs": [
    {
     "data": {
      "text/html": [
       "<div>\n",
       "<style scoped>\n",
       "    .dataframe tbody tr th:only-of-type {\n",
       "        vertical-align: middle;\n",
       "    }\n",
       "\n",
       "    .dataframe tbody tr th {\n",
       "        vertical-align: top;\n",
       "    }\n",
       "\n",
       "    .dataframe thead th {\n",
       "        text-align: right;\n",
       "    }\n",
       "</style>\n",
       "<table border=\"1\" class=\"dataframe\">\n",
       "  <thead>\n",
       "    <tr style=\"text-align: right;\">\n",
       "      <th></th>\n",
       "      <th>children</th>\n",
       "      <th>days_employed</th>\n",
       "      <th>dob_years</th>\n",
       "      <th>education</th>\n",
       "      <th>education_id</th>\n",
       "      <th>family_status</th>\n",
       "      <th>family_status_id</th>\n",
       "      <th>gender</th>\n",
       "      <th>income_type</th>\n",
       "      <th>debt</th>\n",
       "      <th>total_income</th>\n",
       "      <th>purpose</th>\n",
       "      <th>children_group</th>\n",
       "    </tr>\n",
       "  </thead>\n",
       "  <tbody>\n",
       "    <tr>\n",
       "      <td>0</td>\n",
       "      <td>1</td>\n",
       "      <td>-8437</td>\n",
       "      <td>42</td>\n",
       "      <td>bachelor's degree</td>\n",
       "      <td>0</td>\n",
       "      <td>married</td>\n",
       "      <td>0</td>\n",
       "      <td>F</td>\n",
       "      <td>employee</td>\n",
       "      <td>0</td>\n",
       "      <td>40620.102</td>\n",
       "      <td>purchase of the house</td>\n",
       "      <td>1 to 4 children</td>\n",
       "    </tr>\n",
       "    <tr>\n",
       "      <td>1</td>\n",
       "      <td>1</td>\n",
       "      <td>-4024</td>\n",
       "      <td>36</td>\n",
       "      <td>secondary education</td>\n",
       "      <td>1</td>\n",
       "      <td>married</td>\n",
       "      <td>0</td>\n",
       "      <td>F</td>\n",
       "      <td>employee</td>\n",
       "      <td>0</td>\n",
       "      <td>17932.802</td>\n",
       "      <td>car purchase</td>\n",
       "      <td>1 to 4 children</td>\n",
       "    </tr>\n",
       "    <tr>\n",
       "      <td>2</td>\n",
       "      <td>0</td>\n",
       "      <td>-5623</td>\n",
       "      <td>33</td>\n",
       "      <td>secondary education</td>\n",
       "      <td>1</td>\n",
       "      <td>married</td>\n",
       "      <td>0</td>\n",
       "      <td>M</td>\n",
       "      <td>employee</td>\n",
       "      <td>0</td>\n",
       "      <td>23341.752</td>\n",
       "      <td>purchase of the house</td>\n",
       "      <td>without children</td>\n",
       "    </tr>\n",
       "  </tbody>\n",
       "</table>\n",
       "</div>"
      ],
      "text/plain": [
       "   children  days_employed  dob_years            education  education_id  \\\n",
       "0         1          -8437         42    bachelor's degree             0   \n",
       "1         1          -4024         36  secondary education             1   \n",
       "2         0          -5623         33  secondary education             1   \n",
       "\n",
       "  family_status  family_status_id gender income_type  debt  total_income  \\\n",
       "0       married                 0      F    employee     0     40620.102   \n",
       "1       married                 0      F    employee     0     17932.802   \n",
       "2       married                 0      M    employee     0     23341.752   \n",
       "\n",
       "                 purpose    children_group  \n",
       "0  purchase of the house   1 to 4 children  \n",
       "1           car purchase   1 to 4 children  \n",
       "2  purchase of the house  without children  "
      ]
     },
     "metadata": {},
     "output_type": "display_data"
    },
    {
     "data": {
      "text/plain": [
       "without children        14090\n",
       "1 to 4 children          7231\n",
       "more than 5 children       85\n",
       "unknown                    47\n",
       "Name: children_group, dtype: int64"
      ]
     },
     "metadata": {},
     "output_type": "display_data"
    }
   ],
   "source": [
    "## categorizing the variable children \n",
    "\n",
    "def children_group(children): \n",
    "    \"\"\" The function returns the children group according to children quantity, \n",
    "        by using the following rules: \n",
    "        - 'children', with value <= -1  :'unknown', \n",
    "        - children', with value = 0  :'without children', \n",
    "        - 'children', with value over  5  and up to 64 : 'more than 5 children' \n",
    "        - for all other cases : '1 to 4 children'\n",
    "    \"\"\" \n",
    "    try:\n",
    "        if children <= -1: return 'unknown' \n",
    "        elif children == 0:  return 'without children' \n",
    "        elif children >= 5:  return 'more than 5 children' \n",
    "        else: return '1 to 4 children'\n",
    "    except:\n",
    "        print('Check that the values are numeric') \n",
    "#print(children_group(-1)) # unknown\n",
    "\n",
    "\n",
    "# Creating a separate column for children categories\n",
    "df['children_group'] = df['children'].apply(children_group) \n",
    "display(df.head(3))\n",
    "\n",
    "#Now let's get data on children groups with the value_counts() method:\n",
    "display(df['children_group'].value_counts())"
   ]
  },
  {
   "cell_type": "code",
   "execution_count": 25,
   "metadata": {
    "scrolled": true
   },
   "outputs": [
    {
     "name": "stdout",
     "output_type": "stream",
     "text": [
      "38\n",
      "------\n",
      "wedding ceremony                            791\n",
      "having a wedding                            768\n",
      "to have a wedding                           765\n",
      "real estate transactions                    675\n",
      "buy commercial real estate                  661\n",
      "housing transactions                        652\n",
      "buying property for renting out             651\n",
      "transactions with commercial real estate    650\n",
      "purchase of the house                       646\n",
      "housing                                     646\n",
      "purchase of the house for my family         638\n",
      "construction of own property                635\n",
      "property                                    633\n",
      "transactions with my real estate            627\n",
      "building a real estate                      624\n",
      "purchase of my own house                    620\n",
      "buy real estate                             620\n",
      "building a property                         619\n",
      "housing renovation                          607\n",
      "buy residential real estate                 606\n",
      "buying my own car                           505\n",
      "going to university                         496\n",
      "car                                         494\n",
      "second-hand car purchase                    486\n",
      "to own a car                                478\n",
      "cars                                        478\n",
      "buying a second-hand car                    478\n",
      "to buy a car                                471\n",
      "car purchase                                461\n",
      "supplementary education                     460\n",
      "purchase of a car                           455\n",
      "university education                        452\n",
      "education                                   447\n",
      "to get a supplementary education            446\n",
      "getting an education                        442\n",
      "profile education                           436\n",
      "getting higher education                    426\n",
      "to become educated                          408\n",
      "Name: purpose, dtype: int64\n"
     ]
    }
   ],
   "source": [
    "## Identifying categorical values for the variable purpose\n",
    "\n",
    "print(df['purpose'].nunique())\n",
    "print('------')\n",
    "print(df['purpose'].value_counts())"
   ]
  },
  {
   "cell_type": "code",
   "execution_count": 26,
   "metadata": {},
   "outputs": [
    {
     "name": "stdout",
     "output_type": "stream",
     "text": [
      "Word: wedding, Stem: wed\n",
      "Word: estate, Stem: estat\n",
      "Word: housing, Stem: hous\n",
      "Word: property, Stem: properti\n",
      "Word: house, Stem: hous\n",
      "Word: car, Stem: car\n",
      "Word: education, Stem: educ\n",
      "Word: educated, Stem: educ\n",
      "Word: university, Stem: univers\n",
      "-------\n",
      "initial dictionary: {'wed': 'wedding', 'estat': 'estate', 'hous': 'house', 'properti': 'property', 'car': 'car', 'educ': 'educated', 'univers': 'university'}\n",
      "-------\n",
      "final dictionary: {'wed': 'wedding', 'estat': 'commercial housing', 'hous': 'private housing', 'properti': 'private housing', 'car': 'car', 'educ': 'education', 'univers': 'education'}\n"
     ]
    }
   ],
   "source": [
    "# As we can see, there are multiple categories that can be rearranged. For instance the purpuses: \n",
    "# wedding ceremony, having a wedding, and to have a wedding can be group together as 'wedding expenses'\n",
    "\n",
    "# We are going to use NLTK package for this purpose.\n",
    "eng_stemmer = SnowballStemmer('english')\n",
    "\n",
    "# first, we identify the common keywords and their stems to identify duplicated values later.\n",
    "words = ['wedding', 'estate', 'housing', 'property', 'house', 'car', 'education', 'educated', 'university']\n",
    "stem_dict = {}\n",
    "for word in words:\n",
    "    print('Word: {}, Stem: {}'.format(word, eng_stemmer.stem(word)))\n",
    "    stem_dict[eng_stemmer.stem(word)] = word\n",
    "print('-------')\n",
    "print ('initial dictionary:',stem_dict)\n",
    "\n",
    "# adjusting the dictionary to the new levels for the variable purpose\n",
    "stem_dict['estat'] = 'commercial housing'\n",
    "stem_dict['hous'] = 'private housing'\n",
    "stem_dict['properti'] = 'private housing'\n",
    "stem_dict['educ'] = 'education'\n",
    "stem_dict['univers'] = 'education'\n",
    "print('-------')\n",
    "print ('final dictionary:', stem_dict)"
   ]
  },
  {
   "cell_type": "code",
   "execution_count": 27,
   "metadata": {},
   "outputs": [
    {
     "name": "stdout",
     "output_type": "stream",
     "text": [
      "Checking if the categorization works:\n"
     ]
    },
    {
     "data": {
      "text/html": [
       "<div>\n",
       "<style scoped>\n",
       "    .dataframe tbody tr th:only-of-type {\n",
       "        vertical-align: middle;\n",
       "    }\n",
       "\n",
       "    .dataframe tbody tr th {\n",
       "        vertical-align: top;\n",
       "    }\n",
       "\n",
       "    .dataframe thead th {\n",
       "        text-align: right;\n",
       "    }\n",
       "</style>\n",
       "<table border=\"1\" class=\"dataframe\">\n",
       "  <thead>\n",
       "    <tr style=\"text-align: right;\">\n",
       "      <th></th>\n",
       "      <th>purpose</th>\n",
       "      <th>purpose_category</th>\n",
       "    </tr>\n",
       "  </thead>\n",
       "  <tbody>\n",
       "    <tr>\n",
       "      <td>0</td>\n",
       "      <td>purchase of the house</td>\n",
       "      <td>private housing</td>\n",
       "    </tr>\n",
       "    <tr>\n",
       "      <td>1</td>\n",
       "      <td>car purchase</td>\n",
       "      <td>car</td>\n",
       "    </tr>\n",
       "    <tr>\n",
       "      <td>2</td>\n",
       "      <td>purchase of the house</td>\n",
       "      <td>private housing</td>\n",
       "    </tr>\n",
       "    <tr>\n",
       "      <td>3</td>\n",
       "      <td>supplementary education</td>\n",
       "      <td>education</td>\n",
       "    </tr>\n",
       "    <tr>\n",
       "      <td>4</td>\n",
       "      <td>to have a wedding</td>\n",
       "      <td>wedding</td>\n",
       "    </tr>\n",
       "    <tr>\n",
       "      <td>5</td>\n",
       "      <td>purchase of the house</td>\n",
       "      <td>private housing</td>\n",
       "    </tr>\n",
       "    <tr>\n",
       "      <td>6</td>\n",
       "      <td>housing transactions</td>\n",
       "      <td>private housing</td>\n",
       "    </tr>\n",
       "    <tr>\n",
       "      <td>7</td>\n",
       "      <td>education</td>\n",
       "      <td>education</td>\n",
       "    </tr>\n",
       "    <tr>\n",
       "      <td>8</td>\n",
       "      <td>having a wedding</td>\n",
       "      <td>wedding</td>\n",
       "    </tr>\n",
       "    <tr>\n",
       "      <td>9</td>\n",
       "      <td>purchase of the house for my family</td>\n",
       "      <td>private housing</td>\n",
       "    </tr>\n",
       "  </tbody>\n",
       "</table>\n",
       "</div>"
      ],
      "text/plain": [
       "                               purpose purpose_category\n",
       "0                purchase of the house  private housing\n",
       "1                         car purchase              car\n",
       "2                purchase of the house  private housing\n",
       "3              supplementary education        education\n",
       "4                    to have a wedding          wedding\n",
       "5                purchase of the house  private housing\n",
       "6                 housing transactions  private housing\n",
       "7                            education        education\n",
       "8                     having a wedding          wedding\n",
       "9  purchase of the house for my family  private housing"
      ]
     },
     "metadata": {},
     "output_type": "display_data"
    },
    {
     "name": "stdout",
     "output_type": "stream",
     "text": [
      "frequency of new levels: \n",
      " private housing       6347\n",
      "commercial housing    4463\n",
      "car                   4306\n",
      "education             4013\n",
      "wedding               2324\n",
      "Name: purpose_category, dtype: int64\n"
     ]
    }
   ],
   "source": [
    "# Second, we define a function to match the stem_dict with every value in the column purpose\n",
    "def purpose_stem(row, stemmed_dict):\n",
    "    ''' \n",
    "    This function identify the stem of a word given a string (sentence).\n",
    "    '''\n",
    "    # first lets find the stem splitting the string by space\n",
    "    try: \n",
    "        stemmed = [eng_stemmer.stem(word) for word in row.split(' ')]\n",
    "        # print(stemmed)\n",
    "\n",
    "        # let's evaluate the list of stemmed found previously\n",
    "        # if 'wed' in stemmed: return 'wedding'\n",
    "        for key,value in stemmed_dict.items():\n",
    "            if key in stemmed: \n",
    "                return value\n",
    "    except:\n",
    "        print('Check that the values are strings')\n",
    "        \n",
    "#purpose_stem(df['purpose'][0])\n",
    "#df['purpose'].apply(purpose_stem) \n",
    "\n",
    "purpose_stem(df['purpose'][0], stem_dict)\n",
    "df['purpose_category'] = df['purpose'].apply(purpose_stem, stemmed_dict =stem_dict)\n",
    "\n",
    "#checking the output\n",
    "print(\"Checking if the categorization works:\")\n",
    "display(df[['purpose','purpose_category']].head(10))\n",
    "\n",
    "## Checking the frequency\n",
    "print(\"frequency of new levels: \\n\", df['purpose_category'].value_counts())"
   ]
  },
  {
   "cell_type": "markdown",
   "metadata": {},
   "source": [
    "### Conclusion"
   ]
  },
  {
   "cell_type": "markdown",
   "metadata": {},
   "source": [
    "Some features were categorized to facilitate the analysis. For isntance, the data that might contain artifacts, or values that do not correspond to reality and features with multiple levels.\n",
    "\n",
    "- Starting with the days employed varible, this variable had multiple negative values. After analyzing the distribution of negative values before and after calculating the absolute value, we cannot conclude that the problem depends only with the sign of the value. Moreover, this variable will be not used for further analysis in the following steps. We will not procede to do a further preprocessing.\n",
    "\n",
    "- For the children feature, after analyzing its distribution and noticing that most of the values are less than 5, I procedeed to categorize the children, given this number and also to reagroup the values with -1 as unknown, as we do not want to drop this observations (47 rows). For this a function was defined to classify the 3 new categories, and then applied to the series using the apply function.\n",
    "\n",
    "- Finally, for the purpose feature, initially we had 38 different responses that were reagroup into 5 new levels using the stem of the words. For this purpose, we starting identifying the key words and saving the stem as a dictionary. Then, some of the stems were reagrouped in order to create more concise levels for this feature. After that a function that identify the stem of a word given a string (sentence) was created  and finally applied to the dataframe using the apply function.\n"
   ]
  },
  {
   "cell_type": "markdown",
   "metadata": {},
   "source": [
    "<div class=\"alert alert-block alert-info\">\n",
    "<h2> Comments </h2>\n",
    "</div>\n",
    "\n",
    "Excellent :)\n",
    "\n",
    "'private housing' and 'commercial housing' categories can be grouped into one category 'real_estate' in this project :)\n",
    "\n",
    "You have studied almost all the columns in the dataset and indetified almost all the problems. The only thing that you've missed is 0-year old clients 🤓\n",
    "\n",
    "------------"
   ]
  },
  {
   "cell_type": "markdown",
   "metadata": {},
   "source": [
    "### Step 3. Answer these questions"
   ]
  },
  {
   "cell_type": "markdown",
   "metadata": {},
   "source": [
    "**- Is there a relation between having kids and repaying a loan on time?**\n",
    "\n",
    "if debt = 0, it can be considered as “on-time repayment of loans”, if debt = 1, then it means they have defaulted before."
   ]
  },
  {
   "cell_type": "code",
   "execution_count": 28,
   "metadata": {
    "scrolled": true
   },
   "outputs": [
    {
     "data": {
      "text/plain": [
       "without children        14090\n",
       "1 to 4 children          7231\n",
       "more than 5 children       85\n",
       "unknown                    47\n",
       "Name: children_group, dtype: int64"
      ]
     },
     "metadata": {},
     "output_type": "display_data"
    }
   ],
   "source": [
    "display(df['children_group'].value_counts())"
   ]
  },
  {
   "cell_type": "code",
   "execution_count": 29,
   "metadata": {
    "scrolled": true
   },
   "outputs": [
    {
     "data": {
      "text/plain": [
       "0    19712\n",
       "1     1741\n",
       "Name: debt, dtype: int64"
      ]
     },
     "metadata": {},
     "output_type": "display_data"
    }
   ],
   "source": [
    "display(df['debt'].value_counts())"
   ]
  },
  {
   "cell_type": "code",
   "execution_count": 30,
   "metadata": {
    "scrolled": false
   },
   "outputs": [
    {
     "name": "stdout",
     "output_type": "stream",
     "text": [
      "children_group        debt\n",
      "1 to 4 children       0        6562\n",
      "                      1         669\n",
      "more than 5 children  0          77\n",
      "                      1           8\n",
      "unknown               0          46\n",
      "                      1           1\n",
      "without children      0       13027\n",
      "                      1        1063\n",
      "Name: debt, dtype: int64\n"
     ]
    }
   ],
   "source": [
    "## Total observations among groups\n",
    "print(df.groupby(['children_group','debt'])['debt'].count())"
   ]
  },
  {
   "cell_type": "code",
   "execution_count": 31,
   "metadata": {},
   "outputs": [
    {
     "data": {
      "text/plain": [
       "children_group        debt\n",
       "1 to 4 children       0       0.333\n",
       "                      1       0.384\n",
       "more than 5 children  0       0.004\n",
       "                      1       0.005\n",
       "unknown               0       0.002\n",
       "                      1       0.001\n",
       "without children      0       0.661\n",
       "                      1       0.611\n",
       "dtype: float64"
      ]
     },
     "execution_count": 31,
     "metadata": {},
     "output_type": "execute_result"
    }
   ],
   "source": [
    "# Percentage of obervations among groups \n",
    "round(df.groupby(['children_group','debt'])['debt'].count()/df.groupby(['debt' ])['children_group'].count(),3)"
   ]
  },
  {
   "cell_type": "code",
   "execution_count": 32,
   "metadata": {},
   "outputs": [
    {
     "data": {
      "text/plain": [
       "children_group        debt\n",
       "1 to 4 children       0       0.91\n",
       "                      1       0.09\n",
       "more than 5 children  0       0.91\n",
       "                      1       0.09\n",
       "unknown               0       0.98\n",
       "                      1       0.02\n",
       "without children      0       0.92\n",
       "                      1       0.08\n",
       "Name: debt, dtype: float64"
      ]
     },
     "execution_count": 32,
     "metadata": {},
     "output_type": "execute_result"
    }
   ],
   "source": [
    "# percentage of debt per category (where every category is 100%)\n",
    "round(df.groupby(['children_group','debt'])['debt'].count()/df.groupby(['children_group'])['debt'].count(),2)"
   ]
  },
  {
   "cell_type": "code",
   "execution_count": 33,
   "metadata": {
    "scrolled": false
   },
   "outputs": [
    {
     "data": {
      "image/png": "[encoded data removed]",
      "text/plain": [
       "<Figure size 432x288 with 1 Axes>"
      ]
     },
     "metadata": {},
     "output_type": "display_data"
    }
   ],
   "source": [
    "df.groupby(['children_group','debt']).size().unstack().plot(kind='bar',stacked=True)\n",
    "plt.legend()\n",
    "plt.title(\"Debt by Children group\")\n",
    "plt.show()"
   ]
  },
  {
   "cell_type": "markdown",
   "metadata": {},
   "source": [
    "### Conclusion"
   ]
  },
  {
   "cell_type": "markdown",
   "metadata": {},
   "source": [
    "- If we look at the children categories distribution, the majority of the data corresponds to without children and 1 to 4 children, being around 90% of the data, while the other remaining 10% of the data is distributed among more than 5 children and unknown.\n",
    "\n",
    "- The distribution of debt among the different categories is unbalanced (non evenly distributed) and unstable among categories, having a ratio around 92% of observations with debt against 8% observations without debt while the unknown group has a ratio of 98% without debt.\n",
    "\n",
    "- We can infer that the different family status do affect on-time repayment of the loan due that the debt is not constant in its distribution among the status and we may need to look further into the unknown group or remove these observations."
   ]
  },
  {
   "cell_type": "markdown",
   "metadata": {},
   "source": [
    "**- Is there a relation between marital status and repaying a loan on time?**\n"
   ]
  },
  {
   "cell_type": "code",
   "execution_count": 34,
   "metadata": {
    "scrolled": true
   },
   "outputs": [
    {
     "name": "stdout",
     "output_type": "stream",
     "text": [
      "family_status      debt\n",
      "civil partnership  0        3762\n",
      "                   1         388\n",
      "divorced           0        1110\n",
      "                   1          85\n",
      "married            0       11408\n",
      "                   1         931\n",
      "unmarried          0        2536\n",
      "                   1         274\n",
      "widow / widower    0         896\n",
      "                   1          63\n",
      "Name: debt, dtype: int64\n"
     ]
    }
   ],
   "source": [
    "## Total observations among groups\n",
    "print(df.groupby(['family_status','debt'])['debt'].count())"
   ]
  },
  {
   "cell_type": "code",
   "execution_count": 35,
   "metadata": {},
   "outputs": [
    {
     "data": {
      "text/plain": [
       "family_status      debt\n",
       "civil partnership  0       0.19\n",
       "                   1       0.22\n",
       "divorced           0       0.06\n",
       "                   1       0.05\n",
       "married            0       0.58\n",
       "                   1       0.53\n",
       "unmarried          0       0.13\n",
       "                   1       0.16\n",
       "widow / widower    0       0.05\n",
       "                   1       0.04\n",
       "dtype: float64"
      ]
     },
     "execution_count": 35,
     "metadata": {},
     "output_type": "execute_result"
    }
   ],
   "source": [
    "# Percentage of obervations among groups \n",
    "round(df.groupby(['family_status','debt'])['debt'].count()/df.groupby(['debt' ])['family_status'].count(),2)"
   ]
  },
  {
   "cell_type": "code",
   "execution_count": 36,
   "metadata": {
    "scrolled": true
   },
   "outputs": [
    {
     "data": {
      "text/plain": [
       "family_status      debt\n",
       "civil partnership  0       0.91\n",
       "                   1       0.09\n",
       "divorced           0       0.93\n",
       "                   1       0.07\n",
       "married            0       0.92\n",
       "                   1       0.08\n",
       "unmarried          0       0.90\n",
       "                   1       0.10\n",
       "widow / widower    0       0.93\n",
       "                   1       0.07\n",
       "Name: debt, dtype: float64"
      ]
     },
     "execution_count": 36,
     "metadata": {},
     "output_type": "execute_result"
    }
   ],
   "source": [
    "# percentage of debt per category (where every category is 100%)\n",
    "round(df.groupby(['family_status','debt'])['debt'].count()/df.groupby(['family_status'])['debt'].count(),2)"
   ]
  },
  {
   "cell_type": "code",
   "execution_count": 37,
   "metadata": {
    "scrolled": false
   },
   "outputs": [
    {
     "data": {
      "image/png": "[encoded data removed]",
      "text/plain": [
       "<Figure size 432x288 with 1 Axes>"
      ]
     },
     "metadata": {},
     "output_type": "display_data"
    }
   ],
   "source": [
    "df.groupby(['family_status','debt']).size().unstack().plot(kind='bar',stacked=True)\n",
    "plt.legend()\n",
    "plt.title(\"Debt by family status \")\n",
    "plt.show()"
   ]
  },
  {
   "cell_type": "markdown",
   "metadata": {},
   "source": [
    "### Conclusion"
   ]
  },
  {
   "cell_type": "markdown",
   "metadata": {},
   "source": [
    "- If we look at the family status distribution, the majority of the data corresponds to married status, being around 60% of the data, while the other half of the data is distributed among the civil partnership (~ 20%), following by unmarried (~ 10%), widow (~ 5%) and divorced (~ 5%).\n",
    "\n",
    "- The distribution of debt among the different categories is unbalanced (non evenly distributed) and constant among categories, having a ratio around 92% of observations with debt against 8% observations without debt.\n",
    "\n",
    "- We can infer that in general the different family status do not affect on-time repayment of the loan due that the debt has a constant distribution tendency. However, unmarried presents the higher probability of default being 10%, and widow and divorced presents the lower probability of default being 7%."
   ]
  },
  {
   "cell_type": "markdown",
   "metadata": {},
   "source": [
    "<div class=\"alert alert-block alert-info\">\n",
    "<h2> Comments </h2>\n",
    "</div>\n",
    "\n",
    "Great :)\n",
    "\n",
    "------------"
   ]
  },
  {
   "cell_type": "markdown",
   "metadata": {},
   "source": [
    "**- Is there a relation between income level and repaying a loan on time?**"
   ]
  },
  {
   "cell_type": "code",
   "execution_count": 38,
   "metadata": {},
   "outputs": [
    {
     "data": {
      "text/html": [
       "<div>\n",
       "<style scoped>\n",
       "    .dataframe tbody tr th:only-of-type {\n",
       "        vertical-align: middle;\n",
       "    }\n",
       "\n",
       "    .dataframe tbody tr th {\n",
       "        vertical-align: top;\n",
       "    }\n",
       "\n",
       "    .dataframe thead th {\n",
       "        text-align: right;\n",
       "    }\n",
       "</style>\n",
       "<table border=\"1\" class=\"dataframe\">\n",
       "  <thead>\n",
       "    <tr style=\"text-align: right;\">\n",
       "      <th></th>\n",
       "      <th>income_type</th>\n",
       "      <th>total_income</th>\n",
       "    </tr>\n",
       "  </thead>\n",
       "  <tbody>\n",
       "    <tr>\n",
       "      <td>0</td>\n",
       "      <td>employee</td>\n",
       "      <td>40620.102</td>\n",
       "    </tr>\n",
       "    <tr>\n",
       "      <td>1</td>\n",
       "      <td>employee</td>\n",
       "      <td>17932.802</td>\n",
       "    </tr>\n",
       "    <tr>\n",
       "      <td>2</td>\n",
       "      <td>employee</td>\n",
       "      <td>23341.752</td>\n",
       "    </tr>\n",
       "    <tr>\n",
       "      <td>3</td>\n",
       "      <td>employee</td>\n",
       "      <td>42820.568</td>\n",
       "    </tr>\n",
       "    <tr>\n",
       "      <td>4</td>\n",
       "      <td>retiree</td>\n",
       "      <td>25378.572</td>\n",
       "    </tr>\n",
       "  </tbody>\n",
       "</table>\n",
       "</div>"
      ],
      "text/plain": [
       "  income_type  total_income\n",
       "0    employee     40620.102\n",
       "1    employee     17932.802\n",
       "2    employee     23341.752\n",
       "3    employee     42820.568\n",
       "4     retiree     25378.572"
      ]
     },
     "execution_count": 38,
     "metadata": {},
     "output_type": "execute_result"
    }
   ],
   "source": [
    "df[['income_type','total_income']].head(5)"
   ]
  },
  {
   "cell_type": "code",
   "execution_count": 39,
   "metadata": {},
   "outputs": [
    {
     "data": {
      "text/plain": [
       "Text(0.5, 1.0, 'Debt by total income')"
      ]
     },
     "execution_count": 39,
     "metadata": {},
     "output_type": "execute_result"
    },
    {
     "data": {
      "image/png": "[encoded data removed]",
      "text/plain": [
       "<Figure size 720x432 with 1 Axes>"
      ]
     },
     "metadata": {},
     "output_type": "display_data"
    }
   ],
   "source": [
    "plt.figure(figsize=(10,6))\n",
    "df[df['debt']==0]['total_income'].hist(bins=35,color='blue', alpha=0.6,\n",
    "                                              label='debt = 0')\n",
    "df[df['debt']==1]['total_income'].hist(bins=35,color='red', alpha=0.6,\n",
    "                                              label='debt= 1')\n",
    "plt.legend()\n",
    "plt.xlabel(\"total_income\")\n",
    "plt.title(\"Debt by total income\")"
   ]
  },
  {
   "cell_type": "markdown",
   "metadata": {},
   "source": [
    "### Conclusion"
   ]
  },
  {
   "cell_type": "markdown",
   "metadata": {},
   "source": [
    "- From the plot we can observe that the total income is skew to the right with outliers as usually is due its nature.\n",
    "\n",
    "- We can see that the probability of default presents the same distribution and it is unbalanced as in the previous cases. \n",
    "\n",
    "- We can infer that in general the total income affects the on-time repayment of the loan due that the debt tends to be higher for total income is less than 50000."
   ]
  },
  {
   "cell_type": "markdown",
   "metadata": {},
   "source": [
    "<div class=\"alert alert-block alert-info\">\n",
    "<h2> Comments </h2>\n",
    "</div>\n",
    "\n",
    "Here it is also better to calculate the probability of failing on debt for each group :)\n",
    "\n",
    "------------"
   ]
  },
  {
   "cell_type": "code",
   "execution_count": 55,
   "metadata": {
    "scrolled": false
   },
   "outputs": [
    {
     "data": {
      "text/plain": [
       "<matplotlib.axes._subplots.AxesSubplot at 0x7f031a8d4ed0>"
      ]
     },
     "execution_count": 55,
     "metadata": {},
     "output_type": "execute_result"
    },
    {
     "data": {
      "image/png": "[encoded data removed]",
      "text/plain": [
       "<Figure size 432x288 with 1 Axes>"
      ]
     },
     "metadata": {},
     "output_type": "display_data"
    }
   ],
   "source": [
    "# Another approach\n",
    "df.plot(kind='scatter',x='total_income',y='debt',alpha=0.1)"
   ]
  },
  {
   "cell_type": "code",
   "execution_count": 49,
   "metadata": {},
   "outputs": [
    {
     "data": {
      "text/html": [
       "<div>\n",
       "<style scoped>\n",
       "    .dataframe tbody tr th:only-of-type {\n",
       "        vertical-align: middle;\n",
       "    }\n",
       "\n",
       "    .dataframe tbody tr th {\n",
       "        vertical-align: top;\n",
       "    }\n",
       "\n",
       "    .dataframe thead th {\n",
       "        text-align: right;\n",
       "    }\n",
       "</style>\n",
       "<table border=\"1\" class=\"dataframe\">\n",
       "  <thead>\n",
       "    <tr style=\"text-align: right;\">\n",
       "      <th></th>\n",
       "      <th>total_income</th>\n",
       "      <th>debt</th>\n",
       "    </tr>\n",
       "  </thead>\n",
       "  <tbody>\n",
       "    <tr>\n",
       "      <td>total_income</td>\n",
       "      <td>1.000000</td>\n",
       "      <td>-0.010382</td>\n",
       "    </tr>\n",
       "    <tr>\n",
       "      <td>debt</td>\n",
       "      <td>-0.010382</td>\n",
       "      <td>1.000000</td>\n",
       "    </tr>\n",
       "  </tbody>\n",
       "</table>\n",
       "</div>"
      ],
      "text/plain": [
       "              total_income      debt\n",
       "total_income      1.000000 -0.010382\n",
       "debt             -0.010382  1.000000"
      ]
     },
     "execution_count": 49,
     "metadata": {},
     "output_type": "execute_result"
    }
   ],
   "source": [
    "# correlation, metric that find the connection between two variables\n",
    "df[['total_income', 'debt']].corr()"
   ]
  },
  {
   "cell_type": "code",
   "execution_count": 57,
   "metadata": {
    "scrolled": true
   },
   "outputs": [
    {
     "data": {
      "text/plain": [
       "<matplotlib.axes._subplots.AxesSubplot at 0x7f0317005550>"
      ]
     },
     "execution_count": 57,
     "metadata": {},
     "output_type": "execute_result"
    },
    {
     "data": {
      "image/png": "[encoded data removed]",
      "text/plain": [
       "<Figure size 432x288 with 1 Axes>"
      ]
     },
     "metadata": {},
     "output_type": "display_data"
    }
   ],
   "source": [
    "df.groupby(['total_income'])['debt'].median().plot()"
   ]
  },
  {
   "cell_type": "markdown",
   "metadata": {},
   "source": [
    "**As we can see, there is a lot of noise, we cannot interpreted the distribution. We are going to analyze the total_income feature and categorize it into groups.**"
   ]
  },
  {
   "cell_type": "code",
   "execution_count": 40,
   "metadata": {
    "scrolled": false
   },
   "outputs": [
    {
     "data": {
      "text/plain": [
       "<matplotlib.axes._subplots.AxesSubplot at 0x7f031ac83810>"
      ]
     },
     "execution_count": 40,
     "metadata": {},
     "output_type": "execute_result"
    },
    {
     "data": {
      "image/png": "[encoded data removed]",
      "text/plain": [
       "<Figure size 432x288 with 1 Axes>"
      ]
     },
     "metadata": {},
     "output_type": "display_data"
    }
   ],
   "source": [
    "# Analyzing total income and categorizing it into subgroups.\n",
    "df['total_income'].hist()"
   ]
  },
  {
   "cell_type": "code",
   "execution_count": 41,
   "metadata": {
    "scrolled": true
   },
   "outputs": [
    {
     "name": "stdout",
     "output_type": "stream",
     "text": [
      "(-362.497, 72499.329]       21130\n",
      "(72499.329, 144998.658]       293\n",
      "(144998.658, 217497.987]       22\n",
      "(217497.987, 289997.316]        6\n",
      "(289997.316, 362496.645]        2\n",
      "Name: total_income, dtype: int64\n",
      "-------\n",
      "(0.0, 20000.0]        7369\n",
      "(20000.0, 30000.0]    6063\n",
      "(30000.0, 40000.0]    3106\n",
      "(40000.0, 50000.0]    1492\n",
      "(50000.0, inf]        1320\n",
      "Name: total_income, dtype: int64\n"
     ]
    }
   ],
   "source": [
    "## dividing the real variable in 5 bins\n",
    "print(pd.cut(df['total_income'],5).value_counts())\n",
    "print('-------')\n",
    "\n",
    "## The data is not distributed in equal parts among bins, lets distribuite the data manually in six bins\n",
    "# To prevent noise and wrong rules.\n",
    "print(pd.cut(df['total_income'],[0,20000,30000,40000,50000,np.inf]).value_counts())"
   ]
  },
  {
   "cell_type": "code",
   "execution_count": 42,
   "metadata": {},
   "outputs": [
    {
     "data": {
      "text/plain": [
       "0    (40000.0, inf]\n",
       "1    (0.0, 20000.0]\n",
       "Name: total_income_group, dtype: category\n",
       "Categories (4, interval[float64]): [(0.0, 20000.0] < (20000.0, 30000.0] < (30000.0, 40000.0] < (40000.0, inf]]"
      ]
     },
     "execution_count": 42,
     "metadata": {},
     "output_type": "execute_result"
    }
   ],
   "source": [
    "# creating a new feature \n",
    "df['total_income_group'] = pd.cut(df['total_income'],[0,20000,30000,40000,np.inf])\n",
    "df['total_income_group'].head(2)\n",
    "#df['amount_group'] = pd.cut(df['credit_amount'],[0,1000,2000,3000,5000,np.inf])"
   ]
  },
  {
   "cell_type": "code",
   "execution_count": 43,
   "metadata": {},
   "outputs": [
    {
     "data": {
      "text/plain": [
       "<matplotlib.axes._subplots.AxesSubplot at 0x7f031aadbc10>"
      ]
     },
     "execution_count": 43,
     "metadata": {},
     "output_type": "execute_result"
    },
    {
     "data": {
      "image/png": "[encoded data removed]",
      "text/plain": [
       "<Figure size 432x288 with 1 Axes>"
      ]
     },
     "metadata": {},
     "output_type": "display_data"
    }
   ],
   "source": [
    "df['total_income_group'].value_counts().plot(kind='bar')"
   ]
  },
  {
   "cell_type": "code",
   "execution_count": 44,
   "metadata": {},
   "outputs": [
    {
     "data": {
      "text/plain": [
       "<matplotlib.axes._subplots.AxesSubplot at 0x7f031aa2ac90>"
      ]
     },
     "execution_count": 44,
     "metadata": {},
     "output_type": "execute_result"
    },
    {
     "data": {
      "image/png": "[encoded data removed]",
      "text/plain": [
       "<Figure size 432x288 with 1 Axes>"
      ]
     },
     "metadata": {},
     "output_type": "display_data"
    }
   ],
   "source": [
    "df.groupby(['total_income_group'])['debt'].mean().plot()"
   ]
  },
  {
   "cell_type": "markdown",
   "metadata": {},
   "source": [
    "**The bigger default is found in the group with income between 20K and 30K.**"
   ]
  },
  {
   "cell_type": "markdown",
   "metadata": {},
   "source": [
    "**- How do different loan purposes affect on-time repayment of the loan?**"
   ]
  },
  {
   "cell_type": "code",
   "execution_count": 45,
   "metadata": {
    "scrolled": true
   },
   "outputs": [
    {
     "name": "stdout",
     "output_type": "stream",
     "text": [
      "purpose_category    debt\n",
      "car                 0       3903\n",
      "                    1        403\n",
      "commercial housing  0       4127\n",
      "                    1        336\n",
      "education           0       3643\n",
      "                    1        370\n",
      "private housing     0       5901\n",
      "                    1        446\n",
      "wedding             0       2138\n",
      "                    1        186\n",
      "Name: debt, dtype: int64\n"
     ]
    }
   ],
   "source": [
    "## Total observations among groups\n",
    "print(df.groupby(['purpose_category','debt'])['debt'].count())"
   ]
  },
  {
   "cell_type": "code",
   "execution_count": 46,
   "metadata": {
    "scrolled": true
   },
   "outputs": [
    {
     "data": {
      "text/plain": [
       "purpose_category    debt\n",
       "car                 0       0.20\n",
       "                    1       0.23\n",
       "commercial housing  0       0.21\n",
       "                    1       0.19\n",
       "education           0       0.18\n",
       "                    1       0.21\n",
       "private housing     0       0.30\n",
       "                    1       0.26\n",
       "wedding             0       0.11\n",
       "                    1       0.11\n",
       "dtype: float64"
      ]
     },
     "execution_count": 46,
     "metadata": {},
     "output_type": "execute_result"
    }
   ],
   "source": [
    "# Percentage of obervations among groups \n",
    "round(df.groupby(['purpose_category','debt'])['debt'].count()/df.groupby(['debt' ])['purpose_category'].count(),2)"
   ]
  },
  {
   "cell_type": "code",
   "execution_count": 47,
   "metadata": {
    "scrolled": true
   },
   "outputs": [
    {
     "data": {
      "text/plain": [
       "purpose_category    debt\n",
       "car                 0       0.91\n",
       "                    1       0.09\n",
       "commercial housing  0       0.92\n",
       "                    1       0.08\n",
       "education           0       0.91\n",
       "                    1       0.09\n",
       "private housing     0       0.93\n",
       "                    1       0.07\n",
       "wedding             0       0.92\n",
       "                    1       0.08\n",
       "Name: debt, dtype: float64"
      ]
     },
     "execution_count": 47,
     "metadata": {},
     "output_type": "execute_result"
    }
   ],
   "source": [
    "# percentage of debt per category (where every category is 100%)\n",
    "round(df.groupby(['purpose_category','debt'])['debt'].count()/df.groupby(['purpose_category'])['debt'].count(),2)"
   ]
  },
  {
   "cell_type": "code",
   "execution_count": 48,
   "metadata": {
    "scrolled": false
   },
   "outputs": [
    {
     "data": {
      "image/png": "[encoded data removed]",
      "text/plain": [
       "<Figure size 432x288 with 1 Axes>"
      ]
     },
     "metadata": {},
     "output_type": "display_data"
    }
   ],
   "source": [
    "df.groupby(['purpose_category','debt']).size().unstack().plot(kind='bar',stacked=True)\n",
    "plt.legend()\n",
    "plt.title(\"Debt by loan purpose_category \")\n",
    "plt.show()"
   ]
  },
  {
   "cell_type": "markdown",
   "metadata": {},
   "source": [
    "### Conclusion"
   ]
  },
  {
   "cell_type": "markdown",
   "metadata": {},
   "source": [
    "- If we look at the purpose distribution, 30% of the data corresponds to private housing while wedding only has 11% of the data. The other purposes have around 20% of data each.\n",
    "\n",
    "- The distribution of debt among the different categories is unbalanced (non evenly distributed) and constant among categories, having a ratio around 92% observations with debt against 8% observations without debt.\n",
    "\n",
    "- We can infer that in general the different purpose categories do not affect on-time repayment of the loan due that the debt has a constant distribution tendency. However, private housing presents the lower probability of default being 7%."
   ]
  },
  {
   "cell_type": "markdown",
   "metadata": {},
   "source": [
    "<div class=\"alert alert-block alert-info\">\n",
    "<h2> Comments </h2>\n",
    "</div>\n",
    "\n",
    "Good :)\n",
    "\n",
    "------------"
   ]
  },
  {
   "cell_type": "markdown",
   "metadata": {},
   "source": [
    "### Step 4. General conclusion"
   ]
  },
  {
   "cell_type": "markdown",
   "metadata": {},
   "source": [
    "- The original dataset had 21525 observations and 12 features in the credit scoring dataset.\n",
    "\n",
    "- Variables that were used in the relationship analysis with the debt feature were transformed if required.\n",
    "\n",
    "- After removing duplicates and dropping/imputating missing values and transforming (adding new categories) to some features, we ended with 21453 observations and two new features:children_group, and purpose_category.\n",
    "\n",
    "- The distribution for the debt feature is unbalanced, were most of the cases fall into not default as expected.\n",
    "\n",
    "- The debt feature was compared against multiple variables an the probability of default percentage was almost the same for all the cases (92% of prob of default)\n",
    "\n",
    "- As a recommendation, further analysis might need to be done if we want to use these features for modeling the probability of default or  building a credit scoring. For instance, balancing the debt feature might be required. "
   ]
  },
  {
   "cell_type": "markdown",
   "metadata": {},
   "source": [
    "<div class=\"alert alert-block alert-info\">\n",
    "<h2> Comments </h2>\n",
    "</div>\n",
    "\n",
    "Very good :)\n",
    "\n",
    "------------"
   ]
  },
  {
   "cell_type": "markdown",
   "metadata": {},
   "source": [
    "### Project Readiness Checklist\n",
    "\n",
    "Put 'x' in the completed points. Then press Shift + Enter."
   ]
  },
  {
   "cell_type": "markdown",
   "metadata": {},
   "source": [
    "- [x]  file open;\n",
    "- [ ]  file examined;\n",
    "- [ ]  missing values defined;\n",
    "- [ ]  missing values are filled;\n",
    "- [ ]  an explanation of which missing value types were detected;\n",
    "- [ ]  explanation for the possible causes of missing values;\n",
    "- [ ]  an explanation of how the blanks are filled;\n",
    "- [ ]  replaced the real data type with an integer;\n",
    "- [ ]  an explanation of which method is used to change the data type and why;\n",
    "- [ ]  duplicates deleted;\n",
    "- [ ]  an explanation of which method is used to find and remove duplicates;\n",
    "- [ ]  description of the possible reasons for the appearance of duplicates in the data;\n",
    "- [ ]  data is categorized;\n",
    "- [ ]  an explanation of the principle of data categorization;\n",
    "- [ ]  an answer to the question \"Is there a relation between having kids and repaying a loan on time?\";\n",
    "- [ ]  an answer to the question \" Is there a relation between marital status and repaying a loan on time?\";\n",
    "- [ ]   an answer to the question \" Is there a relation between income level and repaying a loan on time?\";\n",
    "- [ ]  an answer to the question \" How do different loan purposes affect on-time repayment of the loan?\"\n",
    "- [ ]  conclusions are present on each stage;\n",
    "- [ ]  a general conclusion is made."
   ]
  }
 ],
 "metadata": {
  "kernelspec": {
   "display_name": "Python 3",
   "language": "python",
   "name": "python3"
  },
  "language_info": {
   "codemirror_mode": {
    "name": "ipython",
    "version": 3
   },
   "file_extension": ".py",
   "mimetype": "text/x-python",
   "name": "python",
   "nbconvert_exporter": "python",
   "pygments_lexer": "ipython3",
   "version": "3.7.4"
  }
 },
 "nbformat": 4,
 "nbformat_minor": 2
}
