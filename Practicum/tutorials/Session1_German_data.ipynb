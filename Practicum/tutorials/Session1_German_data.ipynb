{
  "nbformat": 4,
  "nbformat_minor": 0,
  "metadata": {
    "kernelspec": {
      "display_name": "Python 3",
      "language": "python",
      "name": "python3"
    },
    "language_info": {
      "codemirror_mode": {
        "name": "ipython",
        "version": 3
      },
      "file_extension": ".py",
      "mimetype": "text/x-python",
      "name": "python",
      "nbconvert_exporter": "python",
      "pygments_lexer": "ipython3",
      "version": "3.7.6"
    },
    "colab": {
      "name": "jupyter-crash-germancredit.ipynb",
      "provenance": [],
      "collapsed_sections": [
        "NTVdoDM7N9P1",
        "RJ4TFEsqN9QF",
        "4ixd2qfLN9QF",
        "y27n-4uEN9QT"
      ]
    }
  },
  "cells": [
    {
      "cell_type": "code",
      "metadata": {
        "id": "ckm0e-GxN9PF",
        "colab_type": "code",
        "colab": {}
      },
      "source": [
        "import pandas as pd"
      ],
      "execution_count": 0,
      "outputs": []
    },
    {
      "cell_type": "markdown",
      "metadata": {
        "id": "U3Z6eiErON05",
        "colab_type": "text"
      },
      "source": [
        "if you want to play with it please download data from google disk and upload it in the next cell"
      ]
    },
    {
      "cell_type": "code",
      "metadata": {
        "id": "eTPaFJz1OMjL",
        "colab_type": "code",
        "outputId": "14824d3a-0ac0-4cc0-a13b-ab5adaa5a10e",
        "colab": {
          "resources": {
            "http://localhost:8080/nbextensions/google.colab/files.js": {
              "data": "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",
              "ok": true,
              "headers": [
                [
                  "content-type",
                  "application/javascript"
                ]
              ],
              "status": 200,
              "status_text": ""
            }
          },
          "base_uri": "https://localhost:8080/",
          "height": 108
        }
      },
      "source": [
        "from google.colab import files\n",
        "files.upload()"
      ],
      "execution_count": 0,
      "outputs": [
        {
          "output_type": "display_data",
          "data": {
            "text/html": [
              "\n",
              "     <input type=\"file\" id=\"files-107282d4-5118-484d-841d-cb62ca2a683b\" name=\"files[]\" multiple disabled />\n",
              "     <output id=\"result-107282d4-5118-484d-841d-cb62ca2a683b\">\n",
              "      Upload widget is only available when the cell has been executed in the\n",
              "      current browser session. Please rerun this cell to enable.\n",
              "      </output>\n",
              "      <script src=\"/nbextensions/google.colab/files.js\"></script> "
            ],
            "text/plain": [
              "<IPython.core.display.HTML object>"
            ]
          },
          "metadata": {
            "tags": []
          }
        },
        {
          "output_type": "stream",
          "text": [
            "Saving germancredit_merged.csv to germancredit_merged.csv\n"
          ],
          "name": "stdout"
        },
        {
          "output_type": "execute_result",
          "data": {
            "text/plain": [
              "{'germancredit_merged.csv': b',Age,Sex,Job,Housing,Saving accounts,Checking account,Credit amount,Duration,Purpose,default\\n0,67,male,2,own,,little,1169,6,radio/TV,0\\n1,22,female,2,own,little,moderate,5951,48,radio/TV,1\\n2,49,male,1,own,little,,2096,12,education,0\\n3,45,male,2,free,little,little,7882,42,furniture/equipment,0\\n4,53,male,2,free,little,little,4870,24,car,1\\n5,35,male,1,free,,,9055,36,education,0\\n6,53,male,2,own,quite rich,,2835,24,furniture/equipment,0\\n7,35,male,3,rent,little,moderate,6948,36,car,0\\n8,61,male,1,own,rich,,3059,12,radio/TV,0\\n9,28,male,3,own,little,moderate,5234,30,car,1\\n10,25,female,2,rent,little,moderate,1295,12,car,1\\n11,24,female,2,rent,little,little,4308,48,business,1\\n12,22,female,2,own,little,moderate,1567,12,radio/TV,0\\n13,60,male,1,own,little,little,1199,24,car,1\\n14,28,female,2,rent,little,little,1403,15,car,0\\n15,32,female,1,own,moderate,little,1282,24,radio/TV,1\\n16,53,male,2,own,,,2424,24,radio/TV,0\\n17,25,male,2,own,,little,8072,30,business,0\\n18,44,female,3,free,little,moderate,12579,24,car,1\\n19,31,male,2,own,quite rich,,3430,24,radio/TV,0\\n20,48,male,2,own,little,,2134,9,car,0\\n21,44,male,2,rent,quite rich,little,2647,6,radio/TV,0\\n22,48,male,1,rent,little,little,2241,10,car,0\\n23,44,male,2,own,moderate,moderate,1804,12,car,0\\n24,26,male,2,own,,,2069,10,furniture/equipment,0\\n25,36,male,1,own,little,little,1374,6,furniture/equipment,0\\n26,39,male,1,own,little,,426,6,radio/TV,0\\n27,42,female,2,rent,rich,rich,409,12,radio/TV,0\\n28,34,male,2,own,little,moderate,2415,7,radio/TV,0\\n29,63,male,2,own,little,little,6836,60,business,1\\n30,36,male,2,own,rich,moderate,1913,18,business,0\\n31,27,male,2,own,little,little,4020,24,furniture/equipment,0\\n32,30,male,2,own,moderate,moderate,5866,18,car,0\\n33,57,male,1,rent,,,1264,12,business,0\\n34,33,female,3,own,little,rich,1474,12,furniture/equipment,0\\n35,25,male,1,own,little,moderate,4746,45,radio/TV,1\\n36,31,male,2,free,little,,6110,48,education,0\\n37,37,male,2,own,little,rich,2100,18,radio/TV,1\\n38,37,male,2,own,little,rich,1225,10,domestic appliances,0\\n39,24,male,2,own,little,moderate,458,9,radio/TV,0\\n40,30,male,3,own,quite rich,,2333,30,radio/TV,0\\n41,26,male,2,own,quite rich,moderate,1158,12,radio/TV,0\\n42,44,male,1,own,little,moderate,6204,18,repairs,0\\n43,24,male,2,rent,moderate,little,6187,30,car,0\\n44,58,female,1,free,little,little,6143,48,car,1\\n45,35,female,3,own,little,,1393,11,car,0\\n46,39,male,2,own,quite rich,,2299,36,radio/TV,0\\n47,23,female,0,rent,quite rich,little,1352,6,car,0\\n48,39,male,1,own,little,,7228,11,car,0\\n49,28,female,2,own,moderate,,2073,12,radio/TV,0\\n50,29,male,1,own,,moderate,2333,24,furniture/equipment,0\\n51,30,male,3,own,little,moderate,5965,27,car,0\\n52,25,male,2,own,little,,1262,12,radio/TV,0\\n53,31,male,2,own,,,3378,18,car,0\\n54,57,male,2,free,little,moderate,2225,36,car,1\\n55,26,male,1,own,,,783,6,car,0\\n56,52,male,3,own,,moderate,6468,12,radio/TV,1\\n57,31,female,2,own,little,,9566,36,radio/TV,0\\n58,23,female,3,own,little,rich,1961,18,car,0\\n59,23,female,1,rent,little,little,6229,36,furniture/equipment,1\\n60,27,male,2,own,little,moderate,1391,9,business,0\\n61,50,male,2,own,,moderate,1537,15,radio/TV,0\\n62,61,male,3,free,little,moderate,1953,36,business,1\\n63,25,male,2,own,little,moderate,14421,48,business,1\\n64,26,female,2,own,little,,3181,24,radio/TV,0\\n65,48,male,2,own,,,5190,27,repairs,0\\n66,29,female,2,own,little,,2171,12,radio/TV,0\\n67,22,male,2,own,rich,moderate,1007,12,car,0\\n68,37,male,2,free,little,,1819,36,education,1\\n69,25,female,2,own,,,2394,36,radio/TV,0\\n70,30,female,2,own,little,,8133,36,car,0\\n71,46,male,1,rent,,,730,7,radio/TV,0\\n72,51,male,3,free,little,little,1164,8,vacation/others,0\\n73,41,female,1,own,little,moderate,5954,42,business,0\\n74,40,male,3,own,,little,1977,36,education,1\\n75,66,male,3,free,little,little,1526,12,car,0\\n76,34,male,2,own,little,little,3965,42,radio/TV,1\\n77,51,male,2,own,little,moderate,4771,11,radio/TV,0\\n78,39,male,1,own,,,9436,54,car,0\\n79,22,male,2,own,little,moderate,3832,30,furniture/equipment,0\\n80,44,female,2,own,,,5943,24,radio/TV,1\\n81,47,male,2,own,quite rich,,1213,15,radio/TV,0\\n82,24,female,1,rent,moderate,,1568,18,business,0\\n83,58,female,1,own,little,little,1755,24,vacation/others,0\\n84,52,male,1,own,little,little,2315,10,radio/TV,0\\n85,29,female,3,own,little,,1412,12,business,0\\n86,27,female,2,own,little,moderate,1295,18,furniture/equipment,0\\n87,47,male,2,free,moderate,moderate,12612,36,education,1\\n88,30,male,3,own,moderate,little,2249,18,car,0\\n89,28,male,2,own,little,little,1108,12,repairs,1\\n90,56,male,2,own,little,,618,12,radio/TV,0\\n91,54,male,2,own,little,little,1409,12,car,0\\n92,33,female,1,own,,,797,12,radio/TV,1\\n93,20,male,2,rent,,rich,3617,24,furniture/equipment,0\\n94,54,male,2,own,rich,moderate,1318,12,car,0\\n95,58,male,2,rent,little,moderate,15945,54,business,1\\n96,61,female,2,own,,,2012,12,education,0\\n97,34,male,2,own,moderate,moderate,2622,18,business,0\\n98,36,male,2,own,little,moderate,2337,36,radio/TV,0\\n99,36,male,3,rent,,moderate,7057,20,car,0\\n100,41,male,1,rent,moderate,,1469,24,car,0\\n101,24,male,2,rent,little,moderate,2323,36,radio/TV,0\\n102,24,female,2,own,little,,932,6,radio/TV,0\\n103,35,male,2,rent,little,moderate,1919,9,furniture/equipment,0\\n104,26,male,2,rent,,,2445,12,car,0\\n105,39,male,3,own,little,moderate,11938,24,vacation/others,1\\n106,39,male,3,own,little,,6458,18,car,1\\n107,32,male,2,own,little,moderate,6078,12,car,0\\n108,30,female,2,own,,little,7721,24,furniture/equipment,0\\n109,35,male,2,own,quite rich,moderate,1410,14,business,0\\n110,31,male,2,own,moderate,moderate,1449,6,business,0\\n111,23,female,2,rent,little,rich,392,15,education,0\\n112,28,male,1,rent,little,moderate,6260,18,car,0\\n113,25,female,2,own,little,,7855,36,car,1\\n114,35,male,2,own,quite rich,little,1680,12,radio/TV,0\\n115,47,male,2,own,,,3578,48,radio/TV,0\\n116,30,female,3,own,,little,7174,42,radio/TV,1\\n117,27,female,2,rent,,little,2132,10,furniture/equipment,0\\n118,23,female,2,own,quite rich,little,4281,33,furniture/equipment,1\\n119,36,male,3,own,quite rich,moderate,2366,12,car,0\\n120,25,female,2,own,little,little,1835,21,radio/TV,1\\n121,41,female,3,rent,little,,3868,24,car,0\\n122,24,male,1,rent,little,,1768,12,furniture/equipment,0\\n123,63,male,2,free,little,rich,781,10,car,0\\n124,27,female,2,rent,,moderate,1924,18,furniture/equipment,1\\n125,30,male,2,own,little,little,2121,12,car,0\\n126,40,male,1,own,little,little,701,12,radio/TV,0\\n127,30,male,2,own,little,moderate,639,12,repairs,1\\n128,34,male,3,own,little,moderate,1860,12,car,0\\n129,29,female,2,own,little,little,3499,12,car,1\\n130,24,female,2,own,,moderate,8487,48,car,0\\n131,29,male,2,own,little,little,6887,36,education,1\\n132,27,male,1,own,little,,2708,15,furniture/equipment,0\\n133,47,male,2,free,little,,1984,18,furniture/equipment,0\\n134,21,female,2,own,moderate,,10144,60,radio/TV,0\\n135,38,female,2,own,,,1240,12,radio/TV,0\\n136,27,male,2,own,rich,,8613,27,car,0\\n137,66,male,1,own,quite rich,moderate,766,12,radio/TV,1\\n138,35,male,2,own,,moderate,2728,15,radio/TV,0\\n139,44,female,1,rent,little,rich,1881,12,radio/TV,0\\n140,27,male,0,own,rich,rich,709,6,car,0\\n141,30,female,3,own,little,moderate,4795,36,radio/TV,0\\n142,27,male,3,own,little,little,3416,27,radio/TV,0\\n143,22,male,2,own,little,little,2462,18,furniture/equipment,1\\n144,23,female,2,own,little,,2288,21,furniture/equipment,0\\n145,30,male,2,own,moderate,moderate,3566,48,business,0\\n146,39,female,2,own,little,little,860,6,car,0\\n147,51,female,2,own,moderate,,682,12,car,0\\n148,28,male,2,own,little,little,5371,36,furniture/equipment,0\\n149,46,male,2,own,rich,,1582,18,radio/TV,0\\n150,42,male,2,free,moderate,,1346,6,radio/TV,0\\n151,38,male,2,own,little,,1924,10,radio/TV,0\\n152,24,male,2,own,little,rich,5848,36,radio/TV,0\\n153,29,female,2,rent,rich,moderate,7758,24,car,0\\n154,36,male,3,rent,moderate,moderate,6967,24,business,0\\n155,20,female,2,rent,little,little,1282,12,furniture/equipment,1\\n156,48,male,2,own,moderate,little,1288,9,repairs,0\\n157,45,male,1,own,little,little,339,12,education,0\\n158,38,male,2,own,moderate,moderate,3512,24,car,0\\n159,34,male,1,own,,,1898,6,radio/TV,0\\n160,36,male,2,own,moderate,,2872,24,radio/TV,0\\n161,30,female,2,own,little,,1055,18,car,0\\n162,36,male,2,own,quite rich,,1262,15,domestic appliances,0\\n163,70,male,3,free,little,moderate,7308,10,car,0\\n164,36,male,2,own,quite rich,,909,36,car,0\\n165,32,male,2,own,quite rich,,2978,6,furniture/equipment,0\\n166,33,female,2,own,little,little,1131,18,furniture/equipment,1\\n167,20,female,2,own,rich,moderate,1577,11,furniture/equipment,0\\n168,25,female,2,rent,little,,3972,24,furniture/equipment,0\\n169,31,male,2,own,little,moderate,1935,24,business,1\\n170,33,male,2,rent,little,little,950,15,car,1\\n171,26,female,2,own,little,,763,12,furniture/equipment,0\\n172,34,female,3,own,little,moderate,2064,24,furniture/equipment,1\\n173,33,male,2,own,little,moderate,1414,8,radio/TV,0\\n174,26,male,2,own,little,little,3414,21,education,1\\n175,53,female,3,own,,,7485,30,car,1\\n176,42,male,2,own,little,little,2577,12,furniture/equipment,0\\n177,52,male,2,own,quite rich,little,338,6,radio/TV,0\\n178,31,male,3,rent,little,,1963,12,radio/TV,0\\n179,65,male,2,own,little,little,571,21,car,0\\n180,28,male,2,own,little,,9572,36,business,1\\n181,30,male,3,own,little,moderate,4455,36,business,1\\n182,40,male,1,own,,little,1647,21,car,1\\n183,50,male,2,own,rich,,3777,24,furniture/equipment,0\\n184,36,male,2,own,little,moderate,884,18,car,1\\n185,31,male,2,own,little,,1360,15,radio/TV,0\\n186,74,female,3,free,little,moderate,5129,9,car,1\\n187,68,male,0,free,little,moderate,1175,16,car,0\\n188,20,male,2,own,moderate,little,674,12,radio/TV,1\\n189,33,female,2,own,little,moderate,3244,18,furniture/equipment,0\\n190,54,male,3,own,rich,,4591,24,business,1\\n191,34,male,1,free,moderate,moderate,3844,48,business,1\\n192,36,male,2,own,little,moderate,3915,27,business,1\\n193,29,male,2,rent,little,,2108,6,radio/TV,0\\n194,21,male,2,rent,moderate,moderate,3031,45,radio/TV,1\\n195,34,female,3,own,little,moderate,1501,9,education,1\\n196,28,female,2,own,little,,1382,6,radio/TV,0\\n197,27,female,2,rent,moderate,moderate,951,12,furniture/equipment,1\\n198,36,male,2,free,,moderate,2760,24,car,0\\n199,40,male,3,own,little,moderate,4297,18,furniture/equipment,1\\n200,52,male,2,own,quite rich,,936,9,education,0\\n201,27,male,1,own,little,little,1168,12,car,0\\n202,26,male,2,own,little,,5117,27,business,0\\n203,21,male,2,rent,little,little,902,12,education,1\\n204,38,male,1,own,little,,1495,12,car,0\\n205,38,male,3,free,little,little,10623,30,car,0\\n206,43,male,2,own,little,,1935,12,furniture/equipment,0\\n207,26,male,2,own,little,moderate,1424,12,domestic appliances,0\\n208,21,male,1,own,little,little,6568,24,business,0\\n209,55,male,2,own,rich,,1413,12,car,0\\n210,33,male,2,own,,,3074,9,radio/TV,0\\n211,45,female,1,own,,,3835,36,radio/TV,0\\n212,50,male,2,own,little,little,5293,27,business,1\\n213,66,male,3,own,little,rich,1908,30,business,1\\n214,51,male,2,own,,,3342,36,radio/TV,0\\n215,39,female,1,own,,moderate,932,6,education,0\\n216,31,male,2,own,little,little,3104,18,business,0\\n217,23,male,2,own,little,rich,3913,36,radio/TV,0\\n218,24,male,1,rent,little,little,3021,24,furniture/equipment,0\\n219,64,female,2,own,little,,1364,10,car,0\\n220,26,male,1,own,little,moderate,625,12,radio/TV,0\\n221,23,female,2,rent,,little,1200,12,education,0\\n222,30,male,2,own,little,,707,12,radio/TV,0\\n223,32,male,2,own,,,2978,24,business,0\\n224,30,male,2,own,little,,4657,15,car,0\\n225,27,male,2,own,little,,2613,36,repairs,0\\n226,27,male,2,own,rich,moderate,10961,48,radio/TV,1\\n227,53,male,3,free,little,little,7865,12,furniture/equipment,1\\n228,22,male,2,own,little,,1478,9,radio/TV,1\\n229,22,male,2,free,little,little,3149,24,furniture/equipment,0\\n230,26,male,2,own,little,rich,4210,36,radio/TV,1\\n231,51,male,1,free,quite rich,,2507,9,car,0\\n232,35,male,2,own,moderate,,2141,12,radio/TV,0\\n233,25,male,1,own,little,moderate,866,18,radio/TV,0\\n234,42,male,1,own,little,,1544,4,radio/TV,0\\n235,30,male,3,own,little,little,1823,24,radio/TV,1\\n236,23,male,0,own,,moderate,14555,6,car,1\\n237,61,male,1,rent,moderate,moderate,2767,21,business,1\\n238,35,female,2,own,little,,1291,12,radio/TV,0\\n239,39,male,2,own,little,little,2522,30,radio/TV,0\\n240,29,female,2,own,,little,915,24,car,1\\n241,51,male,2,own,little,,1595,6,radio/TV,0\\n242,24,male,2,free,little,little,4605,48,car,1\\n243,27,female,2,own,little,,1185,12,business,0\\n244,35,female,1,own,quite rich,,3447,12,education,0\\n245,25,male,2,own,little,,1258,24,business,0\\n246,52,male,2,own,little,,717,12,radio/TV,0\\n247,35,male,2,rent,moderate,,1204,6,car,0\\n248,26,male,2,own,little,rich,1925,24,furniture/equipment,0\\n249,22,female,2,rent,little,,433,18,radio/TV,1\\n250,39,female,1,own,rich,little,666,6,car,0\\n251,46,female,1,own,little,rich,2251,12,furniture/equipment,0\\n252,24,female,2,own,little,moderate,2150,30,car,1\\n253,35,male,2,own,moderate,,4151,24,furniture/equipment,0\\n254,24,male,2,own,,moderate,2030,9,furniture/equipment,0\\n255,27,male,1,own,,moderate,7418,60,radio/TV,0\\n256,35,male,1,own,little,,2684,24,radio/TV,0\\n257,29,male,2,free,little,little,2149,12,radio/TV,1\\n258,23,female,2,own,moderate,,3812,15,car,0\\n259,57,female,1,own,moderate,,1154,11,radio/TV,0\\n260,27,male,2,own,little,little,1657,12,furniture/equipment,0\\n261,55,female,2,own,little,little,1603,24,radio/TV,0\\n262,36,male,3,free,little,little,5302,18,car,0\\n263,57,female,1,free,little,,2748,12,education,0\\n264,32,male,1,own,little,,1231,10,car,0\\n265,37,male,2,own,little,moderate,802,15,radio/TV,1\\n266,36,male,2,own,,,6304,36,business,0\\n267,38,female,2,own,little,,1533,24,radio/TV,0\\n268,45,male,3,own,little,little,8978,14,car,1\\n269,25,male,2,own,,,999,24,radio/TV,0\\n270,32,male,2,own,,,2662,18,car,0\\n271,37,female,2,rent,quite rich,,1402,12,furniture/equipment,0\\n272,36,male,3,free,,moderate,12169,48,car,0\\n273,28,male,2,own,little,moderate,3060,48,radio/TV,1\\n274,34,male,1,own,little,little,11998,30,repairs,1\\n275,32,male,2,own,little,,2697,9,radio/TV,0\\n276,26,female,2,own,little,,2404,18,radio/TV,0\\n277,49,male,1,own,,little,1262,12,furniture/equipment,0\\n278,32,female,2,own,little,,4611,6,furniture/equipment,1\\n279,29,male,3,rent,moderate,,1901,24,radio/TV,0\\n280,23,male,2,rent,rich,,3368,15,car,0\\n281,50,male,2,own,little,,1574,12,furniture/equipment,0\\n282,49,male,1,own,,rich,1445,18,radio/TV,0\\n283,63,male,2,own,,,1520,15,furniture/equipment,0\\n284,37,male,2,own,moderate,moderate,3878,24,car,0\\n285,35,female,1,own,little,little,10722,47,car,0\\n286,26,male,2,own,little,little,4788,48,car,0\\n287,31,male,3,free,moderate,moderate,7582,48,vacation/others,0\\n288,49,female,2,own,little,moderate,1092,12,radio/TV,0\\n289,48,male,2,own,little,little,1024,24,radio/TV,1\\n290,26,male,2,own,little,,1076,12,business,0\\n291,28,male,3,rent,little,moderate,9398,36,car,1\\n292,44,female,3,free,little,little,6419,24,car,0\\n293,56,male,2,free,little,rich,4796,42,car,0\\n294,46,male,3,own,,,7629,48,business,0\\n295,26,female,2,own,little,moderate,9960,48,furniture/equipment,1\\n296,20,female,2,rent,,,4675,12,car,0\\n297,45,male,1,own,,,1287,10,car,0\\n298,43,male,2,own,little,,2515,18,furniture/equipment,0\\n299,32,male,2,own,rich,moderate,2745,21,furniture/equipment,0\\n300,54,female,0,own,little,,672,6,car,0\\n301,42,female,2,own,little,moderate,3804,36,radio/TV,1\\n302,37,male,1,own,,rich,1344,24,car,1\\n303,49,male,2,own,little,little,1038,10,car,0\\n304,44,male,2,free,quite rich,,10127,48,car,1\\n305,33,male,2,own,rich,,1543,6,furniture/equipment,0\\n306,24,female,1,rent,,,4811,30,car,0\\n307,33,male,1,own,moderate,little,727,12,radio/TV,1\\n308,24,female,2,own,little,moderate,1237,8,furniture/equipment,1\\n309,22,male,1,rent,little,moderate,276,9,car,0\\n310,40,male,0,free,,moderate,5381,48,vacation/others,0\\n311,25,male,2,own,moderate,,5511,24,furniture/equipment,0\\n312,26,female,2,own,little,rich,3749,24,furniture/equipment,0\\n313,25,male,1,own,little,moderate,685,12,car,1\\n314,29,male,1,own,,rich,1494,4,car,0\\n315,31,male,2,own,little,little,2746,36,furniture/equipment,1\\n316,38,male,1,own,little,little,708,12,furniture/equipment,0\\n317,48,female,1,own,,moderate,4351,24,furniture/equipment,0\\n318,32,male,2,own,little,,701,12,education,0\\n319,27,female,1,own,little,little,3643,15,furniture/equipment,0\\n320,28,male,3,own,little,moderate,4249,30,car,1\\n321,32,male,2,own,little,little,1938,24,radio/TV,1\\n322,34,male,3,free,little,little,2910,24,car,0\\n323,28,male,2,own,rich,little,2659,18,furniture/equipment,0\\n324,36,female,2,own,little,,1028,18,car,0\\n325,39,male,1,own,little,little,3398,8,car,0\\n326,49,male,2,rent,,,5801,12,furniture/equipment,0\\n327,34,female,2,own,rich,,1525,24,car,0\\n328,31,male,2,own,little,rich,4473,36,radio/TV,0\\n329,28,male,2,own,little,moderate,1068,6,radio/TV,0\\n330,75,male,3,free,little,little,6615,24,car,0\\n331,30,female,2,own,moderate,,1864,18,education,1\\n332,24,female,3,own,moderate,moderate,7408,60,car,1\\n333,24,female,1,rent,moderate,,11590,48,car,1\\n334,23,male,2,rent,little,little,4110,24,furniture/equipment,1\\n335,44,male,3,rent,little,little,3384,6,furniture/equipment,1\\n336,23,female,1,own,little,moderate,2101,13,radio/TV,0\\n337,24,female,2,rent,,little,1275,15,domestic appliances,1\\n338,28,male,2,own,little,little,4169,24,furniture/equipment,0\\n339,31,male,1,own,little,moderate,1521,10,furniture/equipment,0\\n340,24,female,2,free,little,moderate,5743,24,education,0\\n341,26,female,1,rent,little,little,3599,21,furniture/equipment,0\\n342,25,male,2,rent,quite rich,moderate,3213,18,radio/TV,0\\n343,33,male,3,own,little,moderate,4439,18,business,0\\n344,37,male,1,own,little,rich,3949,10,car,0\\n345,43,female,1,own,little,,1459,15,radio/TV,0\\n346,23,male,2,own,little,moderate,882,13,radio/TV,0\\n347,23,female,0,rent,quite rich,moderate,3758,24,radio/TV,0\\n348,34,male,1,own,moderate,,1743,6,business,0\\n349,32,male,2,free,rich,moderate,1136,9,education,1\\n350,23,female,2,rent,little,,1236,9,domestic appliances,0\\n351,29,female,2,own,little,moderate,959,9,furniture/equipment,1\\n352,38,male,3,own,,,3229,18,car,0\\n353,28,male,2,rent,little,little,6199,12,radio/TV,1\\n354,46,male,2,free,quite rich,,727,10,education,0\\n355,23,male,1,own,little,moderate,1246,24,car,1\\n356,49,male,2,own,,,2331,12,radio/TV,0\\n357,26,male,3,own,little,,4463,36,radio/TV,1\\n358,28,male,2,own,little,,776,12,radio/TV,0\\n359,23,female,2,rent,little,little,2406,30,furniture/equipment,1\\n360,61,male,2,free,,moderate,1239,18,education,0\\n361,37,male,3,own,,rich,3399,12,radio/TV,0\\n362,36,female,2,own,little,rich,2247,12,car,0\\n363,21,male,2,rent,little,,1766,6,furniture/equipment,0\\n364,25,male,0,own,little,little,2473,18,furniture/equipment,1\\n365,36,male,2,own,little,,1542,12,business,0\\n366,27,male,2,own,little,,3850,18,car,0\\n367,22,female,2,rent,little,little,3650,18,furniture/equipment,0\\n368,42,male,2,own,little,little,3446,36,furniture/equipment,1\\n369,40,female,2,rent,little,moderate,3001,18,furniture/equipment,0\\n370,36,male,2,own,,,3079,36,car,0\\n371,33,male,2,own,little,,6070,18,radio/TV,0\\n372,23,female,2,rent,little,,2146,10,furniture/equipment,0\\n373,63,male,3,free,,,13756,60,car,0\\n374,60,female,3,free,moderate,moderate,14782,60,vacation/others,1\\n375,37,female,2,rent,little,little,7685,48,business,1\\n376,34,male,2,own,little,,2320,18,radio/TV,0\\n377,36,male,2,free,,,846,7,radio/TV,0\\n378,57,male,3,free,little,moderate,14318,36,car,1\\n379,52,female,1,own,moderate,,362,6,car,0\\n380,39,male,2,own,,little,2212,20,furniture/equipment,0\\n381,38,female,3,free,little,moderate,12976,18,car,1\\n382,25,female,2,rent,,,1283,22,car,0\\n383,26,male,2,own,little,rich,1330,12,car,0\\n384,26,male,1,own,moderate,,4272,30,business,0\\n385,25,female,2,own,little,,2238,18,radio/TV,0\\n386,21,female,2,rent,,,1126,18,radio/TV,0\\n387,40,male,3,own,little,moderate,7374,18,furniture/equipment,0\\n388,27,male,2,own,quite rich,moderate,2326,15,business,0\\n389,27,female,2,own,little,,1449,9,business,0\\n390,30,male,3,own,little,,1820,18,car,0\\n391,19,female,1,rent,rich,moderate,983,12,furniture/equipment,0\\n392,39,male,3,free,little,little,3249,36,car,0\\n393,31,female,2,own,little,little,1957,6,radio/TV,0\\n394,31,male,3,own,little,,2406,9,furniture/equipment,0\\n395,32,male,2,rent,moderate,moderate,11760,39,education,0\\n396,55,female,3,free,little,little,2578,12,furniture/equipment,0\\n397,46,male,2,own,little,little,2348,36,furniture/equipment,0\\n398,46,male,2,rent,little,moderate,1223,12,car,1\\n399,43,female,1,own,rich,,1516,24,radio/TV,0\\n400,39,male,2,own,little,,1473,18,radio/TV,0\\n401,28,male,2,own,,moderate,1887,18,business,0\\n402,27,male,2,own,little,,8648,24,business,1\\n403,27,male,1,own,little,,802,14,car,0\\n404,43,male,2,own,,moderate,2899,18,car,0\\n405,22,male,2,own,little,moderate,2039,24,radio/TV,1\\n406,43,male,2,own,,,2197,24,car,0\\n407,27,male,2,own,little,little,1053,15,radio/TV,0\\n408,26,male,3,own,quite rich,,3235,24,radio/TV,0\\n409,28,male,2,own,quite rich,rich,939,12,car,1\\n410,20,female,2,own,little,moderate,1967,24,radio/TV,0\\n411,35,male,3,own,little,,7253,33,car,0\\n412,42,male,3,own,little,,2292,12,business,1\\n413,40,male,1,rent,quite rich,,1597,10,car,0\\n414,35,female,2,own,,little,1381,24,car,1\\n415,35,male,2,own,little,,5842,36,car,0\\n416,33,male,1,own,little,little,2579,12,car,1\\n417,23,female,2,rent,,little,8471,18,education,0\\n418,31,female,3,own,quite rich,,2782,21,car,0\\n419,33,female,2,own,,moderate,1042,18,car,1\\n420,20,female,2,rent,rich,,3186,15,car,0\\n421,30,male,2,own,,moderate,2028,12,car,0\\n422,47,male,1,own,little,moderate,958,12,car,0\\n423,34,male,3,own,moderate,,1591,21,furniture/equipment,0\\n424,25,female,2,own,,moderate,2762,12,furniture/equipment,1\\n425,21,male,2,rent,little,moderate,2779,18,car,0\\n426,29,male,2,own,little,,2743,28,radio/TV,0\\n427,46,male,2,own,rich,,1149,18,radio/TV,0\\n428,20,male,2,own,little,,1313,9,furniture/equipment,0\\n429,55,female,0,free,little,little,1190,18,repairs,1\\n430,74,male,1,own,little,,3448,5,business,0\\n431,29,male,3,own,little,moderate,11328,24,vacation/others,1\\n432,36,male,3,free,little,little,1872,6,furniture/equipment,0\\n433,33,male,2,own,little,,2058,24,repairs,0\\n434,25,male,2,own,little,little,2136,9,furniture/equipment,0\\n435,25,male,2,own,,moderate,1484,12,radio/TV,1\\n436,23,male,1,rent,quite rich,,660,6,repairs,0\\n437,37,female,2,own,rich,,1287,24,car,0\\n438,65,male,0,own,little,little,3394,42,repairs,0\\n439,26,female,0,own,little,rich,609,12,business,1\\n440,39,male,3,own,little,,1884,12,car,0\\n441,30,female,2,own,little,little,1620,12,furniture/equipment,0\\n442,29,male,2,own,little,moderate,2629,20,vacation/others,0\\n443,41,male,1,own,little,,719,12,education,1\\n444,30,female,3,own,little,moderate,5096,48,furniture/equipment,1\\n445,41,female,1,rent,,,1244,9,education,0\\n446,34,female,2,own,little,little,1842,36,car,1\\n447,35,male,2,own,little,moderate,2576,7,radio/TV,0\\n448,55,female,3,own,,rich,1424,12,furniture/equipment,0\\n449,61,male,2,own,rich,moderate,1512,15,repairs,1\\n450,30,male,3,own,,,11054,36,car,0\\n451,29,female,2,own,little,,518,6,radio/TV,0\\n452,34,male,2,own,little,,2759,12,furniture/equipment,0\\n453,35,male,3,own,little,,2670,24,car,0\\n454,31,male,2,own,little,little,4817,24,car,1\\n455,29,female,3,own,little,,2679,24,car,0\\n456,36,male,2,rent,little,little,3905,11,car,0\\n457,35,male,2,free,little,little,3386,12,car,1\\n458,27,female,2,own,little,little,343,6,domestic appliances,0\\n459,32,male,2,own,little,,4594,18,radio/TV,0\\n460,37,male,2,own,little,little,3620,36,furniture/equipment,0\\n461,36,male,2,own,little,little,1721,15,car,0\\n462,34,female,3,rent,little,moderate,3017,12,furniture/equipment,0\\n463,38,male,2,own,,moderate,754,12,education,0\\n464,34,male,2,own,little,,1950,18,business,0\\n465,63,male,2,own,little,little,2924,24,car,0\\n466,29,female,1,rent,little,little,1659,24,radio/TV,1\\n467,32,male,2,own,,,7238,48,radio/TV,0\\n468,26,female,2,own,little,,2764,33,business,0\\n469,35,male,1,own,little,,4679,24,car,0\\n470,22,male,2,rent,moderate,moderate,3092,24,radio/TV,1\\n471,23,female,2,own,little,little,448,6,education,1\\n472,28,male,1,own,little,little,654,9,car,1\\n473,36,male,3,own,,,1238,6,education,0\\n474,33,male,2,own,little,moderate,1245,18,radio/TV,1\\n475,26,female,2,rent,little,little,3114,18,furniture/equipment,1\\n476,24,male,2,own,quite rich,,2569,39,car,0\\n477,25,male,2,own,little,rich,5152,24,radio/TV,0\\n478,39,male,1,own,moderate,moderate,1037,12,business,0\\n479,44,male,2,own,little,little,1478,15,furniture/equipment,0\\n480,23,female,1,own,little,moderate,3573,12,radio/TV,0\\n481,26,male,2,own,little,moderate,1201,24,car,0\\n482,57,female,2,rent,rich,little,3622,30,furniture/equipment,0\\n483,30,female,2,own,rich,,960,15,furniture/equipment,0\\n484,44,male,2,own,quite rich,,1163,12,car,0\\n485,47,male,3,own,little,moderate,1209,6,car,1\\n486,52,male,2,own,little,,3077,12,radio/TV,0\\n487,62,female,2,free,little,,3757,24,car,0\\n488,35,male,1,rent,moderate,,1418,10,car,0\\n489,26,male,2,rent,little,,3518,6,car,0\\n490,26,male,2,own,little,,1934,12,radio/TV,0\\n491,42,female,3,free,little,moderate,8318,27,business,1\\n492,27,female,2,own,moderate,,1237,6,radio/TV,0\\n493,38,male,2,own,,moderate,368,6,radio/TV,0\\n494,39,male,1,rent,little,little,2122,12,car,0\\n495,20,male,2,own,,little,2996,24,furniture/equipment,1\\n496,29,male,3,rent,moderate,moderate,9034,36,furniture/equipment,1\\n497,40,male,2,own,little,,1585,24,furniture/equipment,0\\n498,32,male,1,own,little,moderate,1301,18,radio/TV,0\\n499,28,male,2,own,moderate,rich,1323,6,car,0\\n500,27,female,2,own,little,little,3123,24,car,1\\n501,42,male,2,free,little,little,5493,36,car,0\\n502,49,male,2,own,moderate,rich,1126,9,radio/TV,0\\n503,38,male,2,own,moderate,moderate,1216,24,radio/TV,1\\n504,24,female,2,rent,little,little,1207,24,car,1\\n505,27,male,1,own,,,1309,10,car,1\\n506,36,male,2,own,quite rich,rich,2360,15,car,0\\n507,34,male,3,own,moderate,moderate,6850,15,car,1\\n508,28,male,2,own,little,,1413,24,radio/TV,0\\n509,45,male,3,own,moderate,,8588,39,car,0\\n510,26,male,2,own,little,little,759,12,car,1\\n511,32,male,3,free,little,,4686,36,car,0\\n512,26,male,2,rent,little,rich,2687,15,business,0\\n513,20,male,2,rent,little,moderate,585,12,radio/TV,0\\n514,54,male,2,own,,,2255,24,car,0\\n515,37,female,2,own,little,little,609,6,car,0\\n516,40,male,1,own,little,little,1361,6,car,0\\n517,23,female,2,rent,little,,7127,36,furniture/equipment,1\\n518,43,male,2,own,moderate,little,1203,6,car,0\\n519,36,male,2,free,,,700,6,radio/TV,0\\n520,44,male,2,free,little,,5507,24,repairs,0\\n521,24,female,2,own,little,little,3190,18,radio/TV,1\\n522,53,male,2,free,little,little,7119,48,furniture/equipment,1\\n523,23,female,2,own,moderate,,3488,24,car,0\\n524,26,female,1,own,little,moderate,1113,18,radio/TV,0\\n525,30,male,2,own,little,moderate,7966,26,car,0\\n526,31,female,2,own,moderate,,1532,15,education,0\\n527,42,male,1,own,little,,1503,4,radio/TV,0\\n528,31,male,2,rent,little,little,2302,36,radio/TV,1\\n529,41,male,1,own,little,little,662,6,car,0\\n530,32,male,2,own,little,moderate,2273,36,education,0\\n531,28,female,2,rent,moderate,moderate,2631,15,car,1\\n532,41,male,2,rent,little,,1503,12,car,0\\n533,26,male,2,own,moderate,,1311,24,radio/TV,0\\n534,25,male,2,own,,,3105,24,radio/TV,0\\n535,33,male,2,rent,little,rich,2319,21,education,1\\n536,75,female,3,own,,little,1374,6,car,0\\n537,37,female,2,own,little,moderate,3612,18,furniture/equipment,0\\n538,42,male,3,free,little,little,7763,48,car,1\\n539,45,female,1,own,little,rich,3049,18,furniture/equipment,0\\n540,23,male,2,rent,little,moderate,1534,12,radio/TV,1\\n541,60,male,2,free,little,,2032,24,car,0\\n542,31,male,2,own,,little,6350,30,furniture/equipment,1\\n543,34,male,1,own,little,rich,2864,18,furniture/equipment,1\\n544,61,male,1,own,little,,1255,12,car,0\\n545,43,male,2,free,little,little,1333,24,car,1\\n546,37,female,2,own,little,,2022,24,car,0\\n547,32,male,2,own,little,,1552,24,radio/TV,0\\n548,24,female,1,own,little,little,626,12,radio/TV,1\\n549,35,male,2,free,,,8858,48,car,0\\n550,23,female,2,own,,,996,12,repairs,0\\n551,45,male,1,own,quite rich,,1750,6,radio/TV,0\\n552,34,male,2,own,little,little,6999,48,radio/TV,1\\n553,27,male,2,own,moderate,moderate,1995,12,car,0\\n554,67,female,3,own,little,moderate,1199,9,education,0\\n555,22,male,2,own,little,moderate,1331,12,radio/TV,1\\n556,28,female,2,own,moderate,moderate,2278,18,car,1\\n557,29,female,2,own,,,5003,21,car,1\\n558,27,male,2,own,little,little,3552,24,furniture/equipment,1\\n559,31,male,1,own,little,moderate,1928,18,furniture/equipment,1\\n560,49,male,2,free,,little,2964,24,car,0\\n561,24,male,1,rent,little,little,1546,24,radio/TV,1\\n562,29,female,2,own,little,rich,683,6,radio/TV,0\\n563,37,male,2,free,,moderate,12389,36,car,1\\n564,37,male,3,own,,moderate,4712,24,business,0\\n565,23,female,2,rent,moderate,moderate,1553,24,radio/TV,0\\n566,36,male,2,own,little,little,1372,12,car,1\\n567,34,male,2,own,rich,,2578,24,radio/TV,0\\n568,41,male,2,own,,moderate,3979,48,radio/TV,0\\n569,31,female,2,own,little,little,6758,48,radio/TV,1\\n570,23,female,1,rent,little,little,3234,24,furniture/equipment,1\\n571,38,male,2,own,little,,5954,30,radio/TV,0\\n572,26,female,3,rent,,,5433,24,car,0\\n573,22,female,1,own,little,little,806,15,business,0\\n574,27,male,1,own,little,moderate,1082,9,radio/TV,0\\n575,24,female,2,own,little,,2788,15,furniture/equipment,0\\n576,27,female,2,own,little,moderate,2930,12,radio/TV,0\\n577,33,female,2,own,,,1927,24,education,0\\n578,27,male,2,own,little,moderate,2820,36,car,1\\n579,27,male,1,own,little,,937,24,education,0\\n580,30,male,2,own,little,moderate,1056,18,car,1\\n581,49,male,1,own,little,moderate,3124,12,car,0\\n582,26,female,2,rent,little,,1388,9,furniture/equipment,0\\n583,33,male,1,rent,little,moderate,2384,36,repairs,1\\n584,52,female,3,free,,,2133,12,car,0\\n585,20,female,2,rent,little,little,2039,18,furniture/equipment,1\\n586,36,male,2,rent,little,little,2799,9,car,0\\n587,21,male,1,own,little,little,1289,12,furniture/equipment,0\\n588,47,male,1,own,little,little,1217,18,domestic appliances,1\\n589,60,male,2,own,little,little,2246,12,furniture/equipment,1\\n590,58,female,1,own,little,little,385,12,radio/TV,0\\n591,42,female,2,rent,,moderate,1965,24,car,0\\n592,36,female,1,own,rich,,1572,21,business,0\\n593,20,female,1,rent,little,moderate,2718,24,car,1\\n594,40,male,3,own,,little,1358,24,vacation/others,1\\n595,32,female,1,own,moderate,moderate,931,6,car,1\\n596,23,female,2,rent,little,little,1442,24,car,1\\n597,36,male,1,own,little,moderate,4241,24,business,1\\n598,31,male,2,own,little,,2775,18,car,1\\n599,32,male,2,free,little,,3863,24,business,0\\n600,45,female,2,own,little,moderate,2329,7,radio/TV,0\\n601,30,female,2,own,little,moderate,918,9,furniture/equipment,1\\n602,34,female,1,free,little,moderate,1837,24,education,1\\n603,28,female,3,own,little,,3349,36,furniture/equipment,1\\n604,23,female,2,own,little,rich,1275,10,furniture/equipment,0\\n605,22,male,2,own,quite rich,little,2828,24,furniture/equipment,0\\n606,74,male,3,own,little,,4526,24,business,0\\n607,50,female,2,free,moderate,moderate,2671,36,radio/TV,1\\n608,33,male,2,own,little,,2051,18,radio/TV,0\\n609,45,male,2,free,,,1300,15,car,0\\n610,22,female,2,own,moderate,little,741,12,domestic appliances,1\\n611,48,female,1,free,moderate,rich,1240,10,car,1\\n612,29,female,2,own,rich,little,3357,21,radio/TV,0\\n613,22,female,2,rent,little,little,3632,24,car,0\\n614,22,female,2,own,little,,1808,18,furniture/equipment,1\\n615,48,male,3,own,,moderate,12204,48,business,0\\n616,27,male,3,free,,moderate,9157,60,radio/TV,0\\n617,37,male,2,rent,little,little,3676,6,car,0\\n618,21,female,2,rent,moderate,moderate,3441,30,furniture/equipment,1\\n619,49,male,1,own,little,,640,12,car,0\\n620,27,male,2,own,little,moderate,3652,21,business,0\\n621,32,male,2,own,little,,1530,18,car,1\\n622,38,male,2,own,,,3914,48,business,1\\n623,22,female,2,rent,little,little,1858,12,furniture/equipment,0\\n624,65,male,2,free,little,little,2600,18,radio/TV,1\\n625,35,male,2,own,,,1979,15,radio/TV,0\\n626,41,male,2,own,little,rich,2116,6,furniture/equipment,0\\n627,29,male,2,own,moderate,moderate,1437,9,car,1\\n628,36,male,2,own,quite rich,,4042,42,furniture/equipment,0\\n629,64,male,1,own,,,3832,9,education,0\\n630,28,female,2,own,little,little,3660,24,radio/TV,0\\n631,44,male,2,own,little,little,1553,18,furniture/equipment,1\\n632,23,male,2,own,,moderate,1444,15,radio/TV,0\\n633,19,female,2,rent,little,,1980,9,furniture/equipment,1\\n634,25,female,1,own,little,moderate,1355,24,car,1\\n635,47,male,2,own,little,,1393,12,education,0\\n636,28,female,2,own,quite rich,,1376,24,radio/TV,0\\n637,21,male,2,own,little,,15653,60,radio/TV,0\\n638,34,female,2,own,little,,1493,12,radio/TV,0\\n639,26,male,2,own,little,little,4370,42,radio/TV,1\\n640,27,female,0,own,little,little,750,18,education,1\\n641,38,male,1,own,little,moderate,1308,15,repairs,0\\n642,40,male,3,own,moderate,,4623,15,education,1\\n643,33,male,2,own,little,,1851,24,radio/TV,0\\n644,32,male,3,own,little,little,1880,18,radio/TV,0\\n645,27,male,2,rent,,,7980,36,business,1\\n646,32,male,2,own,little,little,4583,30,furniture/equipment,0\\n647,26,female,2,own,quite rich,,1386,12,car,1\\n648,38,male,2,free,little,rich,947,24,car,1\\n649,40,male,1,rent,little,little,684,12,education,1\\n650,50,male,3,free,little,little,7476,48,education,0\\n651,37,male,1,own,little,moderate,1922,12,furniture/equipment,1\\n652,45,male,2,own,little,little,2303,24,car,1\\n653,42,male,3,own,moderate,moderate,8086,36,car,1\\n654,35,male,2,own,little,,2346,24,car,0\\n655,22,male,2,free,little,little,3973,14,car,0\\n656,41,male,1,own,little,moderate,888,12,car,1\\n657,37,male,2,own,,,10222,48,radio/TV,0\\n658,28,female,2,own,little,moderate,4221,30,business,0\\n659,41,male,2,own,little,moderate,6361,18,furniture/equipment,0\\n660,23,male,2,rent,little,rich,1297,12,radio/TV,0\\n661,23,male,2,own,,little,900,12,car,1\\n662,50,male,2,own,little,,2241,21,furniture/equipment,0\\n663,35,male,3,own,little,moderate,1050,6,furniture/equipment,0\\n664,50,female,1,own,little,rich,1047,6,education,0\\n665,27,male,3,own,little,,6314,24,vacation/others,0\\n666,34,male,2,own,rich,moderate,3496,30,furniture/equipment,0\\n667,27,female,2,own,little,,3609,48,business,0\\n668,43,male,2,rent,little,little,4843,12,car,1\\n669,47,male,2,own,little,rich,3017,30,radio/TV,0\\n670,27,male,1,own,moderate,,4139,24,business,0\\n671,31,male,2,own,moderate,,5742,36,business,0\\n672,42,male,3,own,little,,10366,60,car,0\\n673,24,male,2,own,quite rich,,2080,6,car,0\\n674,41,male,1,own,quite rich,,2580,21,business,1\\n675,26,female,3,rent,little,,4530,30,radio/TV,0\\n676,33,male,2,own,little,,5150,24,furniture/equipment,0\\n677,24,male,2,own,moderate,moderate,5595,72,radio/TV,1\\n678,64,male,1,rent,little,little,2384,24,radio/TV,0\\n679,26,female,2,own,little,,1453,18,radio/TV,0\\n680,56,female,2,own,little,,1538,6,education,0\\n681,37,male,2,free,,,2279,12,radio/TV,0\\n682,33,male,2,own,little,,1478,15,radio/TV,0\\n683,47,male,2,free,little,,5103,24,radio/TV,0\\n684,31,male,1,own,moderate,moderate,9857,36,business,0\\n685,34,male,2,free,,,6527,60,car,0\\n686,27,male,2,own,,rich,1347,10,radio/TV,0\\n687,30,male,2,free,moderate,moderate,2862,36,car,0\\n688,35,male,2,own,moderate,,2753,9,radio/TV,0\\n689,31,male,2,own,rich,little,3651,12,car,0\\n690,25,male,2,own,little,little,975,15,furniture/equipment,0\\n691,25,female,1,own,moderate,moderate,2631,15,repairs,0\\n692,29,male,2,own,moderate,moderate,2896,24,radio/TV,0\\n693,44,male,1,own,,little,4716,6,car,0\\n694,28,male,2,own,little,,2284,24,radio/TV,0\\n695,50,male,2,rent,quite rich,,1236,6,car,0\\n696,29,male,2,own,little,moderate,1103,12,radio/TV,0\\n697,38,female,0,own,little,,926,12,car,0\\n698,24,male,2,own,little,,1800,18,radio/TV,0\\n699,40,male,3,rent,little,rich,1905,15,education,0\\n700,29,female,1,rent,quite rich,,1123,12,furniture/equipment,1\\n701,46,male,2,free,little,little,6331,48,car,1\\n702,47,female,2,free,moderate,rich,1377,24,radio/TV,0\\n703,41,male,2,own,moderate,moderate,2503,30,business,0\\n704,32,female,2,own,little,moderate,2528,27,business,0\\n705,35,female,2,free,quite rich,,5324,15,car,0\\n706,24,male,2,own,moderate,moderate,6560,48,car,1\\n707,25,female,2,rent,little,moderate,2969,12,furniture/equipment,1\\n708,25,female,2,own,little,moderate,1206,9,radio/TV,0\\n709,37,male,1,own,little,moderate,2118,9,radio/TV,0\\n710,32,male,3,own,quite rich,,629,18,radio/TV,0\\n711,35,female,2,free,little,little,1198,6,education,1\\n712,46,male,3,own,,,2476,21,car,0\\n713,25,male,1,own,little,little,1138,9,radio/TV,0\\n714,27,male,3,own,little,moderate,14027,60,car,1\\n715,63,male,2,own,,,7596,30,car,0\\n716,40,male,2,own,,,3077,30,radio/TV,0\\n717,32,male,3,free,little,,1505,18,radio/TV,0\\n718,31,male,2,own,,rich,3148,24,radio/TV,0\\n719,31,male,2,own,moderate,moderate,6148,20,car,0\\n720,34,male,3,own,little,rich,1337,9,radio/TV,1\\n721,24,female,2,rent,rich,moderate,433,6,education,1\\n722,24,female,1,own,little,little,1228,12,car,1\\n723,66,female,1,own,quite rich,moderate,790,9,radio/TV,0\\n724,21,female,2,rent,little,,2570,27,car,1\\n725,41,female,1,own,rich,,250,6,car,0\\n726,47,male,1,own,quite rich,,1316,15,radio/TV,0\\n727,25,female,2,rent,little,little,1882,18,radio/TV,1\\n728,59,female,2,rent,little,moderate,6416,48,business,1\\n729,36,male,2,own,rich,rich,1275,24,business,0\\n730,33,male,2,own,little,moderate,6403,24,radio/TV,0\\n731,21,male,1,rent,little,little,1987,24,radio/TV,1\\n732,44,female,1,own,little,moderate,760,8,radio/TV,0\\n733,28,female,2,rent,rich,,2603,24,car,0\\n734,37,female,2,own,little,,3380,4,car,0\\n735,29,female,0,own,,moderate,3990,36,domestic appliances,0\\n736,23,female,3,rent,little,moderate,11560,24,car,1\\n737,35,male,1,own,moderate,little,4380,18,car,0\\n738,45,male,3,own,little,,6761,6,car,0\\n739,26,female,1,rent,moderate,moderate,4280,30,business,1\\n740,32,male,2,own,moderate,little,2325,24,car,0\\n741,23,male,1,own,little,moderate,1048,10,radio/TV,0\\n742,41,male,2,own,,,3160,21,radio/TV,0\\n743,22,male,2,own,quite rich,little,2483,24,furniture/equipment,0\\n744,30,male,3,own,,little,14179,39,furniture/equipment,0\\n745,28,male,1,own,little,little,1797,13,business,0\\n746,23,female,2,rent,little,little,2511,15,car,0\\n747,37,female,1,own,little,little,1274,12,car,1\\n748,26,male,2,own,,,5248,21,car,0\\n749,33,male,2,own,little,,3029,15,car,0\\n750,49,female,2,own,little,little,428,6,furniture/equipment,0\\n751,23,female,1,own,little,little,976,18,car,1\\n752,23,female,1,rent,moderate,moderate,841,12,business,0\\n753,25,female,2,own,little,,5771,30,radio/TV,0\\n754,55,male,2,free,rich,,1555,12,repairs,1\\n755,32,female,2,rent,,little,1285,24,car,1\\n756,74,male,0,own,little,rich,1299,6,car,0\\n757,39,male,2,free,,rich,1271,15,radio/TV,1\\n758,31,male,2,own,little,,1393,24,car,0\\n759,35,male,2,own,little,little,691,12,car,1\\n760,59,female,2,own,,,5045,15,car,0\\n761,24,female,2,rent,little,little,2124,18,furniture/equipment,1\\n762,24,male,1,own,little,little,2214,12,radio/TV,0\\n763,30,male,3,free,,,12680,21,car,1\\n764,27,male,2,own,moderate,,2463,24,car,0\\n765,40,male,1,own,little,moderate,1155,12,radio/TV,0\\n766,31,male,1,own,little,little,3108,30,furniture/equipment,1\\n767,31,female,2,rent,,,2901,10,car,0\\n768,28,male,2,rent,little,moderate,3617,12,furniture/equipment,0\\n769,63,male,1,own,little,,1655,12,radio/TV,0\\n770,26,female,2,rent,,little,2812,24,car,0\\n771,25,female,3,own,little,little,8065,36,education,1\\n772,36,male,3,own,little,,3275,21,car,0\\n773,52,male,2,own,moderate,,2223,24,radio/TV,0\\n774,66,male,0,free,quite rich,rich,1480,12,car,0\\n775,25,female,2,rent,,little,1371,24,car,1\\n776,37,male,2,own,little,,3535,36,car,0\\n777,25,female,2,own,little,little,3509,18,radio/TV,0\\n778,38,male,3,own,rich,,5711,36,car,0\\n779,67,female,2,own,little,moderate,3872,18,repairs,0\\n780,25,male,2,own,little,moderate,4933,39,radio/TV,1\\n781,60,male,2,own,rich,,1940,24,car,0\\n782,31,male,1,own,little,moderate,1410,12,education,0\\n783,23,female,1,own,moderate,moderate,836,12,car,1\\n784,60,male,3,own,,moderate,6468,20,car,0\\n785,35,male,1,own,rich,moderate,1941,18,business,0\\n786,40,male,2,own,quite rich,,2675,22,radio/TV,0\\n787,38,male,2,own,,,2751,48,car,0\\n788,50,male,2,free,little,moderate,6224,48,education,1\\n789,27,male,2,own,little,little,5998,40,education,1\\n790,39,female,2,own,little,moderate,1188,21,business,1\\n791,41,male,3,own,,,6313,24,car,0\\n792,27,male,2,own,,,1221,6,furniture/equipment,0\\n793,51,male,2,free,little,rich,2892,24,furniture/equipment,0\\n794,32,male,2,rent,quite rich,,3062,24,furniture/equipment,0\\n795,22,female,2,rent,moderate,,2301,9,furniture/equipment,0\\n796,51,male,2,free,,little,7511,18,car,1\\n797,22,female,1,rent,little,,1258,12,furniture/equipment,0\\n798,54,male,2,own,,,717,24,car,0\\n799,35,male,0,own,,moderate,1549,9,car,0\\n800,54,male,2,free,little,,1597,24,education,0\\n801,48,female,1,rent,little,moderate,1795,18,radio/TV,0\\n802,24,female,2,own,little,little,4272,20,furniture/equipment,0\\n803,35,male,2,own,,,976,12,radio/TV,0\\n804,24,female,0,rent,,moderate,7472,12,car,0\\n805,24,male,2,own,little,little,9271,36,car,1\\n806,26,male,1,own,little,moderate,590,6,radio/TV,0\\n807,65,male,2,own,,,930,12,radio/TV,0\\n808,55,male,3,free,little,moderate,9283,42,car,0\\n809,26,female,0,rent,little,moderate,1778,15,car,1\\n810,26,male,2,own,little,moderate,907,8,business,0\\n811,28,male,1,own,little,moderate,484,6,radio/TV,0\\n812,24,male,2,own,little,little,9629,36,car,1\\n813,54,male,2,own,little,little,3051,48,domestic appliances,1\\n814,46,male,2,free,little,little,3931,48,car,1\\n815,54,female,2,rent,little,moderate,7432,36,car,0\\n816,62,male,2,own,quite rich,,1338,6,domestic appliances,0\\n817,24,female,2,rent,little,,1554,6,radio/TV,0\\n818,43,male,3,own,little,little,15857,36,vacation/others,0\\n819,26,male,2,own,little,little,1345,18,radio/TV,1\\n820,27,male,2,own,little,,1101,12,car,0\\n821,24,male,2,own,little,rich,3016,12,radio/TV,0\\n822,41,male,2,own,little,little,2712,36,furniture/equipment,1\\n823,47,male,1,own,little,little,731,8,car,0\\n824,35,male,3,own,little,,3780,18,furniture/equipment,0\\n825,30,male,2,own,little,little,1602,21,car,0\\n826,33,female,2,rent,little,little,3966,18,car,1\\n827,36,male,2,own,little,,4165,18,business,1\\n828,47,male,2,free,,little,8335,36,car,1\\n829,38,male,2,free,,moderate,6681,48,business,0\\n830,44,male,2,own,quite rich,,2375,24,business,0\\n831,23,female,2,rent,little,little,1216,18,car,1\\n832,29,male,2,rent,little,little,11816,45,business,1\\n833,42,female,2,own,,moderate,5084,24,radio/TV,0\\n834,25,female,1,own,little,rich,2327,15,radio/TV,1\\n835,48,male,2,own,little,little,1082,12,car,1\\n836,21,female,2,own,,,886,12,radio/TV,0\\n837,23,female,1,rent,little,,601,4,furniture/equipment,0\\n838,63,male,2,own,little,little,2957,24,car,0\\n839,46,male,2,own,little,,2611,24,radio/TV,0\\n840,29,male,2,own,little,little,5179,36,furniture/equipment,1\\n841,28,male,1,own,little,,2993,21,car,0\\n842,23,female,2,own,little,,1943,18,repairs,1\\n843,50,male,2,own,little,,1559,24,business,0\\n844,47,male,2,own,little,,3422,18,furniture/equipment,0\\n845,35,male,2,own,,moderate,3976,21,furniture/equipment,0\\n846,68,male,2,rent,,,6761,18,car,1\\n847,28,male,2,own,little,,1249,24,car,0\\n848,59,male,2,own,little,little,1364,9,radio/TV,0\\n849,57,male,1,own,little,little,709,12,radio/TV,1\\n850,33,male,2,rent,little,little,2235,20,car,1\\n851,43,male,2,own,,,4042,24,car,0\\n852,35,male,2,free,little,,1471,15,radio/TV,0\\n853,32,male,1,free,little,little,1442,18,car,1\\n854,45,male,2,own,little,,10875,36,car,0\\n855,33,male,2,own,moderate,,1474,24,car,0\\n856,40,female,2,own,,,894,10,education,0\\n857,28,male,2,free,little,,3343,15,furniture/equipment,0\\n858,29,female,2,own,little,little,3959,15,car,1\\n859,26,male,2,rent,moderate,,3577,9,car,0\\n860,27,male,2,own,rich,,5804,24,car,0\\n861,28,male,2,own,little,,2169,18,business,1\\n862,35,female,2,own,little,little,2439,24,radio/TV,1\\n863,32,male,1,own,rich,,4526,27,furniture/equipment,0\\n864,25,male,1,rent,little,,2210,10,furniture/equipment,1\\n865,20,female,2,rent,quite rich,,2221,15,furniture/equipment,0\\n866,27,female,2,own,little,little,2389,18,radio/TV,0\\n867,42,male,2,own,little,,3331,12,furniture/equipment,0\\n868,37,male,2,own,,,7409,36,business,0\\n869,24,female,2,rent,little,little,652,12,furniture/equipment,0\\n870,40,female,2,own,quite rich,,7678,36,furniture/equipment,0\\n871,46,male,2,own,little,rich,1343,6,car,0\\n872,26,male,2,own,moderate,little,1382,24,business,0\\n873,24,female,2,own,,,874,15,domestic appliances,0\\n874,29,male,1,own,little,little,3590,12,furniture/equipment,0\\n875,40,female,2,own,rich,moderate,1322,11,car,0\\n876,36,male,3,free,little,little,1940,18,radio/TV,0\\n877,28,male,2,own,little,,3595,36,radio/TV,0\\n878,27,male,3,free,little,little,1422,9,car,1\\n879,36,male,2,own,,,6742,30,radio/TV,0\\n880,38,male,3,own,little,,7814,24,car,0\\n881,48,male,2,free,,,9277,24,car,0\\n882,36,male,2,own,,moderate,2181,30,car,0\\n883,65,female,0,own,little,,1098,18,radio/TV,0\\n884,43,male,2,own,little,moderate,4057,24,furniture/equipment,1\\n885,53,female,2,own,little,little,795,12,education,1\\n886,34,male,2,own,,moderate,2825,24,business,0\\n887,23,male,2,own,little,moderate,15672,48,business,1\\n888,34,male,3,own,little,,6614,36,car,0\\n889,40,male,2,rent,,,7824,28,car,0\\n890,43,male,3,own,little,little,2442,27,business,0\\n891,46,male,2,own,little,,1829,15,radio/TV,0\\n892,38,male,1,own,little,little,2171,12,car,0\\n893,34,male,2,own,little,moderate,5800,36,car,0\\n894,29,male,2,own,,,1169,18,radio/TV,0\\n895,31,male,3,own,,,8947,36,car,0\\n896,28,female,3,rent,little,little,2606,21,radio/TV,0\\n897,35,female,2,own,rich,,1592,12,furniture/equipment,0\\n898,33,female,1,rent,,,2186,15,furniture/equipment,0\\n899,42,male,2,own,little,little,4153,18,furniture/equipment,1\\n900,43,male,2,rent,little,little,2625,16,car,1\\n901,44,male,2,own,,,3485,20,car,0\\n902,42,male,2,free,,,10477,36,car,0\\n903,40,male,2,rent,,,1386,15,radio/TV,0\\n904,36,male,3,own,little,,1278,24,radio/TV,0\\n905,20,male,3,rent,little,little,1107,12,radio/TV,0\\n906,24,male,1,own,,little,3763,21,car,0\\n907,27,male,2,own,,moderate,3711,36,education,0\\n908,46,female,1,own,little,,3594,15,car,0\\n909,33,female,1,own,,moderate,3195,9,car,0\\n910,34,female,2,own,little,,4454,36,radio/TV,0\\n911,25,female,1,own,little,moderate,4736,24,furniture/equipment,1\\n912,25,female,2,own,,moderate,2991,30,radio/TV,0\\n913,28,male,2,own,rich,,2142,11,business,0\\n914,31,male,2,rent,little,little,3161,24,business,1\\n915,32,female,3,own,little,moderate,18424,48,vacation/others,1\\n916,32,male,2,own,moderate,,2848,10,car,0\\n917,68,male,3,own,little,little,14896,6,car,1\\n918,33,male,2,own,moderate,little,2359,24,furniture/equipment,1\\n919,39,male,3,rent,little,little,3345,24,furniture/equipment,1\\n920,28,female,2,own,little,,1817,18,furniture/equipment,0\\n921,37,male,3,own,quite rich,,12749,48,radio/TV,0\\n922,22,female,2,rent,little,little,1366,9,radio/TV,1\\n923,30,male,2,rent,little,moderate,2002,12,car,0\\n924,55,male,2,own,little,little,6872,24,furniture/equipment,1\\n925,46,male,2,own,little,little,697,12,car,1\\n926,21,female,2,rent,little,little,1049,18,furniture/equipment,0\\n927,39,male,2,free,little,little,10297,48,car,1\\n928,58,male,2,own,,,1867,30,radio/TV,0\\n929,43,male,1,own,little,little,1344,12,car,0\\n930,24,male,1,own,little,little,1747,24,furniture/equipment,0\\n931,22,female,2,own,little,moderate,1670,9,radio/TV,1\\n932,30,male,2,own,little,,1224,9,car,0\\n933,42,male,2,own,quite rich,,522,12,radio/TV,0\\n934,23,female,2,own,little,little,1498,12,radio/TV,0\\n935,30,male,3,own,moderate,moderate,1919,30,radio/TV,1\\n936,28,female,1,own,little,rich,745,9,radio/TV,1\\n937,30,male,3,rent,little,moderate,2063,6,radio/TV,0\\n938,42,male,2,free,little,moderate,6288,60,education,1\\n939,46,male,3,own,,,6842,24,car,0\\n940,45,male,3,own,,,3527,12,car,0\\n941,31,male,1,own,little,,1546,10,car,0\\n942,31,male,2,own,,,929,24,furniture/equipment,0\\n943,42,male,1,own,little,,1455,4,car,0\\n944,46,female,2,rent,little,little,1845,15,furniture/equipment,0\\n945,30,female,2,own,quite rich,moderate,8358,48,car,0\\n946,30,male,2,free,quite rich,little,3349,24,furniture/equipment,1\\n947,38,male,3,own,,,2859,12,car,0\\n948,43,male,1,own,little,,1533,18,furniture/equipment,1\\n949,31,male,2,own,moderate,,3621,24,radio/TV,1\\n950,40,male,0,own,little,moderate,3590,18,business,0\\n951,24,male,2,own,little,little,2145,36,business,1\\n952,28,female,2,rent,quite rich,moderate,4113,24,car,1\\n953,26,female,3,own,little,,10974,36,furniture/equipment,1\\n954,29,female,2,own,little,little,1893,12,car,0\\n955,57,female,3,rent,rich,little,1231,24,radio/TV,0\\n956,49,male,1,own,,rich,3656,30,radio/TV,0\\n957,37,male,1,own,little,moderate,1154,9,radio/TV,0\\n958,45,male,1,own,little,little,4006,28,car,1\\n959,30,male,2,free,moderate,moderate,3069,24,furniture/equipment,0\\n960,30,male,2,rent,little,,1740,6,radio/TV,0\\n961,47,male,2,own,little,moderate,2353,21,car,0\\n962,29,male,2,own,,,3556,15,car,0\\n963,35,male,2,own,quite rich,,2397,24,radio/TV,1\\n964,22,male,1,own,little,moderate,454,6,repairs,0\\n965,26,female,2,own,,moderate,1715,30,radio/TV,0\\n966,23,male,1,own,quite rich,moderate,2520,27,radio/TV,1\\n967,54,female,3,rent,little,,3568,15,radio/TV,0\\n968,29,male,2,rent,,,7166,42,radio/TV,0\\n969,40,male,1,own,little,little,3939,11,car,0\\n970,22,male,2,own,moderate,moderate,1514,15,repairs,0\\n971,43,male,1,own,little,,7393,24,car,0\\n972,29,female,0,rent,little,little,1193,24,car,1\\n973,36,male,2,rent,little,little,7297,60,business,1\\n974,33,female,2,own,little,,2831,30,radio/TV,0\\n975,57,female,1,own,quite rich,rich,1258,24,radio/TV,0\\n976,64,female,2,own,little,moderate,753,6,radio/TV,0\\n977,42,male,2,own,,moderate,2427,18,business,0\\n978,47,male,1,own,little,,2538,24,car,1\\n979,25,male,2,rent,moderate,moderate,1264,15,car,1\\n980,49,male,2,own,little,moderate,8386,30,furniture/equipment,1\\n981,33,male,3,rent,little,,4844,48,business,1\\n982,28,female,3,own,moderate,rich,2923,21,car,0\\n983,26,male,2,own,little,little,8229,36,car,1\\n984,30,male,1,own,little,,2028,24,furniture/equipment,0\\n985,25,female,2,rent,little,little,1433,15,furniture/equipment,0\\n986,33,male,2,own,little,rich,6289,42,business,0\\n987,64,female,2,own,moderate,,1409,13,radio/TV,0\\n988,29,male,3,free,little,little,6579,24,car,0\\n989,48,male,1,own,little,moderate,1743,24,radio/TV,0\\n990,37,male,1,own,,,3565,12,education,0\\n991,34,male,1,own,moderate,,1569,15,radio/TV,0\\n992,23,male,1,rent,,little,1936,18,radio/TV,0\\n993,30,male,3,own,little,little,3959,36,furniture/equipment,0\\n994,50,male,2,own,,,2390,12,car,0\\n995,31,female,1,own,little,,1736,12,furniture/equipment,0\\n996,40,male,3,own,little,little,3857,30,car,0\\n997,38,male,2,own,little,,804,12,radio/TV,0\\n998,23,male,2,free,little,little,1845,45,radio/TV,1\\n999,27,male,2,own,moderate,moderate,4576,45,car,0\\n'}"
            ]
          },
          "metadata": {
            "tags": []
          },
          "execution_count": 1
        }
      ]
    },
    {
      "cell_type": "code",
      "metadata": {
        "id": "2bUg9py8N9PI",
        "colab_type": "code",
        "colab": {}
      },
      "source": [
        "df = pd.read_csv('germancredit_merged.csv')"
      ],
      "execution_count": 0,
      "outputs": []
    },
    {
      "cell_type": "code",
      "metadata": {
        "id": "wwXdlneZN9PM",
        "colab_type": "code",
        "outputId": "ab7187ce-9a7e-40a0-a16c-3266b26d6797",
        "colab": {}
      },
      "source": [
        "df.head()"
      ],
      "execution_count": 0,
      "outputs": [
        {
          "output_type": "execute_result",
          "data": {
            "text/html": [
              "<div>\n",
              "<style scoped>\n",
              "    .dataframe tbody tr th:only-of-type {\n",
              "        vertical-align: middle;\n",
              "    }\n",
              "\n",
              "    .dataframe tbody tr th {\n",
              "        vertical-align: top;\n",
              "    }\n",
              "\n",
              "    .dataframe thead th {\n",
              "        text-align: right;\n",
              "    }\n",
              "</style>\n",
              "<table border=\"1\" class=\"dataframe\">\n",
              "  <thead>\n",
              "    <tr style=\"text-align: right;\">\n",
              "      <th></th>\n",
              "      <th>Unnamed: 0</th>\n",
              "      <th>Age</th>\n",
              "      <th>Sex</th>\n",
              "      <th>Job</th>\n",
              "      <th>Housing</th>\n",
              "      <th>Saving accounts</th>\n",
              "      <th>Checking account</th>\n",
              "      <th>Credit amount</th>\n",
              "      <th>Duration</th>\n",
              "      <th>Purpose</th>\n",
              "      <th>default</th>\n",
              "    </tr>\n",
              "  </thead>\n",
              "  <tbody>\n",
              "    <tr>\n",
              "      <th>0</th>\n",
              "      <td>0</td>\n",
              "      <td>67</td>\n",
              "      <td>male</td>\n",
              "      <td>2</td>\n",
              "      <td>own</td>\n",
              "      <td>NaN</td>\n",
              "      <td>little</td>\n",
              "      <td>1169</td>\n",
              "      <td>6</td>\n",
              "      <td>radio/TV</td>\n",
              "      <td>0</td>\n",
              "    </tr>\n",
              "    <tr>\n",
              "      <th>1</th>\n",
              "      <td>1</td>\n",
              "      <td>22</td>\n",
              "      <td>female</td>\n",
              "      <td>2</td>\n",
              "      <td>own</td>\n",
              "      <td>little</td>\n",
              "      <td>moderate</td>\n",
              "      <td>5951</td>\n",
              "      <td>48</td>\n",
              "      <td>radio/TV</td>\n",
              "      <td>1</td>\n",
              "    </tr>\n",
              "    <tr>\n",
              "      <th>2</th>\n",
              "      <td>2</td>\n",
              "      <td>49</td>\n",
              "      <td>male</td>\n",
              "      <td>1</td>\n",
              "      <td>own</td>\n",
              "      <td>little</td>\n",
              "      <td>NaN</td>\n",
              "      <td>2096</td>\n",
              "      <td>12</td>\n",
              "      <td>education</td>\n",
              "      <td>0</td>\n",
              "    </tr>\n",
              "    <tr>\n",
              "      <th>3</th>\n",
              "      <td>3</td>\n",
              "      <td>45</td>\n",
              "      <td>male</td>\n",
              "      <td>2</td>\n",
              "      <td>free</td>\n",
              "      <td>little</td>\n",
              "      <td>little</td>\n",
              "      <td>7882</td>\n",
              "      <td>42</td>\n",
              "      <td>furniture/equipment</td>\n",
              "      <td>0</td>\n",
              "    </tr>\n",
              "    <tr>\n",
              "      <th>4</th>\n",
              "      <td>4</td>\n",
              "      <td>53</td>\n",
              "      <td>male</td>\n",
              "      <td>2</td>\n",
              "      <td>free</td>\n",
              "      <td>little</td>\n",
              "      <td>little</td>\n",
              "      <td>4870</td>\n",
              "      <td>24</td>\n",
              "      <td>car</td>\n",
              "      <td>1</td>\n",
              "    </tr>\n",
              "  </tbody>\n",
              "</table>\n",
              "</div>"
            ],
            "text/plain": [
              "   Unnamed: 0  Age     Sex  Job Housing Saving accounts Checking account  \\\n",
              "0           0   67    male    2     own             NaN           little   \n",
              "1           1   22  female    2     own          little         moderate   \n",
              "2           2   49    male    1     own          little              NaN   \n",
              "3           3   45    male    2    free          little           little   \n",
              "4           4   53    male    2    free          little           little   \n",
              "\n",
              "   Credit amount  Duration              Purpose  default  \n",
              "0           1169         6             radio/TV        0  \n",
              "1           5951        48             radio/TV        1  \n",
              "2           2096        12            education        0  \n",
              "3           7882        42  furniture/equipment        0  \n",
              "4           4870        24                  car        1  "
            ]
          },
          "metadata": {
            "tags": []
          },
          "execution_count": 19
        }
      ]
    },
    {
      "cell_type": "code",
      "metadata": {
        "id": "ZK3w71nTN9PP",
        "colab_type": "code",
        "colab": {}
      },
      "source": [
        "df = df.drop('Unnamed: 0',axis=1)"
      ],
      "execution_count": 0,
      "outputs": []
    },
    {
      "cell_type": "code",
      "metadata": {
        "id": "KxiN-vnnN9PR",
        "colab_type": "code",
        "outputId": "580520a9-152e-4bdb-c584-01a378def070",
        "colab": {}
      },
      "source": [
        "df.head()"
      ],
      "execution_count": 0,
      "outputs": [
        {
          "output_type": "execute_result",
          "data": {
            "text/html": [
              "<div>\n",
              "<style scoped>\n",
              "    .dataframe tbody tr th:only-of-type {\n",
              "        vertical-align: middle;\n",
              "    }\n",
              "\n",
              "    .dataframe tbody tr th {\n",
              "        vertical-align: top;\n",
              "    }\n",
              "\n",
              "    .dataframe thead th {\n",
              "        text-align: right;\n",
              "    }\n",
              "</style>\n",
              "<table border=\"1\" class=\"dataframe\">\n",
              "  <thead>\n",
              "    <tr style=\"text-align: right;\">\n",
              "      <th></th>\n",
              "      <th>Age</th>\n",
              "      <th>Sex</th>\n",
              "      <th>Job</th>\n",
              "      <th>Housing</th>\n",
              "      <th>Saving accounts</th>\n",
              "      <th>Checking account</th>\n",
              "      <th>Credit amount</th>\n",
              "      <th>Duration</th>\n",
              "      <th>Purpose</th>\n",
              "      <th>default</th>\n",
              "    </tr>\n",
              "  </thead>\n",
              "  <tbody>\n",
              "    <tr>\n",
              "      <th>0</th>\n",
              "      <td>67</td>\n",
              "      <td>male</td>\n",
              "      <td>2</td>\n",
              "      <td>own</td>\n",
              "      <td>NaN</td>\n",
              "      <td>little</td>\n",
              "      <td>1169</td>\n",
              "      <td>6</td>\n",
              "      <td>radio/TV</td>\n",
              "      <td>0</td>\n",
              "    </tr>\n",
              "    <tr>\n",
              "      <th>1</th>\n",
              "      <td>22</td>\n",
              "      <td>female</td>\n",
              "      <td>2</td>\n",
              "      <td>own</td>\n",
              "      <td>little</td>\n",
              "      <td>moderate</td>\n",
              "      <td>5951</td>\n",
              "      <td>48</td>\n",
              "      <td>radio/TV</td>\n",
              "      <td>1</td>\n",
              "    </tr>\n",
              "    <tr>\n",
              "      <th>2</th>\n",
              "      <td>49</td>\n",
              "      <td>male</td>\n",
              "      <td>1</td>\n",
              "      <td>own</td>\n",
              "      <td>little</td>\n",
              "      <td>NaN</td>\n",
              "      <td>2096</td>\n",
              "      <td>12</td>\n",
              "      <td>education</td>\n",
              "      <td>0</td>\n",
              "    </tr>\n",
              "    <tr>\n",
              "      <th>3</th>\n",
              "      <td>45</td>\n",
              "      <td>male</td>\n",
              "      <td>2</td>\n",
              "      <td>free</td>\n",
              "      <td>little</td>\n",
              "      <td>little</td>\n",
              "      <td>7882</td>\n",
              "      <td>42</td>\n",
              "      <td>furniture/equipment</td>\n",
              "      <td>0</td>\n",
              "    </tr>\n",
              "    <tr>\n",
              "      <th>4</th>\n",
              "      <td>53</td>\n",
              "      <td>male</td>\n",
              "      <td>2</td>\n",
              "      <td>free</td>\n",
              "      <td>little</td>\n",
              "      <td>little</td>\n",
              "      <td>4870</td>\n",
              "      <td>24</td>\n",
              "      <td>car</td>\n",
              "      <td>1</td>\n",
              "    </tr>\n",
              "  </tbody>\n",
              "</table>\n",
              "</div>"
            ],
            "text/plain": [
              "   Age     Sex  Job Housing Saving accounts Checking account  Credit amount  \\\n",
              "0   67    male    2     own             NaN           little           1169   \n",
              "1   22  female    2     own          little         moderate           5951   \n",
              "2   49    male    1     own          little              NaN           2096   \n",
              "3   45    male    2    free          little           little           7882   \n",
              "4   53    male    2    free          little           little           4870   \n",
              "\n",
              "   Duration              Purpose  default  \n",
              "0         6             radio/TV        0  \n",
              "1        48             radio/TV        1  \n",
              "2        12            education        0  \n",
              "3        42  furniture/equipment        0  \n",
              "4        24                  car        1  "
            ]
          },
          "metadata": {
            "tags": []
          },
          "execution_count": 21
        }
      ]
    },
    {
      "cell_type": "code",
      "metadata": {
        "id": "iUKUoMrDN9PU",
        "colab_type": "code",
        "outputId": "fc800d30-b69d-4962-8d37-a59568df1b70",
        "colab": {}
      },
      "source": [
        "df.columns"
      ],
      "execution_count": 0,
      "outputs": [
        {
          "output_type": "execute_result",
          "data": {
            "text/plain": [
              "Index(['Age', 'Sex', 'Job', 'Housing', 'Saving accounts', 'Checking account',\n",
              "       'Credit amount', 'Duration', 'Purpose', 'default'],\n",
              "      dtype='object')"
            ]
          },
          "metadata": {
            "tags": []
          },
          "execution_count": 22
        }
      ]
    },
    {
      "cell_type": "code",
      "metadata": {
        "id": "Onw6taSwN9PX",
        "colab_type": "code",
        "outputId": "a1e0729a-9e2b-45d5-eb53-7cf0904f449f",
        "colab": {}
      },
      "source": [
        "[col.lower().replace(' ','_') for col in df.columns]"
      ],
      "execution_count": 0,
      "outputs": [
        {
          "output_type": "execute_result",
          "data": {
            "text/plain": [
              "['age',\n",
              " 'sex',\n",
              " 'job',\n",
              " 'housing',\n",
              " 'saving_accounts',\n",
              " 'checking_account',\n",
              " 'credit_amount',\n",
              " 'duration',\n",
              " 'purpose',\n",
              " 'default']"
            ]
          },
          "metadata": {
            "tags": []
          },
          "execution_count": 29
        }
      ]
    },
    {
      "cell_type": "code",
      "metadata": {
        "id": "4DJlaGH7N9Pa",
        "colab_type": "code",
        "colab": {}
      },
      "source": [
        "df.columns = ['age', 'sex', 'job', 'housing', 'saving_accounts', 'checking_account',\n",
        "       'credit_amount', 'duration', 'purpose', 'default']"
      ],
      "execution_count": 0,
      "outputs": []
    },
    {
      "cell_type": "code",
      "metadata": {
        "id": "bbKtzYL8N9Pc",
        "colab_type": "code",
        "outputId": "ad4ad1dd-9942-4f03-e6c1-6d38fb686dc4",
        "colab": {}
      },
      "source": [
        "df"
      ],
      "execution_count": 0,
      "outputs": [
        {
          "output_type": "execute_result",
          "data": {
            "text/html": [
              "<div>\n",
              "<style scoped>\n",
              "    .dataframe tbody tr th:only-of-type {\n",
              "        vertical-align: middle;\n",
              "    }\n",
              "\n",
              "    .dataframe tbody tr th {\n",
              "        vertical-align: top;\n",
              "    }\n",
              "\n",
              "    .dataframe thead th {\n",
              "        text-align: right;\n",
              "    }\n",
              "</style>\n",
              "<table border=\"1\" class=\"dataframe\">\n",
              "  <thead>\n",
              "    <tr style=\"text-align: right;\">\n",
              "      <th></th>\n",
              "      <th>age</th>\n",
              "      <th>sex</th>\n",
              "      <th>job</th>\n",
              "      <th>housing</th>\n",
              "      <th>saving_accounts</th>\n",
              "      <th>checking_account</th>\n",
              "      <th>credit_amount</th>\n",
              "      <th>duration</th>\n",
              "      <th>purpose</th>\n",
              "      <th>default</th>\n",
              "    </tr>\n",
              "  </thead>\n",
              "  <tbody>\n",
              "    <tr>\n",
              "      <th>0</th>\n",
              "      <td>67</td>\n",
              "      <td>male</td>\n",
              "      <td>2</td>\n",
              "      <td>own</td>\n",
              "      <td>NaN</td>\n",
              "      <td>little</td>\n",
              "      <td>1169</td>\n",
              "      <td>6</td>\n",
              "      <td>radio/TV</td>\n",
              "      <td>0</td>\n",
              "    </tr>\n",
              "    <tr>\n",
              "      <th>1</th>\n",
              "      <td>22</td>\n",
              "      <td>female</td>\n",
              "      <td>2</td>\n",
              "      <td>own</td>\n",
              "      <td>little</td>\n",
              "      <td>moderate</td>\n",
              "      <td>5951</td>\n",
              "      <td>48</td>\n",
              "      <td>radio/TV</td>\n",
              "      <td>1</td>\n",
              "    </tr>\n",
              "    <tr>\n",
              "      <th>2</th>\n",
              "      <td>49</td>\n",
              "      <td>male</td>\n",
              "      <td>1</td>\n",
              "      <td>own</td>\n",
              "      <td>little</td>\n",
              "      <td>NaN</td>\n",
              "      <td>2096</td>\n",
              "      <td>12</td>\n",
              "      <td>education</td>\n",
              "      <td>0</td>\n",
              "    </tr>\n",
              "    <tr>\n",
              "      <th>3</th>\n",
              "      <td>45</td>\n",
              "      <td>male</td>\n",
              "      <td>2</td>\n",
              "      <td>free</td>\n",
              "      <td>little</td>\n",
              "      <td>little</td>\n",
              "      <td>7882</td>\n",
              "      <td>42</td>\n",
              "      <td>furniture/equipment</td>\n",
              "      <td>0</td>\n",
              "    </tr>\n",
              "    <tr>\n",
              "      <th>4</th>\n",
              "      <td>53</td>\n",
              "      <td>male</td>\n",
              "      <td>2</td>\n",
              "      <td>free</td>\n",
              "      <td>little</td>\n",
              "      <td>little</td>\n",
              "      <td>4870</td>\n",
              "      <td>24</td>\n",
              "      <td>car</td>\n",
              "      <td>1</td>\n",
              "    </tr>\n",
              "    <tr>\n",
              "      <th>...</th>\n",
              "      <td>...</td>\n",
              "      <td>...</td>\n",
              "      <td>...</td>\n",
              "      <td>...</td>\n",
              "      <td>...</td>\n",
              "      <td>...</td>\n",
              "      <td>...</td>\n",
              "      <td>...</td>\n",
              "      <td>...</td>\n",
              "      <td>...</td>\n",
              "    </tr>\n",
              "    <tr>\n",
              "      <th>995</th>\n",
              "      <td>31</td>\n",
              "      <td>female</td>\n",
              "      <td>1</td>\n",
              "      <td>own</td>\n",
              "      <td>little</td>\n",
              "      <td>NaN</td>\n",
              "      <td>1736</td>\n",
              "      <td>12</td>\n",
              "      <td>furniture/equipment</td>\n",
              "      <td>0</td>\n",
              "    </tr>\n",
              "    <tr>\n",
              "      <th>996</th>\n",
              "      <td>40</td>\n",
              "      <td>male</td>\n",
              "      <td>3</td>\n",
              "      <td>own</td>\n",
              "      <td>little</td>\n",
              "      <td>little</td>\n",
              "      <td>3857</td>\n",
              "      <td>30</td>\n",
              "      <td>car</td>\n",
              "      <td>0</td>\n",
              "    </tr>\n",
              "    <tr>\n",
              "      <th>997</th>\n",
              "      <td>38</td>\n",
              "      <td>male</td>\n",
              "      <td>2</td>\n",
              "      <td>own</td>\n",
              "      <td>little</td>\n",
              "      <td>NaN</td>\n",
              "      <td>804</td>\n",
              "      <td>12</td>\n",
              "      <td>radio/TV</td>\n",
              "      <td>0</td>\n",
              "    </tr>\n",
              "    <tr>\n",
              "      <th>998</th>\n",
              "      <td>23</td>\n",
              "      <td>male</td>\n",
              "      <td>2</td>\n",
              "      <td>free</td>\n",
              "      <td>little</td>\n",
              "      <td>little</td>\n",
              "      <td>1845</td>\n",
              "      <td>45</td>\n",
              "      <td>radio/TV</td>\n",
              "      <td>1</td>\n",
              "    </tr>\n",
              "    <tr>\n",
              "      <th>999</th>\n",
              "      <td>27</td>\n",
              "      <td>male</td>\n",
              "      <td>2</td>\n",
              "      <td>own</td>\n",
              "      <td>moderate</td>\n",
              "      <td>moderate</td>\n",
              "      <td>4576</td>\n",
              "      <td>45</td>\n",
              "      <td>car</td>\n",
              "      <td>0</td>\n",
              "    </tr>\n",
              "  </tbody>\n",
              "</table>\n",
              "<p>1000 rows × 10 columns</p>\n",
              "</div>"
            ],
            "text/plain": [
              "     age     sex  job housing saving_accounts checking_account  credit_amount  \\\n",
              "0     67    male    2     own             NaN           little           1169   \n",
              "1     22  female    2     own          little         moderate           5951   \n",
              "2     49    male    1     own          little              NaN           2096   \n",
              "3     45    male    2    free          little           little           7882   \n",
              "4     53    male    2    free          little           little           4870   \n",
              "..   ...     ...  ...     ...             ...              ...            ...   \n",
              "995   31  female    1     own          little              NaN           1736   \n",
              "996   40    male    3     own          little           little           3857   \n",
              "997   38    male    2     own          little              NaN            804   \n",
              "998   23    male    2    free          little           little           1845   \n",
              "999   27    male    2     own        moderate         moderate           4576   \n",
              "\n",
              "     duration              purpose  default  \n",
              "0           6             radio/TV        0  \n",
              "1          48             radio/TV        1  \n",
              "2          12            education        0  \n",
              "3          42  furniture/equipment        0  \n",
              "4          24                  car        1  \n",
              "..        ...                  ...      ...  \n",
              "995        12  furniture/equipment        0  \n",
              "996        30                  car        0  \n",
              "997        12             radio/TV        0  \n",
              "998        45             radio/TV        1  \n",
              "999        45                  car        0  \n",
              "\n",
              "[1000 rows x 10 columns]"
            ]
          },
          "metadata": {
            "tags": []
          },
          "execution_count": 31
        }
      ]
    },
    {
      "cell_type": "code",
      "metadata": {
        "id": "_ydXC8hQN9Pe",
        "colab_type": "code",
        "outputId": "2dc577c3-7ef9-47dd-a46e-72f30ec45c8c",
        "colab": {}
      },
      "source": [
        "df['default'].sum()"
      ],
      "execution_count": 0,
      "outputs": [
        {
          "output_type": "execute_result",
          "data": {
            "text/plain": [
              "300"
            ]
          },
          "metadata": {
            "tags": []
          },
          "execution_count": 32
        }
      ]
    },
    {
      "cell_type": "code",
      "metadata": {
        "id": "AP1dX9MYN9Ph",
        "colab_type": "code",
        "outputId": "b7977996-1b4a-4d97-bb5a-e93509d3036c",
        "colab": {}
      },
      "source": [
        "df"
      ],
      "execution_count": 0,
      "outputs": [
        {
          "output_type": "execute_result",
          "data": {
            "text/html": [
              "<div>\n",
              "<style scoped>\n",
              "    .dataframe tbody tr th:only-of-type {\n",
              "        vertical-align: middle;\n",
              "    }\n",
              "\n",
              "    .dataframe tbody tr th {\n",
              "        vertical-align: top;\n",
              "    }\n",
              "\n",
              "    .dataframe thead th {\n",
              "        text-align: right;\n",
              "    }\n",
              "</style>\n",
              "<table border=\"1\" class=\"dataframe\">\n",
              "  <thead>\n",
              "    <tr style=\"text-align: right;\">\n",
              "      <th></th>\n",
              "      <th>age</th>\n",
              "      <th>sex</th>\n",
              "      <th>job</th>\n",
              "      <th>housing</th>\n",
              "      <th>saving_accounts</th>\n",
              "      <th>checking_account</th>\n",
              "      <th>credit_amount</th>\n",
              "      <th>duration</th>\n",
              "      <th>purpose</th>\n",
              "      <th>default</th>\n",
              "    </tr>\n",
              "  </thead>\n",
              "  <tbody>\n",
              "    <tr>\n",
              "      <th>0</th>\n",
              "      <td>67</td>\n",
              "      <td>male</td>\n",
              "      <td>2</td>\n",
              "      <td>own</td>\n",
              "      <td>NaN</td>\n",
              "      <td>little</td>\n",
              "      <td>1169</td>\n",
              "      <td>6</td>\n",
              "      <td>radio/TV</td>\n",
              "      <td>0</td>\n",
              "    </tr>\n",
              "    <tr>\n",
              "      <th>1</th>\n",
              "      <td>22</td>\n",
              "      <td>female</td>\n",
              "      <td>2</td>\n",
              "      <td>own</td>\n",
              "      <td>little</td>\n",
              "      <td>moderate</td>\n",
              "      <td>5951</td>\n",
              "      <td>48</td>\n",
              "      <td>radio/TV</td>\n",
              "      <td>1</td>\n",
              "    </tr>\n",
              "    <tr>\n",
              "      <th>2</th>\n",
              "      <td>49</td>\n",
              "      <td>male</td>\n",
              "      <td>1</td>\n",
              "      <td>own</td>\n",
              "      <td>little</td>\n",
              "      <td>NaN</td>\n",
              "      <td>2096</td>\n",
              "      <td>12</td>\n",
              "      <td>education</td>\n",
              "      <td>0</td>\n",
              "    </tr>\n",
              "    <tr>\n",
              "      <th>3</th>\n",
              "      <td>45</td>\n",
              "      <td>male</td>\n",
              "      <td>2</td>\n",
              "      <td>free</td>\n",
              "      <td>little</td>\n",
              "      <td>little</td>\n",
              "      <td>7882</td>\n",
              "      <td>42</td>\n",
              "      <td>furniture/equipment</td>\n",
              "      <td>0</td>\n",
              "    </tr>\n",
              "    <tr>\n",
              "      <th>4</th>\n",
              "      <td>53</td>\n",
              "      <td>male</td>\n",
              "      <td>2</td>\n",
              "      <td>free</td>\n",
              "      <td>little</td>\n",
              "      <td>little</td>\n",
              "      <td>4870</td>\n",
              "      <td>24</td>\n",
              "      <td>car</td>\n",
              "      <td>1</td>\n",
              "    </tr>\n",
              "    <tr>\n",
              "      <th>...</th>\n",
              "      <td>...</td>\n",
              "      <td>...</td>\n",
              "      <td>...</td>\n",
              "      <td>...</td>\n",
              "      <td>...</td>\n",
              "      <td>...</td>\n",
              "      <td>...</td>\n",
              "      <td>...</td>\n",
              "      <td>...</td>\n",
              "      <td>...</td>\n",
              "    </tr>\n",
              "    <tr>\n",
              "      <th>995</th>\n",
              "      <td>31</td>\n",
              "      <td>female</td>\n",
              "      <td>1</td>\n",
              "      <td>own</td>\n",
              "      <td>little</td>\n",
              "      <td>NaN</td>\n",
              "      <td>1736</td>\n",
              "      <td>12</td>\n",
              "      <td>furniture/equipment</td>\n",
              "      <td>0</td>\n",
              "    </tr>\n",
              "    <tr>\n",
              "      <th>996</th>\n",
              "      <td>40</td>\n",
              "      <td>male</td>\n",
              "      <td>3</td>\n",
              "      <td>own</td>\n",
              "      <td>little</td>\n",
              "      <td>little</td>\n",
              "      <td>3857</td>\n",
              "      <td>30</td>\n",
              "      <td>car</td>\n",
              "      <td>0</td>\n",
              "    </tr>\n",
              "    <tr>\n",
              "      <th>997</th>\n",
              "      <td>38</td>\n",
              "      <td>male</td>\n",
              "      <td>2</td>\n",
              "      <td>own</td>\n",
              "      <td>little</td>\n",
              "      <td>NaN</td>\n",
              "      <td>804</td>\n",
              "      <td>12</td>\n",
              "      <td>radio/TV</td>\n",
              "      <td>0</td>\n",
              "    </tr>\n",
              "    <tr>\n",
              "      <th>998</th>\n",
              "      <td>23</td>\n",
              "      <td>male</td>\n",
              "      <td>2</td>\n",
              "      <td>free</td>\n",
              "      <td>little</td>\n",
              "      <td>little</td>\n",
              "      <td>1845</td>\n",
              "      <td>45</td>\n",
              "      <td>radio/TV</td>\n",
              "      <td>1</td>\n",
              "    </tr>\n",
              "    <tr>\n",
              "      <th>999</th>\n",
              "      <td>27</td>\n",
              "      <td>male</td>\n",
              "      <td>2</td>\n",
              "      <td>own</td>\n",
              "      <td>moderate</td>\n",
              "      <td>moderate</td>\n",
              "      <td>4576</td>\n",
              "      <td>45</td>\n",
              "      <td>car</td>\n",
              "      <td>0</td>\n",
              "    </tr>\n",
              "  </tbody>\n",
              "</table>\n",
              "<p>1000 rows × 10 columns</p>\n",
              "</div>"
            ],
            "text/plain": [
              "     age     sex  job housing saving_accounts checking_account  credit_amount  \\\n",
              "0     67    male    2     own             NaN           little           1169   \n",
              "1     22  female    2     own          little         moderate           5951   \n",
              "2     49    male    1     own          little              NaN           2096   \n",
              "3     45    male    2    free          little           little           7882   \n",
              "4     53    male    2    free          little           little           4870   \n",
              "..   ...     ...  ...     ...             ...              ...            ...   \n",
              "995   31  female    1     own          little              NaN           1736   \n",
              "996   40    male    3     own          little           little           3857   \n",
              "997   38    male    2     own          little              NaN            804   \n",
              "998   23    male    2    free          little           little           1845   \n",
              "999   27    male    2     own        moderate         moderate           4576   \n",
              "\n",
              "     duration              purpose  default  \n",
              "0           6             radio/TV        0  \n",
              "1          48             radio/TV        1  \n",
              "2          12            education        0  \n",
              "3          42  furniture/equipment        0  \n",
              "4          24                  car        1  \n",
              "..        ...                  ...      ...  \n",
              "995        12  furniture/equipment        0  \n",
              "996        30                  car        0  \n",
              "997        12             radio/TV        0  \n",
              "998        45             radio/TV        1  \n",
              "999        45                  car        0  \n",
              "\n",
              "[1000 rows x 10 columns]"
            ]
          },
          "metadata": {
            "tags": []
          },
          "execution_count": 42
        }
      ]
    },
    {
      "cell_type": "code",
      "metadata": {
        "id": "QVUq_MOpN9Pk",
        "colab_type": "code",
        "outputId": "341705d2-bf82-480d-f288-7270bdb89bec",
        "colab": {}
      },
      "source": [
        "df['default'].value_counts()"
      ],
      "execution_count": 0,
      "outputs": [
        {
          "output_type": "execute_result",
          "data": {
            "text/plain": [
              "0    700\n",
              "1    300\n",
              "Name: default, dtype: int64"
            ]
          },
          "metadata": {
            "tags": []
          },
          "execution_count": 33
        }
      ]
    },
    {
      "cell_type": "code",
      "metadata": {
        "id": "cVLptkZ5N9Pn",
        "colab_type": "code",
        "outputId": "a8e69fcc-d17f-435f-97bb-5d8b66374d04",
        "colab": {}
      },
      "source": [
        "len(df)"
      ],
      "execution_count": 0,
      "outputs": [
        {
          "output_type": "execute_result",
          "data": {
            "text/plain": [
              "1000"
            ]
          },
          "metadata": {
            "tags": []
          },
          "execution_count": 35
        }
      ]
    },
    {
      "cell_type": "code",
      "metadata": {
        "id": "ZADjCB49N9Pp",
        "colab_type": "code",
        "outputId": "7ae6ddea-f189-4eff-a652-2bd9c9355837",
        "colab": {}
      },
      "source": [
        "df['default'].sum() / len(df)"
      ],
      "execution_count": 0,
      "outputs": [
        {
          "output_type": "execute_result",
          "data": {
            "text/plain": [
              "0.3"
            ]
          },
          "metadata": {
            "tags": []
          },
          "execution_count": 36
        }
      ]
    },
    {
      "cell_type": "code",
      "metadata": {
        "id": "cY1t6k6FN9Pr",
        "colab_type": "code",
        "outputId": "edf38444-7ce0-4eb6-df62-d243139a77c8",
        "colab": {}
      },
      "source": [
        "df['default'].mean()"
      ],
      "execution_count": 0,
      "outputs": [
        {
          "output_type": "execute_result",
          "data": {
            "text/plain": [
              "0.3"
            ]
          },
          "metadata": {
            "tags": []
          },
          "execution_count": 37
        }
      ]
    },
    {
      "cell_type": "code",
      "metadata": {
        "id": "51TOu6XXN9Pu",
        "colab_type": "code",
        "outputId": "3a9412a5-27ae-45a5-a742-b315a8e383e6",
        "colab": {}
      },
      "source": [
        "(10 + 4 + 5) / 3"
      ],
      "execution_count": 0,
      "outputs": [
        {
          "output_type": "execute_result",
          "data": {
            "text/plain": [
              "6.333333333333333"
            ]
          },
          "metadata": {
            "tags": []
          },
          "execution_count": 38
        }
      ]
    },
    {
      "cell_type": "code",
      "metadata": {
        "id": "qJ9Jvp-KN9Pw",
        "colab_type": "code",
        "outputId": "505d646e-2ab3-47b5-ad97-b99d280e2731",
        "colab": {}
      },
      "source": [
        "(1 + 0 + 0 + 0) / 4"
      ],
      "execution_count": 0,
      "outputs": [
        {
          "output_type": "execute_result",
          "data": {
            "text/plain": [
              "0.25"
            ]
          },
          "metadata": {
            "tags": []
          },
          "execution_count": 40
        }
      ]
    },
    {
      "cell_type": "code",
      "metadata": {
        "id": "-zs1pQExN9Py",
        "colab_type": "code",
        "outputId": "95ce507b-043d-4dad-d04c-98173a9e498b",
        "colab": {}
      },
      "source": [
        "df['default'].mean()"
      ],
      "execution_count": 0,
      "outputs": [
        {
          "output_type": "execute_result",
          "data": {
            "text/plain": [
              "0.3"
            ]
          },
          "metadata": {
            "tags": []
          },
          "execution_count": 41
        }
      ]
    },
    {
      "cell_type": "markdown",
      "metadata": {
        "id": "NTVdoDM7N9P1",
        "colab_type": "text"
      },
      "source": [
        "# We have 30% default rate"
      ]
    },
    {
      "cell_type": "code",
      "metadata": {
        "id": "DGlQr2HMN9P2",
        "colab_type": "code",
        "outputId": "9d499f1d-84f9-408c-c085-61caa18e5ac5",
        "colab": {}
      },
      "source": [
        "df['checking_account'].value_counts()"
      ],
      "execution_count": 0,
      "outputs": [
        {
          "output_type": "execute_result",
          "data": {
            "text/plain": [
              "little      274\n",
              "moderate    269\n",
              "rich         63\n",
              "Name: checking_account, dtype: int64"
            ]
          },
          "metadata": {
            "tags": []
          },
          "execution_count": 45
        }
      ]
    },
    {
      "cell_type": "code",
      "metadata": {
        "id": "FS4gJ78-N9P4",
        "colab_type": "code",
        "colab": {}
      },
      "source": [
        "import numpy as np"
      ],
      "execution_count": 0,
      "outputs": []
    },
    {
      "cell_type": "code",
      "metadata": {
        "id": "W7AKK-52N9P6",
        "colab_type": "code",
        "outputId": "55634609-3e46-49c8-9b88-077aeb355f85",
        "colab": {}
      },
      "source": [
        "np.mean([True, False, False])"
      ],
      "execution_count": 0,
      "outputs": [
        {
          "output_type": "execute_result",
          "data": {
            "text/plain": [
              "0.3333333333333333"
            ]
          },
          "metadata": {
            "tags": []
          },
          "execution_count": 48
        }
      ]
    },
    {
      "cell_type": "code",
      "metadata": {
        "id": "PdhFBAVlN9P8",
        "colab_type": "code",
        "outputId": "e7870479-25d4-4e1a-968d-6519000a5ace",
        "colab": {}
      },
      "source": [
        "df['checking_account'].isna().mean()"
      ],
      "execution_count": 0,
      "outputs": [
        {
          "output_type": "execute_result",
          "data": {
            "text/plain": [
              "0.394"
            ]
          },
          "metadata": {
            "tags": []
          },
          "execution_count": 50
        }
      ]
    },
    {
      "cell_type": "code",
      "metadata": {
        "id": "jqz5d9bHN9P-",
        "colab_type": "code",
        "colab": {}
      },
      "source": [
        "df['checking_account'] = df['checking_account'].fillna('no_info')"
      ],
      "execution_count": 0,
      "outputs": []
    },
    {
      "cell_type": "code",
      "metadata": {
        "id": "uvGC9tq5N9QA",
        "colab_type": "code",
        "outputId": "2fb63b35-b6bb-4ec0-e206-5a05b34c19fb",
        "colab": {}
      },
      "source": [
        "df"
      ],
      "execution_count": 0,
      "outputs": [
        {
          "output_type": "execute_result",
          "data": {
            "text/html": [
              "<div>\n",
              "<style scoped>\n",
              "    .dataframe tbody tr th:only-of-type {\n",
              "        vertical-align: middle;\n",
              "    }\n",
              "\n",
              "    .dataframe tbody tr th {\n",
              "        vertical-align: top;\n",
              "    }\n",
              "\n",
              "    .dataframe thead th {\n",
              "        text-align: right;\n",
              "    }\n",
              "</style>\n",
              "<table border=\"1\" class=\"dataframe\">\n",
              "  <thead>\n",
              "    <tr style=\"text-align: right;\">\n",
              "      <th></th>\n",
              "      <th>age</th>\n",
              "      <th>sex</th>\n",
              "      <th>job</th>\n",
              "      <th>housing</th>\n",
              "      <th>saving_accounts</th>\n",
              "      <th>checking_account</th>\n",
              "      <th>credit_amount</th>\n",
              "      <th>duration</th>\n",
              "      <th>purpose</th>\n",
              "      <th>default</th>\n",
              "    </tr>\n",
              "  </thead>\n",
              "  <tbody>\n",
              "    <tr>\n",
              "      <th>0</th>\n",
              "      <td>67</td>\n",
              "      <td>male</td>\n",
              "      <td>2</td>\n",
              "      <td>own</td>\n",
              "      <td>NaN</td>\n",
              "      <td>little</td>\n",
              "      <td>1169</td>\n",
              "      <td>6</td>\n",
              "      <td>radio/TV</td>\n",
              "      <td>0</td>\n",
              "    </tr>\n",
              "    <tr>\n",
              "      <th>1</th>\n",
              "      <td>22</td>\n",
              "      <td>female</td>\n",
              "      <td>2</td>\n",
              "      <td>own</td>\n",
              "      <td>little</td>\n",
              "      <td>moderate</td>\n",
              "      <td>5951</td>\n",
              "      <td>48</td>\n",
              "      <td>radio/TV</td>\n",
              "      <td>1</td>\n",
              "    </tr>\n",
              "    <tr>\n",
              "      <th>2</th>\n",
              "      <td>49</td>\n",
              "      <td>male</td>\n",
              "      <td>1</td>\n",
              "      <td>own</td>\n",
              "      <td>little</td>\n",
              "      <td>no_info</td>\n",
              "      <td>2096</td>\n",
              "      <td>12</td>\n",
              "      <td>education</td>\n",
              "      <td>0</td>\n",
              "    </tr>\n",
              "    <tr>\n",
              "      <th>3</th>\n",
              "      <td>45</td>\n",
              "      <td>male</td>\n",
              "      <td>2</td>\n",
              "      <td>free</td>\n",
              "      <td>little</td>\n",
              "      <td>little</td>\n",
              "      <td>7882</td>\n",
              "      <td>42</td>\n",
              "      <td>furniture/equipment</td>\n",
              "      <td>0</td>\n",
              "    </tr>\n",
              "    <tr>\n",
              "      <th>4</th>\n",
              "      <td>53</td>\n",
              "      <td>male</td>\n",
              "      <td>2</td>\n",
              "      <td>free</td>\n",
              "      <td>little</td>\n",
              "      <td>little</td>\n",
              "      <td>4870</td>\n",
              "      <td>24</td>\n",
              "      <td>car</td>\n",
              "      <td>1</td>\n",
              "    </tr>\n",
              "    <tr>\n",
              "      <th>...</th>\n",
              "      <td>...</td>\n",
              "      <td>...</td>\n",
              "      <td>...</td>\n",
              "      <td>...</td>\n",
              "      <td>...</td>\n",
              "      <td>...</td>\n",
              "      <td>...</td>\n",
              "      <td>...</td>\n",
              "      <td>...</td>\n",
              "      <td>...</td>\n",
              "    </tr>\n",
              "    <tr>\n",
              "      <th>995</th>\n",
              "      <td>31</td>\n",
              "      <td>female</td>\n",
              "      <td>1</td>\n",
              "      <td>own</td>\n",
              "      <td>little</td>\n",
              "      <td>no_info</td>\n",
              "      <td>1736</td>\n",
              "      <td>12</td>\n",
              "      <td>furniture/equipment</td>\n",
              "      <td>0</td>\n",
              "    </tr>\n",
              "    <tr>\n",
              "      <th>996</th>\n",
              "      <td>40</td>\n",
              "      <td>male</td>\n",
              "      <td>3</td>\n",
              "      <td>own</td>\n",
              "      <td>little</td>\n",
              "      <td>little</td>\n",
              "      <td>3857</td>\n",
              "      <td>30</td>\n",
              "      <td>car</td>\n",
              "      <td>0</td>\n",
              "    </tr>\n",
              "    <tr>\n",
              "      <th>997</th>\n",
              "      <td>38</td>\n",
              "      <td>male</td>\n",
              "      <td>2</td>\n",
              "      <td>own</td>\n",
              "      <td>little</td>\n",
              "      <td>no_info</td>\n",
              "      <td>804</td>\n",
              "      <td>12</td>\n",
              "      <td>radio/TV</td>\n",
              "      <td>0</td>\n",
              "    </tr>\n",
              "    <tr>\n",
              "      <th>998</th>\n",
              "      <td>23</td>\n",
              "      <td>male</td>\n",
              "      <td>2</td>\n",
              "      <td>free</td>\n",
              "      <td>little</td>\n",
              "      <td>little</td>\n",
              "      <td>1845</td>\n",
              "      <td>45</td>\n",
              "      <td>radio/TV</td>\n",
              "      <td>1</td>\n",
              "    </tr>\n",
              "    <tr>\n",
              "      <th>999</th>\n",
              "      <td>27</td>\n",
              "      <td>male</td>\n",
              "      <td>2</td>\n",
              "      <td>own</td>\n",
              "      <td>moderate</td>\n",
              "      <td>moderate</td>\n",
              "      <td>4576</td>\n",
              "      <td>45</td>\n",
              "      <td>car</td>\n",
              "      <td>0</td>\n",
              "    </tr>\n",
              "  </tbody>\n",
              "</table>\n",
              "<p>1000 rows × 10 columns</p>\n",
              "</div>"
            ],
            "text/plain": [
              "     age     sex  job housing saving_accounts checking_account  credit_amount  \\\n",
              "0     67    male    2     own             NaN           little           1169   \n",
              "1     22  female    2     own          little         moderate           5951   \n",
              "2     49    male    1     own          little          no_info           2096   \n",
              "3     45    male    2    free          little           little           7882   \n",
              "4     53    male    2    free          little           little           4870   \n",
              "..   ...     ...  ...     ...             ...              ...            ...   \n",
              "995   31  female    1     own          little          no_info           1736   \n",
              "996   40    male    3     own          little           little           3857   \n",
              "997   38    male    2     own          little          no_info            804   \n",
              "998   23    male    2    free          little           little           1845   \n",
              "999   27    male    2     own        moderate         moderate           4576   \n",
              "\n",
              "     duration              purpose  default  \n",
              "0           6             radio/TV        0  \n",
              "1          48             radio/TV        1  \n",
              "2          12            education        0  \n",
              "3          42  furniture/equipment        0  \n",
              "4          24                  car        1  \n",
              "..        ...                  ...      ...  \n",
              "995        12  furniture/equipment        0  \n",
              "996        30                  car        0  \n",
              "997        12             radio/TV        0  \n",
              "998        45             radio/TV        1  \n",
              "999        45                  car        0  \n",
              "\n",
              "[1000 rows x 10 columns]"
            ]
          },
          "metadata": {
            "tags": []
          },
          "execution_count": 55
        }
      ]
    },
    {
      "cell_type": "code",
      "metadata": {
        "id": "xUzZOXCEN9QC",
        "colab_type": "code",
        "outputId": "34b13427-1555-4282-c939-c07daece464b",
        "colab": {}
      },
      "source": [
        "# never use python coments\n",
        "df['checking_account'].value_counts()"
      ],
      "execution_count": 0,
      "outputs": [
        {
          "output_type": "execute_result",
          "data": {
            "text/plain": [
              "no_info     394\n",
              "little      274\n",
              "moderate    269\n",
              "rich         63\n",
              "Name: checking_account, dtype: int64"
            ]
          },
          "metadata": {
            "tags": []
          },
          "execution_count": 58
        }
      ]
    },
    {
      "cell_type": "markdown",
      "metadata": {
        "id": "RJ4TFEsqN9QF",
        "colab_type": "text"
      },
      "source": [
        "# We have 40% missing in checking_account"
      ]
    },
    {
      "cell_type": "markdown",
      "metadata": {
        "id": "4ixd2qfLN9QF",
        "colab_type": "text"
      },
      "source": [
        "# My conclusion"
      ]
    },
    {
      "cell_type": "code",
      "metadata": {
        "id": "pEfqDqi2N9QG",
        "colab_type": "code",
        "outputId": "e2fc6067-b6bf-4080-f9b1-f198599eec7e",
        "colab": {}
      },
      "source": [
        "df"
      ],
      "execution_count": 0,
      "outputs": [
        {
          "output_type": "execute_result",
          "data": {
            "text/html": [
              "<div>\n",
              "<style scoped>\n",
              "    .dataframe tbody tr th:only-of-type {\n",
              "        vertical-align: middle;\n",
              "    }\n",
              "\n",
              "    .dataframe tbody tr th {\n",
              "        vertical-align: top;\n",
              "    }\n",
              "\n",
              "    .dataframe thead th {\n",
              "        text-align: right;\n",
              "    }\n",
              "</style>\n",
              "<table border=\"1\" class=\"dataframe\">\n",
              "  <thead>\n",
              "    <tr style=\"text-align: right;\">\n",
              "      <th></th>\n",
              "      <th>age</th>\n",
              "      <th>sex</th>\n",
              "      <th>job</th>\n",
              "      <th>housing</th>\n",
              "      <th>saving_accounts</th>\n",
              "      <th>checking_account</th>\n",
              "      <th>credit_amount</th>\n",
              "      <th>duration</th>\n",
              "      <th>purpose</th>\n",
              "      <th>default</th>\n",
              "    </tr>\n",
              "  </thead>\n",
              "  <tbody>\n",
              "    <tr>\n",
              "      <th>0</th>\n",
              "      <td>67</td>\n",
              "      <td>male</td>\n",
              "      <td>2</td>\n",
              "      <td>own</td>\n",
              "      <td>NaN</td>\n",
              "      <td>little</td>\n",
              "      <td>1169</td>\n",
              "      <td>6</td>\n",
              "      <td>radio/TV</td>\n",
              "      <td>0</td>\n",
              "    </tr>\n",
              "    <tr>\n",
              "      <th>1</th>\n",
              "      <td>22</td>\n",
              "      <td>female</td>\n",
              "      <td>2</td>\n",
              "      <td>own</td>\n",
              "      <td>little</td>\n",
              "      <td>moderate</td>\n",
              "      <td>5951</td>\n",
              "      <td>48</td>\n",
              "      <td>radio/TV</td>\n",
              "      <td>1</td>\n",
              "    </tr>\n",
              "    <tr>\n",
              "      <th>2</th>\n",
              "      <td>49</td>\n",
              "      <td>male</td>\n",
              "      <td>1</td>\n",
              "      <td>own</td>\n",
              "      <td>little</td>\n",
              "      <td>no_info</td>\n",
              "      <td>2096</td>\n",
              "      <td>12</td>\n",
              "      <td>education</td>\n",
              "      <td>0</td>\n",
              "    </tr>\n",
              "    <tr>\n",
              "      <th>3</th>\n",
              "      <td>45</td>\n",
              "      <td>male</td>\n",
              "      <td>2</td>\n",
              "      <td>free</td>\n",
              "      <td>little</td>\n",
              "      <td>little</td>\n",
              "      <td>7882</td>\n",
              "      <td>42</td>\n",
              "      <td>furniture/equipment</td>\n",
              "      <td>0</td>\n",
              "    </tr>\n",
              "    <tr>\n",
              "      <th>4</th>\n",
              "      <td>53</td>\n",
              "      <td>male</td>\n",
              "      <td>2</td>\n",
              "      <td>free</td>\n",
              "      <td>little</td>\n",
              "      <td>little</td>\n",
              "      <td>4870</td>\n",
              "      <td>24</td>\n",
              "      <td>car</td>\n",
              "      <td>1</td>\n",
              "    </tr>\n",
              "    <tr>\n",
              "      <th>...</th>\n",
              "      <td>...</td>\n",
              "      <td>...</td>\n",
              "      <td>...</td>\n",
              "      <td>...</td>\n",
              "      <td>...</td>\n",
              "      <td>...</td>\n",
              "      <td>...</td>\n",
              "      <td>...</td>\n",
              "      <td>...</td>\n",
              "      <td>...</td>\n",
              "    </tr>\n",
              "    <tr>\n",
              "      <th>995</th>\n",
              "      <td>31</td>\n",
              "      <td>female</td>\n",
              "      <td>1</td>\n",
              "      <td>own</td>\n",
              "      <td>little</td>\n",
              "      <td>no_info</td>\n",
              "      <td>1736</td>\n",
              "      <td>12</td>\n",
              "      <td>furniture/equipment</td>\n",
              "      <td>0</td>\n",
              "    </tr>\n",
              "    <tr>\n",
              "      <th>996</th>\n",
              "      <td>40</td>\n",
              "      <td>male</td>\n",
              "      <td>3</td>\n",
              "      <td>own</td>\n",
              "      <td>little</td>\n",
              "      <td>little</td>\n",
              "      <td>3857</td>\n",
              "      <td>30</td>\n",
              "      <td>car</td>\n",
              "      <td>0</td>\n",
              "    </tr>\n",
              "    <tr>\n",
              "      <th>997</th>\n",
              "      <td>38</td>\n",
              "      <td>male</td>\n",
              "      <td>2</td>\n",
              "      <td>own</td>\n",
              "      <td>little</td>\n",
              "      <td>no_info</td>\n",
              "      <td>804</td>\n",
              "      <td>12</td>\n",
              "      <td>radio/TV</td>\n",
              "      <td>0</td>\n",
              "    </tr>\n",
              "    <tr>\n",
              "      <th>998</th>\n",
              "      <td>23</td>\n",
              "      <td>male</td>\n",
              "      <td>2</td>\n",
              "      <td>free</td>\n",
              "      <td>little</td>\n",
              "      <td>little</td>\n",
              "      <td>1845</td>\n",
              "      <td>45</td>\n",
              "      <td>radio/TV</td>\n",
              "      <td>1</td>\n",
              "    </tr>\n",
              "    <tr>\n",
              "      <th>999</th>\n",
              "      <td>27</td>\n",
              "      <td>male</td>\n",
              "      <td>2</td>\n",
              "      <td>own</td>\n",
              "      <td>moderate</td>\n",
              "      <td>moderate</td>\n",
              "      <td>4576</td>\n",
              "      <td>45</td>\n",
              "      <td>car</td>\n",
              "      <td>0</td>\n",
              "    </tr>\n",
              "  </tbody>\n",
              "</table>\n",
              "<p>1000 rows × 10 columns</p>\n",
              "</div>"
            ],
            "text/plain": [
              "     age     sex  job housing saving_accounts checking_account  credit_amount  \\\n",
              "0     67    male    2     own             NaN           little           1169   \n",
              "1     22  female    2     own          little         moderate           5951   \n",
              "2     49    male    1     own          little          no_info           2096   \n",
              "3     45    male    2    free          little           little           7882   \n",
              "4     53    male    2    free          little           little           4870   \n",
              "..   ...     ...  ...     ...             ...              ...            ...   \n",
              "995   31  female    1     own          little          no_info           1736   \n",
              "996   40    male    3     own          little           little           3857   \n",
              "997   38    male    2     own          little          no_info            804   \n",
              "998   23    male    2    free          little           little           1845   \n",
              "999   27    male    2     own        moderate         moderate           4576   \n",
              "\n",
              "     duration              purpose  default  \n",
              "0           6             radio/TV        0  \n",
              "1          48             radio/TV        1  \n",
              "2          12            education        0  \n",
              "3          42  furniture/equipment        0  \n",
              "4          24                  car        1  \n",
              "..        ...                  ...      ...  \n",
              "995        12  furniture/equipment        0  \n",
              "996        30                  car        0  \n",
              "997        12             radio/TV        0  \n",
              "998        45             radio/TV        1  \n",
              "999        45                  car        0  \n",
              "\n",
              "[1000 rows x 10 columns]"
            ]
          },
          "metadata": {
            "tags": []
          },
          "execution_count": 68
        }
      ]
    },
    {
      "cell_type": "code",
      "metadata": {
        "id": "BcGbWlJ6N9QI",
        "colab_type": "code",
        "outputId": "7070b815-8490-4c07-cdd3-ea720ffa91dd",
        "colab": {}
      },
      "source": [
        "df.pivot_table(index='checking_account',columns=['housing'],values=['default'],aggfunc=['count','mean'])"
      ],
      "execution_count": 0,
      "outputs": [
        {
          "output_type": "execute_result",
          "data": {
            "text/html": [
              "<div>\n",
              "<style scoped>\n",
              "    .dataframe tbody tr th:only-of-type {\n",
              "        vertical-align: middle;\n",
              "    }\n",
              "\n",
              "    .dataframe tbody tr th {\n",
              "        vertical-align: top;\n",
              "    }\n",
              "\n",
              "    .dataframe thead tr th {\n",
              "        text-align: left;\n",
              "    }\n",
              "\n",
              "    .dataframe thead tr:last-of-type th {\n",
              "        text-align: right;\n",
              "    }\n",
              "</style>\n",
              "<table border=\"1\" class=\"dataframe\">\n",
              "  <thead>\n",
              "    <tr>\n",
              "      <th></th>\n",
              "      <th colspan=\"3\" halign=\"left\">count</th>\n",
              "      <th colspan=\"3\" halign=\"left\">mean</th>\n",
              "    </tr>\n",
              "    <tr>\n",
              "      <th></th>\n",
              "      <th colspan=\"3\" halign=\"left\">default</th>\n",
              "      <th colspan=\"3\" halign=\"left\">default</th>\n",
              "    </tr>\n",
              "    <tr>\n",
              "      <th>housing</th>\n",
              "      <th>free</th>\n",
              "      <th>own</th>\n",
              "      <th>rent</th>\n",
              "      <th>free</th>\n",
              "      <th>own</th>\n",
              "      <th>rent</th>\n",
              "    </tr>\n",
              "    <tr>\n",
              "      <th>checking_account</th>\n",
              "      <th></th>\n",
              "      <th></th>\n",
              "      <th></th>\n",
              "      <th></th>\n",
              "      <th></th>\n",
              "      <th></th>\n",
              "    </tr>\n",
              "  </thead>\n",
              "  <tbody>\n",
              "    <tr>\n",
              "      <th>little</th>\n",
              "      <td>39</td>\n",
              "      <td>170</td>\n",
              "      <td>65</td>\n",
              "      <td>0.538462</td>\n",
              "      <td>0.458824</td>\n",
              "      <td>0.553846</td>\n",
              "    </tr>\n",
              "    <tr>\n",
              "      <th>moderate</th>\n",
              "      <td>29</td>\n",
              "      <td>192</td>\n",
              "      <td>48</td>\n",
              "      <td>0.551724</td>\n",
              "      <td>0.343750</td>\n",
              "      <td>0.479167</td>\n",
              "    </tr>\n",
              "    <tr>\n",
              "      <th>no_info</th>\n",
              "      <td>32</td>\n",
              "      <td>304</td>\n",
              "      <td>58</td>\n",
              "      <td>0.125000</td>\n",
              "      <td>0.105263</td>\n",
              "      <td>0.172414</td>\n",
              "    </tr>\n",
              "    <tr>\n",
              "      <th>rich</th>\n",
              "      <td>8</td>\n",
              "      <td>47</td>\n",
              "      <td>8</td>\n",
              "      <td>0.375000</td>\n",
              "      <td>0.212766</td>\n",
              "      <td>0.125000</td>\n",
              "    </tr>\n",
              "  </tbody>\n",
              "</table>\n",
              "</div>"
            ],
            "text/plain": [
              "                   count                mean                    \n",
              "                 default             default                    \n",
              "housing             free  own rent      free       own      rent\n",
              "checking_account                                                \n",
              "little                39  170   65  0.538462  0.458824  0.553846\n",
              "moderate              29  192   48  0.551724  0.343750  0.479167\n",
              "no_info               32  304   58  0.125000  0.105263  0.172414\n",
              "rich                   8   47    8  0.375000  0.212766  0.125000"
            ]
          },
          "metadata": {
            "tags": []
          },
          "execution_count": 69
        }
      ]
    },
    {
      "cell_type": "code",
      "metadata": {
        "id": "2bPtwpERN9QK",
        "colab_type": "code",
        "outputId": "bd8a2890-0d2f-4272-eb6b-471fec4b4013",
        "colab": {}
      },
      "source": [
        "df.groupby(['checking_account'])['default'].agg(['count','mean'])"
      ],
      "execution_count": 0,
      "outputs": [
        {
          "output_type": "execute_result",
          "data": {
            "text/html": [
              "<div>\n",
              "<style scoped>\n",
              "    .dataframe tbody tr th:only-of-type {\n",
              "        vertical-align: middle;\n",
              "    }\n",
              "\n",
              "    .dataframe tbody tr th {\n",
              "        vertical-align: top;\n",
              "    }\n",
              "\n",
              "    .dataframe thead th {\n",
              "        text-align: right;\n",
              "    }\n",
              "</style>\n",
              "<table border=\"1\" class=\"dataframe\">\n",
              "  <thead>\n",
              "    <tr style=\"text-align: right;\">\n",
              "      <th></th>\n",
              "      <th>count</th>\n",
              "      <th>mean</th>\n",
              "    </tr>\n",
              "    <tr>\n",
              "      <th>checking_account</th>\n",
              "      <th></th>\n",
              "      <th></th>\n",
              "    </tr>\n",
              "  </thead>\n",
              "  <tbody>\n",
              "    <tr>\n",
              "      <th>little</th>\n",
              "      <td>274</td>\n",
              "      <td>0.492701</td>\n",
              "    </tr>\n",
              "    <tr>\n",
              "      <th>moderate</th>\n",
              "      <td>269</td>\n",
              "      <td>0.390335</td>\n",
              "    </tr>\n",
              "    <tr>\n",
              "      <th>no_info</th>\n",
              "      <td>394</td>\n",
              "      <td>0.116751</td>\n",
              "    </tr>\n",
              "    <tr>\n",
              "      <th>rich</th>\n",
              "      <td>63</td>\n",
              "      <td>0.222222</td>\n",
              "    </tr>\n",
              "  </tbody>\n",
              "</table>\n",
              "</div>"
            ],
            "text/plain": [
              "                  count      mean\n",
              "checking_account                 \n",
              "little              274  0.492701\n",
              "moderate            269  0.390335\n",
              "no_info             394  0.116751\n",
              "rich                 63  0.222222"
            ]
          },
          "metadata": {
            "tags": []
          },
          "execution_count": 67
        }
      ]
    },
    {
      "cell_type": "code",
      "metadata": {
        "id": "F-dKMtEvN9QP",
        "colab_type": "code",
        "outputId": "17bfe53d-b2a3-4216-b686-d626e67f26bd",
        "colab": {}
      },
      "source": [
        "df.groupby(['housing'])['default'].agg(['count','mean'])"
      ],
      "execution_count": 0,
      "outputs": [
        {
          "output_type": "execute_result",
          "data": {
            "text/html": [
              "<div>\n",
              "<style scoped>\n",
              "    .dataframe tbody tr th:only-of-type {\n",
              "        vertical-align: middle;\n",
              "    }\n",
              "\n",
              "    .dataframe tbody tr th {\n",
              "        vertical-align: top;\n",
              "    }\n",
              "\n",
              "    .dataframe thead th {\n",
              "        text-align: right;\n",
              "    }\n",
              "</style>\n",
              "<table border=\"1\" class=\"dataframe\">\n",
              "  <thead>\n",
              "    <tr style=\"text-align: right;\">\n",
              "      <th></th>\n",
              "      <th>count</th>\n",
              "      <th>mean</th>\n",
              "    </tr>\n",
              "    <tr>\n",
              "      <th>housing</th>\n",
              "      <th></th>\n",
              "      <th></th>\n",
              "    </tr>\n",
              "  </thead>\n",
              "  <tbody>\n",
              "    <tr>\n",
              "      <th>free</th>\n",
              "      <td>108</td>\n",
              "      <td>0.407407</td>\n",
              "    </tr>\n",
              "    <tr>\n",
              "      <th>own</th>\n",
              "      <td>713</td>\n",
              "      <td>0.260870</td>\n",
              "    </tr>\n",
              "    <tr>\n",
              "      <th>rent</th>\n",
              "      <td>179</td>\n",
              "      <td>0.391061</td>\n",
              "    </tr>\n",
              "  </tbody>\n",
              "</table>\n",
              "</div>"
            ],
            "text/plain": [
              "         count      mean\n",
              "housing                 \n",
              "free       108  0.407407\n",
              "own        713  0.260870\n",
              "rent       179  0.391061"
            ]
          },
          "metadata": {
            "tags": []
          },
          "execution_count": 70
        }
      ]
    },
    {
      "cell_type": "code",
      "metadata": {
        "id": "OhKN1cOTN9QR",
        "colab_type": "code",
        "outputId": "d00c116b-1afc-4e27-e286-8ae37ea92996",
        "colab": {}
      },
      "source": [
        "(df.groupby(['checking_account'])['default']\n",
        ".agg(['count', 'mean'])\n",
        ".sort_values('count',ascending=False)\n",
        ".style\n",
        ".format({\n",
        "    'mean': '{:,.1%}'.format,\n",
        "})\n",
        ".applymap(\n",
        "     lambda x: 'background-color : limegreen' if x>0.3 else '', \n",
        "     subset=['mean']))"
      ],
      "execution_count": 0,
      "outputs": [
        {
          "output_type": "execute_result",
          "data": {
            "text/html": [
              "<style  type=\"text/css\" >\n",
              "    #T_53b83542_8187_11ea_b521_0242ac130003row1_col1 {\n",
              "            background-color :  limegreen;\n",
              "        }    #T_53b83542_8187_11ea_b521_0242ac130003row2_col1 {\n",
              "            background-color :  limegreen;\n",
              "        }</style><table id=\"T_53b83542_8187_11ea_b521_0242ac130003\" ><thead>    <tr>        <th class=\"blank level0\" ></th>        <th class=\"col_heading level0 col0\" >count</th>        <th class=\"col_heading level0 col1\" >mean</th>    </tr>    <tr>        <th class=\"index_name level0\" >checking_account</th>        <th class=\"blank\" ></th>        <th class=\"blank\" ></th>    </tr></thead><tbody>\n",
              "                <tr>\n",
              "                        <th id=\"T_53b83542_8187_11ea_b521_0242ac130003level0_row0\" class=\"row_heading level0 row0\" >no_info</th>\n",
              "                        <td id=\"T_53b83542_8187_11ea_b521_0242ac130003row0_col0\" class=\"data row0 col0\" >394</td>\n",
              "                        <td id=\"T_53b83542_8187_11ea_b521_0242ac130003row0_col1\" class=\"data row0 col1\" >11.7%</td>\n",
              "            </tr>\n",
              "            <tr>\n",
              "                        <th id=\"T_53b83542_8187_11ea_b521_0242ac130003level0_row1\" class=\"row_heading level0 row1\" >little</th>\n",
              "                        <td id=\"T_53b83542_8187_11ea_b521_0242ac130003row1_col0\" class=\"data row1 col0\" >274</td>\n",
              "                        <td id=\"T_53b83542_8187_11ea_b521_0242ac130003row1_col1\" class=\"data row1 col1\" >49.3%</td>\n",
              "            </tr>\n",
              "            <tr>\n",
              "                        <th id=\"T_53b83542_8187_11ea_b521_0242ac130003level0_row2\" class=\"row_heading level0 row2\" >moderate</th>\n",
              "                        <td id=\"T_53b83542_8187_11ea_b521_0242ac130003row2_col0\" class=\"data row2 col0\" >269</td>\n",
              "                        <td id=\"T_53b83542_8187_11ea_b521_0242ac130003row2_col1\" class=\"data row2 col1\" >39.0%</td>\n",
              "            </tr>\n",
              "            <tr>\n",
              "                        <th id=\"T_53b83542_8187_11ea_b521_0242ac130003level0_row3\" class=\"row_heading level0 row3\" >rich</th>\n",
              "                        <td id=\"T_53b83542_8187_11ea_b521_0242ac130003row3_col0\" class=\"data row3 col0\" >63</td>\n",
              "                        <td id=\"T_53b83542_8187_11ea_b521_0242ac130003row3_col1\" class=\"data row3 col1\" >22.2%</td>\n",
              "            </tr>\n",
              "    </tbody></table>"
            ],
            "text/plain": [
              "<pandas.io.formats.style.Styler at 0x7f0b11bba2d0>"
            ]
          },
          "metadata": {
            "tags": []
          },
          "execution_count": 74
        }
      ]
    },
    {
      "cell_type": "markdown",
      "metadata": {
        "id": "y27n-4uEN9QT",
        "colab_type": "text"
      },
      "source": [
        "# Little and moderate have higher default rate"
      ]
    },
    {
      "cell_type": "code",
      "metadata": {
        "id": "85KQPRWSN9QU",
        "colab_type": "code",
        "outputId": "5eadf59c-0c2d-4d22-b33a-8e153c5ed7ad",
        "colab": {}
      },
      "source": [
        "df['credit_amount'].mean()"
      ],
      "execution_count": 0,
      "outputs": [
        {
          "output_type": "execute_result",
          "data": {
            "text/plain": [
              "3271.258"
            ]
          },
          "metadata": {
            "tags": []
          },
          "execution_count": 77
        }
      ]
    },
    {
      "cell_type": "code",
      "metadata": {
        "id": "ob5j0P9gN9QW",
        "colab_type": "code",
        "outputId": "f4bccbff-2a1f-4aac-b062-52f90bdf9d0f",
        "colab": {}
      },
      "source": [
        "np.mean([100, 50, 60, 90])"
      ],
      "execution_count": 0,
      "outputs": [
        {
          "output_type": "execute_result",
          "data": {
            "text/plain": [
              "75.0"
            ]
          },
          "metadata": {
            "tags": []
          },
          "execution_count": 78
        }
      ]
    },
    {
      "cell_type": "code",
      "metadata": {
        "id": "KWiwTnj0N9QY",
        "colab_type": "code",
        "outputId": "09fe45ca-86b8-4776-cac5-5abc944524d3",
        "colab": {}
      },
      "source": [
        "np.mean([100, 50, 60, 90, 9000000000])"
      ],
      "execution_count": 0,
      "outputs": [
        {
          "output_type": "execute_result",
          "data": {
            "text/plain": [
              "1800000060.0"
            ]
          },
          "metadata": {
            "tags": []
          },
          "execution_count": 79
        }
      ]
    },
    {
      "cell_type": "code",
      "metadata": {
        "id": "Tcvje8eTN9Qa",
        "colab_type": "code",
        "outputId": "502d6942-9aa8-4f9e-e5af-f92655fa0085",
        "colab": {}
      },
      "source": [
        "np.median([100, 50, 60, 90])"
      ],
      "execution_count": 0,
      "outputs": [
        {
          "output_type": "execute_result",
          "data": {
            "text/plain": [
              "75.0"
            ]
          },
          "metadata": {
            "tags": []
          },
          "execution_count": 80
        }
      ]
    },
    {
      "cell_type": "code",
      "metadata": {
        "id": "XUodpLjWN9Qc",
        "colab_type": "code",
        "outputId": "db8ff228-7466-4841-cf49-1ba9ea7c9c1e",
        "colab": {}
      },
      "source": [
        "np.median([100, 50, 60, 90, 9000000000])"
      ],
      "execution_count": 0,
      "outputs": [
        {
          "output_type": "execute_result",
          "data": {
            "text/plain": [
              "90.0"
            ]
          },
          "metadata": {
            "tags": []
          },
          "execution_count": 81
        }
      ]
    },
    {
      "cell_type": "code",
      "metadata": {
        "id": "JSisXo5iN9Qe",
        "colab_type": "code",
        "colab": {}
      },
      "source": [
        "t = pd.DataFrame({'salary':[100, 50, 60, 90, 9000000000],\n",
        "                 'name':['a','b','c','d','bill']})"
      ],
      "execution_count": 0,
      "outputs": []
    },
    {
      "cell_type": "code",
      "metadata": {
        "id": "VAmjRBPaN9Qg",
        "colab_type": "code",
        "outputId": "0376bd51-9a26-4671-bed4-466c667013e1",
        "colab": {}
      },
      "source": [
        "t.sort_values('salary')"
      ],
      "execution_count": 0,
      "outputs": [
        {
          "output_type": "execute_result",
          "data": {
            "text/html": [
              "<div>\n",
              "<style scoped>\n",
              "    .dataframe tbody tr th:only-of-type {\n",
              "        vertical-align: middle;\n",
              "    }\n",
              "\n",
              "    .dataframe tbody tr th {\n",
              "        vertical-align: top;\n",
              "    }\n",
              "\n",
              "    .dataframe thead th {\n",
              "        text-align: right;\n",
              "    }\n",
              "</style>\n",
              "<table border=\"1\" class=\"dataframe\">\n",
              "  <thead>\n",
              "    <tr style=\"text-align: right;\">\n",
              "      <th></th>\n",
              "      <th>salary</th>\n",
              "      <th>name</th>\n",
              "    </tr>\n",
              "  </thead>\n",
              "  <tbody>\n",
              "    <tr>\n",
              "      <th>1</th>\n",
              "      <td>50</td>\n",
              "      <td>b</td>\n",
              "    </tr>\n",
              "    <tr>\n",
              "      <th>2</th>\n",
              "      <td>60</td>\n",
              "      <td>c</td>\n",
              "    </tr>\n",
              "    <tr>\n",
              "      <th>3</th>\n",
              "      <td>90</td>\n",
              "      <td>d</td>\n",
              "    </tr>\n",
              "    <tr>\n",
              "      <th>0</th>\n",
              "      <td>100</td>\n",
              "      <td>a</td>\n",
              "    </tr>\n",
              "    <tr>\n",
              "      <th>4</th>\n",
              "      <td>9000000000</td>\n",
              "      <td>bill</td>\n",
              "    </tr>\n",
              "  </tbody>\n",
              "</table>\n",
              "</div>"
            ],
            "text/plain": [
              "       salary  name\n",
              "1          50     b\n",
              "2          60     c\n",
              "3          90     d\n",
              "0         100     a\n",
              "4  9000000000  bill"
            ]
          },
          "metadata": {
            "tags": []
          },
          "execution_count": 89
        }
      ]
    },
    {
      "cell_type": "code",
      "metadata": {
        "id": "yljVpMjmN9Qi",
        "colab_type": "code",
        "outputId": "9d5bb55b-4df6-44ce-9a95-431df7404434",
        "colab": {}
      },
      "source": [
        "t['salary'].median()"
      ],
      "execution_count": 0,
      "outputs": [
        {
          "output_type": "execute_result",
          "data": {
            "text/plain": [
              "90.0"
            ]
          },
          "metadata": {
            "tags": []
          },
          "execution_count": 90
        }
      ]
    },
    {
      "cell_type": "code",
      "metadata": {
        "id": "hgao9lw1N9Qk",
        "colab_type": "code",
        "outputId": "fabaec86-778d-43a2-b08b-77a339ebfbeb",
        "colab": {}
      },
      "source": [
        "df['credit_amount'].mean()"
      ],
      "execution_count": 0,
      "outputs": [
        {
          "output_type": "execute_result",
          "data": {
            "text/plain": [
              "3271.258"
            ]
          },
          "metadata": {
            "tags": []
          },
          "execution_count": 91
        }
      ]
    },
    {
      "cell_type": "code",
      "metadata": {
        "id": "Hm-iVGrGN9Qn",
        "colab_type": "code",
        "outputId": "a52520fb-f00e-4ca3-c5c1-2a7612a3898d",
        "colab": {}
      },
      "source": [
        "df['credit_amount'].median()"
      ],
      "execution_count": 0,
      "outputs": [
        {
          "output_type": "execute_result",
          "data": {
            "text/plain": [
              "2319.5"
            ]
          },
          "metadata": {
            "tags": []
          },
          "execution_count": 92
        }
      ]
    },
    {
      "cell_type": "code",
      "metadata": {
        "id": "-BpTQER8N9Qp",
        "colab_type": "code",
        "colab": {}
      },
      "source": [
        "%matplotlib inline"
      ],
      "execution_count": 0,
      "outputs": []
    },
    {
      "cell_type": "code",
      "metadata": {
        "id": "rHxITtjLN9Qs",
        "colab_type": "code",
        "outputId": "833d085c-e3d2-404b-f407-a66cba458312",
        "colab": {}
      },
      "source": [
        "df['credit_amount'].hist()"
      ],
      "execution_count": 0,
      "outputs": [
        {
          "output_type": "execute_result",
          "data": {
            "text/plain": [
              "<matplotlib.axes._subplots.AxesSubplot at 0x7f0b114f9190>"
            ]
          },
          "metadata": {
            "tags": []
          },
          "execution_count": 93
        },
        {
          "output_type": "display_data",
          "data": {
            "image/png": "[encoded data removed]",
            "text/plain": [
              "<Figure size 432x288 with 1 Axes>"
            ]
          },
          "metadata": {
            "tags": [],
            "needs_background": "light"
          }
        }
      ]
    },
    {
      "cell_type": "code",
      "metadata": {
        "id": "Xf-oziKzN9Qv",
        "colab_type": "code",
        "outputId": "29b41c16-381f-4358-bf66-b7bd7ef99c69",
        "colab": {}
      },
      "source": [
        "df['credit_amount'].agg(['mean','median'])"
      ],
      "execution_count": 0,
      "outputs": [
        {
          "output_type": "execute_result",
          "data": {
            "text/plain": [
              "mean      3271.258\n",
              "median    2319.500\n",
              "Name: credit_amount, dtype: float64"
            ]
          },
          "metadata": {
            "tags": []
          },
          "execution_count": 97
        }
      ]
    },
    {
      "cell_type": "code",
      "metadata": {
        "id": "Z5ftxz5TN9Qx",
        "colab_type": "code",
        "outputId": "55e56ee3-5a87-4e45-a1b2-3a9080d8b143",
        "colab": {}
      },
      "source": [
        "df['credit_amount'].min()"
      ],
      "execution_count": 0,
      "outputs": [
        {
          "output_type": "execute_result",
          "data": {
            "text/plain": [
              "250"
            ]
          },
          "metadata": {
            "tags": []
          },
          "execution_count": 95
        }
      ]
    },
    {
      "cell_type": "code",
      "metadata": {
        "id": "3JPP-cclN9Qz",
        "colab_type": "code",
        "outputId": "9c448656-9471-44b8-c44f-a3d5ea4c4472",
        "colab": {}
      },
      "source": [
        "df['credit_amount'].max()"
      ],
      "execution_count": 0,
      "outputs": [
        {
          "output_type": "execute_result",
          "data": {
            "text/plain": [
              "18424"
            ]
          },
          "metadata": {
            "tags": []
          },
          "execution_count": 96
        }
      ]
    },
    {
      "cell_type": "code",
      "metadata": {
        "id": "rgVukmyXN9Q1",
        "colab_type": "code",
        "outputId": "76d18dcb-cd05-4e4e-d1de-dae69cb3c73f",
        "colab": {}
      },
      "source": [
        "df['credit_amount'].isna().mean()"
      ],
      "execution_count": 0,
      "outputs": [
        {
          "output_type": "execute_result",
          "data": {
            "text/plain": [
              "0.0"
            ]
          },
          "metadata": {
            "tags": []
          },
          "execution_count": 99
        }
      ]
    },
    {
      "cell_type": "code",
      "metadata": {
        "id": "7_r3fDWVN9Q3",
        "colab_type": "code",
        "outputId": "c0ff59c1-8f3d-4971-a0e1-1bc426a44730",
        "colab": {}
      },
      "source": [
        "df"
      ],
      "execution_count": 0,
      "outputs": [
        {
          "output_type": "execute_result",
          "data": {
            "text/html": [
              "<div>\n",
              "<style scoped>\n",
              "    .dataframe tbody tr th:only-of-type {\n",
              "        vertical-align: middle;\n",
              "    }\n",
              "\n",
              "    .dataframe tbody tr th {\n",
              "        vertical-align: top;\n",
              "    }\n",
              "\n",
              "    .dataframe thead th {\n",
              "        text-align: right;\n",
              "    }\n",
              "</style>\n",
              "<table border=\"1\" class=\"dataframe\">\n",
              "  <thead>\n",
              "    <tr style=\"text-align: right;\">\n",
              "      <th></th>\n",
              "      <th>age</th>\n",
              "      <th>sex</th>\n",
              "      <th>job</th>\n",
              "      <th>housing</th>\n",
              "      <th>saving_accounts</th>\n",
              "      <th>checking_account</th>\n",
              "      <th>credit_amount</th>\n",
              "      <th>duration</th>\n",
              "      <th>purpose</th>\n",
              "      <th>default</th>\n",
              "    </tr>\n",
              "  </thead>\n",
              "  <tbody>\n",
              "    <tr>\n",
              "      <th>0</th>\n",
              "      <td>67</td>\n",
              "      <td>male</td>\n",
              "      <td>2</td>\n",
              "      <td>own</td>\n",
              "      <td>NaN</td>\n",
              "      <td>little</td>\n",
              "      <td>1169</td>\n",
              "      <td>6</td>\n",
              "      <td>radio/TV</td>\n",
              "      <td>0</td>\n",
              "    </tr>\n",
              "    <tr>\n",
              "      <th>1</th>\n",
              "      <td>22</td>\n",
              "      <td>female</td>\n",
              "      <td>2</td>\n",
              "      <td>own</td>\n",
              "      <td>little</td>\n",
              "      <td>moderate</td>\n",
              "      <td>5951</td>\n",
              "      <td>48</td>\n",
              "      <td>radio/TV</td>\n",
              "      <td>1</td>\n",
              "    </tr>\n",
              "    <tr>\n",
              "      <th>2</th>\n",
              "      <td>49</td>\n",
              "      <td>male</td>\n",
              "      <td>1</td>\n",
              "      <td>own</td>\n",
              "      <td>little</td>\n",
              "      <td>no_info</td>\n",
              "      <td>2096</td>\n",
              "      <td>12</td>\n",
              "      <td>education</td>\n",
              "      <td>0</td>\n",
              "    </tr>\n",
              "    <tr>\n",
              "      <th>3</th>\n",
              "      <td>45</td>\n",
              "      <td>male</td>\n",
              "      <td>2</td>\n",
              "      <td>free</td>\n",
              "      <td>little</td>\n",
              "      <td>little</td>\n",
              "      <td>7882</td>\n",
              "      <td>42</td>\n",
              "      <td>furniture/equipment</td>\n",
              "      <td>0</td>\n",
              "    </tr>\n",
              "    <tr>\n",
              "      <th>4</th>\n",
              "      <td>53</td>\n",
              "      <td>male</td>\n",
              "      <td>2</td>\n",
              "      <td>free</td>\n",
              "      <td>little</td>\n",
              "      <td>little</td>\n",
              "      <td>4870</td>\n",
              "      <td>24</td>\n",
              "      <td>car</td>\n",
              "      <td>1</td>\n",
              "    </tr>\n",
              "    <tr>\n",
              "      <th>...</th>\n",
              "      <td>...</td>\n",
              "      <td>...</td>\n",
              "      <td>...</td>\n",
              "      <td>...</td>\n",
              "      <td>...</td>\n",
              "      <td>...</td>\n",
              "      <td>...</td>\n",
              "      <td>...</td>\n",
              "      <td>...</td>\n",
              "      <td>...</td>\n",
              "    </tr>\n",
              "    <tr>\n",
              "      <th>995</th>\n",
              "      <td>31</td>\n",
              "      <td>female</td>\n",
              "      <td>1</td>\n",
              "      <td>own</td>\n",
              "      <td>little</td>\n",
              "      <td>no_info</td>\n",
              "      <td>1736</td>\n",
              "      <td>12</td>\n",
              "      <td>furniture/equipment</td>\n",
              "      <td>0</td>\n",
              "    </tr>\n",
              "    <tr>\n",
              "      <th>996</th>\n",
              "      <td>40</td>\n",
              "      <td>male</td>\n",
              "      <td>3</td>\n",
              "      <td>own</td>\n",
              "      <td>little</td>\n",
              "      <td>little</td>\n",
              "      <td>3857</td>\n",
              "      <td>30</td>\n",
              "      <td>car</td>\n",
              "      <td>0</td>\n",
              "    </tr>\n",
              "    <tr>\n",
              "      <th>997</th>\n",
              "      <td>38</td>\n",
              "      <td>male</td>\n",
              "      <td>2</td>\n",
              "      <td>own</td>\n",
              "      <td>little</td>\n",
              "      <td>no_info</td>\n",
              "      <td>804</td>\n",
              "      <td>12</td>\n",
              "      <td>radio/TV</td>\n",
              "      <td>0</td>\n",
              "    </tr>\n",
              "    <tr>\n",
              "      <th>998</th>\n",
              "      <td>23</td>\n",
              "      <td>male</td>\n",
              "      <td>2</td>\n",
              "      <td>free</td>\n",
              "      <td>little</td>\n",
              "      <td>little</td>\n",
              "      <td>1845</td>\n",
              "      <td>45</td>\n",
              "      <td>radio/TV</td>\n",
              "      <td>1</td>\n",
              "    </tr>\n",
              "    <tr>\n",
              "      <th>999</th>\n",
              "      <td>27</td>\n",
              "      <td>male</td>\n",
              "      <td>2</td>\n",
              "      <td>own</td>\n",
              "      <td>moderate</td>\n",
              "      <td>moderate</td>\n",
              "      <td>4576</td>\n",
              "      <td>45</td>\n",
              "      <td>car</td>\n",
              "      <td>0</td>\n",
              "    </tr>\n",
              "  </tbody>\n",
              "</table>\n",
              "<p>1000 rows × 10 columns</p>\n",
              "</div>"
            ],
            "text/plain": [
              "     age     sex  job housing saving_accounts checking_account  credit_amount  \\\n",
              "0     67    male    2     own             NaN           little           1169   \n",
              "1     22  female    2     own          little         moderate           5951   \n",
              "2     49    male    1     own          little          no_info           2096   \n",
              "3     45    male    2    free          little           little           7882   \n",
              "4     53    male    2    free          little           little           4870   \n",
              "..   ...     ...  ...     ...             ...              ...            ...   \n",
              "995   31  female    1     own          little          no_info           1736   \n",
              "996   40    male    3     own          little           little           3857   \n",
              "997   38    male    2     own          little          no_info            804   \n",
              "998   23    male    2    free          little           little           1845   \n",
              "999   27    male    2     own        moderate         moderate           4576   \n",
              "\n",
              "     duration              purpose  default  \n",
              "0           6             radio/TV        0  \n",
              "1          48             radio/TV        1  \n",
              "2          12            education        0  \n",
              "3          42  furniture/equipment        0  \n",
              "4          24                  car        1  \n",
              "..        ...                  ...      ...  \n",
              "995        12  furniture/equipment        0  \n",
              "996        30                  car        0  \n",
              "997        12             radio/TV        0  \n",
              "998        45             radio/TV        1  \n",
              "999        45                  car        0  \n",
              "\n",
              "[1000 rows x 10 columns]"
            ]
          },
          "metadata": {
            "tags": []
          },
          "execution_count": 100
        }
      ]
    },
    {
      "cell_type": "code",
      "metadata": {
        "id": "pxDbIbFIN9Q5",
        "colab_type": "code",
        "outputId": "58616ea2-80ad-451c-f8ef-0b020e48acb4",
        "colab": {}
      },
      "source": [
        "9999999999999999999999999999999999999999 > np.inf"
      ],
      "execution_count": 0,
      "outputs": [
        {
          "output_type": "execute_result",
          "data": {
            "text/plain": [
              "False"
            ]
          },
          "metadata": {
            "tags": []
          },
          "execution_count": 116
        }
      ]
    },
    {
      "cell_type": "code",
      "metadata": {
        "id": "Fkp3H0syN9Q7",
        "colab_type": "code",
        "outputId": "64b9558a-5843-49db-a174-3e05e6cb85ed",
        "colab": {}
      },
      "source": [
        "pd.cut(df['credit_amount'],[0,1000,2000,3000,5000,np.inf]).value_counts()"
      ],
      "execution_count": 0,
      "outputs": [
        {
          "output_type": "execute_result",
          "data": {
            "text/plain": [
              "(1000.0, 2000.0]    316\n",
              "(3000.0, 5000.0]    192\n",
              "(5000.0, inf]       188\n",
              "(2000.0, 3000.0]    188\n",
              "(0.0, 1000.0]       116\n",
              "Name: credit_amount, dtype: int64"
            ]
          },
          "metadata": {
            "tags": []
          },
          "execution_count": 117
        }
      ]
    },
    {
      "cell_type": "code",
      "metadata": {
        "id": "uTK8pYZ1N9Q9",
        "colab_type": "code",
        "colab": {}
      },
      "source": [
        "df['amount_group'] = pd.cut(df['credit_amount'],[0,1000,2000,3000,5000,np.inf])"
      ],
      "execution_count": 0,
      "outputs": []
    },
    {
      "cell_type": "code",
      "metadata": {
        "id": "HlLi4Ym9N9Q-",
        "colab_type": "code",
        "outputId": "df5d6bd0-b5e8-4a9e-ddf3-f6f45eae8a57",
        "colab": {}
      },
      "source": [
        "df.groupby(['amount_group'])['default'].agg(['count','mean'])"
      ],
      "execution_count": 0,
      "outputs": [
        {
          "output_type": "execute_result",
          "data": {
            "text/html": [
              "<div>\n",
              "<style scoped>\n",
              "    .dataframe tbody tr th:only-of-type {\n",
              "        vertical-align: middle;\n",
              "    }\n",
              "\n",
              "    .dataframe tbody tr th {\n",
              "        vertical-align: top;\n",
              "    }\n",
              "\n",
              "    .dataframe thead th {\n",
              "        text-align: right;\n",
              "    }\n",
              "</style>\n",
              "<table border=\"1\" class=\"dataframe\">\n",
              "  <thead>\n",
              "    <tr style=\"text-align: right;\">\n",
              "      <th></th>\n",
              "      <th>count</th>\n",
              "      <th>mean</th>\n",
              "    </tr>\n",
              "    <tr>\n",
              "      <th>amount_group</th>\n",
              "      <th></th>\n",
              "      <th></th>\n",
              "    </tr>\n",
              "  </thead>\n",
              "  <tbody>\n",
              "    <tr>\n",
              "      <th>(0.0, 1000.0]</th>\n",
              "      <td>116</td>\n",
              "      <td>0.318966</td>\n",
              "    </tr>\n",
              "    <tr>\n",
              "      <th>(1000.0, 2000.0]</th>\n",
              "      <td>316</td>\n",
              "      <td>0.265823</td>\n",
              "    </tr>\n",
              "    <tr>\n",
              "      <th>(2000.0, 3000.0]</th>\n",
              "      <td>188</td>\n",
              "      <td>0.239362</td>\n",
              "    </tr>\n",
              "    <tr>\n",
              "      <th>(3000.0, 5000.0]</th>\n",
              "      <td>192</td>\n",
              "      <td>0.291667</td>\n",
              "    </tr>\n",
              "    <tr>\n",
              "      <th>(5000.0, inf]</th>\n",
              "      <td>188</td>\n",
              "      <td>0.414894</td>\n",
              "    </tr>\n",
              "  </tbody>\n",
              "</table>\n",
              "</div>"
            ],
            "text/plain": [
              "                  count      mean\n",
              "amount_group                     \n",
              "(0.0, 1000.0]       116  0.318966\n",
              "(1000.0, 2000.0]    316  0.265823\n",
              "(2000.0, 3000.0]    188  0.239362\n",
              "(3000.0, 5000.0]    192  0.291667\n",
              "(5000.0, inf]       188  0.414894"
            ]
          },
          "metadata": {
            "tags": []
          },
          "execution_count": 119
        }
      ]
    },
    {
      "cell_type": "code",
      "metadata": {
        "id": "qWcymTo0N9RB",
        "colab_type": "code",
        "outputId": "2d5e1c9e-ebfe-41c8-ab98-3229d5877e51",
        "colab": {}
      },
      "source": [
        "df.groupby(['amount_group'])['default'].mean().plot(grid=True)"
      ],
      "execution_count": 0,
      "outputs": [
        {
          "output_type": "execute_result",
          "data": {
            "text/plain": [
              "<matplotlib.axes._subplots.AxesSubplot at 0x7f0b0fcca050>"
            ]
          },
          "metadata": {
            "tags": []
          },
          "execution_count": 121
        },
        {
          "output_type": "display_data",
          "data": {
            "image/png": "[encoded data removed]",
            "text/plain": [
              "<Figure size 432x288 with 1 Axes>"
            ]
          },
          "metadata": {
            "tags": [],
            "needs_background": "light"
          }
        }
      ]
    },
    {
      "cell_type": "code",
      "metadata": {
        "id": "eI_GHTOLN9RE",
        "colab_type": "code",
        "outputId": "78f8d0c8-908f-4d81-e27f-2d136f7f8669",
        "colab": {}
      },
      "source": [
        "df"
      ],
      "execution_count": 0,
      "outputs": [
        {
          "output_type": "execute_result",
          "data": {
            "text/html": [
              "<div>\n",
              "<style scoped>\n",
              "    .dataframe tbody tr th:only-of-type {\n",
              "        vertical-align: middle;\n",
              "    }\n",
              "\n",
              "    .dataframe tbody tr th {\n",
              "        vertical-align: top;\n",
              "    }\n",
              "\n",
              "    .dataframe thead th {\n",
              "        text-align: right;\n",
              "    }\n",
              "</style>\n",
              "<table border=\"1\" class=\"dataframe\">\n",
              "  <thead>\n",
              "    <tr style=\"text-align: right;\">\n",
              "      <th></th>\n",
              "      <th>age</th>\n",
              "      <th>sex</th>\n",
              "      <th>job</th>\n",
              "      <th>housing</th>\n",
              "      <th>saving_accounts</th>\n",
              "      <th>checking_account</th>\n",
              "      <th>credit_amount</th>\n",
              "      <th>duration</th>\n",
              "      <th>purpose</th>\n",
              "      <th>default</th>\n",
              "      <th>amount_group</th>\n",
              "    </tr>\n",
              "  </thead>\n",
              "  <tbody>\n",
              "    <tr>\n",
              "      <th>0</th>\n",
              "      <td>67</td>\n",
              "      <td>male</td>\n",
              "      <td>2</td>\n",
              "      <td>own</td>\n",
              "      <td>NaN</td>\n",
              "      <td>little</td>\n",
              "      <td>1169</td>\n",
              "      <td>6</td>\n",
              "      <td>radio/TV</td>\n",
              "      <td>0</td>\n",
              "      <td>(1158.7, 2067.4]</td>\n",
              "    </tr>\n",
              "    <tr>\n",
              "      <th>1</th>\n",
              "      <td>22</td>\n",
              "      <td>female</td>\n",
              "      <td>2</td>\n",
              "      <td>own</td>\n",
              "      <td>little</td>\n",
              "      <td>moderate</td>\n",
              "      <td>5951</td>\n",
              "      <td>48</td>\n",
              "      <td>radio/TV</td>\n",
              "      <td>1</td>\n",
              "      <td>(5702.2, 6610.9]</td>\n",
              "    </tr>\n",
              "    <tr>\n",
              "      <th>2</th>\n",
              "      <td>49</td>\n",
              "      <td>male</td>\n",
              "      <td>1</td>\n",
              "      <td>own</td>\n",
              "      <td>little</td>\n",
              "      <td>no_info</td>\n",
              "      <td>2096</td>\n",
              "      <td>12</td>\n",
              "      <td>education</td>\n",
              "      <td>0</td>\n",
              "      <td>(2067.4, 2976.1]</td>\n",
              "    </tr>\n",
              "    <tr>\n",
              "      <th>3</th>\n",
              "      <td>45</td>\n",
              "      <td>male</td>\n",
              "      <td>2</td>\n",
              "      <td>free</td>\n",
              "      <td>little</td>\n",
              "      <td>little</td>\n",
              "      <td>7882</td>\n",
              "      <td>42</td>\n",
              "      <td>furniture/equipment</td>\n",
              "      <td>0</td>\n",
              "      <td>(7519.6, 8428.3]</td>\n",
              "    </tr>\n",
              "    <tr>\n",
              "      <th>4</th>\n",
              "      <td>53</td>\n",
              "      <td>male</td>\n",
              "      <td>2</td>\n",
              "      <td>free</td>\n",
              "      <td>little</td>\n",
              "      <td>little</td>\n",
              "      <td>4870</td>\n",
              "      <td>24</td>\n",
              "      <td>car</td>\n",
              "      <td>1</td>\n",
              "      <td>(4793.5, 5702.2]</td>\n",
              "    </tr>\n",
              "    <tr>\n",
              "      <th>...</th>\n",
              "      <td>...</td>\n",
              "      <td>...</td>\n",
              "      <td>...</td>\n",
              "      <td>...</td>\n",
              "      <td>...</td>\n",
              "      <td>...</td>\n",
              "      <td>...</td>\n",
              "      <td>...</td>\n",
              "      <td>...</td>\n",
              "      <td>...</td>\n",
              "      <td>...</td>\n",
              "    </tr>\n",
              "    <tr>\n",
              "      <th>995</th>\n",
              "      <td>31</td>\n",
              "      <td>female</td>\n",
              "      <td>1</td>\n",
              "      <td>own</td>\n",
              "      <td>little</td>\n",
              "      <td>no_info</td>\n",
              "      <td>1736</td>\n",
              "      <td>12</td>\n",
              "      <td>furniture/equipment</td>\n",
              "      <td>0</td>\n",
              "      <td>(1158.7, 2067.4]</td>\n",
              "    </tr>\n",
              "    <tr>\n",
              "      <th>996</th>\n",
              "      <td>40</td>\n",
              "      <td>male</td>\n",
              "      <td>3</td>\n",
              "      <td>own</td>\n",
              "      <td>little</td>\n",
              "      <td>little</td>\n",
              "      <td>3857</td>\n",
              "      <td>30</td>\n",
              "      <td>car</td>\n",
              "      <td>0</td>\n",
              "      <td>(2976.1, 3884.8]</td>\n",
              "    </tr>\n",
              "    <tr>\n",
              "      <th>997</th>\n",
              "      <td>38</td>\n",
              "      <td>male</td>\n",
              "      <td>2</td>\n",
              "      <td>own</td>\n",
              "      <td>little</td>\n",
              "      <td>no_info</td>\n",
              "      <td>804</td>\n",
              "      <td>12</td>\n",
              "      <td>radio/TV</td>\n",
              "      <td>0</td>\n",
              "      <td>(231.826, 1158.7]</td>\n",
              "    </tr>\n",
              "    <tr>\n",
              "      <th>998</th>\n",
              "      <td>23</td>\n",
              "      <td>male</td>\n",
              "      <td>2</td>\n",
              "      <td>free</td>\n",
              "      <td>little</td>\n",
              "      <td>little</td>\n",
              "      <td>1845</td>\n",
              "      <td>45</td>\n",
              "      <td>radio/TV</td>\n",
              "      <td>1</td>\n",
              "      <td>(1158.7, 2067.4]</td>\n",
              "    </tr>\n",
              "    <tr>\n",
              "      <th>999</th>\n",
              "      <td>27</td>\n",
              "      <td>male</td>\n",
              "      <td>2</td>\n",
              "      <td>own</td>\n",
              "      <td>moderate</td>\n",
              "      <td>moderate</td>\n",
              "      <td>4576</td>\n",
              "      <td>45</td>\n",
              "      <td>car</td>\n",
              "      <td>0</td>\n",
              "      <td>(3884.8, 4793.5]</td>\n",
              "    </tr>\n",
              "  </tbody>\n",
              "</table>\n",
              "<p>1000 rows × 11 columns</p>\n",
              "</div>"
            ],
            "text/plain": [
              "     age     sex  job housing saving_accounts checking_account  credit_amount  \\\n",
              "0     67    male    2     own             NaN           little           1169   \n",
              "1     22  female    2     own          little         moderate           5951   \n",
              "2     49    male    1     own          little          no_info           2096   \n",
              "3     45    male    2    free          little           little           7882   \n",
              "4     53    male    2    free          little           little           4870   \n",
              "..   ...     ...  ...     ...             ...              ...            ...   \n",
              "995   31  female    1     own          little          no_info           1736   \n",
              "996   40    male    3     own          little           little           3857   \n",
              "997   38    male    2     own          little          no_info            804   \n",
              "998   23    male    2    free          little           little           1845   \n",
              "999   27    male    2     own        moderate         moderate           4576   \n",
              "\n",
              "     duration              purpose  default       amount_group  \n",
              "0           6             radio/TV        0   (1158.7, 2067.4]  \n",
              "1          48             radio/TV        1   (5702.2, 6610.9]  \n",
              "2          12            education        0   (2067.4, 2976.1]  \n",
              "3          42  furniture/equipment        0   (7519.6, 8428.3]  \n",
              "4          24                  car        1   (4793.5, 5702.2]  \n",
              "..        ...                  ...      ...                ...  \n",
              "995        12  furniture/equipment        0   (1158.7, 2067.4]  \n",
              "996        30                  car        0   (2976.1, 3884.8]  \n",
              "997        12             radio/TV        0  (231.826, 1158.7]  \n",
              "998        45             radio/TV        1   (1158.7, 2067.4]  \n",
              "999        45                  car        0   (3884.8, 4793.5]  \n",
              "\n",
              "[1000 rows x 11 columns]"
            ]
          },
          "metadata": {
            "tags": []
          },
          "execution_count": 138
        }
      ]
    },
    {
      "cell_type": "code",
      "metadata": {
        "id": "FBXrRIdEN9RH",
        "colab_type": "code",
        "outputId": "699a9332-f0e1-4922-de51-602c90d27c22",
        "colab": {}
      },
      "source": [
        "df[['age','credit_amount']].corr()"
      ],
      "execution_count": 0,
      "outputs": [
        {
          "output_type": "execute_result",
          "data": {
            "text/html": [
              "<div>\n",
              "<style scoped>\n",
              "    .dataframe tbody tr th:only-of-type {\n",
              "        vertical-align: middle;\n",
              "    }\n",
              "\n",
              "    .dataframe tbody tr th {\n",
              "        vertical-align: top;\n",
              "    }\n",
              "\n",
              "    .dataframe thead th {\n",
              "        text-align: right;\n",
              "    }\n",
              "</style>\n",
              "<table border=\"1\" class=\"dataframe\">\n",
              "  <thead>\n",
              "    <tr style=\"text-align: right;\">\n",
              "      <th></th>\n",
              "      <th>age</th>\n",
              "      <th>credit_amount</th>\n",
              "    </tr>\n",
              "  </thead>\n",
              "  <tbody>\n",
              "    <tr>\n",
              "      <th>age</th>\n",
              "      <td>1.000000</td>\n",
              "      <td>0.032716</td>\n",
              "    </tr>\n",
              "    <tr>\n",
              "      <th>credit_amount</th>\n",
              "      <td>0.032716</td>\n",
              "      <td>1.000000</td>\n",
              "    </tr>\n",
              "  </tbody>\n",
              "</table>\n",
              "</div>"
            ],
            "text/plain": [
              "                    age  credit_amount\n",
              "age            1.000000       0.032716\n",
              "credit_amount  0.032716       1.000000"
            ]
          },
          "metadata": {
            "tags": []
          },
          "execution_count": 139
        }
      ]
    },
    {
      "cell_type": "code",
      "metadata": {
        "id": "594rhq3sN9RI",
        "colab_type": "code",
        "colab": {}
      },
      "source": [
        "t = pd.DataFrame({'x':np.linspace(-9,9,100)})"
      ],
      "execution_count": 0,
      "outputs": []
    },
    {
      "cell_type": "code",
      "metadata": {
        "id": "qxBzwcL4N9RL",
        "colab_type": "code",
        "outputId": "25834cc8-c8e2-4994-ed89-65b6f6d78d26",
        "colab": {}
      },
      "source": [
        "t"
      ],
      "execution_count": 0,
      "outputs": [
        {
          "output_type": "execute_result",
          "data": {
            "text/html": [
              "<div>\n",
              "<style scoped>\n",
              "    .dataframe tbody tr th:only-of-type {\n",
              "        vertical-align: middle;\n",
              "    }\n",
              "\n",
              "    .dataframe tbody tr th {\n",
              "        vertical-align: top;\n",
              "    }\n",
              "\n",
              "    .dataframe thead th {\n",
              "        text-align: right;\n",
              "    }\n",
              "</style>\n",
              "<table border=\"1\" class=\"dataframe\">\n",
              "  <thead>\n",
              "    <tr style=\"text-align: right;\">\n",
              "      <th></th>\n",
              "      <th>x</th>\n",
              "    </tr>\n",
              "  </thead>\n",
              "  <tbody>\n",
              "    <tr>\n",
              "      <th>0</th>\n",
              "      <td>-9.000000</td>\n",
              "    </tr>\n",
              "    <tr>\n",
              "      <th>1</th>\n",
              "      <td>-8.818182</td>\n",
              "    </tr>\n",
              "    <tr>\n",
              "      <th>2</th>\n",
              "      <td>-8.636364</td>\n",
              "    </tr>\n",
              "    <tr>\n",
              "      <th>3</th>\n",
              "      <td>-8.454545</td>\n",
              "    </tr>\n",
              "    <tr>\n",
              "      <th>4</th>\n",
              "      <td>-8.272727</td>\n",
              "    </tr>\n",
              "    <tr>\n",
              "      <th>...</th>\n",
              "      <td>...</td>\n",
              "    </tr>\n",
              "    <tr>\n",
              "      <th>95</th>\n",
              "      <td>8.272727</td>\n",
              "    </tr>\n",
              "    <tr>\n",
              "      <th>96</th>\n",
              "      <td>8.454545</td>\n",
              "    </tr>\n",
              "    <tr>\n",
              "      <th>97</th>\n",
              "      <td>8.636364</td>\n",
              "    </tr>\n",
              "    <tr>\n",
              "      <th>98</th>\n",
              "      <td>8.818182</td>\n",
              "    </tr>\n",
              "    <tr>\n",
              "      <th>99</th>\n",
              "      <td>9.000000</td>\n",
              "    </tr>\n",
              "  </tbody>\n",
              "</table>\n",
              "<p>100 rows × 1 columns</p>\n",
              "</div>"
            ],
            "text/plain": [
              "           x\n",
              "0  -9.000000\n",
              "1  -8.818182\n",
              "2  -8.636364\n",
              "3  -8.454545\n",
              "4  -8.272727\n",
              "..       ...\n",
              "95  8.272727\n",
              "96  8.454545\n",
              "97  8.636364\n",
              "98  8.818182\n",
              "99  9.000000\n",
              "\n",
              "[100 rows x 1 columns]"
            ]
          },
          "metadata": {
            "tags": []
          },
          "execution_count": 152
        }
      ]
    },
    {
      "cell_type": "code",
      "metadata": {
        "id": "nyfHVfeMN9RN",
        "colab_type": "code",
        "colab": {}
      },
      "source": [
        "t['y'] = t['x'] ** 2"
      ],
      "execution_count": 0,
      "outputs": []
    },
    {
      "cell_type": "code",
      "metadata": {
        "id": "xZEuJWKqN9RP",
        "colab_type": "code",
        "outputId": "cc6c00f7-e1a1-4005-a4f3-9fc596d77b83",
        "colab": {}
      },
      "source": [
        "t.set_index('x')['y'].plot(grid=True)"
      ],
      "execution_count": 0,
      "outputs": [
        {
          "output_type": "execute_result",
          "data": {
            "text/plain": [
              "<matplotlib.axes._subplots.AxesSubplot at 0x7f0b0ee2ea50>"
            ]
          },
          "metadata": {
            "tags": []
          },
          "execution_count": 155
        },
        {
          "output_type": "display_data",
          "data": {
            "image/png": "[encoded data removed]",
            "text/plain": [
              "<Figure size 432x288 with 1 Axes>"
            ]
          },
          "metadata": {
            "tags": [],
            "needs_background": "light"
          }
        }
      ]
    },
    {
      "cell_type": "code",
      "metadata": {
        "id": "v_M_OM_jN9RR",
        "colab_type": "code",
        "outputId": "8c6388b4-1349-4339-d7cb-e2e396132ad6",
        "colab": {}
      },
      "source": [
        "t.corr()"
      ],
      "execution_count": 0,
      "outputs": [
        {
          "output_type": "execute_result",
          "data": {
            "text/html": [
              "<div>\n",
              "<style scoped>\n",
              "    .dataframe tbody tr th:only-of-type {\n",
              "        vertical-align: middle;\n",
              "    }\n",
              "\n",
              "    .dataframe tbody tr th {\n",
              "        vertical-align: top;\n",
              "    }\n",
              "\n",
              "    .dataframe thead th {\n",
              "        text-align: right;\n",
              "    }\n",
              "</style>\n",
              "<table border=\"1\" class=\"dataframe\">\n",
              "  <thead>\n",
              "    <tr style=\"text-align: right;\">\n",
              "      <th></th>\n",
              "      <th>x</th>\n",
              "      <th>y</th>\n",
              "    </tr>\n",
              "  </thead>\n",
              "  <tbody>\n",
              "    <tr>\n",
              "      <th>x</th>\n",
              "      <td>1.000000e+00</td>\n",
              "      <td>1.143138e-16</td>\n",
              "    </tr>\n",
              "    <tr>\n",
              "      <th>y</th>\n",
              "      <td>1.143138e-16</td>\n",
              "      <td>1.000000e+00</td>\n",
              "    </tr>\n",
              "  </tbody>\n",
              "</table>\n",
              "</div>"
            ],
            "text/plain": [
              "              x             y\n",
              "x  1.000000e+00  1.143138e-16\n",
              "y  1.143138e-16  1.000000e+00"
            ]
          },
          "metadata": {
            "tags": []
          },
          "execution_count": 156
        }
      ]
    },
    {
      "cell_type": "code",
      "metadata": {
        "id": "CT19-kX-N9RT",
        "colab_type": "code",
        "outputId": "3b023c54-9d31-45c0-ac6d-77ad5399271d",
        "colab": {}
      },
      "source": [
        "t.set_index('x')['y'].plot(grid=True)"
      ],
      "execution_count": 0,
      "outputs": [
        {
          "output_type": "execute_result",
          "data": {
            "text/plain": [
              "<matplotlib.axes._subplots.AxesSubplot at 0x7f0b0ef0a110>"
            ]
          },
          "metadata": {
            "tags": []
          },
          "execution_count": 150
        },
        {
          "output_type": "display_data",
          "data": {
            "image/png": "[encoded data removed]",
            "text/plain": [
              "<Figure size 432x288 with 1 Axes>"
            ]
          },
          "metadata": {
            "tags": [],
            "needs_background": "light"
          }
        }
      ]
    },
    {
      "cell_type": "code",
      "metadata": {
        "id": "D6_8vW4gN9RV",
        "colab_type": "code",
        "outputId": "34bc1fb0-024d-478a-a98a-bf1c49e70a83",
        "colab": {}
      },
      "source": [
        "df[['age','credit_amount']].corr()"
      ],
      "execution_count": 0,
      "outputs": [
        {
          "output_type": "execute_result",
          "data": {
            "text/html": [
              "<div>\n",
              "<style scoped>\n",
              "    .dataframe tbody tr th:only-of-type {\n",
              "        vertical-align: middle;\n",
              "    }\n",
              "\n",
              "    .dataframe tbody tr th {\n",
              "        vertical-align: top;\n",
              "    }\n",
              "\n",
              "    .dataframe thead th {\n",
              "        text-align: right;\n",
              "    }\n",
              "</style>\n",
              "<table border=\"1\" class=\"dataframe\">\n",
              "  <thead>\n",
              "    <tr style=\"text-align: right;\">\n",
              "      <th></th>\n",
              "      <th>age</th>\n",
              "      <th>credit_amount</th>\n",
              "    </tr>\n",
              "  </thead>\n",
              "  <tbody>\n",
              "    <tr>\n",
              "      <th>age</th>\n",
              "      <td>1.000000</td>\n",
              "      <td>0.032716</td>\n",
              "    </tr>\n",
              "    <tr>\n",
              "      <th>credit_amount</th>\n",
              "      <td>0.032716</td>\n",
              "      <td>1.000000</td>\n",
              "    </tr>\n",
              "  </tbody>\n",
              "</table>\n",
              "</div>"
            ],
            "text/plain": [
              "                    age  credit_amount\n",
              "age            1.000000       0.032716\n",
              "credit_amount  0.032716       1.000000"
            ]
          },
          "metadata": {
            "tags": []
          },
          "execution_count": 157
        }
      ]
    },
    {
      "cell_type": "code",
      "metadata": {
        "id": "ZDK-0KSeN9RX",
        "colab_type": "code",
        "outputId": "b08ec43a-640d-4640-dbc6-a0b93a367325",
        "colab": {}
      },
      "source": [
        "df[['age','credit_amount']]"
      ],
      "execution_count": 0,
      "outputs": [
        {
          "output_type": "execute_result",
          "data": {
            "text/html": [
              "<div>\n",
              "<style scoped>\n",
              "    .dataframe tbody tr th:only-of-type {\n",
              "        vertical-align: middle;\n",
              "    }\n",
              "\n",
              "    .dataframe tbody tr th {\n",
              "        vertical-align: top;\n",
              "    }\n",
              "\n",
              "    .dataframe thead th {\n",
              "        text-align: right;\n",
              "    }\n",
              "</style>\n",
              "<table border=\"1\" class=\"dataframe\">\n",
              "  <thead>\n",
              "    <tr style=\"text-align: right;\">\n",
              "      <th></th>\n",
              "      <th>age</th>\n",
              "      <th>credit_amount</th>\n",
              "    </tr>\n",
              "  </thead>\n",
              "  <tbody>\n",
              "    <tr>\n",
              "      <th>0</th>\n",
              "      <td>67</td>\n",
              "      <td>1169</td>\n",
              "    </tr>\n",
              "    <tr>\n",
              "      <th>1</th>\n",
              "      <td>22</td>\n",
              "      <td>5951</td>\n",
              "    </tr>\n",
              "    <tr>\n",
              "      <th>2</th>\n",
              "      <td>49</td>\n",
              "      <td>2096</td>\n",
              "    </tr>\n",
              "    <tr>\n",
              "      <th>3</th>\n",
              "      <td>45</td>\n",
              "      <td>7882</td>\n",
              "    </tr>\n",
              "    <tr>\n",
              "      <th>4</th>\n",
              "      <td>53</td>\n",
              "      <td>4870</td>\n",
              "    </tr>\n",
              "    <tr>\n",
              "      <th>...</th>\n",
              "      <td>...</td>\n",
              "      <td>...</td>\n",
              "    </tr>\n",
              "    <tr>\n",
              "      <th>995</th>\n",
              "      <td>31</td>\n",
              "      <td>1736</td>\n",
              "    </tr>\n",
              "    <tr>\n",
              "      <th>996</th>\n",
              "      <td>40</td>\n",
              "      <td>3857</td>\n",
              "    </tr>\n",
              "    <tr>\n",
              "      <th>997</th>\n",
              "      <td>38</td>\n",
              "      <td>804</td>\n",
              "    </tr>\n",
              "    <tr>\n",
              "      <th>998</th>\n",
              "      <td>23</td>\n",
              "      <td>1845</td>\n",
              "    </tr>\n",
              "    <tr>\n",
              "      <th>999</th>\n",
              "      <td>27</td>\n",
              "      <td>4576</td>\n",
              "    </tr>\n",
              "  </tbody>\n",
              "</table>\n",
              "<p>1000 rows × 2 columns</p>\n",
              "</div>"
            ],
            "text/plain": [
              "     age  credit_amount\n",
              "0     67           1169\n",
              "1     22           5951\n",
              "2     49           2096\n",
              "3     45           7882\n",
              "4     53           4870\n",
              "..   ...            ...\n",
              "995   31           1736\n",
              "996   40           3857\n",
              "997   38            804\n",
              "998   23           1845\n",
              "999   27           4576\n",
              "\n",
              "[1000 rows x 2 columns]"
            ]
          },
          "metadata": {
            "tags": []
          },
          "execution_count": 158
        }
      ]
    },
    {
      "cell_type": "code",
      "metadata": {
        "id": "P6niTZ0YN9Ra",
        "colab_type": "code",
        "outputId": "906518ae-9380-4490-8d6b-4383144cd153",
        "colab": {}
      },
      "source": [
        "df.plot(kind='scatter',x='age',y='credit_amount',alpha=0.1)"
      ],
      "execution_count": 0,
      "outputs": [
        {
          "output_type": "execute_result",
          "data": {
            "text/plain": [
              "<matplotlib.axes._subplots.AxesSubplot at 0x7f0b0b4ddd10>"
            ]
          },
          "metadata": {
            "tags": []
          },
          "execution_count": 161
        },
        {
          "output_type": "display_data",
          "data": {
            "image/png": "[encoded data removed]",
            "text/plain": [
              "<Figure size 432x288 with 1 Axes>"
            ]
          },
          "metadata": {
            "tags": [],
            "needs_background": "light"
          }
        }
      ]
    },
    {
      "cell_type": "code",
      "metadata": {
        "id": "4NVrDMp5N9Rc",
        "colab_type": "code",
        "outputId": "7de81230-99f6-4007-e5d9-316fe13b8e99",
        "colab": {}
      },
      "source": [
        "df.groupby(['age'])['credit_amount'].agg(['count','mean','median'])"
      ],
      "execution_count": 0,
      "outputs": [
        {
          "output_type": "execute_result",
          "data": {
            "text/html": [
              "<div>\n",
              "<style scoped>\n",
              "    .dataframe tbody tr th:only-of-type {\n",
              "        vertical-align: middle;\n",
              "    }\n",
              "\n",
              "    .dataframe tbody tr th {\n",
              "        vertical-align: top;\n",
              "    }\n",
              "\n",
              "    .dataframe thead th {\n",
              "        text-align: right;\n",
              "    }\n",
              "</style>\n",
              "<table border=\"1\" class=\"dataframe\">\n",
              "  <thead>\n",
              "    <tr style=\"text-align: right;\">\n",
              "      <th></th>\n",
              "      <th>count</th>\n",
              "      <th>mean</th>\n",
              "      <th>median</th>\n",
              "    </tr>\n",
              "    <tr>\n",
              "      <th>age</th>\n",
              "      <th></th>\n",
              "      <th></th>\n",
              "      <th></th>\n",
              "    </tr>\n",
              "  </thead>\n",
              "  <tbody>\n",
              "    <tr>\n",
              "      <th>19</th>\n",
              "      <td>2</td>\n",
              "      <td>1481.500000</td>\n",
              "      <td>1481.5</td>\n",
              "    </tr>\n",
              "    <tr>\n",
              "      <th>20</th>\n",
              "      <td>14</td>\n",
              "      <td>2139.785714</td>\n",
              "      <td>2003.0</td>\n",
              "    </tr>\n",
              "    <tr>\n",
              "      <th>21</th>\n",
              "      <td>14</td>\n",
              "      <td>3799.357143</td>\n",
              "      <td>2278.5</td>\n",
              "    </tr>\n",
              "    <tr>\n",
              "      <th>22</th>\n",
              "      <td>27</td>\n",
              "      <td>2109.592593</td>\n",
              "      <td>1808.0</td>\n",
              "    </tr>\n",
              "    <tr>\n",
              "      <th>23</th>\n",
              "      <td>48</td>\n",
              "      <td>2993.354167</td>\n",
              "      <td>1890.5</td>\n",
              "    </tr>\n",
              "    <tr>\n",
              "      <th>24</th>\n",
              "      <td>44</td>\n",
              "      <td>3502.363636</td>\n",
              "      <td>2268.5</td>\n",
              "    </tr>\n",
              "    <tr>\n",
              "      <th>25</th>\n",
              "      <td>41</td>\n",
              "      <td>3165.439024</td>\n",
              "      <td>2327.0</td>\n",
              "    </tr>\n",
              "    <tr>\n",
              "      <th>26</th>\n",
              "      <td>50</td>\n",
              "      <td>2927.940000</td>\n",
              "      <td>2424.5</td>\n",
              "    </tr>\n",
              "    <tr>\n",
              "      <th>27</th>\n",
              "      <td>51</td>\n",
              "      <td>3390.588235</td>\n",
              "      <td>2463.0</td>\n",
              "    </tr>\n",
              "    <tr>\n",
              "      <th>28</th>\n",
              "      <td>43</td>\n",
              "      <td>2934.697674</td>\n",
              "      <td>2603.0</td>\n",
              "    </tr>\n",
              "    <tr>\n",
              "      <th>29</th>\n",
              "      <td>37</td>\n",
              "      <td>3509.945946</td>\n",
              "      <td>2629.0</td>\n",
              "    </tr>\n",
              "    <tr>\n",
              "      <th>30</th>\n",
              "      <td>40</td>\n",
              "      <td>3966.875000</td>\n",
              "      <td>2291.0</td>\n",
              "    </tr>\n",
              "    <tr>\n",
              "      <th>31</th>\n",
              "      <td>38</td>\n",
              "      <td>3671.631579</td>\n",
              "      <td>3002.5</td>\n",
              "    </tr>\n",
              "    <tr>\n",
              "      <th>32</th>\n",
              "      <td>34</td>\n",
              "      <td>3405.941176</td>\n",
              "      <td>2595.0</td>\n",
              "    </tr>\n",
              "    <tr>\n",
              "      <th>33</th>\n",
              "      <td>33</td>\n",
              "      <td>2659.333333</td>\n",
              "      <td>2235.0</td>\n",
              "    </tr>\n",
              "    <tr>\n",
              "      <th>34</th>\n",
              "      <td>32</td>\n",
              "      <td>3345.843750</td>\n",
              "      <td>2600.0</td>\n",
              "    </tr>\n",
              "    <tr>\n",
              "      <th>35</th>\n",
              "      <td>40</td>\n",
              "      <td>3216.950000</td>\n",
              "      <td>2418.0</td>\n",
              "    </tr>\n",
              "    <tr>\n",
              "      <th>36</th>\n",
              "      <td>39</td>\n",
              "      <td>3105.333333</td>\n",
              "      <td>2337.0</td>\n",
              "    </tr>\n",
              "    <tr>\n",
              "      <th>37</th>\n",
              "      <td>29</td>\n",
              "      <td>3763.344828</td>\n",
              "      <td>3380.0</td>\n",
              "    </tr>\n",
              "    <tr>\n",
              "      <th>38</th>\n",
              "      <td>24</td>\n",
              "      <td>3392.416667</td>\n",
              "      <td>2047.5</td>\n",
              "    </tr>\n",
              "    <tr>\n",
              "      <th>39</th>\n",
              "      <td>21</td>\n",
              "      <td>3535.285714</td>\n",
              "      <td>2212.0</td>\n",
              "    </tr>\n",
              "    <tr>\n",
              "      <th>40</th>\n",
              "      <td>25</td>\n",
              "      <td>2995.520000</td>\n",
              "      <td>1977.0</td>\n",
              "    </tr>\n",
              "    <tr>\n",
              "      <th>41</th>\n",
              "      <td>17</td>\n",
              "      <td>2722.411765</td>\n",
              "      <td>2503.0</td>\n",
              "    </tr>\n",
              "    <tr>\n",
              "      <th>42</th>\n",
              "      <td>22</td>\n",
              "      <td>4211.318182</td>\n",
              "      <td>3388.5</td>\n",
              "    </tr>\n",
              "    <tr>\n",
              "      <th>43</th>\n",
              "      <td>17</td>\n",
              "      <td>3481.941176</td>\n",
              "      <td>2442.0</td>\n",
              "    </tr>\n",
              "    <tr>\n",
              "      <th>44</th>\n",
              "      <td>17</td>\n",
              "      <td>4236.764706</td>\n",
              "      <td>3384.0</td>\n",
              "    </tr>\n",
              "    <tr>\n",
              "      <th>45</th>\n",
              "      <td>15</td>\n",
              "      <td>4453.933333</td>\n",
              "      <td>3527.0</td>\n",
              "    </tr>\n",
              "    <tr>\n",
              "      <th>46</th>\n",
              "      <td>18</td>\n",
              "      <td>2729.888889</td>\n",
              "      <td>2048.0</td>\n",
              "    </tr>\n",
              "    <tr>\n",
              "      <th>47</th>\n",
              "      <td>17</td>\n",
              "      <td>3079.764706</td>\n",
              "      <td>1984.0</td>\n",
              "    </tr>\n",
              "    <tr>\n",
              "      <th>48</th>\n",
              "      <td>12</td>\n",
              "      <td>3630.750000</td>\n",
              "      <td>1964.5</td>\n",
              "    </tr>\n",
              "    <tr>\n",
              "      <th>49</th>\n",
              "      <td>14</td>\n",
              "      <td>2527.785714</td>\n",
              "      <td>1770.5</td>\n",
              "    </tr>\n",
              "    <tr>\n",
              "      <th>50</th>\n",
              "      <td>12</td>\n",
              "      <td>3085.416667</td>\n",
              "      <td>2315.5</td>\n",
              "    </tr>\n",
              "    <tr>\n",
              "      <th>51</th>\n",
              "      <td>8</td>\n",
              "      <td>3058.000000</td>\n",
              "      <td>2699.5</td>\n",
              "    </tr>\n",
              "    <tr>\n",
              "      <th>52</th>\n",
              "      <td>9</td>\n",
              "      <td>2063.222222</td>\n",
              "      <td>2133.0</td>\n",
              "    </tr>\n",
              "    <tr>\n",
              "      <th>53</th>\n",
              "      <td>7</td>\n",
              "      <td>4770.428571</td>\n",
              "      <td>4870.0</td>\n",
              "    </tr>\n",
              "    <tr>\n",
              "      <th>54</th>\n",
              "      <td>10</td>\n",
              "      <td>2661.000000</td>\n",
              "      <td>1926.0</td>\n",
              "    </tr>\n",
              "    <tr>\n",
              "      <th>55</th>\n",
              "      <td>8</td>\n",
              "      <td>3239.750000</td>\n",
              "      <td>1579.0</td>\n",
              "    </tr>\n",
              "    <tr>\n",
              "      <th>56</th>\n",
              "      <td>3</td>\n",
              "      <td>2317.333333</td>\n",
              "      <td>1538.0</td>\n",
              "    </tr>\n",
              "    <tr>\n",
              "      <th>57</th>\n",
              "      <td>9</td>\n",
              "      <td>3169.888889</td>\n",
              "      <td>1264.0</td>\n",
              "    </tr>\n",
              "    <tr>\n",
              "      <th>58</th>\n",
              "      <td>5</td>\n",
              "      <td>5219.000000</td>\n",
              "      <td>1867.0</td>\n",
              "    </tr>\n",
              "    <tr>\n",
              "      <th>59</th>\n",
              "      <td>3</td>\n",
              "      <td>4275.000000</td>\n",
              "      <td>5045.0</td>\n",
              "    </tr>\n",
              "    <tr>\n",
              "      <th>60</th>\n",
              "      <td>6</td>\n",
              "      <td>4777.833333</td>\n",
              "      <td>2139.0</td>\n",
              "    </tr>\n",
              "    <tr>\n",
              "      <th>61</th>\n",
              "      <td>7</td>\n",
              "      <td>1971.000000</td>\n",
              "      <td>1953.0</td>\n",
              "    </tr>\n",
              "    <tr>\n",
              "      <th>62</th>\n",
              "      <td>2</td>\n",
              "      <td>2547.500000</td>\n",
              "      <td>2547.5</td>\n",
              "    </tr>\n",
              "    <tr>\n",
              "      <th>63</th>\n",
              "      <td>8</td>\n",
              "      <td>4753.125000</td>\n",
              "      <td>2940.5</td>\n",
              "    </tr>\n",
              "    <tr>\n",
              "      <th>64</th>\n",
              "      <td>5</td>\n",
              "      <td>1948.400000</td>\n",
              "      <td>1409.0</td>\n",
              "    </tr>\n",
              "    <tr>\n",
              "      <th>65</th>\n",
              "      <td>5</td>\n",
              "      <td>1718.600000</td>\n",
              "      <td>1098.0</td>\n",
              "    </tr>\n",
              "    <tr>\n",
              "      <th>66</th>\n",
              "      <td>5</td>\n",
              "      <td>1294.000000</td>\n",
              "      <td>1480.0</td>\n",
              "    </tr>\n",
              "    <tr>\n",
              "      <th>67</th>\n",
              "      <td>3</td>\n",
              "      <td>2080.000000</td>\n",
              "      <td>1199.0</td>\n",
              "    </tr>\n",
              "    <tr>\n",
              "      <th>68</th>\n",
              "      <td>3</td>\n",
              "      <td>7610.666667</td>\n",
              "      <td>6761.0</td>\n",
              "    </tr>\n",
              "    <tr>\n",
              "      <th>70</th>\n",
              "      <td>1</td>\n",
              "      <td>7308.000000</td>\n",
              "      <td>7308.0</td>\n",
              "    </tr>\n",
              "    <tr>\n",
              "      <th>74</th>\n",
              "      <td>4</td>\n",
              "      <td>3600.500000</td>\n",
              "      <td>3987.0</td>\n",
              "    </tr>\n",
              "    <tr>\n",
              "      <th>75</th>\n",
              "      <td>2</td>\n",
              "      <td>3994.500000</td>\n",
              "      <td>3994.5</td>\n",
              "    </tr>\n",
              "  </tbody>\n",
              "</table>\n",
              "</div>"
            ],
            "text/plain": [
              "     count         mean  median\n",
              "age                            \n",
              "19       2  1481.500000  1481.5\n",
              "20      14  2139.785714  2003.0\n",
              "21      14  3799.357143  2278.5\n",
              "22      27  2109.592593  1808.0\n",
              "23      48  2993.354167  1890.5\n",
              "24      44  3502.363636  2268.5\n",
              "25      41  3165.439024  2327.0\n",
              "26      50  2927.940000  2424.5\n",
              "27      51  3390.588235  2463.0\n",
              "28      43  2934.697674  2603.0\n",
              "29      37  3509.945946  2629.0\n",
              "30      40  3966.875000  2291.0\n",
              "31      38  3671.631579  3002.5\n",
              "32      34  3405.941176  2595.0\n",
              "33      33  2659.333333  2235.0\n",
              "34      32  3345.843750  2600.0\n",
              "35      40  3216.950000  2418.0\n",
              "36      39  3105.333333  2337.0\n",
              "37      29  3763.344828  3380.0\n",
              "38      24  3392.416667  2047.5\n",
              "39      21  3535.285714  2212.0\n",
              "40      25  2995.520000  1977.0\n",
              "41      17  2722.411765  2503.0\n",
              "42      22  4211.318182  3388.5\n",
              "43      17  3481.941176  2442.0\n",
              "44      17  4236.764706  3384.0\n",
              "45      15  4453.933333  3527.0\n",
              "46      18  2729.888889  2048.0\n",
              "47      17  3079.764706  1984.0\n",
              "48      12  3630.750000  1964.5\n",
              "49      14  2527.785714  1770.5\n",
              "50      12  3085.416667  2315.5\n",
              "51       8  3058.000000  2699.5\n",
              "52       9  2063.222222  2133.0\n",
              "53       7  4770.428571  4870.0\n",
              "54      10  2661.000000  1926.0\n",
              "55       8  3239.750000  1579.0\n",
              "56       3  2317.333333  1538.0\n",
              "57       9  3169.888889  1264.0\n",
              "58       5  5219.000000  1867.0\n",
              "59       3  4275.000000  5045.0\n",
              "60       6  4777.833333  2139.0\n",
              "61       7  1971.000000  1953.0\n",
              "62       2  2547.500000  2547.5\n",
              "63       8  4753.125000  2940.5\n",
              "64       5  1948.400000  1409.0\n",
              "65       5  1718.600000  1098.0\n",
              "66       5  1294.000000  1480.0\n",
              "67       3  2080.000000  1199.0\n",
              "68       3  7610.666667  6761.0\n",
              "70       1  7308.000000  7308.0\n",
              "74       4  3600.500000  3987.0\n",
              "75       2  3994.500000  3994.5"
            ]
          },
          "metadata": {
            "tags": []
          },
          "execution_count": 162
        }
      ]
    },
    {
      "cell_type": "code",
      "metadata": {
        "id": "D1SVROgmN9Rd",
        "colab_type": "code",
        "outputId": "6d186688-75e4-4821-bf52-e4ff8d7bd6c7",
        "colab": {}
      },
      "source": [
        "df.groupby(['age'])['credit_amount'].median().plot()"
      ],
      "execution_count": 0,
      "outputs": [
        {
          "output_type": "execute_result",
          "data": {
            "text/plain": [
              "<matplotlib.axes._subplots.AxesSubplot at 0x7f0b0b4c3750>"
            ]
          },
          "metadata": {
            "tags": []
          },
          "execution_count": 164
        },
        {
          "output_type": "display_data",
          "data": {
            "image/png": "[encoded data removed]",
            "text/plain": [
              "<Figure size 432x288 with 1 Axes>"
            ]
          },
          "metadata": {
            "tags": [],
            "needs_background": "light"
          }
        }
      ]
    },
    {
      "cell_type": "code",
      "metadata": {
        "id": "67Mn5J5rN9Rf",
        "colab_type": "code",
        "colab": {}
      },
      "source": [
        "df['age_group'] = pd.cut(df['age'],5)"
      ],
      "execution_count": 0,
      "outputs": []
    },
    {
      "cell_type": "code",
      "metadata": {
        "id": "-JoGcwMkN9Rg",
        "colab_type": "code",
        "outputId": "8e203fa9-6988-4ba7-c962-cb26496f288d",
        "colab": {}
      },
      "source": [
        "df.groupby(['age_group'])['credit_amount'].agg(['count','mean','median'])"
      ],
      "execution_count": 0,
      "outputs": [
        {
          "output_type": "execute_result",
          "data": {
            "text/html": [
              "<div>\n",
              "<style scoped>\n",
              "    .dataframe tbody tr th:only-of-type {\n",
              "        vertical-align: middle;\n",
              "    }\n",
              "\n",
              "    .dataframe tbody tr th {\n",
              "        vertical-align: top;\n",
              "    }\n",
              "\n",
              "    .dataframe thead th {\n",
              "        text-align: right;\n",
              "    }\n",
              "</style>\n",
              "<table border=\"1\" class=\"dataframe\">\n",
              "  <thead>\n",
              "    <tr style=\"text-align: right;\">\n",
              "      <th></th>\n",
              "      <th>count</th>\n",
              "      <th>mean</th>\n",
              "      <th>median</th>\n",
              "    </tr>\n",
              "    <tr>\n",
              "      <th>age_group</th>\n",
              "      <th></th>\n",
              "      <th></th>\n",
              "      <th></th>\n",
              "    </tr>\n",
              "  </thead>\n",
              "  <tbody>\n",
              "    <tr>\n",
              "      <th>(18.944, 30.2]</th>\n",
              "      <td>411</td>\n",
              "      <td>3174.428224</td>\n",
              "      <td>2221.0</td>\n",
              "    </tr>\n",
              "    <tr>\n",
              "      <th>(30.2, 41.4]</th>\n",
              "      <td>332</td>\n",
              "      <td>3270.783133</td>\n",
              "      <td>2401.5</td>\n",
              "    </tr>\n",
              "    <tr>\n",
              "      <th>(41.4, 52.6]</th>\n",
              "      <td>161</td>\n",
              "      <td>3423.515528</td>\n",
              "      <td>2348.0</td>\n",
              "    </tr>\n",
              "    <tr>\n",
              "      <th>(52.6, 63.8]</th>\n",
              "      <td>68</td>\n",
              "      <td>3616.264706</td>\n",
              "      <td>2128.5</td>\n",
              "    </tr>\n",
              "    <tr>\n",
              "      <th>(63.8, 75.0]</th>\n",
              "      <td>28</td>\n",
              "      <td>2984.857143</td>\n",
              "      <td>1503.0</td>\n",
              "    </tr>\n",
              "  </tbody>\n",
              "</table>\n",
              "</div>"
            ],
            "text/plain": [
              "                count         mean  median\n",
              "age_group                                 \n",
              "(18.944, 30.2]    411  3174.428224  2221.0\n",
              "(30.2, 41.4]      332  3270.783133  2401.5\n",
              "(41.4, 52.6]      161  3423.515528  2348.0\n",
              "(52.6, 63.8]       68  3616.264706  2128.5\n",
              "(63.8, 75.0]       28  2984.857143  1503.0"
            ]
          },
          "metadata": {
            "tags": []
          },
          "execution_count": 169
        }
      ]
    },
    {
      "cell_type": "code",
      "metadata": {
        "id": "kooVQOeLN9Ri",
        "colab_type": "code",
        "outputId": "47723ec1-4110-4761-8993-1e3db494ab9f",
        "colab": {}
      },
      "source": [
        "df.groupby(['age_group'])['credit_amount'].median().plot(grid=True)"
      ],
      "execution_count": 0,
      "outputs": [
        {
          "output_type": "execute_result",
          "data": {
            "text/plain": [
              "<matplotlib.axes._subplots.AxesSubplot at 0x7f0b0b2c1ed0>"
            ]
          },
          "metadata": {
            "tags": []
          },
          "execution_count": 171
        },
        {
          "output_type": "display_data",
          "data": {
            "image/png": "[encoded data removed]",
            "text/plain": [
              "<Figure size 432x288 with 1 Axes>"
            ]
          },
          "metadata": {
            "tags": [],
            "needs_background": "light"
          }
        }
      ]
    },
    {
      "cell_type": "markdown",
      "metadata": {
        "id": "67z5tGFyN9Rk",
        "colab_type": "text"
      },
      "source": [
        "# "
      ]
    },
    {
      "cell_type": "code",
      "metadata": {
        "id": "AwTKxMgtN9Rk",
        "colab_type": "code",
        "outputId": "e017811c-4119-4894-807a-17c4cca2b533",
        "colab": {}
      },
      "source": [
        "df.plot(kind='scatter',x='age',y='credit_amount',alpha=0.1)"
      ],
      "execution_count": 0,
      "outputs": [
        {
          "output_type": "execute_result",
          "data": {
            "text/plain": [
              "<matplotlib.axes._subplots.AxesSubplot at 0x7f0b0b2ace10>"
            ]
          },
          "metadata": {
            "tags": []
          },
          "execution_count": 172
        },
        {
          "output_type": "display_data",
          "data": {
            "image/png": "[encoded data removed]",
            "text/plain": [
              "<Figure size 432x288 with 1 Axes>"
            ]
          },
          "metadata": {
            "tags": [],
            "needs_background": "light"
          }
        }
      ]
    },
    {
      "cell_type": "code",
      "metadata": {
        "id": "42t_sTF1N9Ro",
        "colab_type": "code",
        "colab": {}
      },
      "source": [
        ""
      ],
      "execution_count": 0,
      "outputs": []
    }
  ]
}